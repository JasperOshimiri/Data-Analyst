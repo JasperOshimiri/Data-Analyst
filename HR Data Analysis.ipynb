{
 "cells": [
  {
   "cell_type": "markdown",
   "id": "b3f84069",
   "metadata": {},
   "source": [
    "### HR Data Analytics"
   ]
  },
  {
   "cell_type": "code",
   "execution_count": 134,
   "id": "21de393c",
   "metadata": {},
   "outputs": [],
   "source": [
    "#Importing relevant libraries\n",
    "import pandas as pd\n",
    "import seaborn as sns\n",
    "import matplotlib.pyplot as plt\n",
    "%matplotlib inline\n",
    "import plotly.express as px\n",
    "import warnings\n",
    "warnings.simplefilter(action='ignore', category=FutureWarning)\n",
    "pd.set_option('display.max_columns', None)"
   ]
  },
  {
   "cell_type": "code",
   "execution_count": 135,
   "id": "2cf217fe",
   "metadata": {},
   "outputs": [
    {
     "data": {
      "text/html": [
       "<div>\n",
       "<style scoped>\n",
       "    .dataframe tbody tr th:only-of-type {\n",
       "        vertical-align: middle;\n",
       "    }\n",
       "\n",
       "    .dataframe tbody tr th {\n",
       "        vertical-align: top;\n",
       "    }\n",
       "\n",
       "    .dataframe thead th {\n",
       "        text-align: right;\n",
       "    }\n",
       "</style>\n",
       "<table border=\"1\" class=\"dataframe\">\n",
       "  <thead>\n",
       "    <tr style=\"text-align: right;\">\n",
       "      <th></th>\n",
       "      <th>Age</th>\n",
       "      <th>Attrition</th>\n",
       "      <th>BusinessTravel</th>\n",
       "      <th>DailyRate</th>\n",
       "      <th>Department</th>\n",
       "      <th>DistanceFromHome</th>\n",
       "      <th>Education</th>\n",
       "      <th>EducationField</th>\n",
       "      <th>EmployeeCount</th>\n",
       "      <th>EmployeeNumber</th>\n",
       "      <th>EnvironmentSatisfaction</th>\n",
       "      <th>Gender</th>\n",
       "      <th>HourlyRate</th>\n",
       "      <th>JobInvolvement</th>\n",
       "      <th>JobLevel</th>\n",
       "      <th>JobRole</th>\n",
       "      <th>JobSatisfaction</th>\n",
       "      <th>MaritalStatus</th>\n",
       "      <th>MonthlyIncome</th>\n",
       "      <th>MonthlyRate</th>\n",
       "      <th>NumCompaniesWorked</th>\n",
       "      <th>Over18</th>\n",
       "      <th>OverTime</th>\n",
       "      <th>PercentSalaryHike</th>\n",
       "      <th>PerformanceRating</th>\n",
       "      <th>RelationshipSatisfaction</th>\n",
       "      <th>StandardHours</th>\n",
       "      <th>StockOptionLevel</th>\n",
       "      <th>TotalWorkingYears</th>\n",
       "      <th>TrainingTimesLastYear</th>\n",
       "      <th>WorkLifeBalance</th>\n",
       "      <th>YearsAtCompany</th>\n",
       "      <th>YearsInCurrentRole</th>\n",
       "      <th>YearsSinceLastPromotion</th>\n",
       "      <th>YearsWithCurrManager</th>\n",
       "    </tr>\n",
       "  </thead>\n",
       "  <tbody>\n",
       "    <tr>\n",
       "      <th>0</th>\n",
       "      <td>24</td>\n",
       "      <td>No</td>\n",
       "      <td>Travel_Rarely</td>\n",
       "      <td>1084</td>\n",
       "      <td>Support</td>\n",
       "      <td>31</td>\n",
       "      <td>5</td>\n",
       "      <td>Medical</td>\n",
       "      <td>1</td>\n",
       "      <td>1</td>\n",
       "      <td>3</td>\n",
       "      <td>Male</td>\n",
       "      <td>66</td>\n",
       "      <td>4</td>\n",
       "      <td>1</td>\n",
       "      <td>Developer</td>\n",
       "      <td>2</td>\n",
       "      <td>Single</td>\n",
       "      <td>48603</td>\n",
       "      <td>583236</td>\n",
       "      <td>2</td>\n",
       "      <td>Y</td>\n",
       "      <td>Yes</td>\n",
       "      <td>15</td>\n",
       "      <td>4</td>\n",
       "      <td>3</td>\n",
       "      <td>80</td>\n",
       "      <td>3</td>\n",
       "      <td>39</td>\n",
       "      <td>3</td>\n",
       "      <td>3</td>\n",
       "      <td>23</td>\n",
       "      <td>6</td>\n",
       "      <td>14</td>\n",
       "      <td>6</td>\n",
       "    </tr>\n",
       "    <tr>\n",
       "      <th>1</th>\n",
       "      <td>22</td>\n",
       "      <td>No</td>\n",
       "      <td>Travel_Frequently</td>\n",
       "      <td>537</td>\n",
       "      <td>Sales</td>\n",
       "      <td>47</td>\n",
       "      <td>5</td>\n",
       "      <td>Life Sciences</td>\n",
       "      <td>1</td>\n",
       "      <td>2</td>\n",
       "      <td>2</td>\n",
       "      <td>Female</td>\n",
       "      <td>32</td>\n",
       "      <td>4</td>\n",
       "      <td>2</td>\n",
       "      <td>Sales Representative</td>\n",
       "      <td>2</td>\n",
       "      <td>Single</td>\n",
       "      <td>19157</td>\n",
       "      <td>249041</td>\n",
       "      <td>2</td>\n",
       "      <td>Y</td>\n",
       "      <td>No</td>\n",
       "      <td>16</td>\n",
       "      <td>1</td>\n",
       "      <td>3</td>\n",
       "      <td>80</td>\n",
       "      <td>1</td>\n",
       "      <td>4</td>\n",
       "      <td>1</td>\n",
       "      <td>2</td>\n",
       "      <td>1</td>\n",
       "      <td>1</td>\n",
       "      <td>1</td>\n",
       "      <td>1</td>\n",
       "    </tr>\n",
       "    <tr>\n",
       "      <th>2</th>\n",
       "      <td>33</td>\n",
       "      <td>Yes</td>\n",
       "      <td>Travel_Rarely</td>\n",
       "      <td>418</td>\n",
       "      <td>Human Resources</td>\n",
       "      <td>45</td>\n",
       "      <td>5</td>\n",
       "      <td>Other</td>\n",
       "      <td>1</td>\n",
       "      <td>3</td>\n",
       "      <td>3</td>\n",
       "      <td>Male</td>\n",
       "      <td>45</td>\n",
       "      <td>1</td>\n",
       "      <td>4</td>\n",
       "      <td>Human Resources</td>\n",
       "      <td>3</td>\n",
       "      <td>Single</td>\n",
       "      <td>42054</td>\n",
       "      <td>1261620</td>\n",
       "      <td>6</td>\n",
       "      <td>Y</td>\n",
       "      <td>No</td>\n",
       "      <td>48</td>\n",
       "      <td>3</td>\n",
       "      <td>1</td>\n",
       "      <td>80</td>\n",
       "      <td>4</td>\n",
       "      <td>21</td>\n",
       "      <td>5</td>\n",
       "      <td>4</td>\n",
       "      <td>4</td>\n",
       "      <td>1</td>\n",
       "      <td>2</td>\n",
       "      <td>2</td>\n",
       "    </tr>\n",
       "  </tbody>\n",
       "</table>\n",
       "</div>"
      ],
      "text/plain": [
       "   Age Attrition     BusinessTravel  DailyRate       Department  \\\n",
       "0   24        No      Travel_Rarely       1084          Support   \n",
       "1   22        No  Travel_Frequently        537            Sales   \n",
       "2   33       Yes      Travel_Rarely        418  Human Resources   \n",
       "\n",
       "   DistanceFromHome  Education EducationField  EmployeeCount  EmployeeNumber  \\\n",
       "0                31          5        Medical              1               1   \n",
       "1                47          5  Life Sciences              1               2   \n",
       "2                45          5          Other              1               3   \n",
       "\n",
       "   EnvironmentSatisfaction  Gender  HourlyRate  JobInvolvement  JobLevel  \\\n",
       "0                        3    Male          66               4         1   \n",
       "1                        2  Female          32               4         2   \n",
       "2                        3    Male          45               1         4   \n",
       "\n",
       "                JobRole  JobSatisfaction MaritalStatus  MonthlyIncome  \\\n",
       "0             Developer                2        Single          48603   \n",
       "1  Sales Representative                2        Single          19157   \n",
       "2       Human Resources                3        Single          42054   \n",
       "\n",
       "   MonthlyRate  NumCompaniesWorked Over18 OverTime  PercentSalaryHike  \\\n",
       "0       583236                   2      Y      Yes                 15   \n",
       "1       249041                   2      Y       No                 16   \n",
       "2      1261620                   6      Y       No                 48   \n",
       "\n",
       "   PerformanceRating  RelationshipSatisfaction  StandardHours  \\\n",
       "0                  4                         3             80   \n",
       "1                  1                         3             80   \n",
       "2                  3                         1             80   \n",
       "\n",
       "   StockOptionLevel  TotalWorkingYears  TrainingTimesLastYear  \\\n",
       "0                 3                 39                      3   \n",
       "1                 1                  4                      1   \n",
       "2                 4                 21                      5   \n",
       "\n",
       "   WorkLifeBalance  YearsAtCompany  YearsInCurrentRole  \\\n",
       "0                3              23                   6   \n",
       "1                2               1                   1   \n",
       "2                4               4                   1   \n",
       "\n",
       "   YearsSinceLastPromotion  YearsWithCurrManager  \n",
       "0                       14                     6  \n",
       "1                        1                     1  \n",
       "2                        2                     2  "
      ]
     },
     "execution_count": 135,
     "metadata": {},
     "output_type": "execute_result"
    }
   ],
   "source": [
    "#Loading the datasets\n",
    "df = pd.read_csv(\"10000 HRA Records.csv\")\n",
    "df.head(3)"
   ]
  },
  {
   "cell_type": "code",
   "execution_count": 136,
   "id": "9e15b65d",
   "metadata": {},
   "outputs": [],
   "source": [
    "#Recoding the values of some columns for ease of analysis: The columns are:1.Educaation, \n",
    "#2.Environment Satisfaction, 3.Jon Involvement, 4.Job Satisfaction, \n",
    "#5.Performance Rating, 6.Relationship Satisfaction, 7.Work Life Balance.\n",
    "\n",
    "df[\"Education\"] = df[\"Education\"].map({1:\"Below College\",2:\"College\",3:\"Bachelor\",4:\"Master\",5:\"PhD\"})\n",
    "df[\"EnvironmentSatisfaction\"] = df[\"EnvironmentSatisfaction\"].map({1:\"Low\", 2:\"Medium\", 3:\"High\", 4:\"Very High\"})\n",
    "df[\"JobInvolvement\"] = df[\"JobInvolvement\"].map({1:\"Low\", 2:\"Medium\", 3:\"High\", 4:\"Very High\"})\n",
    "df[\"JobSatisfaction\"] = df[\"JobSatisfaction\"].map({1:\"Low\", 2:\"Medium\", 3:\"High\", 4:\"Very High\"})\n",
    "df[\"PerformanceRating\"] = df[\"PerformanceRating\"].map({1:\"Low\", 2:\"Good\", 3:\"Excellent\", 4:\"Outstanding\"})\n",
    "df[\"RelationshipSatisfaction\"] = df[\"RelationshipSatisfaction\"].map({1:\"Low\", 2:\"Medium\", 3:\"High\", 4:\"Very High\"})\n",
    "df[\"WorkLifeBalance\"] = df[\"WorkLifeBalance\"].map({1:\"Bad\", 2:\"Good\", 3:\"Better\", 4:\"Best\"})\n"
   ]
  },
  {
   "cell_type": "code",
   "execution_count": 137,
   "id": "5e194735",
   "metadata": {},
   "outputs": [],
   "source": [
    "#Dropping some columns:\n",
    "df.drop(columns = [\"EmployeeCount\",\"Over18\"],inplace = True)"
   ]
  },
  {
   "cell_type": "code",
   "execution_count": 133,
   "id": "7581fd8d",
   "metadata": {},
   "outputs": [
    {
     "name": "stdout",
     "output_type": "stream",
     "text": [
      "<class 'pandas.core.frame.DataFrame'>\n",
      "RangeIndex: 10000 entries, 0 to 9999\n",
      "Data columns (total 35 columns):\n",
      " #   Column                    Non-Null Count  Dtype \n",
      "---  ------                    --------------  ----- \n",
      " 0   Age                       10000 non-null  int64 \n",
      " 1   Attrition                 10000 non-null  object\n",
      " 2   BusinessTravel            10000 non-null  object\n",
      " 3   DailyRate                 10000 non-null  int64 \n",
      " 4   Department                10000 non-null  object\n",
      " 5   DistanceFromHome          10000 non-null  int64 \n",
      " 6   Education                 10000 non-null  object\n",
      " 7   EducationField            10000 non-null  object\n",
      " 8   EmployeeNumber            10000 non-null  int64 \n",
      " 9   EnvironmentSatisfaction   10000 non-null  object\n",
      " 10  Gender                    10000 non-null  object\n",
      " 11  HourlyRate                10000 non-null  int64 \n",
      " 12  JobInvolvement            10000 non-null  object\n",
      " 13  JobLevel                  10000 non-null  int64 \n",
      " 14  JobRole                   10000 non-null  object\n",
      " 15  JobSatisfaction           10000 non-null  object\n",
      " 16  MaritalStatus             10000 non-null  object\n",
      " 17  Salary                    10000 non-null  int64 \n",
      " 18  MonthlyRate               10000 non-null  int64 \n",
      " 19  NumCompaniesWorked        10000 non-null  int64 \n",
      " 20  OverTime                  10000 non-null  object\n",
      " 21  PercentSalaryHike         10000 non-null  int64 \n",
      " 22  PerformanceRating         10000 non-null  object\n",
      " 23  RelationshipSatisfaction  10000 non-null  object\n",
      " 24  StandardHours             10000 non-null  int64 \n",
      " 25  StockOptionLevel          10000 non-null  int64 \n",
      " 26  TotalWorkingYears         10000 non-null  int64 \n",
      " 27  TrainingTimesLastYear     10000 non-null  int64 \n",
      " 28  WorkLifeBalance           10000 non-null  object\n",
      " 29  YearsAtCompany            10000 non-null  int64 \n",
      " 30  YearsInCurrentRole        10000 non-null  int64 \n",
      " 31  YearsSinceLastPromotion   10000 non-null  int64 \n",
      " 32  YearsWithCurrManager      10000 non-null  int64 \n",
      " 33  AgeGroup                  10000 non-null  object\n",
      " 34  %%_SalaryHikeGroup        10000 non-null  object\n",
      "dtypes: int64(18), object(17)\n",
      "memory usage: 2.7+ MB\n"
     ]
    }
   ],
   "source": [
    "#Examining the data\n",
    "df.info()"
   ]
  },
  {
   "cell_type": "code",
   "execution_count": 138,
   "id": "b179ef5b",
   "metadata": {},
   "outputs": [
    {
     "data": {
      "text/plain": [
       "Age               0\n",
       "Attrition         0\n",
       "BusinessTravel    0\n",
       "DailyRate         0\n",
       "Department        0\n",
       "dtype: int64"
      ]
     },
     "execution_count": 138,
     "metadata": {},
     "output_type": "execute_result"
    }
   ],
   "source": [
    "#To check for null values:\n",
    "df.isna().sum()[:5]"
   ]
  },
  {
   "cell_type": "code",
   "execution_count": 139,
   "id": "36e7ebb7",
   "metadata": {},
   "outputs": [
    {
     "data": {
      "text/plain": [
       "(10000, 33)"
      ]
     },
     "execution_count": 139,
     "metadata": {},
     "output_type": "execute_result"
    }
   ],
   "source": [
    "#Finding the number of columns and rows in the Dataframe\n",
    "df.shape"
   ]
  },
  {
   "cell_type": "code",
   "execution_count": 18,
   "id": "8f182187",
   "metadata": {},
   "outputs": [
    {
     "data": {
      "text/html": [
       "<div>\n",
       "<style scoped>\n",
       "    .dataframe tbody tr th:only-of-type {\n",
       "        vertical-align: middle;\n",
       "    }\n",
       "\n",
       "    .dataframe tbody tr th {\n",
       "        vertical-align: top;\n",
       "    }\n",
       "\n",
       "    .dataframe thead th {\n",
       "        text-align: right;\n",
       "    }\n",
       "</style>\n",
       "<table border=\"1\" class=\"dataframe\">\n",
       "  <thead>\n",
       "    <tr style=\"text-align: right;\">\n",
       "      <th></th>\n",
       "      <th>Age</th>\n",
       "      <th>DailyRate</th>\n",
       "      <th>DistanceFromHome</th>\n",
       "      <th>EmployeeNumber</th>\n",
       "      <th>HourlyRate</th>\n",
       "      <th>JobLevel</th>\n",
       "      <th>MonthlyIncome</th>\n",
       "      <th>MonthlyRate</th>\n",
       "      <th>NumCompaniesWorked</th>\n",
       "      <th>PercentSalaryHike</th>\n",
       "      <th>StandardHours</th>\n",
       "      <th>StockOptionLevel</th>\n",
       "      <th>TotalWorkingYears</th>\n",
       "      <th>TrainingTimesLastYear</th>\n",
       "      <th>YearsAtCompany</th>\n",
       "      <th>YearsInCurrentRole</th>\n",
       "      <th>YearsSinceLastPromotion</th>\n",
       "      <th>YearsWithCurrManager</th>\n",
       "    </tr>\n",
       "  </thead>\n",
       "  <tbody>\n",
       "    <tr>\n",
       "      <th>count</th>\n",
       "      <td>10000.000000</td>\n",
       "      <td>10000.000000</td>\n",
       "      <td>10000.000000</td>\n",
       "      <td>10000.00000</td>\n",
       "      <td>10000.000000</td>\n",
       "      <td>10000.000000</td>\n",
       "      <td>10000.000000</td>\n",
       "      <td>1.000000e+04</td>\n",
       "      <td>10000.000000</td>\n",
       "      <td>10000.000000</td>\n",
       "      <td>10000.0</td>\n",
       "      <td>10000.00000</td>\n",
       "      <td>10000.000000</td>\n",
       "      <td>10000.000000</td>\n",
       "      <td>10000.000000</td>\n",
       "      <td>10000.000000</td>\n",
       "      <td>10000.00000</td>\n",
       "      <td>10000.000000</td>\n",
       "    </tr>\n",
       "    <tr>\n",
       "      <th>mean</th>\n",
       "      <td>39.036400</td>\n",
       "      <td>806.545600</td>\n",
       "      <td>25.322100</td>\n",
       "      <td>5000.50000</td>\n",
       "      <td>114.767400</td>\n",
       "      <td>3.006800</td>\n",
       "      <td>25806.677300</td>\n",
       "      <td>4.003443e+05</td>\n",
       "      <td>4.003800</td>\n",
       "      <td>24.616200</td>\n",
       "      <td>80.0</td>\n",
       "      <td>2.49770</td>\n",
       "      <td>20.551900</td>\n",
       "      <td>3.488800</td>\n",
       "      <td>10.700800</td>\n",
       "      <td>5.815200</td>\n",
       "      <td>5.89730</td>\n",
       "      <td>5.785700</td>\n",
       "    </tr>\n",
       "    <tr>\n",
       "      <th>std</th>\n",
       "      <td>12.489318</td>\n",
       "      <td>405.132923</td>\n",
       "      <td>14.454454</td>\n",
       "      <td>2886.89568</td>\n",
       "      <td>49.516602</td>\n",
       "      <td>1.402266</td>\n",
       "      <td>14424.452197</td>\n",
       "      <td>3.390766e+05</td>\n",
       "      <td>2.591227</td>\n",
       "      <td>14.439804</td>\n",
       "      <td>0.0</td>\n",
       "      <td>1.11764</td>\n",
       "      <td>11.563212</td>\n",
       "      <td>1.707386</td>\n",
       "      <td>8.826226</td>\n",
       "      <td>5.907786</td>\n",
       "      <td>6.03072</td>\n",
       "      <td>5.915342</td>\n",
       "    </tr>\n",
       "    <tr>\n",
       "      <th>min</th>\n",
       "      <td>18.000000</td>\n",
       "      <td>100.000000</td>\n",
       "      <td>1.000000</td>\n",
       "      <td>1.00000</td>\n",
       "      <td>30.000000</td>\n",
       "      <td>1.000000</td>\n",
       "      <td>1001.000000</td>\n",
       "      <td>1.270000e+03</td>\n",
       "      <td>0.000000</td>\n",
       "      <td>0.000000</td>\n",
       "      <td>80.0</td>\n",
       "      <td>1.00000</td>\n",
       "      <td>1.000000</td>\n",
       "      <td>1.000000</td>\n",
       "      <td>1.000000</td>\n",
       "      <td>1.000000</td>\n",
       "      <td>1.00000</td>\n",
       "      <td>1.000000</td>\n",
       "    </tr>\n",
       "    <tr>\n",
       "      <th>25%</th>\n",
       "      <td>28.000000</td>\n",
       "      <td>455.000000</td>\n",
       "      <td>13.000000</td>\n",
       "      <td>2500.75000</td>\n",
       "      <td>72.000000</td>\n",
       "      <td>2.000000</td>\n",
       "      <td>13366.250000</td>\n",
       "      <td>1.216832e+05</td>\n",
       "      <td>2.000000</td>\n",
       "      <td>12.000000</td>\n",
       "      <td>80.0</td>\n",
       "      <td>2.00000</td>\n",
       "      <td>11.000000</td>\n",
       "      <td>2.000000</td>\n",
       "      <td>3.000000</td>\n",
       "      <td>1.000000</td>\n",
       "      <td>2.00000</td>\n",
       "      <td>1.000000</td>\n",
       "    </tr>\n",
       "    <tr>\n",
       "      <th>50%</th>\n",
       "      <td>39.000000</td>\n",
       "      <td>807.500000</td>\n",
       "      <td>25.000000</td>\n",
       "      <td>5000.50000</td>\n",
       "      <td>115.000000</td>\n",
       "      <td>3.000000</td>\n",
       "      <td>25438.500000</td>\n",
       "      <td>3.072980e+05</td>\n",
       "      <td>4.000000</td>\n",
       "      <td>25.000000</td>\n",
       "      <td>80.0</td>\n",
       "      <td>2.00000</td>\n",
       "      <td>21.000000</td>\n",
       "      <td>4.000000</td>\n",
       "      <td>8.000000</td>\n",
       "      <td>4.000000</td>\n",
       "      <td>4.00000</td>\n",
       "      <td>4.000000</td>\n",
       "    </tr>\n",
       "    <tr>\n",
       "      <th>75%</th>\n",
       "      <td>50.000000</td>\n",
       "      <td>1160.000000</td>\n",
       "      <td>38.000000</td>\n",
       "      <td>7500.25000</td>\n",
       "      <td>158.000000</td>\n",
       "      <td>4.000000</td>\n",
       "      <td>38385.000000</td>\n",
       "      <td>5.984052e+05</td>\n",
       "      <td>6.000000</td>\n",
       "      <td>37.000000</td>\n",
       "      <td>80.0</td>\n",
       "      <td>4.00000</td>\n",
       "      <td>31.000000</td>\n",
       "      <td>5.000000</td>\n",
       "      <td>16.000000</td>\n",
       "      <td>8.000000</td>\n",
       "      <td>8.00000</td>\n",
       "      <td>8.000000</td>\n",
       "    </tr>\n",
       "    <tr>\n",
       "      <th>max</th>\n",
       "      <td>60.000000</td>\n",
       "      <td>1500.000000</td>\n",
       "      <td>50.000000</td>\n",
       "      <td>10000.00000</td>\n",
       "      <td>200.000000</td>\n",
       "      <td>5.000000</td>\n",
       "      <td>50996.000000</td>\n",
       "      <td>1.523280e+06</td>\n",
       "      <td>8.000000</td>\n",
       "      <td>49.000000</td>\n",
       "      <td>80.0</td>\n",
       "      <td>4.00000</td>\n",
       "      <td>40.000000</td>\n",
       "      <td>6.000000</td>\n",
       "      <td>40.000000</td>\n",
       "      <td>39.000000</td>\n",
       "      <td>38.00000</td>\n",
       "      <td>38.000000</td>\n",
       "    </tr>\n",
       "  </tbody>\n",
       "</table>\n",
       "</div>"
      ],
      "text/plain": [
       "                Age     DailyRate  DistanceFromHome  EmployeeNumber  \\\n",
       "count  10000.000000  10000.000000      10000.000000     10000.00000   \n",
       "mean      39.036400    806.545600         25.322100      5000.50000   \n",
       "std       12.489318    405.132923         14.454454      2886.89568   \n",
       "min       18.000000    100.000000          1.000000         1.00000   \n",
       "25%       28.000000    455.000000         13.000000      2500.75000   \n",
       "50%       39.000000    807.500000         25.000000      5000.50000   \n",
       "75%       50.000000   1160.000000         38.000000      7500.25000   \n",
       "max       60.000000   1500.000000         50.000000     10000.00000   \n",
       "\n",
       "         HourlyRate      JobLevel  MonthlyIncome   MonthlyRate  \\\n",
       "count  10000.000000  10000.000000   10000.000000  1.000000e+04   \n",
       "mean     114.767400      3.006800   25806.677300  4.003443e+05   \n",
       "std       49.516602      1.402266   14424.452197  3.390766e+05   \n",
       "min       30.000000      1.000000    1001.000000  1.270000e+03   \n",
       "25%       72.000000      2.000000   13366.250000  1.216832e+05   \n",
       "50%      115.000000      3.000000   25438.500000  3.072980e+05   \n",
       "75%      158.000000      4.000000   38385.000000  5.984052e+05   \n",
       "max      200.000000      5.000000   50996.000000  1.523280e+06   \n",
       "\n",
       "       NumCompaniesWorked  PercentSalaryHike  StandardHours  StockOptionLevel  \\\n",
       "count        10000.000000       10000.000000        10000.0       10000.00000   \n",
       "mean             4.003800          24.616200           80.0           2.49770   \n",
       "std              2.591227          14.439804            0.0           1.11764   \n",
       "min              0.000000           0.000000           80.0           1.00000   \n",
       "25%              2.000000          12.000000           80.0           2.00000   \n",
       "50%              4.000000          25.000000           80.0           2.00000   \n",
       "75%              6.000000          37.000000           80.0           4.00000   \n",
       "max              8.000000          49.000000           80.0           4.00000   \n",
       "\n",
       "       TotalWorkingYears  TrainingTimesLastYear  YearsAtCompany  \\\n",
       "count       10000.000000           10000.000000    10000.000000   \n",
       "mean           20.551900               3.488800       10.700800   \n",
       "std            11.563212               1.707386        8.826226   \n",
       "min             1.000000               1.000000        1.000000   \n",
       "25%            11.000000               2.000000        3.000000   \n",
       "50%            21.000000               4.000000        8.000000   \n",
       "75%            31.000000               5.000000       16.000000   \n",
       "max            40.000000               6.000000       40.000000   \n",
       "\n",
       "       YearsInCurrentRole  YearsSinceLastPromotion  YearsWithCurrManager  \n",
       "count        10000.000000              10000.00000          10000.000000  \n",
       "mean             5.815200                  5.89730              5.785700  \n",
       "std              5.907786                  6.03072              5.915342  \n",
       "min              1.000000                  1.00000              1.000000  \n",
       "25%              1.000000                  2.00000              1.000000  \n",
       "50%              4.000000                  4.00000              4.000000  \n",
       "75%              8.000000                  8.00000              8.000000  \n",
       "max             39.000000                 38.00000             38.000000  "
      ]
     },
     "execution_count": 18,
     "metadata": {},
     "output_type": "execute_result"
    }
   ],
   "source": [
    "df.describe()"
   ]
  },
  {
   "cell_type": "code",
   "execution_count": 140,
   "id": "c8860807",
   "metadata": {},
   "outputs": [],
   "source": [
    "# Function to group age into 4 age ranges:\n",
    "def group_age(age):\n",
    "    if 18 <= age <= 29:\n",
    "        return \"18-29\"\n",
    "    elif 30 <= age <= 39:\n",
    "        return \"30-39\"\n",
    "    elif 40 <= age <= 49:\n",
    "        return \"40-49\"\n",
    "    else:\n",
    "        return \"50-60\"\n",
    "\n",
    "# Apply the function to create a new 'AgeGroup' column\n",
    "df['AgeGroup'] = df['Age'].apply(group_age)"
   ]
  },
  {
   "cell_type": "code",
   "execution_count": 141,
   "id": "3a6280a7",
   "metadata": {},
   "outputs": [],
   "source": [
    "# Function to group PercentSalaryHike into 4 groups:\n",
    "def group_salhyke(salhike):\n",
    "    if 0 <= salhike <= 15:\n",
    "        return \"0-15\"\n",
    "    elif 16 <= salhike <= 35:\n",
    "        return \"16-35\"\n",
    "    else:\n",
    "        return \"36-49\"\n",
    "\n",
    "# Apply the function to create a new '%%_SalaryHikeGroup' column\n",
    "df['%%_SalaryHikeGroup'] = df['PercentSalaryHike'].apply(group_salhyke)"
   ]
  },
  {
   "cell_type": "code",
   "execution_count": null,
   "id": "da6c089a",
   "metadata": {},
   "outputs": [],
   "source": []
  },
  {
   "cell_type": "code",
   "execution_count": 142,
   "id": "c7da4fe4",
   "metadata": {},
   "outputs": [],
   "source": [
    "#Renaming a column\n",
    "df.rename(columns = {\"MonthlyIncome\":\"Salary\"},inplace = True)"
   ]
  },
  {
   "cell_type": "code",
   "execution_count": null,
   "id": "260b28e0",
   "metadata": {},
   "outputs": [],
   "source": []
  },
  {
   "cell_type": "markdown",
   "id": "165e57a1",
   "metadata": {},
   "source": [
    "#### Employee Demographics\n",
    "#What is the demographic composition of the workforce (age, gender)?\n",
    "#Are there any significant demographic trends or patterns?\n"
   ]
  },
  {
   "cell_type": "code",
   "execution_count": 144,
   "id": "679ac686",
   "metadata": {},
   "outputs": [
    {
     "data": {
      "text/plain": [
       "18-29    2837\n",
       "50-60    2594\n",
       "40-49    2296\n",
       "30-39    2273\n",
       "Name: AgeGroup, dtype: int64"
      ]
     },
     "execution_count": 144,
     "metadata": {},
     "output_type": "execute_result"
    }
   ],
   "source": [
    "#Count of various age groups\n",
    "df[\"AgeGroup\"].value_counts().sort_values(ascending = False)"
   ]
  },
  {
   "cell_type": "code",
   "execution_count": 145,
   "id": "ba39aec4",
   "metadata": {},
   "outputs": [
    {
     "data": {
      "text/plain": [
       "Male      5019\n",
       "Female    4981\n",
       "Name: Gender, dtype: int64"
      ]
     },
     "execution_count": 145,
     "metadata": {},
     "output_type": "execute_result"
    }
   ],
   "source": [
    "#Count of gender\n",
    "df[\"Gender\"].value_counts().sort_values(ascending = False)"
   ]
  },
  {
   "cell_type": "code",
   "execution_count": 146,
   "id": "586ef1b3",
   "metadata": {},
   "outputs": [
    {
     "data": {
      "text/html": [
       "<div>\n",
       "<style scoped>\n",
       "    .dataframe tbody tr th:only-of-type {\n",
       "        vertical-align: middle;\n",
       "    }\n",
       "\n",
       "    .dataframe tbody tr th {\n",
       "        vertical-align: top;\n",
       "    }\n",
       "\n",
       "    .dataframe thead th {\n",
       "        text-align: right;\n",
       "    }\n",
       "</style>\n",
       "<table border=\"1\" class=\"dataframe\">\n",
       "  <thead>\n",
       "    <tr style=\"text-align: right;\">\n",
       "      <th></th>\n",
       "      <th>Salary</th>\n",
       "    </tr>\n",
       "    <tr>\n",
       "      <th>AgeGroup</th>\n",
       "      <th></th>\n",
       "    </tr>\n",
       "  </thead>\n",
       "  <tbody>\n",
       "    <tr>\n",
       "      <th>18-29</th>\n",
       "      <td>73637086</td>\n",
       "    </tr>\n",
       "    <tr>\n",
       "      <th>50-60</th>\n",
       "      <td>67491185</td>\n",
       "    </tr>\n",
       "    <tr>\n",
       "      <th>40-49</th>\n",
       "      <td>58846678</td>\n",
       "    </tr>\n",
       "    <tr>\n",
       "      <th>30-39</th>\n",
       "      <td>58091824</td>\n",
       "    </tr>\n",
       "  </tbody>\n",
       "</table>\n",
       "</div>"
      ],
      "text/plain": [
       "            Salary\n",
       "AgeGroup          \n",
       "18-29     73637086\n",
       "50-60     67491185\n",
       "40-49     58846678\n",
       "30-39     58091824"
      ]
     },
     "execution_count": 146,
     "metadata": {},
     "output_type": "execute_result"
    }
   ],
   "source": [
    "#Evaluating Salary by Age Group\n",
    "df.pivot_table(index = \"AgeGroup\",\n",
    "               values = \"Salary\", \n",
    "               aggfunc = \"sum\").sort_values(by = \"Salary\",ascending = False)"
   ]
  },
  {
   "cell_type": "code",
   "execution_count": 147,
   "id": "5757f27a",
   "metadata": {},
   "outputs": [
    {
     "data": {
      "text/html": [
       "<div>\n",
       "<style scoped>\n",
       "    .dataframe tbody tr th:only-of-type {\n",
       "        vertical-align: middle;\n",
       "    }\n",
       "\n",
       "    .dataframe tbody tr th {\n",
       "        vertical-align: top;\n",
       "    }\n",
       "\n",
       "    .dataframe thead th {\n",
       "        text-align: right;\n",
       "    }\n",
       "</style>\n",
       "<table border=\"1\" class=\"dataframe\">\n",
       "  <thead>\n",
       "    <tr style=\"text-align: right;\">\n",
       "      <th></th>\n",
       "      <th>Salary</th>\n",
       "    </tr>\n",
       "    <tr>\n",
       "      <th>Gender</th>\n",
       "      <th></th>\n",
       "    </tr>\n",
       "  </thead>\n",
       "  <tbody>\n",
       "    <tr>\n",
       "      <th>Male</th>\n",
       "      <td>129853638</td>\n",
       "    </tr>\n",
       "    <tr>\n",
       "      <th>Female</th>\n",
       "      <td>128213135</td>\n",
       "    </tr>\n",
       "  </tbody>\n",
       "</table>\n",
       "</div>"
      ],
      "text/plain": [
       "           Salary\n",
       "Gender           \n",
       "Male    129853638\n",
       "Female  128213135"
      ]
     },
     "execution_count": 147,
     "metadata": {},
     "output_type": "execute_result"
    }
   ],
   "source": [
    "df.pivot_table(index = \"Gender\",values = \"Salary\", aggfunc = \"sum\").sort_values(by = \"Salary\",ascending = False)"
   ]
  },
  {
   "cell_type": "code",
   "execution_count": 148,
   "id": "49310921",
   "metadata": {
    "scrolled": false
   },
   "outputs": [
    {
     "data": {
      "text/html": [
       "<div>\n",
       "<style scoped>\n",
       "    .dataframe tbody tr th:only-of-type {\n",
       "        vertical-align: middle;\n",
       "    }\n",
       "\n",
       "    .dataframe tbody tr th {\n",
       "        vertical-align: top;\n",
       "    }\n",
       "\n",
       "    .dataframe thead th {\n",
       "        text-align: right;\n",
       "    }\n",
       "</style>\n",
       "<table border=\"1\" class=\"dataframe\">\n",
       "  <thead>\n",
       "    <tr style=\"text-align: right;\">\n",
       "      <th>AgeGroup</th>\n",
       "      <th>18-29</th>\n",
       "      <th>30-39</th>\n",
       "      <th>40-49</th>\n",
       "      <th>50-60</th>\n",
       "    </tr>\n",
       "    <tr>\n",
       "      <th>Gender</th>\n",
       "      <th></th>\n",
       "      <th></th>\n",
       "      <th></th>\n",
       "      <th></th>\n",
       "    </tr>\n",
       "  </thead>\n",
       "  <tbody>\n",
       "    <tr>\n",
       "      <th>Female</th>\n",
       "      <td>36877508</td>\n",
       "      <td>28507817</td>\n",
       "      <td>29082667</td>\n",
       "      <td>33745143</td>\n",
       "    </tr>\n",
       "    <tr>\n",
       "      <th>Male</th>\n",
       "      <td>36759578</td>\n",
       "      <td>29584007</td>\n",
       "      <td>29764011</td>\n",
       "      <td>33746042</td>\n",
       "    </tr>\n",
       "  </tbody>\n",
       "</table>\n",
       "</div>"
      ],
      "text/plain": [
       "AgeGroup     18-29     30-39     40-49     50-60\n",
       "Gender                                          \n",
       "Female    36877508  28507817  29082667  33745143\n",
       "Male      36759578  29584007  29764011  33746042"
      ]
     },
     "execution_count": 148,
     "metadata": {},
     "output_type": "execute_result"
    }
   ],
   "source": [
    "df.pivot_table(index = \"Gender\",\n",
    "               values = \"Salary\",\n",
    "               columns = [\"AgeGroup\"], \n",
    "               aggfunc = \"sum\")"
   ]
  },
  {
   "cell_type": "code",
   "execution_count": null,
   "id": "32f70d67",
   "metadata": {},
   "outputs": [],
   "source": []
  },
  {
   "cell_type": "markdown",
   "id": "e47883d6",
   "metadata": {},
   "source": [
    "#### Employee Turnover\n",
    "#Are certain departments experiencing higher turnover than others?"
   ]
  },
  {
   "cell_type": "code",
   "execution_count": 149,
   "id": "e5da459d",
   "metadata": {
    "scrolled": true
   },
   "outputs": [
    {
     "data": {
      "text/plain": [
       "No     5127\n",
       "Yes    4873\n",
       "Name: Attrition, dtype: int64"
      ]
     },
     "execution_count": 149,
     "metadata": {},
     "output_type": "execute_result"
    }
   ],
   "source": [
    "df[\"Attrition\"].value_counts()"
   ]
  },
  {
   "cell_type": "code",
   "execution_count": 150,
   "id": "70e88986",
   "metadata": {},
   "outputs": [
    {
     "name": "stdout",
     "output_type": "stream",
     "text": [
      "Attrition                No  Yes\n",
      "Department                      \n",
      "Hardware                898  794\n",
      "Human Resources         832  789\n",
      "Research & Development  852  829\n",
      "Sales                   826  794\n",
      "Software                858  807\n",
      "Support                 861  860\n"
     ]
    }
   ],
   "source": [
    "# Group by Department and calculate the count of Yes and No in the Attrition column\n",
    "attrition_count_by_department = df.groupby(['Department', 'Attrition']).size().unstack(fill_value=0)\n",
    "\n",
    "# Display the result\n",
    "print(attrition_count_by_department)"
   ]
  },
  {
   "cell_type": "code",
   "execution_count": null,
   "id": "f10db4ec",
   "metadata": {},
   "outputs": [],
   "source": []
  },
  {
   "cell_type": "code",
   "execution_count": 151,
   "id": "0a18c908",
   "metadata": {},
   "outputs": [
    {
     "data": {
      "text/html": [
       "<div>\n",
       "<style scoped>\n",
       "    .dataframe tbody tr th:only-of-type {\n",
       "        vertical-align: middle;\n",
       "    }\n",
       "\n",
       "    .dataframe tbody tr th {\n",
       "        vertical-align: top;\n",
       "    }\n",
       "\n",
       "    .dataframe thead th {\n",
       "        text-align: right;\n",
       "    }\n",
       "</style>\n",
       "<table border=\"1\" class=\"dataframe\">\n",
       "  <thead>\n",
       "    <tr style=\"text-align: right;\">\n",
       "      <th>Education</th>\n",
       "      <th>Bachelor</th>\n",
       "      <th>Below College</th>\n",
       "      <th>College</th>\n",
       "      <th>Master</th>\n",
       "      <th>PhD</th>\n",
       "    </tr>\n",
       "    <tr>\n",
       "      <th>Gender</th>\n",
       "      <th></th>\n",
       "      <th></th>\n",
       "      <th></th>\n",
       "      <th></th>\n",
       "      <th></th>\n",
       "    </tr>\n",
       "  </thead>\n",
       "  <tbody>\n",
       "    <tr>\n",
       "      <th>Female</th>\n",
       "      <td>25359.670224</td>\n",
       "      <td>25762.033948</td>\n",
       "      <td>25421.724708</td>\n",
       "      <td>26415.203000</td>\n",
       "      <td>25727.645685</td>\n",
       "    </tr>\n",
       "    <tr>\n",
       "      <th>Male</th>\n",
       "      <td>25505.179688</td>\n",
       "      <td>25258.594412</td>\n",
       "      <td>26125.433735</td>\n",
       "      <td>26302.922613</td>\n",
       "      <td>26216.949275</td>\n",
       "    </tr>\n",
       "  </tbody>\n",
       "</table>\n",
       "</div>"
      ],
      "text/plain": [
       "Education      Bachelor  Below College       College        Master  \\\n",
       "Gender                                                               \n",
       "Female     25359.670224   25762.033948  25421.724708  26415.203000   \n",
       "Male       25505.179688   25258.594412  26125.433735  26302.922613   \n",
       "\n",
       "Education           PhD  \n",
       "Gender                   \n",
       "Female     25727.645685  \n",
       "Male       26216.949275  "
      ]
     },
     "execution_count": 151,
     "metadata": {},
     "output_type": "execute_result"
    }
   ],
   "source": [
    "#Evaluating Mean Salary by Gender and Education Level\n",
    "df.pivot_table(index = \"Gender\",\n",
    "               values = \"Salary\",\n",
    "               columns = [\"Education\"], \n",
    "               aggfunc = \"mean\")"
   ]
  },
  {
   "cell_type": "code",
   "execution_count": null,
   "id": "175dc5c6",
   "metadata": {},
   "outputs": [],
   "source": []
  },
  {
   "cell_type": "code",
   "execution_count": 152,
   "id": "1e4d0f57",
   "metadata": {
    "scrolled": true
   },
   "outputs": [
    {
     "data": {
      "text/html": [
       "<div>\n",
       "<style scoped>\n",
       "    .dataframe tbody tr th:only-of-type {\n",
       "        vertical-align: middle;\n",
       "    }\n",
       "\n",
       "    .dataframe tbody tr th {\n",
       "        vertical-align: top;\n",
       "    }\n",
       "\n",
       "    .dataframe thead th {\n",
       "        text-align: right;\n",
       "    }\n",
       "</style>\n",
       "<table border=\"1\" class=\"dataframe\">\n",
       "  <thead>\n",
       "    <tr style=\"text-align: right;\">\n",
       "      <th>EducationField</th>\n",
       "      <th>Human Resources</th>\n",
       "      <th>Life Sciences</th>\n",
       "      <th>Marketing</th>\n",
       "      <th>Medical</th>\n",
       "      <th>Other</th>\n",
       "      <th>Technical Degree</th>\n",
       "    </tr>\n",
       "    <tr>\n",
       "      <th>Gender</th>\n",
       "      <th></th>\n",
       "      <th></th>\n",
       "      <th></th>\n",
       "      <th></th>\n",
       "      <th></th>\n",
       "      <th></th>\n",
       "    </tr>\n",
       "  </thead>\n",
       "  <tbody>\n",
       "    <tr>\n",
       "      <th>Female</th>\n",
       "      <td>26242.409653</td>\n",
       "      <td>25742.504785</td>\n",
       "      <td>25988.707955</td>\n",
       "      <td>25464.866250</td>\n",
       "      <td>25629.002370</td>\n",
       "      <td>25357.564576</td>\n",
       "    </tr>\n",
       "    <tr>\n",
       "      <th>Male</th>\n",
       "      <td>25750.062500</td>\n",
       "      <td>25952.340120</td>\n",
       "      <td>26508.979689</td>\n",
       "      <td>25850.444075</td>\n",
       "      <td>25623.235152</td>\n",
       "      <td>25526.360864</td>\n",
       "    </tr>\n",
       "  </tbody>\n",
       "</table>\n",
       "</div>"
      ],
      "text/plain": [
       "EducationField  Human Resources  Life Sciences     Marketing       Medical  \\\n",
       "Gender                                                                       \n",
       "Female             26242.409653   25742.504785  25988.707955  25464.866250   \n",
       "Male               25750.062500   25952.340120  26508.979689  25850.444075   \n",
       "\n",
       "EducationField         Other  Technical Degree  \n",
       "Gender                                          \n",
       "Female          25629.002370      25357.564576  \n",
       "Male            25623.235152      25526.360864  "
      ]
     },
     "execution_count": 152,
     "metadata": {},
     "output_type": "execute_result"
    }
   ],
   "source": [
    "#Evaluating Mean Salary by Gender and Education Field\n",
    "df.pivot_table(index = \"Gender\",\n",
    "               values = \"Salary\",\n",
    "               columns = [\"EducationField\"], \n",
    "               aggfunc = \"mean\")"
   ]
  },
  {
   "cell_type": "code",
   "execution_count": null,
   "id": "525d4ca7",
   "metadata": {},
   "outputs": [],
   "source": []
  },
  {
   "cell_type": "code",
   "execution_count": 153,
   "id": "670f5dfd",
   "metadata": {},
   "outputs": [
    {
     "data": {
      "text/html": [
       "<div>\n",
       "<style scoped>\n",
       "    .dataframe tbody tr th:only-of-type {\n",
       "        vertical-align: middle;\n",
       "    }\n",
       "\n",
       "    .dataframe tbody tr th {\n",
       "        vertical-align: top;\n",
       "    }\n",
       "\n",
       "    .dataframe thead th {\n",
       "        text-align: right;\n",
       "    }\n",
       "</style>\n",
       "<table border=\"1\" class=\"dataframe\">\n",
       "  <thead>\n",
       "    <tr style=\"text-align: right;\">\n",
       "      <th>EducationField</th>\n",
       "      <th>Human Resources</th>\n",
       "      <th>Life Sciences</th>\n",
       "      <th>Marketing</th>\n",
       "      <th>Medical</th>\n",
       "      <th>Other</th>\n",
       "      <th>Technical Degree</th>\n",
       "    </tr>\n",
       "    <tr>\n",
       "      <th>Department</th>\n",
       "      <th></th>\n",
       "      <th></th>\n",
       "      <th></th>\n",
       "      <th></th>\n",
       "      <th></th>\n",
       "      <th></th>\n",
       "    </tr>\n",
       "  </thead>\n",
       "  <tbody>\n",
       "    <tr>\n",
       "      <th>Hardware</th>\n",
       "      <td>26394.841912</td>\n",
       "      <td>25654.173333</td>\n",
       "      <td>26203.399293</td>\n",
       "      <td>25794.864469</td>\n",
       "      <td>25465.448763</td>\n",
       "      <td>24813.487544</td>\n",
       "    </tr>\n",
       "    <tr>\n",
       "      <th>Human Resources</th>\n",
       "      <td>24777.035211</td>\n",
       "      <td>25395.638989</td>\n",
       "      <td>26500.531365</td>\n",
       "      <td>24622.413793</td>\n",
       "      <td>25916.302491</td>\n",
       "      <td>26389.979757</td>\n",
       "    </tr>\n",
       "    <tr>\n",
       "      <th>Research &amp; Development</th>\n",
       "      <td>26485.520295</td>\n",
       "      <td>26734.644000</td>\n",
       "      <td>26655.856115</td>\n",
       "      <td>25488.019608</td>\n",
       "      <td>26291.835088</td>\n",
       "      <td>26767.432990</td>\n",
       "    </tr>\n",
       "    <tr>\n",
       "      <th>Sales</th>\n",
       "      <td>26558.615079</td>\n",
       "      <td>24891.536398</td>\n",
       "      <td>25041.753205</td>\n",
       "      <td>26768.391791</td>\n",
       "      <td>25512.523256</td>\n",
       "      <td>25377.178439</td>\n",
       "    </tr>\n",
       "    <tr>\n",
       "      <th>Software</th>\n",
       "      <td>26534.081784</td>\n",
       "      <td>26035.255172</td>\n",
       "      <td>25900.645283</td>\n",
       "      <td>24956.010169</td>\n",
       "      <td>26211.204301</td>\n",
       "      <td>25200.988764</td>\n",
       "    </tr>\n",
       "    <tr>\n",
       "      <th>Support</th>\n",
       "      <td>25355.578767</td>\n",
       "      <td>26380.607509</td>\n",
       "      <td>27187.814935</td>\n",
       "      <td>26370.366667</td>\n",
       "      <td>24355.173145</td>\n",
       "      <td>23957.481633</td>\n",
       "    </tr>\n",
       "  </tbody>\n",
       "</table>\n",
       "</div>"
      ],
      "text/plain": [
       "EducationField          Human Resources  Life Sciences     Marketing  \\\n",
       "Department                                                             \n",
       "Hardware                   26394.841912   25654.173333  26203.399293   \n",
       "Human Resources            24777.035211   25395.638989  26500.531365   \n",
       "Research & Development     26485.520295   26734.644000  26655.856115   \n",
       "Sales                      26558.615079   24891.536398  25041.753205   \n",
       "Software                   26534.081784   26035.255172  25900.645283   \n",
       "Support                    25355.578767   26380.607509  27187.814935   \n",
       "\n",
       "EducationField               Medical         Other  Technical Degree  \n",
       "Department                                                            \n",
       "Hardware                25794.864469  25465.448763      24813.487544  \n",
       "Human Resources         24622.413793  25916.302491      26389.979757  \n",
       "Research & Development  25488.019608  26291.835088      26767.432990  \n",
       "Sales                   26768.391791  25512.523256      25377.178439  \n",
       "Software                24956.010169  26211.204301      25200.988764  \n",
       "Support                 26370.366667  24355.173145      23957.481633  "
      ]
     },
     "execution_count": 153,
     "metadata": {},
     "output_type": "execute_result"
    }
   ],
   "source": [
    "#Evaluating Mean Salary by Department and Education Level\n",
    "df.pivot_table(index = \"Department\",\n",
    "               values = \"Salary\",\n",
    "               columns = [\"EducationField\"], \n",
    "               aggfunc = \"mean\")"
   ]
  },
  {
   "cell_type": "markdown",
   "id": "417de41c",
   "metadata": {},
   "source": [
    "#### Employee Performance / Training and Development Imapct Analysis"
   ]
  },
  {
   "cell_type": "code",
   "execution_count": 154,
   "id": "d3596b3d",
   "metadata": {},
   "outputs": [
    {
     "data": {
      "text/html": [
       "<div>\n",
       "<style scoped>\n",
       "    .dataframe tbody tr th:only-of-type {\n",
       "        vertical-align: middle;\n",
       "    }\n",
       "\n",
       "    .dataframe tbody tr th {\n",
       "        vertical-align: top;\n",
       "    }\n",
       "\n",
       "    .dataframe thead th {\n",
       "        text-align: right;\n",
       "    }\n",
       "</style>\n",
       "<table border=\"1\" class=\"dataframe\">\n",
       "  <thead>\n",
       "    <tr style=\"text-align: right;\">\n",
       "      <th></th>\n",
       "      <th>TrainingTimesLastYear</th>\n",
       "    </tr>\n",
       "    <tr>\n",
       "      <th>JobInvolvement</th>\n",
       "      <th></th>\n",
       "    </tr>\n",
       "  </thead>\n",
       "  <tbody>\n",
       "    <tr>\n",
       "      <th>Very High</th>\n",
       "      <td>8839</td>\n",
       "    </tr>\n",
       "    <tr>\n",
       "      <th>Medium</th>\n",
       "      <td>8729</td>\n",
       "    </tr>\n",
       "    <tr>\n",
       "      <th>High</th>\n",
       "      <td>8696</td>\n",
       "    </tr>\n",
       "    <tr>\n",
       "      <th>Low</th>\n",
       "      <td>8624</td>\n",
       "    </tr>\n",
       "  </tbody>\n",
       "</table>\n",
       "</div>"
      ],
      "text/plain": [
       "                TrainingTimesLastYear\n",
       "JobInvolvement                       \n",
       "Very High                        8839\n",
       "Medium                           8729\n",
       "High                             8696\n",
       "Low                              8624"
      ]
     },
     "execution_count": 154,
     "metadata": {},
     "output_type": "execute_result"
    }
   ],
   "source": [
    "#Impact of worker training on Job involvement\n",
    "df.pivot_table(index = \"JobInvolvement\",\n",
    "               values = \"TrainingTimesLastYear\",\n",
    "               aggfunc = \"sum\").sort_values(by=\"TrainingTimesLastYear\", ascending=False)"
   ]
  },
  {
   "cell_type": "code",
   "execution_count": 155,
   "id": "b480a216",
   "metadata": {},
   "outputs": [
    {
     "data": {
      "text/html": [
       "<div>\n",
       "<style scoped>\n",
       "    .dataframe tbody tr th:only-of-type {\n",
       "        vertical-align: middle;\n",
       "    }\n",
       "\n",
       "    .dataframe tbody tr th {\n",
       "        vertical-align: top;\n",
       "    }\n",
       "\n",
       "    .dataframe thead th {\n",
       "        text-align: right;\n",
       "    }\n",
       "</style>\n",
       "<table border=\"1\" class=\"dataframe\">\n",
       "  <thead>\n",
       "    <tr style=\"text-align: right;\">\n",
       "      <th></th>\n",
       "      <th>TrainingTimesLastYear</th>\n",
       "    </tr>\n",
       "    <tr>\n",
       "      <th>JobSatisfaction</th>\n",
       "      <th></th>\n",
       "    </tr>\n",
       "  </thead>\n",
       "  <tbody>\n",
       "    <tr>\n",
       "      <th>Medium</th>\n",
       "      <td>8964</td>\n",
       "    </tr>\n",
       "    <tr>\n",
       "      <th>Low</th>\n",
       "      <td>8720</td>\n",
       "    </tr>\n",
       "    <tr>\n",
       "      <th>Very High</th>\n",
       "      <td>8641</td>\n",
       "    </tr>\n",
       "    <tr>\n",
       "      <th>High</th>\n",
       "      <td>8563</td>\n",
       "    </tr>\n",
       "  </tbody>\n",
       "</table>\n",
       "</div>"
      ],
      "text/plain": [
       "                 TrainingTimesLastYear\n",
       "JobSatisfaction                       \n",
       "Medium                            8964\n",
       "Low                               8720\n",
       "Very High                         8641\n",
       "High                              8563"
      ]
     },
     "execution_count": 155,
     "metadata": {},
     "output_type": "execute_result"
    }
   ],
   "source": [
    "#Impact of worker training on Job satisfaction\n",
    "df.pivot_table(index = \"JobSatisfaction\",\n",
    "               values = \"TrainingTimesLastYear\",\n",
    "               aggfunc = \"sum\").sort_values(by=\"TrainingTimesLastYear\", ascending=False)"
   ]
  },
  {
   "cell_type": "code",
   "execution_count": 156,
   "id": "2db152fd",
   "metadata": {},
   "outputs": [
    {
     "data": {
      "text/html": [
       "<div>\n",
       "<style scoped>\n",
       "    .dataframe tbody tr th:only-of-type {\n",
       "        vertical-align: middle;\n",
       "    }\n",
       "\n",
       "    .dataframe tbody tr th {\n",
       "        vertical-align: top;\n",
       "    }\n",
       "\n",
       "    .dataframe thead th {\n",
       "        text-align: right;\n",
       "    }\n",
       "</style>\n",
       "<table border=\"1\" class=\"dataframe\">\n",
       "  <thead>\n",
       "    <tr style=\"text-align: right;\">\n",
       "      <th></th>\n",
       "      <th>TrainingTimesLastYear</th>\n",
       "    </tr>\n",
       "    <tr>\n",
       "      <th>PerformanceRating</th>\n",
       "      <th></th>\n",
       "    </tr>\n",
       "  </thead>\n",
       "  <tbody>\n",
       "    <tr>\n",
       "      <th>Low</th>\n",
       "      <td>9058</td>\n",
       "    </tr>\n",
       "    <tr>\n",
       "      <th>Outstanding</th>\n",
       "      <td>8830</td>\n",
       "    </tr>\n",
       "    <tr>\n",
       "      <th>Excellent</th>\n",
       "      <td>8697</td>\n",
       "    </tr>\n",
       "    <tr>\n",
       "      <th>Good</th>\n",
       "      <td>8303</td>\n",
       "    </tr>\n",
       "  </tbody>\n",
       "</table>\n",
       "</div>"
      ],
      "text/plain": [
       "                   TrainingTimesLastYear\n",
       "PerformanceRating                       \n",
       "Low                                 9058\n",
       "Outstanding                         8830\n",
       "Excellent                           8697\n",
       "Good                                8303"
      ]
     },
     "execution_count": 156,
     "metadata": {},
     "output_type": "execute_result"
    }
   ],
   "source": [
    "#Impact of worker training on Performance Rating\n",
    "df.pivot_table(index = \"PerformanceRating\",\n",
    "               values = \"TrainingTimesLastYear\",\n",
    "               aggfunc = \"sum\").sort_values(by=\"TrainingTimesLastYear\", ascending=False)"
   ]
  },
  {
   "cell_type": "markdown",
   "id": "16afd197",
   "metadata": {},
   "source": [
    "#### Compensation Analysis:\n",
    "#Is there pay equity within the organization across genders?\n",
    "#How does compensation correlate with employee performance and satisfaction?\n"
   ]
  },
  {
   "cell_type": "code",
   "execution_count": 157,
   "id": "4cc397d4",
   "metadata": {},
   "outputs": [
    {
     "data": {
      "text/html": [
       "<div>\n",
       "<style scoped>\n",
       "    .dataframe tbody tr th:only-of-type {\n",
       "        vertical-align: middle;\n",
       "    }\n",
       "\n",
       "    .dataframe tbody tr th {\n",
       "        vertical-align: top;\n",
       "    }\n",
       "\n",
       "    .dataframe thead th {\n",
       "        text-align: right;\n",
       "    }\n",
       "</style>\n",
       "<table border=\"1\" class=\"dataframe\">\n",
       "  <thead>\n",
       "    <tr style=\"text-align: right;\">\n",
       "      <th></th>\n",
       "      <th>Salary</th>\n",
       "    </tr>\n",
       "    <tr>\n",
       "      <th>Gender</th>\n",
       "      <th></th>\n",
       "    </tr>\n",
       "  </thead>\n",
       "  <tbody>\n",
       "    <tr>\n",
       "      <th>Male</th>\n",
       "      <td>129853638</td>\n",
       "    </tr>\n",
       "    <tr>\n",
       "      <th>Female</th>\n",
       "      <td>128213135</td>\n",
       "    </tr>\n",
       "  </tbody>\n",
       "</table>\n",
       "</div>"
      ],
      "text/plain": [
       "           Salary\n",
       "Gender           \n",
       "Male    129853638\n",
       "Female  128213135"
      ]
     },
     "execution_count": 157,
     "metadata": {},
     "output_type": "execute_result"
    }
   ],
   "source": [
    "#Is there pay equity within the organization across genders? \n",
    "df.pivot_table(index = \"Gender\",\n",
    "               values = \"Salary\",\n",
    "               aggfunc = \"sum\").sort_values(by=\"Salary\", ascending=False)"
   ]
  },
  {
   "cell_type": "code",
   "execution_count": 158,
   "id": "ecd8870f",
   "metadata": {},
   "outputs": [
    {
     "data": {
      "text/html": [
       "<div>\n",
       "<style scoped>\n",
       "    .dataframe tbody tr th:only-of-type {\n",
       "        vertical-align: middle;\n",
       "    }\n",
       "\n",
       "    .dataframe tbody tr th {\n",
       "        vertical-align: top;\n",
       "    }\n",
       "\n",
       "    .dataframe thead th {\n",
       "        text-align: right;\n",
       "    }\n",
       "</style>\n",
       "<table border=\"1\" class=\"dataframe\">\n",
       "  <thead>\n",
       "    <tr style=\"text-align: right;\">\n",
       "      <th></th>\n",
       "      <th>Salary</th>\n",
       "    </tr>\n",
       "    <tr>\n",
       "      <th>PerformanceRating</th>\n",
       "      <th></th>\n",
       "    </tr>\n",
       "  </thead>\n",
       "  <tbody>\n",
       "    <tr>\n",
       "      <th>Good</th>\n",
       "      <td>26244.903894</td>\n",
       "    </tr>\n",
       "    <tr>\n",
       "      <th>Outstanding</th>\n",
       "      <td>25746.858893</td>\n",
       "    </tr>\n",
       "    <tr>\n",
       "      <th>Excellent</th>\n",
       "      <td>25697.052295</td>\n",
       "    </tr>\n",
       "    <tr>\n",
       "      <th>Low</th>\n",
       "      <td>25558.959624</td>\n",
       "    </tr>\n",
       "  </tbody>\n",
       "</table>\n",
       "</div>"
      ],
      "text/plain": [
       "                         Salary\n",
       "PerformanceRating              \n",
       "Good               26244.903894\n",
       "Outstanding        25746.858893\n",
       "Excellent          25697.052295\n",
       "Low                25558.959624"
      ]
     },
     "execution_count": 158,
     "metadata": {},
     "output_type": "execute_result"
    }
   ],
   "source": [
    "#How does compensation correlate with employee performance and satisfaction?\n",
    "df.pivot_table(index = \"PerformanceRating\",\n",
    "               values = \"Salary\",\n",
    "               aggfunc = \"mean\").sort_values(by=\"Salary\", ascending=False)"
   ]
  },
  {
   "cell_type": "code",
   "execution_count": 159,
   "id": "ec8494f6",
   "metadata": {},
   "outputs": [
    {
     "data": {
      "text/plain": [
       "Travel_Rarely        3370\n",
       "Non-Travel           3343\n",
       "Travel_Frequently    3287\n",
       "Name: BusinessTravel, dtype: int64"
      ]
     },
     "execution_count": 159,
     "metadata": {},
     "output_type": "execute_result"
    }
   ],
   "source": [
    "#Count of travels \n",
    "df[\"BusinessTravel\"].value_counts()"
   ]
  },
  {
   "cell_type": "code",
   "execution_count": 160,
   "id": "9716abea",
   "metadata": {},
   "outputs": [
    {
     "data": {
      "text/html": [
       "<div>\n",
       "<style scoped>\n",
       "    .dataframe tbody tr th:only-of-type {\n",
       "        vertical-align: middle;\n",
       "    }\n",
       "\n",
       "    .dataframe tbody tr th {\n",
       "        vertical-align: top;\n",
       "    }\n",
       "\n",
       "    .dataframe thead th {\n",
       "        text-align: right;\n",
       "    }\n",
       "</style>\n",
       "<table border=\"1\" class=\"dataframe\">\n",
       "  <thead>\n",
       "    <tr style=\"text-align: right;\">\n",
       "      <th></th>\n",
       "      <th>DailyRate</th>\n",
       "    </tr>\n",
       "    <tr>\n",
       "      <th>Department</th>\n",
       "      <th></th>\n",
       "    </tr>\n",
       "  </thead>\n",
       "  <tbody>\n",
       "    <tr>\n",
       "      <th>Support</th>\n",
       "      <td>1369321</td>\n",
       "    </tr>\n",
       "    <tr>\n",
       "      <th>Hardware</th>\n",
       "      <td>1359119</td>\n",
       "    </tr>\n",
       "    <tr>\n",
       "      <th>Research &amp; Development</th>\n",
       "      <td>1349440</td>\n",
       "    </tr>\n",
       "    <tr>\n",
       "      <th>Software</th>\n",
       "      <td>1345069</td>\n",
       "    </tr>\n",
       "    <tr>\n",
       "      <th>Sales</th>\n",
       "      <td>1322229</td>\n",
       "    </tr>\n",
       "    <tr>\n",
       "      <th>Human Resources</th>\n",
       "      <td>1320278</td>\n",
       "    </tr>\n",
       "  </tbody>\n",
       "</table>\n",
       "</div>"
      ],
      "text/plain": [
       "                        DailyRate\n",
       "Department                       \n",
       "Support                   1369321\n",
       "Hardware                  1359119\n",
       "Research & Development    1349440\n",
       "Software                  1345069\n",
       "Sales                     1322229\n",
       "Human Resources           1320278"
      ]
     },
     "execution_count": 160,
     "metadata": {},
     "output_type": "execute_result"
    }
   ],
   "source": [
    "#Sum of Daily Work Rate by various Departments\n",
    "df.pivot_table(index = \"Department\",\n",
    "               values = \"DailyRate\",\n",
    "               aggfunc = \"sum\").sort_values(by=\"DailyRate\", ascending=False)"
   ]
  },
  {
   "cell_type": "code",
   "execution_count": 161,
   "id": "2a93fbd6",
   "metadata": {},
   "outputs": [
    {
     "data": {
      "text/html": [
       "<div>\n",
       "<style scoped>\n",
       "    .dataframe tbody tr th:only-of-type {\n",
       "        vertical-align: middle;\n",
       "    }\n",
       "\n",
       "    .dataframe tbody tr th {\n",
       "        vertical-align: top;\n",
       "    }\n",
       "\n",
       "    .dataframe thead th {\n",
       "        text-align: right;\n",
       "    }\n",
       "</style>\n",
       "<table border=\"1\" class=\"dataframe\">\n",
       "  <thead>\n",
       "    <tr style=\"text-align: right;\">\n",
       "      <th></th>\n",
       "      <th>DailyRate</th>\n",
       "    </tr>\n",
       "    <tr>\n",
       "      <th>Department</th>\n",
       "      <th></th>\n",
       "    </tr>\n",
       "  </thead>\n",
       "  <tbody>\n",
       "    <tr>\n",
       "      <th>Sales</th>\n",
       "      <td>816.190741</td>\n",
       "    </tr>\n",
       "    <tr>\n",
       "      <th>Human Resources</th>\n",
       "      <td>814.483652</td>\n",
       "    </tr>\n",
       "    <tr>\n",
       "      <th>Software</th>\n",
       "      <td>807.849249</td>\n",
       "    </tr>\n",
       "    <tr>\n",
       "      <th>Hardware</th>\n",
       "      <td>803.261820</td>\n",
       "    </tr>\n",
       "    <tr>\n",
       "      <th>Research &amp; Development</th>\n",
       "      <td>802.760262</td>\n",
       "    </tr>\n",
       "    <tr>\n",
       "      <th>Support</th>\n",
       "      <td>795.654271</td>\n",
       "    </tr>\n",
       "  </tbody>\n",
       "</table>\n",
       "</div>"
      ],
      "text/plain": [
       "                         DailyRate\n",
       "Department                        \n",
       "Sales                   816.190741\n",
       "Human Resources         814.483652\n",
       "Software                807.849249\n",
       "Hardware                803.261820\n",
       "Research & Development  802.760262\n",
       "Support                 795.654271"
      ]
     },
     "execution_count": 161,
     "metadata": {},
     "output_type": "execute_result"
    }
   ],
   "source": [
    "#Mean of Daily Work Rate by various Departments\n",
    "df.pivot_table(index = \"Department\",\n",
    "               values = \"DailyRate\",\n",
    "               aggfunc = \"mean\").sort_values(by=\"DailyRate\", ascending=False)"
   ]
  },
  {
   "cell_type": "code",
   "execution_count": null,
   "id": "9938d546",
   "metadata": {},
   "outputs": [],
   "source": []
  },
  {
   "cell_type": "code",
   "execution_count": 177,
   "id": "fda07ef1",
   "metadata": {},
   "outputs": [
    {
     "data": {
      "text/plain": [
       "Low          2520\n",
       "Medium       2512\n",
       "High         2494\n",
       "Very High    2474\n",
       "Name: EnvironmentSatisfaction, dtype: int64"
      ]
     },
     "execution_count": 177,
     "metadata": {},
     "output_type": "execute_result"
    }
   ],
   "source": [
    "#Count of Environment Satisfaction values\n",
    "df[\"EnvironmentSatisfaction\"].value_counts()"
   ]
  },
  {
   "cell_type": "code",
   "execution_count": null,
   "id": "5d381023",
   "metadata": {},
   "outputs": [],
   "source": []
  },
  {
   "cell_type": "code",
   "execution_count": 163,
   "id": "1b9deb95",
   "metadata": {
    "scrolled": true
   },
   "outputs": [
    {
     "data": {
      "text/html": [
       "<div>\n",
       "<style scoped>\n",
       "    .dataframe tbody tr th:only-of-type {\n",
       "        vertical-align: middle;\n",
       "    }\n",
       "\n",
       "    .dataframe tbody tr th {\n",
       "        vertical-align: top;\n",
       "    }\n",
       "\n",
       "    .dataframe thead th {\n",
       "        text-align: right;\n",
       "    }\n",
       "</style>\n",
       "<table border=\"1\" class=\"dataframe\">\n",
       "  <thead>\n",
       "    <tr style=\"text-align: right;\">\n",
       "      <th></th>\n",
       "      <th>Salary</th>\n",
       "    </tr>\n",
       "    <tr>\n",
       "      <th>JobRole</th>\n",
       "      <th></th>\n",
       "    </tr>\n",
       "  </thead>\n",
       "  <tbody>\n",
       "    <tr>\n",
       "      <th>Human Resources</th>\n",
       "      <td>26258.753535</td>\n",
       "    </tr>\n",
       "    <tr>\n",
       "      <th>Research Scientist</th>\n",
       "      <td>26180.554852</td>\n",
       "    </tr>\n",
       "    <tr>\n",
       "      <th>Manufacturing Director</th>\n",
       "      <td>26170.268173</td>\n",
       "    </tr>\n",
       "    <tr>\n",
       "      <th>Sales Representative</th>\n",
       "      <td>26021.834532</td>\n",
       "    </tr>\n",
       "    <tr>\n",
       "      <th>Laboratory Technician</th>\n",
       "      <td>25913.159478</td>\n",
       "    </tr>\n",
       "    <tr>\n",
       "      <th>Manager</th>\n",
       "      <td>25800.716528</td>\n",
       "    </tr>\n",
       "    <tr>\n",
       "      <th>Healthcare Representative</th>\n",
       "      <td>25632.864542</td>\n",
       "    </tr>\n",
       "    <tr>\n",
       "      <th>Developer</th>\n",
       "      <td>25439.436735</td>\n",
       "    </tr>\n",
       "    <tr>\n",
       "      <th>Sales Executive</th>\n",
       "      <td>25433.596562</td>\n",
       "    </tr>\n",
       "    <tr>\n",
       "      <th>Research Director</th>\n",
       "      <td>25239.092338</td>\n",
       "    </tr>\n",
       "  </tbody>\n",
       "</table>\n",
       "</div>"
      ],
      "text/plain": [
       "                                 Salary\n",
       "JobRole                                \n",
       "Human Resources            26258.753535\n",
       "Research Scientist         26180.554852\n",
       "Manufacturing Director     26170.268173\n",
       "Sales Representative       26021.834532\n",
       "Laboratory Technician      25913.159478\n",
       "Manager                    25800.716528\n",
       "Healthcare Representative  25632.864542\n",
       "Developer                  25439.436735\n",
       "Sales Executive            25433.596562\n",
       "Research Director          25239.092338"
      ]
     },
     "execution_count": 163,
     "metadata": {},
     "output_type": "execute_result"
    }
   ],
   "source": [
    "#Evaluation of mean Salary by Job Role\n",
    "df.pivot_table(index = \"JobRole\",\n",
    "               values = \"Salary\",\n",
    "               aggfunc = \"mean\").sort_values(by=\"Salary\", ascending=False)"
   ]
  },
  {
   "cell_type": "code",
   "execution_count": null,
   "id": "226a6af9",
   "metadata": {},
   "outputs": [],
   "source": []
  },
  {
   "cell_type": "code",
   "execution_count": 164,
   "id": "23092c76",
   "metadata": {},
   "outputs": [
    {
     "data": {
      "text/plain": [
       "2    1145\n",
       "7    1132\n",
       "8    1132\n",
       "1    1118\n",
       "3    1111\n",
       "6    1108\n",
       "4    1101\n",
       "0    1100\n",
       "5    1053\n",
       "Name: NumCompaniesWorked, dtype: int64"
      ]
     },
     "execution_count": 164,
     "metadata": {},
     "output_type": "execute_result"
    }
   ],
   "source": [
    "#Count of Number of companies workers have worked\n",
    "df[\"NumCompaniesWorked\"].value_counts().sort_values(ascending = False)"
   ]
  },
  {
   "cell_type": "code",
   "execution_count": null,
   "id": "064650a9",
   "metadata": {},
   "outputs": [],
   "source": []
  },
  {
   "cell_type": "code",
   "execution_count": 165,
   "id": "47eddc05",
   "metadata": {},
   "outputs": [
    {
     "data": {
      "text/plain": [
       "Medium       2553\n",
       "Low          2500\n",
       "High         2486\n",
       "Very High    2461\n",
       "Name: RelationshipSatisfaction, dtype: int64"
      ]
     },
     "execution_count": 165,
     "metadata": {},
     "output_type": "execute_result"
    }
   ],
   "source": [
    "#Count of Relationship Satisfaction values workers have.\n",
    "df[\"RelationshipSatisfaction\"].value_counts().sort_values(ascending = False)"
   ]
  },
  {
   "cell_type": "code",
   "execution_count": null,
   "id": "ff6f4306",
   "metadata": {},
   "outputs": [],
   "source": []
  },
  {
   "cell_type": "code",
   "execution_count": 166,
   "id": "7418f385",
   "metadata": {
    "scrolled": true
   },
   "outputs": [
    {
     "data": {
      "text/plain": [
       "Good      2539\n",
       "Bad       2525\n",
       "Best      2475\n",
       "Better    2461\n",
       "Name: WorkLifeBalance, dtype: int64"
      ]
     },
     "execution_count": 166,
     "metadata": {},
     "output_type": "execute_result"
    }
   ],
   "source": [
    "#Counts of workers Work_Life-Balance values\n",
    "df[\"WorkLifeBalance\"].value_counts().sort_values(ascending = False)"
   ]
  },
  {
   "cell_type": "code",
   "execution_count": null,
   "id": "7edf8427",
   "metadata": {},
   "outputs": [],
   "source": []
  },
  {
   "cell_type": "code",
   "execution_count": 167,
   "id": "d11c9c3d",
   "metadata": {},
   "outputs": [
    {
     "data": {
      "text/plain": [
       "1     1061\n",
       "2      798\n",
       "3      740\n",
       "4      612\n",
       "5      535\n",
       "6      485\n",
       "7      461\n",
       "8      415\n",
       "9      388\n",
       "10     377\n",
       "Name: YearsAtCompany, dtype: int64"
      ]
     },
     "execution_count": 167,
     "metadata": {},
     "output_type": "execute_result"
    }
   ],
   "source": [
    "df[\"YearsAtCompany\"].value_counts().sort_values(ascending = False)[:10]"
   ]
  },
  {
   "cell_type": "code",
   "execution_count": null,
   "id": "6cd10dee",
   "metadata": {},
   "outputs": [],
   "source": []
  },
  {
   "cell_type": "code",
   "execution_count": 168,
   "id": "25311244",
   "metadata": {},
   "outputs": [
    {
     "data": {
      "text/plain": [
       "16-35    3974\n",
       "0-15     3197\n",
       "36-49    2829\n",
       "Name: %%_SalaryHikeGroup, dtype: int64"
      ]
     },
     "execution_count": 168,
     "metadata": {},
     "output_type": "execute_result"
    }
   ],
   "source": [
    "df[\"%%_SalaryHikeGroup\"].value_counts().sort_values(ascending = False)"
   ]
  },
  {
   "cell_type": "code",
   "execution_count": null,
   "id": "6603283b",
   "metadata": {},
   "outputs": [],
   "source": []
  },
  {
   "cell_type": "code",
   "execution_count": 169,
   "id": "1aa16d4f",
   "metadata": {},
   "outputs": [
    {
     "data": {
      "text/plain": [
       "1     2499\n",
       "2     1399\n",
       "3      997\n",
       "4      806\n",
       "5      619\n",
       "6      496\n",
       "7      441\n",
       "8      362\n",
       "9      342\n",
       "10     264\n",
       "Name: YearsSinceLastPromotion, dtype: int64"
      ]
     },
     "execution_count": 169,
     "metadata": {},
     "output_type": "execute_result"
    }
   ],
   "source": [
    "df[\"YearsSinceLastPromotion\"].value_counts().sort_values(ascending = False)[:10]"
   ]
  },
  {
   "cell_type": "code",
   "execution_count": null,
   "id": "7c6c2f65",
   "metadata": {},
   "outputs": [],
   "source": []
  },
  {
   "cell_type": "code",
   "execution_count": 170,
   "id": "748a8327",
   "metadata": {},
   "outputs": [
    {
     "data": {
      "text/html": [
       "<div>\n",
       "<style scoped>\n",
       "    .dataframe tbody tr th:only-of-type {\n",
       "        vertical-align: middle;\n",
       "    }\n",
       "\n",
       "    .dataframe tbody tr th {\n",
       "        vertical-align: top;\n",
       "    }\n",
       "\n",
       "    .dataframe thead th {\n",
       "        text-align: right;\n",
       "    }\n",
       "</style>\n",
       "<table border=\"1\" class=\"dataframe\">\n",
       "  <thead>\n",
       "    <tr style=\"text-align: right;\">\n",
       "      <th></th>\n",
       "      <th>YearsSinceLastPromotion</th>\n",
       "    </tr>\n",
       "    <tr>\n",
       "      <th>JobSatisfaction</th>\n",
       "      <th></th>\n",
       "    </tr>\n",
       "  </thead>\n",
       "  <tbody>\n",
       "    <tr>\n",
       "      <th>Low</th>\n",
       "      <td>5.953982</td>\n",
       "    </tr>\n",
       "    <tr>\n",
       "      <th>Very High</th>\n",
       "      <td>5.934748</td>\n",
       "    </tr>\n",
       "    <tr>\n",
       "      <th>Medium</th>\n",
       "      <td>5.853354</td>\n",
       "    </tr>\n",
       "    <tr>\n",
       "      <th>High</th>\n",
       "      <td>5.847068</td>\n",
       "    </tr>\n",
       "  </tbody>\n",
       "</table>\n",
       "</div>"
      ],
      "text/plain": [
       "                 YearsSinceLastPromotion\n",
       "JobSatisfaction                         \n",
       "Low                             5.953982\n",
       "Very High                       5.934748\n",
       "Medium                          5.853354\n",
       "High                            5.847068"
      ]
     },
     "execution_count": 170,
     "metadata": {},
     "output_type": "execute_result"
    }
   ],
   "source": [
    "#Evaluating Mean Job Satisfaction by Years_Since_Last_Promotion\n",
    "df.pivot_table(index = \"JobSatisfaction\",\n",
    "               values = \"YearsSinceLastPromotion\",\n",
    "               aggfunc = \"mean\").sort_values(by=\"YearsSinceLastPromotion\", ascending=False)"
   ]
  },
  {
   "cell_type": "code",
   "execution_count": null,
   "id": "f3eb16ce",
   "metadata": {},
   "outputs": [],
   "source": []
  },
  {
   "cell_type": "code",
   "execution_count": 171,
   "id": "71b16149",
   "metadata": {},
   "outputs": [
    {
     "data": {
      "text/html": [
       "<div>\n",
       "<style scoped>\n",
       "    .dataframe tbody tr th:only-of-type {\n",
       "        vertical-align: middle;\n",
       "    }\n",
       "\n",
       "    .dataframe tbody tr th {\n",
       "        vertical-align: top;\n",
       "    }\n",
       "\n",
       "    .dataframe thead th {\n",
       "        text-align: right;\n",
       "    }\n",
       "</style>\n",
       "<table border=\"1\" class=\"dataframe\">\n",
       "  <thead>\n",
       "    <tr style=\"text-align: right;\">\n",
       "      <th></th>\n",
       "      <th>YearsSinceLastPromotion</th>\n",
       "    </tr>\n",
       "    <tr>\n",
       "      <th>PerformanceRating</th>\n",
       "      <th></th>\n",
       "    </tr>\n",
       "  </thead>\n",
       "  <tbody>\n",
       "    <tr>\n",
       "      <th>Excellent</th>\n",
       "      <td>5.968463</td>\n",
       "    </tr>\n",
       "    <tr>\n",
       "      <th>Low</th>\n",
       "      <td>5.967856</td>\n",
       "    </tr>\n",
       "    <tr>\n",
       "      <th>Good</th>\n",
       "      <td>5.891881</td>\n",
       "    </tr>\n",
       "    <tr>\n",
       "      <th>Outstanding</th>\n",
       "      <td>5.760870</td>\n",
       "    </tr>\n",
       "  </tbody>\n",
       "</table>\n",
       "</div>"
      ],
      "text/plain": [
       "                   YearsSinceLastPromotion\n",
       "PerformanceRating                         \n",
       "Excellent                         5.968463\n",
       "Low                               5.967856\n",
       "Good                              5.891881\n",
       "Outstanding                       5.760870"
      ]
     },
     "execution_count": 171,
     "metadata": {},
     "output_type": "execute_result"
    }
   ],
   "source": [
    "#Evaluating Mean Performance rating by Years_Since_Last_Promotion\n",
    "df.pivot_table(index = \"PerformanceRating\",\n",
    "               values = \"YearsSinceLastPromotion\",\n",
    "               aggfunc = \"mean\").sort_values(by=\"YearsSinceLastPromotion\", ascending=False)"
   ]
  },
  {
   "cell_type": "code",
   "execution_count": null,
   "id": "7b7421df",
   "metadata": {},
   "outputs": [],
   "source": []
  },
  {
   "cell_type": "code",
   "execution_count": 172,
   "id": "bff36603",
   "metadata": {
    "scrolled": false
   },
   "outputs": [
    {
     "data": {
      "text/html": [
       "<div>\n",
       "<style scoped>\n",
       "    .dataframe tbody tr th:only-of-type {\n",
       "        vertical-align: middle;\n",
       "    }\n",
       "\n",
       "    .dataframe tbody tr th {\n",
       "        vertical-align: top;\n",
       "    }\n",
       "\n",
       "    .dataframe thead th {\n",
       "        text-align: right;\n",
       "    }\n",
       "</style>\n",
       "<table border=\"1\" class=\"dataframe\">\n",
       "  <thead>\n",
       "    <tr style=\"text-align: right;\">\n",
       "      <th></th>\n",
       "      <th>Salary</th>\n",
       "    </tr>\n",
       "    <tr>\n",
       "      <th>OverTime</th>\n",
       "      <th></th>\n",
       "    </tr>\n",
       "  </thead>\n",
       "  <tbody>\n",
       "    <tr>\n",
       "      <th>Yes</th>\n",
       "      <td>25821.275080</td>\n",
       "    </tr>\n",
       "    <tr>\n",
       "      <th>No</th>\n",
       "      <td>25792.172648</td>\n",
       "    </tr>\n",
       "  </tbody>\n",
       "</table>\n",
       "</div>"
      ],
      "text/plain": [
       "                Salary\n",
       "OverTime              \n",
       "Yes       25821.275080\n",
       "No        25792.172648"
      ]
     },
     "execution_count": 172,
     "metadata": {},
     "output_type": "execute_result"
    }
   ],
   "source": [
    "#Evaluating Mean Salary by Over time\n",
    "df.pivot_table(index = \"OverTime\",\n",
    "               values = \"Salary\",\n",
    "               aggfunc = \"mean\").sort_values(by=\"Salary\", ascending=False)"
   ]
  },
  {
   "cell_type": "code",
   "execution_count": null,
   "id": "d9de41d9",
   "metadata": {},
   "outputs": [],
   "source": []
  },
  {
   "cell_type": "code",
   "execution_count": 173,
   "id": "66e8af11",
   "metadata": {},
   "outputs": [
    {
     "data": {
      "text/html": [
       "<div>\n",
       "<style scoped>\n",
       "    .dataframe tbody tr th:only-of-type {\n",
       "        vertical-align: middle;\n",
       "    }\n",
       "\n",
       "    .dataframe tbody tr th {\n",
       "        vertical-align: top;\n",
       "    }\n",
       "\n",
       "    .dataframe thead th {\n",
       "        text-align: right;\n",
       "    }\n",
       "</style>\n",
       "<table border=\"1\" class=\"dataframe\">\n",
       "  <thead>\n",
       "    <tr style=\"text-align: right;\">\n",
       "      <th>RelationshipSatisfaction</th>\n",
       "      <th>High</th>\n",
       "      <th>Low</th>\n",
       "      <th>Medium</th>\n",
       "      <th>Very High</th>\n",
       "    </tr>\n",
       "    <tr>\n",
       "      <th>OverTime</th>\n",
       "      <th></th>\n",
       "      <th></th>\n",
       "      <th></th>\n",
       "      <th></th>\n",
       "    </tr>\n",
       "  </thead>\n",
       "  <tbody>\n",
       "    <tr>\n",
       "      <th>No</th>\n",
       "      <td>25320.159843</td>\n",
       "      <td>25960.560065</td>\n",
       "      <td>26000.305901</td>\n",
       "      <td>25893.255302</td>\n",
       "    </tr>\n",
       "    <tr>\n",
       "      <th>Yes</th>\n",
       "      <td>25765.730263</td>\n",
       "      <td>26097.850946</td>\n",
       "      <td>25741.901976</td>\n",
       "      <td>25673.300405</td>\n",
       "    </tr>\n",
       "  </tbody>\n",
       "</table>\n",
       "</div>"
      ],
      "text/plain": [
       "RelationshipSatisfaction          High           Low        Medium  \\\n",
       "OverTime                                                             \n",
       "No                        25320.159843  25960.560065  26000.305901   \n",
       "Yes                       25765.730263  26097.850946  25741.901976   \n",
       "\n",
       "RelationshipSatisfaction     Very High  \n",
       "OverTime                                \n",
       "No                        25893.255302  \n",
       "Yes                       25673.300405  "
      ]
     },
     "execution_count": 173,
     "metadata": {},
     "output_type": "execute_result"
    }
   ],
   "source": [
    "#Evaluating Mean Salary by Over time and Relationship Satisfaction\n",
    "df.pivot_table(index = \"OverTime\",\n",
    "               values = \"Salary\",\n",
    "               columns = [\"RelationshipSatisfaction\"], \n",
    "               aggfunc = \"mean\")"
   ]
  },
  {
   "cell_type": "code",
   "execution_count": null,
   "id": "d12d27b1",
   "metadata": {},
   "outputs": [],
   "source": []
  },
  {
   "cell_type": "code",
   "execution_count": 174,
   "id": "e92e7cad",
   "metadata": {
    "scrolled": true
   },
   "outputs": [
    {
     "data": {
      "text/html": [
       "<div>\n",
       "<style scoped>\n",
       "    .dataframe tbody tr th:only-of-type {\n",
       "        vertical-align: middle;\n",
       "    }\n",
       "\n",
       "    .dataframe tbody tr th {\n",
       "        vertical-align: top;\n",
       "    }\n",
       "\n",
       "    .dataframe thead th {\n",
       "        text-align: right;\n",
       "    }\n",
       "</style>\n",
       "<table border=\"1\" class=\"dataframe\">\n",
       "  <thead>\n",
       "    <tr style=\"text-align: right;\">\n",
       "      <th></th>\n",
       "      <th>DistanceFromHome</th>\n",
       "    </tr>\n",
       "    <tr>\n",
       "      <th>JobSatisfaction</th>\n",
       "      <th></th>\n",
       "    </tr>\n",
       "  </thead>\n",
       "  <tbody>\n",
       "    <tr>\n",
       "      <th>Low</th>\n",
       "      <td>25.883153</td>\n",
       "    </tr>\n",
       "    <tr>\n",
       "      <th>High</th>\n",
       "      <td>25.319803</td>\n",
       "    </tr>\n",
       "    <tr>\n",
       "      <th>Medium</th>\n",
       "      <td>25.123635</td>\n",
       "    </tr>\n",
       "    <tr>\n",
       "      <th>Very High</th>\n",
       "      <td>24.966773</td>\n",
       "    </tr>\n",
       "  </tbody>\n",
       "</table>\n",
       "</div>"
      ],
      "text/plain": [
       "                 DistanceFromHome\n",
       "JobSatisfaction                  \n",
       "Low                     25.883153\n",
       "High                    25.319803\n",
       "Medium                  25.123635\n",
       "Very High               24.966773"
      ]
     },
     "execution_count": 174,
     "metadata": {},
     "output_type": "execute_result"
    }
   ],
   "source": [
    "#Evaluating Mean Worker Distance from Home Job Satisfaction\n",
    "df.pivot_table(index = \"JobSatisfaction\",\n",
    "               values = \"DistanceFromHome\",\n",
    "               aggfunc = \"mean\").sort_values(by=\"DistanceFromHome\", ascending=False)"
   ]
  },
  {
   "cell_type": "code",
   "execution_count": null,
   "id": "e211d553",
   "metadata": {},
   "outputs": [],
   "source": []
  },
  {
   "cell_type": "code",
   "execution_count": 175,
   "id": "e10084da",
   "metadata": {},
   "outputs": [
    {
     "data": {
      "text/html": [
       "<div>\n",
       "<style scoped>\n",
       "    .dataframe tbody tr th:only-of-type {\n",
       "        vertical-align: middle;\n",
       "    }\n",
       "\n",
       "    .dataframe tbody tr th {\n",
       "        vertical-align: top;\n",
       "    }\n",
       "\n",
       "    .dataframe thead th {\n",
       "        text-align: right;\n",
       "    }\n",
       "</style>\n",
       "<table border=\"1\" class=\"dataframe\">\n",
       "  <thead>\n",
       "    <tr style=\"text-align: right;\">\n",
       "      <th>JobSatisfaction</th>\n",
       "      <th>High</th>\n",
       "      <th>Low</th>\n",
       "      <th>Medium</th>\n",
       "      <th>Very High</th>\n",
       "    </tr>\n",
       "    <tr>\n",
       "      <th>AgeGroup</th>\n",
       "      <th></th>\n",
       "      <th></th>\n",
       "      <th></th>\n",
       "      <th></th>\n",
       "    </tr>\n",
       "  </thead>\n",
       "  <tbody>\n",
       "    <tr>\n",
       "      <th>18-29</th>\n",
       "      <td>20031598</td>\n",
       "      <td>17730763</td>\n",
       "      <td>17584659</td>\n",
       "      <td>18290066</td>\n",
       "    </tr>\n",
       "    <tr>\n",
       "      <th>30-39</th>\n",
       "      <td>13248969</td>\n",
       "      <td>15867019</td>\n",
       "      <td>15141464</td>\n",
       "      <td>13834372</td>\n",
       "    </tr>\n",
       "    <tr>\n",
       "      <th>40-49</th>\n",
       "      <td>14525341</td>\n",
       "      <td>13784742</td>\n",
       "      <td>15533947</td>\n",
       "      <td>15002648</td>\n",
       "    </tr>\n",
       "    <tr>\n",
       "      <th>50-60</th>\n",
       "      <td>15677476</td>\n",
       "      <td>16627948</td>\n",
       "      <td>17431593</td>\n",
       "      <td>17754168</td>\n",
       "    </tr>\n",
       "  </tbody>\n",
       "</table>\n",
       "</div>"
      ],
      "text/plain": [
       "JobSatisfaction      High       Low    Medium  Very High\n",
       "AgeGroup                                                \n",
       "18-29            20031598  17730763  17584659   18290066\n",
       "30-39            13248969  15867019  15141464   13834372\n",
       "40-49            14525341  13784742  15533947   15002648\n",
       "50-60            15677476  16627948  17431593   17754168"
      ]
     },
     "execution_count": 175,
     "metadata": {},
     "output_type": "execute_result"
    }
   ],
   "source": [
    "#Evaluating Age Group and Salary by Job Satisfaction\n",
    "df.pivot_table(index = \"AgeGroup\",\n",
    "               values = \"Salary\",\n",
    "               columns = [\"JobSatisfaction\"], \n",
    "               aggfunc = \"sum\")"
   ]
  },
  {
   "cell_type": "code",
   "execution_count": null,
   "id": "5e474500",
   "metadata": {},
   "outputs": [],
   "source": []
  },
  {
   "cell_type": "code",
   "execution_count": 179,
   "id": "dc4c36d2",
   "metadata": {},
   "outputs": [],
   "source": [
    "#Exporting the file as a Comma Separated File:\n",
    "df.to_csv(\"hrdata.csv\")"
   ]
  }
 ],
 "metadata": {
  "kernelspec": {
   "display_name": "Python 3 (ipykernel)",
   "language": "python",
   "name": "python3"
  },
  "language_info": {
   "codemirror_mode": {
    "name": "ipython",
    "version": 3
   },
   "file_extension": ".py",
   "mimetype": "text/x-python",
   "name": "python",
   "nbconvert_exporter": "python",
   "pygments_lexer": "ipython3",
   "version": "3.11.3"
  }
 },
 "nbformat": 4,
 "nbformat_minor": 5
}
