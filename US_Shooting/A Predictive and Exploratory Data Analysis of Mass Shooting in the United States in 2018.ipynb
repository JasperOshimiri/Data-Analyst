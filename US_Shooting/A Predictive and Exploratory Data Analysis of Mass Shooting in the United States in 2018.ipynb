{
 "cells": [
  {
   "cell_type": "code",
   "execution_count": 2,
   "id": "1e10b58f",
   "metadata": {},
   "outputs": [],
   "source": [
    "# Loading important Libraries\n",
    "\n",
    "import pandas as pd\n",
    "import numpy as np\n",
    "import matplotlib.pyplot as plt\n",
    "import seaborn as sns\n",
    "%matplotlib inline\n",
    "import re"
   ]
  },
  {
   "cell_type": "code",
   "execution_count": 3,
   "id": "12dc0f78",
   "metadata": {},
   "outputs": [
    {
     "data": {
      "text/html": [
       "<div>\n",
       "<style scoped>\n",
       "    .dataframe tbody tr th:only-of-type {\n",
       "        vertical-align: middle;\n",
       "    }\n",
       "\n",
       "    .dataframe tbody tr th {\n",
       "        vertical-align: top;\n",
       "    }\n",
       "\n",
       "    .dataframe thead th {\n",
       "        text-align: right;\n",
       "    }\n",
       "</style>\n",
       "<table border=\"1\" class=\"dataframe\">\n",
       "  <thead>\n",
       "    <tr style=\"text-align: right;\">\n",
       "      <th></th>\n",
       "      <th>Date</th>\n",
       "      <th>State</th>\n",
       "      <th>Dead</th>\n",
       "      <th>Injured</th>\n",
       "      <th>Total</th>\n",
       "      <th>Description</th>\n",
       "    </tr>\n",
       "  </thead>\n",
       "  <tbody>\n",
       "    <tr>\n",
       "      <th>0</th>\n",
       "      <td>31/12/2018</td>\n",
       "      <td>Ohio</td>\n",
       "      <td>3</td>\n",
       "      <td>2</td>\n",
       "      <td>5</td>\n",
       "      <td>A dispute began at a rented Airbnb during a Ne...</td>\n",
       "    </tr>\n",
       "    <tr>\n",
       "      <th>1</th>\n",
       "      <td>29/12/2018</td>\n",
       "      <td>Ohio</td>\n",
       "      <td>1</td>\n",
       "      <td>3</td>\n",
       "      <td>4</td>\n",
       "      <td>One person was killed and three people were wo...</td>\n",
       "    </tr>\n",
       "    <tr>\n",
       "      <th>2</th>\n",
       "      <td>28/12/2018</td>\n",
       "      <td>Missouri</td>\n",
       "      <td>4</td>\n",
       "      <td>1</td>\n",
       "      <td>5</td>\n",
       "      <td>A gunman shot and killed his girlfriend, her t...</td>\n",
       "    </tr>\n",
       "    <tr>\n",
       "      <th>3</th>\n",
       "      <td>24/12/2018</td>\n",
       "      <td>Louisiana</td>\n",
       "      <td>2</td>\n",
       "      <td>2</td>\n",
       "      <td>4</td>\n",
       "      <td>Three people were killed and two others were w...</td>\n",
       "    </tr>\n",
       "    <tr>\n",
       "      <th>4</th>\n",
       "      <td>23/12/2018</td>\n",
       "      <td>Missouri</td>\n",
       "      <td>0</td>\n",
       "      <td>7</td>\n",
       "      <td>7</td>\n",
       "      <td>Seven people were wounded during a shooting at...</td>\n",
       "    </tr>\n",
       "  </tbody>\n",
       "</table>\n",
       "</div>"
      ],
      "text/plain": [
       "         Date      State  Dead  Injured  Total  \\\n",
       "0  31/12/2018       Ohio     3        2      5   \n",
       "1  29/12/2018       Ohio     1        3      4   \n",
       "2  28/12/2018   Missouri     4        1      5   \n",
       "3  24/12/2018  Louisiana     2        2      4   \n",
       "4  23/12/2018   Missouri     0        7      7   \n",
       "\n",
       "                                         Description  \n",
       "0  A dispute began at a rented Airbnb during a Ne...  \n",
       "1  One person was killed and three people were wo...  \n",
       "2  A gunman shot and killed his girlfriend, her t...  \n",
       "3  Three people were killed and two others were w...  \n",
       "4  Seven people were wounded during a shooting at...  "
      ]
     },
     "execution_count": 3,
     "metadata": {},
     "output_type": "execute_result"
    }
   ],
   "source": [
    "# Loading the dataset\n",
    "df = pd.read_csv('shootings_2018.csv')\n",
    "df.head()"
   ]
  },
  {
   "cell_type": "code",
   "execution_count": 4,
   "id": "fb3fdd02",
   "metadata": {},
   "outputs": [],
   "source": [
    "# Removing column display limit\n",
    "pd.set_option('display.max_columns', None)"
   ]
  },
  {
   "cell_type": "code",
   "execution_count": null,
   "id": "4978f2ab",
   "metadata": {},
   "outputs": [],
   "source": []
  },
  {
   "cell_type": "code",
   "execution_count": 5,
   "id": "87834d42",
   "metadata": {},
   "outputs": [
    {
     "data": {
      "text/plain": [
       "(322, 6)"
      ]
     },
     "execution_count": 5,
     "metadata": {},
     "output_type": "execute_result"
    }
   ],
   "source": [
    "# Seeing the number of columns and rows\n",
    "df.shape"
   ]
  },
  {
   "cell_type": "code",
   "execution_count": null,
   "id": "3e6c0c3f",
   "metadata": {},
   "outputs": [],
   "source": []
  },
  {
   "cell_type": "code",
   "execution_count": 6,
   "id": "26056fca",
   "metadata": {},
   "outputs": [
    {
     "name": "stdout",
     "output_type": "stream",
     "text": [
      "<class 'pandas.core.frame.DataFrame'>\n",
      "RangeIndex: 322 entries, 0 to 321\n",
      "Data columns (total 6 columns):\n",
      " #   Column       Non-Null Count  Dtype \n",
      "---  ------       --------------  ----- \n",
      " 0   Date         322 non-null    object\n",
      " 1   State        322 non-null    object\n",
      " 2   Dead         322 non-null    int64 \n",
      " 3   Injured      322 non-null    int64 \n",
      " 4   Total        322 non-null    int64 \n",
      " 5   Description  322 non-null    object\n",
      "dtypes: int64(3), object(3)\n",
      "memory usage: 15.2+ KB\n"
     ]
    }
   ],
   "source": [
    "# Using info function to see the data types of the dataet\n",
    "df.info()"
   ]
  },
  {
   "cell_type": "code",
   "execution_count": null,
   "id": "9d856121",
   "metadata": {},
   "outputs": [],
   "source": []
  },
  {
   "cell_type": "code",
   "execution_count": 7,
   "id": "823d1f12",
   "metadata": {},
   "outputs": [
    {
     "data": {
      "text/plain": [
       "Date           0\n",
       "State          0\n",
       "Dead           0\n",
       "Injured        0\n",
       "Total          0\n",
       "Description    0\n",
       "dtype: int64"
      ]
     },
     "execution_count": 7,
     "metadata": {},
     "output_type": "execute_result"
    }
   ],
   "source": [
    "# To check if there are null values.\n",
    "df.isna().sum()"
   ]
  },
  {
   "cell_type": "code",
   "execution_count": null,
   "id": "0ebb1a1b",
   "metadata": {},
   "outputs": [],
   "source": []
  },
  {
   "cell_type": "code",
   "execution_count": 8,
   "id": "a9cd7100",
   "metadata": {
    "scrolled": true
   },
   "outputs": [
    {
     "data": {
      "text/plain": [
       "Illinois                34\n",
       "California              33\n",
       "Florida                 28\n",
       "Pennsylvania            18\n",
       "Tennessee               17\n",
       "Texas                   15\n",
       "Missouri                14\n",
       "Louisiana               12\n",
       "Alabama                 12\n",
       "New York                11\n",
       "Ohio                    11\n",
       "North Carolina          11\n",
       "Michigan                 9\n",
       "New Jersey               9\n",
       "Indiana                  8\n",
       "Maryland                 8\n",
       "Georgia                  7\n",
       "Colorado                 7\n",
       "Arkansas                 5\n",
       "District of Columbia     5\n",
       "Oklahoma                 5\n",
       "Virginia                 4\n",
       "South Carolina           4\n",
       "Kentucky                 4\n",
       "Wisconsin                4\n",
       "Nevada                   4\n",
       "Washington               3\n",
       "Arizona                  3\n",
       "Nebraska                 3\n",
       "Mississippi              3\n",
       "Minnesota                2\n",
       "Connecticut              2\n",
       "Kansas                   2\n",
       "New Mexico               2\n",
       "Delaware                 1\n",
       "Massachusetts            1\n",
       "Utah                     1\n",
       "Name: State, dtype: int64"
      ]
     },
     "execution_count": 8,
     "metadata": {},
     "output_type": "execute_result"
    }
   ],
   "source": [
    "# To see the frequency of each Value in the State column\n",
    "df['State'].value_counts()"
   ]
  },
  {
   "cell_type": "code",
   "execution_count": null,
   "id": "0c6437a3",
   "metadata": {},
   "outputs": [],
   "source": []
  },
  {
   "cell_type": "code",
   "execution_count": 9,
   "id": "10fbe65f",
   "metadata": {},
   "outputs": [
    {
     "data": {
      "text/html": [
       "<div>\n",
       "<style scoped>\n",
       "    .dataframe tbody tr th:only-of-type {\n",
       "        vertical-align: middle;\n",
       "    }\n",
       "\n",
       "    .dataframe tbody tr th {\n",
       "        vertical-align: top;\n",
       "    }\n",
       "\n",
       "    .dataframe thead th {\n",
       "        text-align: right;\n",
       "    }\n",
       "</style>\n",
       "<table border=\"1\" class=\"dataframe\">\n",
       "  <thead>\n",
       "    <tr style=\"text-align: right;\">\n",
       "      <th></th>\n",
       "      <th>Dead</th>\n",
       "      <th>Injured</th>\n",
       "      <th>Total</th>\n",
       "    </tr>\n",
       "  </thead>\n",
       "  <tbody>\n",
       "    <tr>\n",
       "      <th>count</th>\n",
       "      <td>322.000000</td>\n",
       "      <td>322.000000</td>\n",
       "      <td>322.000000</td>\n",
       "    </tr>\n",
       "    <tr>\n",
       "      <th>mean</th>\n",
       "      <td>1.189441</td>\n",
       "      <td>4.009317</td>\n",
       "      <td>5.195652</td>\n",
       "    </tr>\n",
       "    <tr>\n",
       "      <th>std</th>\n",
       "      <td>1.916841</td>\n",
       "      <td>2.300597</td>\n",
       "      <td>2.983169</td>\n",
       "    </tr>\n",
       "    <tr>\n",
       "      <th>min</th>\n",
       "      <td>0.000000</td>\n",
       "      <td>0.000000</td>\n",
       "      <td>4.000000</td>\n",
       "    </tr>\n",
       "    <tr>\n",
       "      <th>25%</th>\n",
       "      <td>0.000000</td>\n",
       "      <td>3.000000</td>\n",
       "      <td>4.000000</td>\n",
       "    </tr>\n",
       "    <tr>\n",
       "      <th>50%</th>\n",
       "      <td>1.000000</td>\n",
       "      <td>4.000000</td>\n",
       "      <td>4.000000</td>\n",
       "    </tr>\n",
       "    <tr>\n",
       "      <th>75%</th>\n",
       "      <td>2.000000</td>\n",
       "      <td>5.000000</td>\n",
       "      <td>5.000000</td>\n",
       "    </tr>\n",
       "    <tr>\n",
       "      <th>max</th>\n",
       "      <td>17.000000</td>\n",
       "      <td>22.000000</td>\n",
       "      <td>34.000000</td>\n",
       "    </tr>\n",
       "  </tbody>\n",
       "</table>\n",
       "</div>"
      ],
      "text/plain": [
       "             Dead     Injured       Total\n",
       "count  322.000000  322.000000  322.000000\n",
       "mean     1.189441    4.009317    5.195652\n",
       "std      1.916841    2.300597    2.983169\n",
       "min      0.000000    0.000000    4.000000\n",
       "25%      0.000000    3.000000    4.000000\n",
       "50%      1.000000    4.000000    4.000000\n",
       "75%      2.000000    5.000000    5.000000\n",
       "max     17.000000   22.000000   34.000000"
      ]
     },
     "execution_count": 9,
     "metadata": {},
     "output_type": "execute_result"
    }
   ],
   "source": [
    "# A statistical summary of the dataset\n",
    "df.describe()"
   ]
  },
  {
   "cell_type": "code",
   "execution_count": null,
   "id": "c79765fb",
   "metadata": {},
   "outputs": [],
   "source": []
  },
  {
   "cell_type": "markdown",
   "id": "a9b7fc11",
   "metadata": {},
   "source": [
    "# Begining of dataset wrangling"
   ]
  },
  {
   "cell_type": "code",
   "execution_count": 10,
   "id": "8685c571",
   "metadata": {
    "scrolled": true
   },
   "outputs": [
    {
     "data": {
      "text/html": [
       "<div>\n",
       "<style scoped>\n",
       "    .dataframe tbody tr th:only-of-type {\n",
       "        vertical-align: middle;\n",
       "    }\n",
       "\n",
       "    .dataframe tbody tr th {\n",
       "        vertical-align: top;\n",
       "    }\n",
       "\n",
       "    .dataframe thead th {\n",
       "        text-align: right;\n",
       "    }\n",
       "</style>\n",
       "<table border=\"1\" class=\"dataframe\">\n",
       "  <thead>\n",
       "    <tr style=\"text-align: right;\">\n",
       "      <th></th>\n",
       "      <th>Date</th>\n",
       "      <th>State</th>\n",
       "      <th>Dead</th>\n",
       "      <th>Injured</th>\n",
       "      <th>Total</th>\n",
       "      <th>Description</th>\n",
       "    </tr>\n",
       "  </thead>\n",
       "  <tbody>\n",
       "    <tr>\n",
       "      <th>0</th>\n",
       "      <td>31/12/2018</td>\n",
       "      <td>Ohio</td>\n",
       "      <td>3</td>\n",
       "      <td>2</td>\n",
       "      <td>5</td>\n",
       "      <td>A dispute began at a rented Airbnb during a Ne...</td>\n",
       "    </tr>\n",
       "    <tr>\n",
       "      <th>1</th>\n",
       "      <td>29/12/2018</td>\n",
       "      <td>Ohio</td>\n",
       "      <td>1</td>\n",
       "      <td>3</td>\n",
       "      <td>4</td>\n",
       "      <td>One person was killed and three people were wo...</td>\n",
       "    </tr>\n",
       "    <tr>\n",
       "      <th>2</th>\n",
       "      <td>28/12/2018</td>\n",
       "      <td>Missouri</td>\n",
       "      <td>4</td>\n",
       "      <td>1</td>\n",
       "      <td>5</td>\n",
       "      <td>A gunman shot and killed his girlfriend, her t...</td>\n",
       "    </tr>\n",
       "    <tr>\n",
       "      <th>3</th>\n",
       "      <td>24/12/2018</td>\n",
       "      <td>Louisiana</td>\n",
       "      <td>2</td>\n",
       "      <td>2</td>\n",
       "      <td>4</td>\n",
       "      <td>Three people were killed and two others were w...</td>\n",
       "    </tr>\n",
       "    <tr>\n",
       "      <th>4</th>\n",
       "      <td>23/12/2018</td>\n",
       "      <td>Missouri</td>\n",
       "      <td>0</td>\n",
       "      <td>7</td>\n",
       "      <td>7</td>\n",
       "      <td>Seven people were wounded during a shooting at...</td>\n",
       "    </tr>\n",
       "  </tbody>\n",
       "</table>\n",
       "</div>"
      ],
      "text/plain": [
       "         Date      State  Dead  Injured  Total  \\\n",
       "0  31/12/2018       Ohio     3        2      5   \n",
       "1  29/12/2018       Ohio     1        3      4   \n",
       "2  28/12/2018   Missouri     4        1      5   \n",
       "3  24/12/2018  Louisiana     2        2      4   \n",
       "4  23/12/2018   Missouri     0        7      7   \n",
       "\n",
       "                                         Description  \n",
       "0  A dispute began at a rented Airbnb during a Ne...  \n",
       "1  One person was killed and three people were wo...  \n",
       "2  A gunman shot and killed his girlfriend, her t...  \n",
       "3  Three people were killed and two others were w...  \n",
       "4  Seven people were wounded during a shooting at...  "
      ]
     },
     "execution_count": 10,
     "metadata": {},
     "output_type": "execute_result"
    }
   ],
   "source": [
    "# Showing the first five rows of the dataset\n",
    "df.head()"
   ]
  },
  {
   "cell_type": "code",
   "execution_count": null,
   "id": "456424fe",
   "metadata": {},
   "outputs": [],
   "source": []
  },
  {
   "cell_type": "code",
   "execution_count": 11,
   "id": "73355597",
   "metadata": {},
   "outputs": [],
   "source": [
    "# Making a copy of the dataset for Exploratory Data Analysis after the Regression analysis\n",
    "df1 = df[:]"
   ]
  },
  {
   "cell_type": "code",
   "execution_count": null,
   "id": "719eda8e",
   "metadata": {},
   "outputs": [],
   "source": []
  },
  {
   "cell_type": "code",
   "execution_count": 15,
   "id": "e077db08",
   "metadata": {},
   "outputs": [],
   "source": []
  },
  {
   "cell_type": "code",
   "execution_count": 12,
   "id": "225b1066",
   "metadata": {},
   "outputs": [],
   "source": [
    "# Extracting the Year and Month columns from the Date Column\n",
    "df['Year'] = pd.DatetimeIndex(df['Date']).year\n",
    "df['Month'] = pd.DatetimeIndex(df['Date']).month"
   ]
  },
  {
   "cell_type": "code",
   "execution_count": null,
   "id": "c37380fa",
   "metadata": {},
   "outputs": [],
   "source": []
  },
  {
   "cell_type": "code",
   "execution_count": 13,
   "id": "2ead96aa",
   "metadata": {},
   "outputs": [],
   "source": [
    "# Enconding the State \"Variable\" : Note: I intended to use the state column but later dropped it as seen below.\n",
    "new_df  = pd.get_dummies(df, columns=['State'], drop_first = True)"
   ]
  },
  {
   "cell_type": "code",
   "execution_count": null,
   "id": "b27a4845",
   "metadata": {},
   "outputs": [],
   "source": []
  },
  {
   "cell_type": "code",
   "execution_count": 14,
   "id": "e96daadd",
   "metadata": {
    "scrolled": true
   },
   "outputs": [
    {
     "data": {
      "text/html": [
       "<div>\n",
       "<style scoped>\n",
       "    .dataframe tbody tr th:only-of-type {\n",
       "        vertical-align: middle;\n",
       "    }\n",
       "\n",
       "    .dataframe tbody tr th {\n",
       "        vertical-align: top;\n",
       "    }\n",
       "\n",
       "    .dataframe thead th {\n",
       "        text-align: right;\n",
       "    }\n",
       "</style>\n",
       "<table border=\"1\" class=\"dataframe\">\n",
       "  <thead>\n",
       "    <tr style=\"text-align: right;\">\n",
       "      <th></th>\n",
       "      <th>Date</th>\n",
       "      <th>Dead</th>\n",
       "      <th>Injured</th>\n",
       "      <th>Total</th>\n",
       "      <th>Description</th>\n",
       "      <th>Year</th>\n",
       "      <th>Month</th>\n",
       "      <th>State_Arizona</th>\n",
       "      <th>State_Arkansas</th>\n",
       "      <th>State_California</th>\n",
       "      <th>State_Colorado</th>\n",
       "      <th>State_Connecticut</th>\n",
       "      <th>State_Delaware</th>\n",
       "      <th>State_District of Columbia</th>\n",
       "      <th>State_Florida</th>\n",
       "      <th>State_Georgia</th>\n",
       "      <th>State_Illinois</th>\n",
       "      <th>State_Indiana</th>\n",
       "      <th>State_Kansas</th>\n",
       "      <th>State_Kentucky</th>\n",
       "      <th>State_Louisiana</th>\n",
       "      <th>State_Maryland</th>\n",
       "      <th>State_Massachusetts</th>\n",
       "      <th>State_Michigan</th>\n",
       "      <th>State_Minnesota</th>\n",
       "      <th>State_Mississippi</th>\n",
       "      <th>State_Missouri</th>\n",
       "      <th>State_Nebraska</th>\n",
       "      <th>State_Nevada</th>\n",
       "      <th>State_New Jersey</th>\n",
       "      <th>State_New Mexico</th>\n",
       "      <th>State_New York</th>\n",
       "      <th>State_North Carolina</th>\n",
       "      <th>State_Ohio</th>\n",
       "      <th>State_Oklahoma</th>\n",
       "      <th>State_Pennsylvania</th>\n",
       "      <th>State_South Carolina</th>\n",
       "      <th>State_Tennessee</th>\n",
       "      <th>State_Texas</th>\n",
       "      <th>State_Utah</th>\n",
       "      <th>State_Virginia</th>\n",
       "      <th>State_Washington</th>\n",
       "      <th>State_Wisconsin</th>\n",
       "    </tr>\n",
       "  </thead>\n",
       "  <tbody>\n",
       "    <tr>\n",
       "      <th>0</th>\n",
       "      <td>31/12/2018</td>\n",
       "      <td>3</td>\n",
       "      <td>2</td>\n",
       "      <td>5</td>\n",
       "      <td>A dispute began at a rented Airbnb during a Ne...</td>\n",
       "      <td>2018</td>\n",
       "      <td>12</td>\n",
       "      <td>0</td>\n",
       "      <td>0</td>\n",
       "      <td>0</td>\n",
       "      <td>0</td>\n",
       "      <td>0</td>\n",
       "      <td>0</td>\n",
       "      <td>0</td>\n",
       "      <td>0</td>\n",
       "      <td>0</td>\n",
       "      <td>0</td>\n",
       "      <td>0</td>\n",
       "      <td>0</td>\n",
       "      <td>0</td>\n",
       "      <td>0</td>\n",
       "      <td>0</td>\n",
       "      <td>0</td>\n",
       "      <td>0</td>\n",
       "      <td>0</td>\n",
       "      <td>0</td>\n",
       "      <td>0</td>\n",
       "      <td>0</td>\n",
       "      <td>0</td>\n",
       "      <td>0</td>\n",
       "      <td>0</td>\n",
       "      <td>0</td>\n",
       "      <td>0</td>\n",
       "      <td>1</td>\n",
       "      <td>0</td>\n",
       "      <td>0</td>\n",
       "      <td>0</td>\n",
       "      <td>0</td>\n",
       "      <td>0</td>\n",
       "      <td>0</td>\n",
       "      <td>0</td>\n",
       "      <td>0</td>\n",
       "      <td>0</td>\n",
       "    </tr>\n",
       "    <tr>\n",
       "      <th>1</th>\n",
       "      <td>29/12/2018</td>\n",
       "      <td>1</td>\n",
       "      <td>3</td>\n",
       "      <td>4</td>\n",
       "      <td>One person was killed and three people were wo...</td>\n",
       "      <td>2018</td>\n",
       "      <td>12</td>\n",
       "      <td>0</td>\n",
       "      <td>0</td>\n",
       "      <td>0</td>\n",
       "      <td>0</td>\n",
       "      <td>0</td>\n",
       "      <td>0</td>\n",
       "      <td>0</td>\n",
       "      <td>0</td>\n",
       "      <td>0</td>\n",
       "      <td>0</td>\n",
       "      <td>0</td>\n",
       "      <td>0</td>\n",
       "      <td>0</td>\n",
       "      <td>0</td>\n",
       "      <td>0</td>\n",
       "      <td>0</td>\n",
       "      <td>0</td>\n",
       "      <td>0</td>\n",
       "      <td>0</td>\n",
       "      <td>0</td>\n",
       "      <td>0</td>\n",
       "      <td>0</td>\n",
       "      <td>0</td>\n",
       "      <td>0</td>\n",
       "      <td>0</td>\n",
       "      <td>0</td>\n",
       "      <td>1</td>\n",
       "      <td>0</td>\n",
       "      <td>0</td>\n",
       "      <td>0</td>\n",
       "      <td>0</td>\n",
       "      <td>0</td>\n",
       "      <td>0</td>\n",
       "      <td>0</td>\n",
       "      <td>0</td>\n",
       "      <td>0</td>\n",
       "    </tr>\n",
       "    <tr>\n",
       "      <th>2</th>\n",
       "      <td>28/12/2018</td>\n",
       "      <td>4</td>\n",
       "      <td>1</td>\n",
       "      <td>5</td>\n",
       "      <td>A gunman shot and killed his girlfriend, her t...</td>\n",
       "      <td>2018</td>\n",
       "      <td>12</td>\n",
       "      <td>0</td>\n",
       "      <td>0</td>\n",
       "      <td>0</td>\n",
       "      <td>0</td>\n",
       "      <td>0</td>\n",
       "      <td>0</td>\n",
       "      <td>0</td>\n",
       "      <td>0</td>\n",
       "      <td>0</td>\n",
       "      <td>0</td>\n",
       "      <td>0</td>\n",
       "      <td>0</td>\n",
       "      <td>0</td>\n",
       "      <td>0</td>\n",
       "      <td>0</td>\n",
       "      <td>0</td>\n",
       "      <td>0</td>\n",
       "      <td>0</td>\n",
       "      <td>0</td>\n",
       "      <td>1</td>\n",
       "      <td>0</td>\n",
       "      <td>0</td>\n",
       "      <td>0</td>\n",
       "      <td>0</td>\n",
       "      <td>0</td>\n",
       "      <td>0</td>\n",
       "      <td>0</td>\n",
       "      <td>0</td>\n",
       "      <td>0</td>\n",
       "      <td>0</td>\n",
       "      <td>0</td>\n",
       "      <td>0</td>\n",
       "      <td>0</td>\n",
       "      <td>0</td>\n",
       "      <td>0</td>\n",
       "      <td>0</td>\n",
       "    </tr>\n",
       "  </tbody>\n",
       "</table>\n",
       "</div>"
      ],
      "text/plain": [
       "         Date  Dead  Injured  Total  \\\n",
       "0  31/12/2018     3        2      5   \n",
       "1  29/12/2018     1        3      4   \n",
       "2  28/12/2018     4        1      5   \n",
       "\n",
       "                                         Description  Year  Month  \\\n",
       "0  A dispute began at a rented Airbnb during a Ne...  2018     12   \n",
       "1  One person was killed and three people were wo...  2018     12   \n",
       "2  A gunman shot and killed his girlfriend, her t...  2018     12   \n",
       "\n",
       "   State_Arizona  State_Arkansas  State_California  State_Colorado  \\\n",
       "0              0               0                 0               0   \n",
       "1              0               0                 0               0   \n",
       "2              0               0                 0               0   \n",
       "\n",
       "   State_Connecticut  State_Delaware  State_District of Columbia  \\\n",
       "0                  0               0                           0   \n",
       "1                  0               0                           0   \n",
       "2                  0               0                           0   \n",
       "\n",
       "   State_Florida  State_Georgia  State_Illinois  State_Indiana  State_Kansas  \\\n",
       "0              0              0               0              0             0   \n",
       "1              0              0               0              0             0   \n",
       "2              0              0               0              0             0   \n",
       "\n",
       "   State_Kentucky  State_Louisiana  State_Maryland  State_Massachusetts  \\\n",
       "0               0                0               0                    0   \n",
       "1               0                0               0                    0   \n",
       "2               0                0               0                    0   \n",
       "\n",
       "   State_Michigan  State_Minnesota  State_Mississippi  State_Missouri  \\\n",
       "0               0                0                  0               0   \n",
       "1               0                0                  0               0   \n",
       "2               0                0                  0               1   \n",
       "\n",
       "   State_Nebraska  State_Nevada  State_New Jersey  State_New Mexico  \\\n",
       "0               0             0                 0                 0   \n",
       "1               0             0                 0                 0   \n",
       "2               0             0                 0                 0   \n",
       "\n",
       "   State_New York  State_North Carolina  State_Ohio  State_Oklahoma  \\\n",
       "0               0                     0           1               0   \n",
       "1               0                     0           1               0   \n",
       "2               0                     0           0               0   \n",
       "\n",
       "   State_Pennsylvania  State_South Carolina  State_Tennessee  State_Texas  \\\n",
       "0                   0                     0                0            0   \n",
       "1                   0                     0                0            0   \n",
       "2                   0                     0                0            0   \n",
       "\n",
       "   State_Utah  State_Virginia  State_Washington  State_Wisconsin  \n",
       "0           0               0                 0                0  \n",
       "1           0               0                 0                0  \n",
       "2           0               0                 0                0  "
      ]
     },
     "execution_count": 14,
     "metadata": {},
     "output_type": "execute_result"
    }
   ],
   "source": [
    "\n",
    "new_df.head(3)"
   ]
  },
  {
   "cell_type": "code",
   "execution_count": null,
   "id": "7f757523",
   "metadata": {},
   "outputs": [],
   "source": []
  },
  {
   "cell_type": "code",
   "execution_count": 15,
   "id": "6760e294",
   "metadata": {},
   "outputs": [
    {
     "data": {
      "text/html": [
       "<div>\n",
       "<style scoped>\n",
       "    .dataframe tbody tr th:only-of-type {\n",
       "        vertical-align: middle;\n",
       "    }\n",
       "\n",
       "    .dataframe tbody tr th {\n",
       "        vertical-align: top;\n",
       "    }\n",
       "\n",
       "    .dataframe thead th {\n",
       "        text-align: right;\n",
       "    }\n",
       "</style>\n",
       "<table border=\"1\" class=\"dataframe\">\n",
       "  <thead>\n",
       "    <tr style=\"text-align: right;\">\n",
       "      <th></th>\n",
       "      <th>Date</th>\n",
       "      <th>Dead</th>\n",
       "      <th>Injured</th>\n",
       "      <th>Total</th>\n",
       "      <th>Description</th>\n",
       "      <th>Year</th>\n",
       "      <th>Month</th>\n",
       "      <th>State_Arizona</th>\n",
       "      <th>State_Arkansas</th>\n",
       "      <th>State_California</th>\n",
       "      <th>State_Colorado</th>\n",
       "      <th>State_Connecticut</th>\n",
       "      <th>State_Delaware</th>\n",
       "      <th>State_District of Columbia</th>\n",
       "      <th>State_Florida</th>\n",
       "      <th>State_Georgia</th>\n",
       "      <th>State_Illinois</th>\n",
       "      <th>State_Indiana</th>\n",
       "      <th>State_Kansas</th>\n",
       "      <th>State_Kentucky</th>\n",
       "      <th>State_Louisiana</th>\n",
       "      <th>State_Maryland</th>\n",
       "      <th>State_Massachusetts</th>\n",
       "      <th>State_Michigan</th>\n",
       "      <th>State_Minnesota</th>\n",
       "      <th>State_Mississippi</th>\n",
       "      <th>State_Missouri</th>\n",
       "      <th>State_Nebraska</th>\n",
       "      <th>State_Nevada</th>\n",
       "      <th>State_New Jersey</th>\n",
       "      <th>State_New Mexico</th>\n",
       "      <th>State_New York</th>\n",
       "      <th>State_North Carolina</th>\n",
       "      <th>State_Ohio</th>\n",
       "      <th>State_Oklahoma</th>\n",
       "      <th>State_Pennsylvania</th>\n",
       "      <th>State_South Carolina</th>\n",
       "      <th>State_Tennessee</th>\n",
       "      <th>State_Texas</th>\n",
       "      <th>State_Utah</th>\n",
       "      <th>State_Virginia</th>\n",
       "      <th>State_Washington</th>\n",
       "      <th>State_Wisconsin</th>\n",
       "    </tr>\n",
       "  </thead>\n",
       "  <tbody>\n",
       "    <tr>\n",
       "      <th>0</th>\n",
       "      <td>31/12/2018</td>\n",
       "      <td>3</td>\n",
       "      <td>2</td>\n",
       "      <td>5</td>\n",
       "      <td>A dispute began at a rented Airbnb during a Ne...</td>\n",
       "      <td>2018</td>\n",
       "      <td>12</td>\n",
       "      <td>0</td>\n",
       "      <td>0</td>\n",
       "      <td>0</td>\n",
       "      <td>0</td>\n",
       "      <td>0</td>\n",
       "      <td>0</td>\n",
       "      <td>0</td>\n",
       "      <td>0</td>\n",
       "      <td>0</td>\n",
       "      <td>0</td>\n",
       "      <td>0</td>\n",
       "      <td>0</td>\n",
       "      <td>0</td>\n",
       "      <td>0</td>\n",
       "      <td>0</td>\n",
       "      <td>0</td>\n",
       "      <td>0</td>\n",
       "      <td>0</td>\n",
       "      <td>0</td>\n",
       "      <td>0</td>\n",
       "      <td>0</td>\n",
       "      <td>0</td>\n",
       "      <td>0</td>\n",
       "      <td>0</td>\n",
       "      <td>0</td>\n",
       "      <td>0</td>\n",
       "      <td>1</td>\n",
       "      <td>0</td>\n",
       "      <td>0</td>\n",
       "      <td>0</td>\n",
       "      <td>0</td>\n",
       "      <td>0</td>\n",
       "      <td>0</td>\n",
       "      <td>0</td>\n",
       "      <td>0</td>\n",
       "      <td>0</td>\n",
       "    </tr>\n",
       "    <tr>\n",
       "      <th>1</th>\n",
       "      <td>29/12/2018</td>\n",
       "      <td>1</td>\n",
       "      <td>3</td>\n",
       "      <td>4</td>\n",
       "      <td>One person was killed and three people were wo...</td>\n",
       "      <td>2018</td>\n",
       "      <td>12</td>\n",
       "      <td>0</td>\n",
       "      <td>0</td>\n",
       "      <td>0</td>\n",
       "      <td>0</td>\n",
       "      <td>0</td>\n",
       "      <td>0</td>\n",
       "      <td>0</td>\n",
       "      <td>0</td>\n",
       "      <td>0</td>\n",
       "      <td>0</td>\n",
       "      <td>0</td>\n",
       "      <td>0</td>\n",
       "      <td>0</td>\n",
       "      <td>0</td>\n",
       "      <td>0</td>\n",
       "      <td>0</td>\n",
       "      <td>0</td>\n",
       "      <td>0</td>\n",
       "      <td>0</td>\n",
       "      <td>0</td>\n",
       "      <td>0</td>\n",
       "      <td>0</td>\n",
       "      <td>0</td>\n",
       "      <td>0</td>\n",
       "      <td>0</td>\n",
       "      <td>0</td>\n",
       "      <td>1</td>\n",
       "      <td>0</td>\n",
       "      <td>0</td>\n",
       "      <td>0</td>\n",
       "      <td>0</td>\n",
       "      <td>0</td>\n",
       "      <td>0</td>\n",
       "      <td>0</td>\n",
       "      <td>0</td>\n",
       "      <td>0</td>\n",
       "    </tr>\n",
       "    <tr>\n",
       "      <th>2</th>\n",
       "      <td>28/12/2018</td>\n",
       "      <td>4</td>\n",
       "      <td>1</td>\n",
       "      <td>5</td>\n",
       "      <td>A gunman shot and killed his girlfriend, her t...</td>\n",
       "      <td>2018</td>\n",
       "      <td>12</td>\n",
       "      <td>0</td>\n",
       "      <td>0</td>\n",
       "      <td>0</td>\n",
       "      <td>0</td>\n",
       "      <td>0</td>\n",
       "      <td>0</td>\n",
       "      <td>0</td>\n",
       "      <td>0</td>\n",
       "      <td>0</td>\n",
       "      <td>0</td>\n",
       "      <td>0</td>\n",
       "      <td>0</td>\n",
       "      <td>0</td>\n",
       "      <td>0</td>\n",
       "      <td>0</td>\n",
       "      <td>0</td>\n",
       "      <td>0</td>\n",
       "      <td>0</td>\n",
       "      <td>0</td>\n",
       "      <td>1</td>\n",
       "      <td>0</td>\n",
       "      <td>0</td>\n",
       "      <td>0</td>\n",
       "      <td>0</td>\n",
       "      <td>0</td>\n",
       "      <td>0</td>\n",
       "      <td>0</td>\n",
       "      <td>0</td>\n",
       "      <td>0</td>\n",
       "      <td>0</td>\n",
       "      <td>0</td>\n",
       "      <td>0</td>\n",
       "      <td>0</td>\n",
       "      <td>0</td>\n",
       "      <td>0</td>\n",
       "      <td>0</td>\n",
       "    </tr>\n",
       "    <tr>\n",
       "      <th>3</th>\n",
       "      <td>24/12/2018</td>\n",
       "      <td>2</td>\n",
       "      <td>2</td>\n",
       "      <td>4</td>\n",
       "      <td>Three people were killed and two others were w...</td>\n",
       "      <td>2018</td>\n",
       "      <td>12</td>\n",
       "      <td>0</td>\n",
       "      <td>0</td>\n",
       "      <td>0</td>\n",
       "      <td>0</td>\n",
       "      <td>0</td>\n",
       "      <td>0</td>\n",
       "      <td>0</td>\n",
       "      <td>0</td>\n",
       "      <td>0</td>\n",
       "      <td>0</td>\n",
       "      <td>0</td>\n",
       "      <td>0</td>\n",
       "      <td>0</td>\n",
       "      <td>1</td>\n",
       "      <td>0</td>\n",
       "      <td>0</td>\n",
       "      <td>0</td>\n",
       "      <td>0</td>\n",
       "      <td>0</td>\n",
       "      <td>0</td>\n",
       "      <td>0</td>\n",
       "      <td>0</td>\n",
       "      <td>0</td>\n",
       "      <td>0</td>\n",
       "      <td>0</td>\n",
       "      <td>0</td>\n",
       "      <td>0</td>\n",
       "      <td>0</td>\n",
       "      <td>0</td>\n",
       "      <td>0</td>\n",
       "      <td>0</td>\n",
       "      <td>0</td>\n",
       "      <td>0</td>\n",
       "      <td>0</td>\n",
       "      <td>0</td>\n",
       "      <td>0</td>\n",
       "    </tr>\n",
       "    <tr>\n",
       "      <th>4</th>\n",
       "      <td>23/12/2018</td>\n",
       "      <td>0</td>\n",
       "      <td>7</td>\n",
       "      <td>7</td>\n",
       "      <td>Seven people were wounded during a shooting at...</td>\n",
       "      <td>2018</td>\n",
       "      <td>12</td>\n",
       "      <td>0</td>\n",
       "      <td>0</td>\n",
       "      <td>0</td>\n",
       "      <td>0</td>\n",
       "      <td>0</td>\n",
       "      <td>0</td>\n",
       "      <td>0</td>\n",
       "      <td>0</td>\n",
       "      <td>0</td>\n",
       "      <td>0</td>\n",
       "      <td>0</td>\n",
       "      <td>0</td>\n",
       "      <td>0</td>\n",
       "      <td>0</td>\n",
       "      <td>0</td>\n",
       "      <td>0</td>\n",
       "      <td>0</td>\n",
       "      <td>0</td>\n",
       "      <td>0</td>\n",
       "      <td>1</td>\n",
       "      <td>0</td>\n",
       "      <td>0</td>\n",
       "      <td>0</td>\n",
       "      <td>0</td>\n",
       "      <td>0</td>\n",
       "      <td>0</td>\n",
       "      <td>0</td>\n",
       "      <td>0</td>\n",
       "      <td>0</td>\n",
       "      <td>0</td>\n",
       "      <td>0</td>\n",
       "      <td>0</td>\n",
       "      <td>0</td>\n",
       "      <td>0</td>\n",
       "      <td>0</td>\n",
       "      <td>0</td>\n",
       "    </tr>\n",
       "  </tbody>\n",
       "</table>\n",
       "</div>"
      ],
      "text/plain": [
       "         Date  Dead  Injured  Total  \\\n",
       "0  31/12/2018     3        2      5   \n",
       "1  29/12/2018     1        3      4   \n",
       "2  28/12/2018     4        1      5   \n",
       "3  24/12/2018     2        2      4   \n",
       "4  23/12/2018     0        7      7   \n",
       "\n",
       "                                         Description  Year  Month  \\\n",
       "0  A dispute began at a rented Airbnb during a Ne...  2018     12   \n",
       "1  One person was killed and three people were wo...  2018     12   \n",
       "2  A gunman shot and killed his girlfriend, her t...  2018     12   \n",
       "3  Three people were killed and two others were w...  2018     12   \n",
       "4  Seven people were wounded during a shooting at...  2018     12   \n",
       "\n",
       "   State_Arizona  State_Arkansas  State_California  State_Colorado  \\\n",
       "0              0               0                 0               0   \n",
       "1              0               0                 0               0   \n",
       "2              0               0                 0               0   \n",
       "3              0               0                 0               0   \n",
       "4              0               0                 0               0   \n",
       "\n",
       "   State_Connecticut  State_Delaware  State_District of Columbia  \\\n",
       "0                  0               0                           0   \n",
       "1                  0               0                           0   \n",
       "2                  0               0                           0   \n",
       "3                  0               0                           0   \n",
       "4                  0               0                           0   \n",
       "\n",
       "   State_Florida  State_Georgia  State_Illinois  State_Indiana  State_Kansas  \\\n",
       "0              0              0               0              0             0   \n",
       "1              0              0               0              0             0   \n",
       "2              0              0               0              0             0   \n",
       "3              0              0               0              0             0   \n",
       "4              0              0               0              0             0   \n",
       "\n",
       "   State_Kentucky  State_Louisiana  State_Maryland  State_Massachusetts  \\\n",
       "0               0                0               0                    0   \n",
       "1               0                0               0                    0   \n",
       "2               0                0               0                    0   \n",
       "3               0                1               0                    0   \n",
       "4               0                0               0                    0   \n",
       "\n",
       "   State_Michigan  State_Minnesota  State_Mississippi  State_Missouri  \\\n",
       "0               0                0                  0               0   \n",
       "1               0                0                  0               0   \n",
       "2               0                0                  0               1   \n",
       "3               0                0                  0               0   \n",
       "4               0                0                  0               1   \n",
       "\n",
       "   State_Nebraska  State_Nevada  State_New Jersey  State_New Mexico  \\\n",
       "0               0             0                 0                 0   \n",
       "1               0             0                 0                 0   \n",
       "2               0             0                 0                 0   \n",
       "3               0             0                 0                 0   \n",
       "4               0             0                 0                 0   \n",
       "\n",
       "   State_New York  State_North Carolina  State_Ohio  State_Oklahoma  \\\n",
       "0               0                     0           1               0   \n",
       "1               0                     0           1               0   \n",
       "2               0                     0           0               0   \n",
       "3               0                     0           0               0   \n",
       "4               0                     0           0               0   \n",
       "\n",
       "   State_Pennsylvania  State_South Carolina  State_Tennessee  State_Texas  \\\n",
       "0                   0                     0                0            0   \n",
       "1                   0                     0                0            0   \n",
       "2                   0                     0                0            0   \n",
       "3                   0                     0                0            0   \n",
       "4                   0                     0                0            0   \n",
       "\n",
       "   State_Utah  State_Virginia  State_Washington  State_Wisconsin  \n",
       "0           0               0                 0                0  \n",
       "1           0               0                 0                0  \n",
       "2           0               0                 0                0  \n",
       "3           0               0                 0                0  \n",
       "4           0               0                 0                0  "
      ]
     },
     "execution_count": 15,
     "metadata": {},
     "output_type": "execute_result"
    }
   ],
   "source": [
    "# Showing the first 3 rows of the new and encoded data set\n",
    "new_df.head()"
   ]
  },
  {
   "cell_type": "code",
   "execution_count": null,
   "id": "40d2cde0",
   "metadata": {},
   "outputs": [],
   "source": []
  },
  {
   "cell_type": "code",
   "execution_count": 16,
   "id": "316db87d",
   "metadata": {},
   "outputs": [],
   "source": [
    "# Droping the Encoded State columns\n",
    "new_df.drop(columns= ['State_Arizona','State_Arkansas','State_California','State_Colorado','State_Connecticut','State_Delaware','State_District of Columbia','State_Florida','State_Georgia','State_Illinois','State_Indiana','State_Kansas','State_Kentucky','State_Louisiana','State_Maryland','State_Massachusetts','State_Michigan','State_Minnesota','State_Mississippi','State_Missouri','State_Nebraska','State_Nevada','State_New Jersey','State_New Mexico','State_New York','State_North Carolina','State_Ohio','State_Oklahoma','State_Pennsylvania','State_South Carolina','State_Tennessee','State_Texas','State_Utah','State_Virginia','State_Washington','State_Wisconsin'], inplace = True)"
   ]
  },
  {
   "cell_type": "code",
   "execution_count": null,
   "id": "e35ecf15",
   "metadata": {},
   "outputs": [],
   "source": []
  },
  {
   "cell_type": "code",
   "execution_count": 17,
   "id": "4096710d",
   "metadata": {},
   "outputs": [],
   "source": [
    "# Droping the Date and Description Columns\n",
    "new_df.drop(columns = ['Date', 'Description'], inplace = True)"
   ]
  },
  {
   "cell_type": "code",
   "execution_count": null,
   "id": "198cd942",
   "metadata": {},
   "outputs": [],
   "source": []
  },
  {
   "cell_type": "code",
   "execution_count": 18,
   "id": "1f608356",
   "metadata": {
    "scrolled": true
   },
   "outputs": [
    {
     "data": {
      "text/html": [
       "<div>\n",
       "<style scoped>\n",
       "    .dataframe tbody tr th:only-of-type {\n",
       "        vertical-align: middle;\n",
       "    }\n",
       "\n",
       "    .dataframe tbody tr th {\n",
       "        vertical-align: top;\n",
       "    }\n",
       "\n",
       "    .dataframe thead th {\n",
       "        text-align: right;\n",
       "    }\n",
       "</style>\n",
       "<table border=\"1\" class=\"dataframe\">\n",
       "  <thead>\n",
       "    <tr style=\"text-align: right;\">\n",
       "      <th></th>\n",
       "      <th>Dead</th>\n",
       "      <th>Injured</th>\n",
       "      <th>Total</th>\n",
       "      <th>Year</th>\n",
       "      <th>Month</th>\n",
       "    </tr>\n",
       "  </thead>\n",
       "  <tbody>\n",
       "    <tr>\n",
       "      <th>0</th>\n",
       "      <td>3</td>\n",
       "      <td>2</td>\n",
       "      <td>5</td>\n",
       "      <td>2018</td>\n",
       "      <td>12</td>\n",
       "    </tr>\n",
       "    <tr>\n",
       "      <th>1</th>\n",
       "      <td>1</td>\n",
       "      <td>3</td>\n",
       "      <td>4</td>\n",
       "      <td>2018</td>\n",
       "      <td>12</td>\n",
       "    </tr>\n",
       "    <tr>\n",
       "      <th>2</th>\n",
       "      <td>4</td>\n",
       "      <td>1</td>\n",
       "      <td>5</td>\n",
       "      <td>2018</td>\n",
       "      <td>12</td>\n",
       "    </tr>\n",
       "  </tbody>\n",
       "</table>\n",
       "</div>"
      ],
      "text/plain": [
       "   Dead  Injured  Total  Year  Month\n",
       "0     3        2      5  2018     12\n",
       "1     1        3      4  2018     12\n",
       "2     4        1      5  2018     12"
      ]
     },
     "execution_count": 18,
     "metadata": {},
     "output_type": "execute_result"
    }
   ],
   "source": [
    "new_df.head(3)"
   ]
  },
  {
   "cell_type": "code",
   "execution_count": null,
   "id": "ad2c047f",
   "metadata": {},
   "outputs": [],
   "source": []
  },
  {
   "cell_type": "code",
   "execution_count": 19,
   "id": "5cd293ae",
   "metadata": {},
   "outputs": [
    {
     "data": {
      "text/plain": [
       "<AxesSubplot:>"
      ]
     },
     "execution_count": 19,
     "metadata": {},
     "output_type": "execute_result"
    },
    {
     "data": {
      "image/png": "[encoded data removed]",
      "text/plain": [
       "<Figure size 432x288 with 2 Axes>"
      ]
     },
     "metadata": {
      "needs_background": "light"
     },
     "output_type": "display_data"
    }
   ],
   "source": [
    "# Plotting correlation of relevant variables.\n",
    "sns.heatmap(new_df.corr().drop(columns = 'Year'), annot = True, cmap = 'Spectral')"
   ]
  },
  {
   "cell_type": "code",
   "execution_count": null,
   "id": "00810792",
   "metadata": {},
   "outputs": [],
   "source": []
  },
  {
   "cell_type": "code",
   "execution_count": 20,
   "id": "f23ec135",
   "metadata": {},
   "outputs": [],
   "source": [
    "# Segmenting the independent and dependent variables\n",
    "x = new_df.drop('Total', axis = True)\n",
    "y = new_df['Total']"
   ]
  },
  {
   "cell_type": "code",
   "execution_count": 21,
   "id": "cb804dea",
   "metadata": {},
   "outputs": [],
   "source": [
    "# Training model\n",
    "from sklearn.model_selection import train_test_split\n",
    "x_train, x_test, y_train, y_test = train_test_split(x, y, test_size = 0.2, random_state = 42)"
   ]
  },
  {
   "cell_type": "code",
   "execution_count": null,
   "id": "fc6efa9e",
   "metadata": {},
   "outputs": [],
   "source": []
  },
  {
   "cell_type": "code",
   "execution_count": 22,
   "id": "28c35fd5",
   "metadata": {},
   "outputs": [
    {
     "data": {
      "text/plain": [
       "LinearRegression()"
      ]
     },
     "execution_count": 22,
     "metadata": {},
     "output_type": "execute_result"
    }
   ],
   "source": [
    "# Running the Linear Regression model\n",
    "from sklearn.linear_model import LinearRegression\n",
    "reg = LinearRegression()\n",
    "reg.fit(x_train, y_train)"
   ]
  },
  {
   "cell_type": "code",
   "execution_count": null,
   "id": "be9e6e52",
   "metadata": {},
   "outputs": [],
   "source": []
  },
  {
   "cell_type": "code",
   "execution_count": 24,
   "id": "2f411f2b",
   "metadata": {},
   "outputs": [],
   "source": [
    "y_pred = reg.predict(x_test)"
   ]
  },
  {
   "cell_type": "code",
   "execution_count": 25,
   "id": "84cb9ab7",
   "metadata": {},
   "outputs": [
    {
     "data": {
      "text/plain": [
       "<matplotlib.collections.PathCollection at 0x15e2d608340>"
      ]
     },
     "execution_count": 25,
     "metadata": {},
     "output_type": "execute_result"
    },
    {
     "data": {
      "image/png": "[encoded data removed]",
      "text/plain": [
       "<Figure size 432x288 with 1 Axes>"
      ]
     },
     "metadata": {
      "needs_background": "light"
     },
     "output_type": "display_data"
    }
   ],
   "source": [
    "plt.scatter(y_test, y_pred)"
   ]
  },
  {
   "cell_type": "code",
   "execution_count": null,
   "id": "72acc302",
   "metadata": {},
   "outputs": [],
   "source": []
  },
  {
   "cell_type": "code",
   "execution_count": null,
   "id": "9a1b53af",
   "metadata": {},
   "outputs": [],
   "source": []
  },
  {
   "cell_type": "code",
   "execution_count": 26,
   "id": "8247f699",
   "metadata": {},
   "outputs": [
    {
     "data": {
      "text/plain": [
       "array([ 1.00000000e+00,  1.00000000e+00,  0.00000000e+00, -1.72761807e-16])"
      ]
     },
     "execution_count": 26,
     "metadata": {},
     "output_type": "execute_result"
    }
   ],
   "source": [
    "# The regression coeficient\n",
    "reg.coef_"
   ]
  },
  {
   "cell_type": "code",
   "execution_count": null,
   "id": "2c07c2f7",
   "metadata": {},
   "outputs": [],
   "source": []
  },
  {
   "cell_type": "code",
   "execution_count": 27,
   "id": "8c20b28c",
   "metadata": {},
   "outputs": [
    {
     "data": {
      "text/plain": [
       "1.7763568394002505e-15"
      ]
     },
     "execution_count": 27,
     "metadata": {},
     "output_type": "execute_result"
    }
   ],
   "source": [
    "# Regression intercept\n",
    "reg.intercept_"
   ]
  },
  {
   "cell_type": "code",
   "execution_count": null,
   "id": "e401c87b",
   "metadata": {},
   "outputs": [],
   "source": []
  },
  {
   "cell_type": "code",
   "execution_count": 28,
   "id": "524c1063",
   "metadata": {},
   "outputs": [
    {
     "data": {
      "text/plain": [
       "0.9930851063829788"
      ]
     },
     "execution_count": 28,
     "metadata": {},
     "output_type": "execute_result"
    }
   ],
   "source": [
    "# Testing the R2 score\n",
    "from sklearn.metrics import r2_score\n",
    "r2_score(y_test, y_pred)"
   ]
  },
  {
   "cell_type": "code",
   "execution_count": 64,
   "id": "659cefc6",
   "metadata": {},
   "outputs": [
    {
     "data": {
      "text/plain": [
       "array([ 4.,  7.,  4.,  4.,  4.,  4.,  7.,  6.,  7.,  4.,  4.,  4.,  4.,\n",
       "        5.,  5.,  4.,  7.,  6.,  4.,  4.,  6.,  5.,  4.,  4.,  6.,  4.,\n",
       "        4.,  6.,  4.,  6.,  4.,  4.,  4.,  5.,  5.,  4.,  5.,  6.,  5.,\n",
       "        5.,  5.,  4.,  4.,  6.,  7.,  4., 14.,  4.,  7.,  4.,  5.,  5.,\n",
       "        4.,  5.,  5.,  5.,  4.,  4.,  4.,  5.,  5.,  5.,  4.,  4.,  4.])"
      ]
     },
     "execution_count": 64,
     "metadata": {},
     "output_type": "execute_result"
    }
   ],
   "source": [
    "y_pred"
   ]
  },
  {
   "cell_type": "code",
   "execution_count": 63,
   "id": "4f919f24",
   "metadata": {},
   "outputs": [
    {
     "data": {
      "text/plain": [
       "173    4\n",
       "132    7\n",
       "197    4\n",
       "9      4\n",
       "104    4\n",
       "      ..\n",
       "229    5\n",
       "60     5\n",
       "244    4\n",
       "261    4\n",
       "118    4\n",
       "Name: Total, Length: 65, dtype: int64"
      ]
     },
     "execution_count": 63,
     "metadata": {},
     "output_type": "execute_result"
    }
   ],
   "source": [
    "y_test"
   ]
  },
  {
   "cell_type": "code",
   "execution_count": null,
   "id": "b6e74df0",
   "metadata": {},
   "outputs": [],
   "source": []
  },
  {
   "cell_type": "code",
   "execution_count": null,
   "id": "7c0a0680",
   "metadata": {},
   "outputs": [],
   "source": []
  },
  {
   "cell_type": "code",
   "execution_count": 81,
   "id": "cd241c49",
   "metadata": {
    "scrolled": true
   },
   "outputs": [
    {
     "name": "stdout",
     "output_type": "stream",
     "text": [
      "Dead: 23\n",
      "Injured: 23\n",
      "Year: 2021\n",
      "Month: 6\n",
      "[46.]\n"
     ]
    }
   ],
   "source": [
    "## Making the Predictions\n",
    "Dead = int(input(\"Dead: \"))\n",
    "Injured = int(input(\"Injured: \"))\n",
    "Year = int(input(\"Year: \"))\n",
    "Month = int(input(\"Month: \"))\n",
    "\n",
    "output = reg.predict([[Dead,Injured,Year,Month]])\n",
    "print(output)"
   ]
  },
  {
   "cell_type": "code",
   "execution_count": null,
   "id": "6694f646",
   "metadata": {},
   "outputs": [],
   "source": []
  },
  {
   "cell_type": "code",
   "execution_count": 81,
   "id": "c763a15a",
   "metadata": {},
   "outputs": [],
   "source": [
    "from pandas import DataFrame"
   ]
  },
  {
   "cell_type": "code",
   "execution_count": 83,
   "id": "b89b11cd",
   "metadata": {},
   "outputs": [],
   "source": [
    "Death_prediction = {'Dead': [20,16,10,50,44,90,45,90,34,27,16,74,38,16,22],\n",
    "                   'Injured': [12,34,65,23,78,34,12,20,68,9,45,67,12,31,23],\n",
    "                   'Year': [2010,2011,2012,2013,2018,2019,2017,2018,2022,2021,2020,2013,2006,2004,2024],\n",
    "                   'Month': [10,9,4,5,7,8,12,11,3,7,9,6,8,4,7]}"
   ]
  },
  {
   "cell_type": "code",
   "execution_count": 84,
   "id": "48cfd8e2",
   "metadata": {},
   "outputs": [
    {
     "data": {
      "text/html": [
       "<div>\n",
       "<style scoped>\n",
       "    .dataframe tbody tr th:only-of-type {\n",
       "        vertical-align: middle;\n",
       "    }\n",
       "\n",
       "    .dataframe tbody tr th {\n",
       "        vertical-align: top;\n",
       "    }\n",
       "\n",
       "    .dataframe thead th {\n",
       "        text-align: right;\n",
       "    }\n",
       "</style>\n",
       "<table border=\"1\" class=\"dataframe\">\n",
       "  <thead>\n",
       "    <tr style=\"text-align: right;\">\n",
       "      <th></th>\n",
       "      <th>Dead</th>\n",
       "      <th>Injured</th>\n",
       "      <th>Year</th>\n",
       "      <th>Month</th>\n",
       "    </tr>\n",
       "  </thead>\n",
       "  <tbody>\n",
       "    <tr>\n",
       "      <th>0</th>\n",
       "      <td>20</td>\n",
       "      <td>12</td>\n",
       "      <td>2010</td>\n",
       "      <td>10</td>\n",
       "    </tr>\n",
       "    <tr>\n",
       "      <th>1</th>\n",
       "      <td>16</td>\n",
       "      <td>34</td>\n",
       "      <td>2011</td>\n",
       "      <td>9</td>\n",
       "    </tr>\n",
       "    <tr>\n",
       "      <th>2</th>\n",
       "      <td>10</td>\n",
       "      <td>65</td>\n",
       "      <td>2012</td>\n",
       "      <td>4</td>\n",
       "    </tr>\n",
       "    <tr>\n",
       "      <th>3</th>\n",
       "      <td>50</td>\n",
       "      <td>23</td>\n",
       "      <td>2013</td>\n",
       "      <td>5</td>\n",
       "    </tr>\n",
       "    <tr>\n",
       "      <th>4</th>\n",
       "      <td>44</td>\n",
       "      <td>78</td>\n",
       "      <td>2018</td>\n",
       "      <td>7</td>\n",
       "    </tr>\n",
       "    <tr>\n",
       "      <th>5</th>\n",
       "      <td>90</td>\n",
       "      <td>34</td>\n",
       "      <td>2019</td>\n",
       "      <td>8</td>\n",
       "    </tr>\n",
       "    <tr>\n",
       "      <th>6</th>\n",
       "      <td>45</td>\n",
       "      <td>12</td>\n",
       "      <td>2017</td>\n",
       "      <td>12</td>\n",
       "    </tr>\n",
       "    <tr>\n",
       "      <th>7</th>\n",
       "      <td>90</td>\n",
       "      <td>20</td>\n",
       "      <td>2018</td>\n",
       "      <td>11</td>\n",
       "    </tr>\n",
       "    <tr>\n",
       "      <th>8</th>\n",
       "      <td>34</td>\n",
       "      <td>68</td>\n",
       "      <td>2022</td>\n",
       "      <td>3</td>\n",
       "    </tr>\n",
       "    <tr>\n",
       "      <th>9</th>\n",
       "      <td>27</td>\n",
       "      <td>9</td>\n",
       "      <td>2021</td>\n",
       "      <td>7</td>\n",
       "    </tr>\n",
       "    <tr>\n",
       "      <th>10</th>\n",
       "      <td>16</td>\n",
       "      <td>45</td>\n",
       "      <td>2020</td>\n",
       "      <td>9</td>\n",
       "    </tr>\n",
       "    <tr>\n",
       "      <th>11</th>\n",
       "      <td>74</td>\n",
       "      <td>67</td>\n",
       "      <td>2013</td>\n",
       "      <td>6</td>\n",
       "    </tr>\n",
       "    <tr>\n",
       "      <th>12</th>\n",
       "      <td>38</td>\n",
       "      <td>12</td>\n",
       "      <td>2006</td>\n",
       "      <td>8</td>\n",
       "    </tr>\n",
       "    <tr>\n",
       "      <th>13</th>\n",
       "      <td>16</td>\n",
       "      <td>31</td>\n",
       "      <td>2004</td>\n",
       "      <td>4</td>\n",
       "    </tr>\n",
       "    <tr>\n",
       "      <th>14</th>\n",
       "      <td>22</td>\n",
       "      <td>23</td>\n",
       "      <td>2024</td>\n",
       "      <td>7</td>\n",
       "    </tr>\n",
       "  </tbody>\n",
       "</table>\n",
       "</div>"
      ],
      "text/plain": [
       "    Dead  Injured  Year  Month\n",
       "0     20       12  2010     10\n",
       "1     16       34  2011      9\n",
       "2     10       65  2012      4\n",
       "3     50       23  2013      5\n",
       "4     44       78  2018      7\n",
       "5     90       34  2019      8\n",
       "6     45       12  2017     12\n",
       "7     90       20  2018     11\n",
       "8     34       68  2022      3\n",
       "9     27        9  2021      7\n",
       "10    16       45  2020      9\n",
       "11    74       67  2013      6\n",
       "12    38       12  2006      8\n",
       "13    16       31  2004      4\n",
       "14    22       23  2024      7"
      ]
     },
     "execution_count": 84,
     "metadata": {},
     "output_type": "execute_result"
    }
   ],
   "source": [
    "ddf = DataFrame(Death_prediction, columns = ['Dead', 'Injured', 'Year', 'Month'])\n",
    "ddf"
   ]
  },
  {
   "cell_type": "code",
   "execution_count": null,
   "id": "30f52ef0",
   "metadata": {},
   "outputs": [],
   "source": []
  },
  {
   "cell_type": "code",
   "execution_count": 85,
   "id": "b71bc47d",
   "metadata": {},
   "outputs": [
    {
     "data": {
      "text/plain": [
       "array([ 32.,  50.,  75.,  73., 122., 124.,  57., 110., 102.,  36.,  61.,\n",
       "       141.,  50.,  47.,  45.])"
      ]
     },
     "execution_count": 85,
     "metadata": {},
     "output_type": "execute_result"
    }
   ],
   "source": [
    "y_pred = reg.predict(ddf)\n",
    "y_pred"
   ]
  },
  {
   "cell_type": "code",
   "execution_count": null,
   "id": "fc0d9a7b",
   "metadata": {},
   "outputs": [],
   "source": []
  },
  {
   "cell_type": "code",
   "execution_count": 86,
   "id": "fc69f520",
   "metadata": {},
   "outputs": [
    {
     "data": {
      "text/html": [
       "<div>\n",
       "<style scoped>\n",
       "    .dataframe tbody tr th:only-of-type {\n",
       "        vertical-align: middle;\n",
       "    }\n",
       "\n",
       "    .dataframe tbody tr th {\n",
       "        vertical-align: top;\n",
       "    }\n",
       "\n",
       "    .dataframe thead th {\n",
       "        text-align: right;\n",
       "    }\n",
       "</style>\n",
       "<table border=\"1\" class=\"dataframe\">\n",
       "  <thead>\n",
       "    <tr style=\"text-align: right;\">\n",
       "      <th></th>\n",
       "      <th>Dead</th>\n",
       "      <th>Injured</th>\n",
       "      <th>Year</th>\n",
       "      <th>Month</th>\n",
       "      <th>Predicted Casualty</th>\n",
       "    </tr>\n",
       "  </thead>\n",
       "  <tbody>\n",
       "    <tr>\n",
       "      <th>0</th>\n",
       "      <td>20</td>\n",
       "      <td>12</td>\n",
       "      <td>2010</td>\n",
       "      <td>10</td>\n",
       "      <td>32.0</td>\n",
       "    </tr>\n",
       "    <tr>\n",
       "      <th>1</th>\n",
       "      <td>16</td>\n",
       "      <td>34</td>\n",
       "      <td>2011</td>\n",
       "      <td>9</td>\n",
       "      <td>50.0</td>\n",
       "    </tr>\n",
       "    <tr>\n",
       "      <th>2</th>\n",
       "      <td>10</td>\n",
       "      <td>65</td>\n",
       "      <td>2012</td>\n",
       "      <td>4</td>\n",
       "      <td>75.0</td>\n",
       "    </tr>\n",
       "    <tr>\n",
       "      <th>3</th>\n",
       "      <td>50</td>\n",
       "      <td>23</td>\n",
       "      <td>2013</td>\n",
       "      <td>5</td>\n",
       "      <td>73.0</td>\n",
       "    </tr>\n",
       "    <tr>\n",
       "      <th>4</th>\n",
       "      <td>44</td>\n",
       "      <td>78</td>\n",
       "      <td>2018</td>\n",
       "      <td>7</td>\n",
       "      <td>122.0</td>\n",
       "    </tr>\n",
       "    <tr>\n",
       "      <th>5</th>\n",
       "      <td>90</td>\n",
       "      <td>34</td>\n",
       "      <td>2019</td>\n",
       "      <td>8</td>\n",
       "      <td>124.0</td>\n",
       "    </tr>\n",
       "    <tr>\n",
       "      <th>6</th>\n",
       "      <td>45</td>\n",
       "      <td>12</td>\n",
       "      <td>2017</td>\n",
       "      <td>12</td>\n",
       "      <td>57.0</td>\n",
       "    </tr>\n",
       "    <tr>\n",
       "      <th>7</th>\n",
       "      <td>90</td>\n",
       "      <td>20</td>\n",
       "      <td>2018</td>\n",
       "      <td>11</td>\n",
       "      <td>110.0</td>\n",
       "    </tr>\n",
       "    <tr>\n",
       "      <th>8</th>\n",
       "      <td>34</td>\n",
       "      <td>68</td>\n",
       "      <td>2022</td>\n",
       "      <td>3</td>\n",
       "      <td>102.0</td>\n",
       "    </tr>\n",
       "    <tr>\n",
       "      <th>9</th>\n",
       "      <td>27</td>\n",
       "      <td>9</td>\n",
       "      <td>2021</td>\n",
       "      <td>7</td>\n",
       "      <td>36.0</td>\n",
       "    </tr>\n",
       "    <tr>\n",
       "      <th>10</th>\n",
       "      <td>16</td>\n",
       "      <td>45</td>\n",
       "      <td>2020</td>\n",
       "      <td>9</td>\n",
       "      <td>61.0</td>\n",
       "    </tr>\n",
       "    <tr>\n",
       "      <th>11</th>\n",
       "      <td>74</td>\n",
       "      <td>67</td>\n",
       "      <td>2013</td>\n",
       "      <td>6</td>\n",
       "      <td>141.0</td>\n",
       "    </tr>\n",
       "    <tr>\n",
       "      <th>12</th>\n",
       "      <td>38</td>\n",
       "      <td>12</td>\n",
       "      <td>2006</td>\n",
       "      <td>8</td>\n",
       "      <td>50.0</td>\n",
       "    </tr>\n",
       "    <tr>\n",
       "      <th>13</th>\n",
       "      <td>16</td>\n",
       "      <td>31</td>\n",
       "      <td>2004</td>\n",
       "      <td>4</td>\n",
       "      <td>47.0</td>\n",
       "    </tr>\n",
       "    <tr>\n",
       "      <th>14</th>\n",
       "      <td>22</td>\n",
       "      <td>23</td>\n",
       "      <td>2024</td>\n",
       "      <td>7</td>\n",
       "      <td>45.0</td>\n",
       "    </tr>\n",
       "  </tbody>\n",
       "</table>\n",
       "</div>"
      ],
      "text/plain": [
       "    Dead  Injured  Year  Month  Predicted Casualty\n",
       "0     20       12  2010     10                32.0\n",
       "1     16       34  2011      9                50.0\n",
       "2     10       65  2012      4                75.0\n",
       "3     50       23  2013      5                73.0\n",
       "4     44       78  2018      7               122.0\n",
       "5     90       34  2019      8               124.0\n",
       "6     45       12  2017     12                57.0\n",
       "7     90       20  2018     11               110.0\n",
       "8     34       68  2022      3               102.0\n",
       "9     27        9  2021      7                36.0\n",
       "10    16       45  2020      9                61.0\n",
       "11    74       67  2013      6               141.0\n",
       "12    38       12  2006      8                50.0\n",
       "13    16       31  2004      4                47.0\n",
       "14    22       23  2024      7                45.0"
      ]
     },
     "execution_count": 86,
     "metadata": {},
     "output_type": "execute_result"
    }
   ],
   "source": [
    "ddf['Predicted Casualty'] = y_pred\n",
    "ddf"
   ]
  },
  {
   "cell_type": "code",
   "execution_count": null,
   "id": "e76b5a26",
   "metadata": {},
   "outputs": [],
   "source": []
  },
  {
   "cell_type": "code",
   "execution_count": 87,
   "id": "53e9f069",
   "metadata": {},
   "outputs": [],
   "source": [
    "ddf.to_csv('US_Shooting_Predicted_Deaths.csv')"
   ]
  },
  {
   "cell_type": "code",
   "execution_count": null,
   "id": "3c1159c6",
   "metadata": {},
   "outputs": [],
   "source": []
  },
  {
   "cell_type": "code",
   "execution_count": 29,
   "id": "02554fb7",
   "metadata": {},
   "outputs": [
    {
     "data": {
      "text/html": [
       "<div>\n",
       "<style scoped>\n",
       "    .dataframe tbody tr th:only-of-type {\n",
       "        vertical-align: middle;\n",
       "    }\n",
       "\n",
       "    .dataframe tbody tr th {\n",
       "        vertical-align: top;\n",
       "    }\n",
       "\n",
       "    .dataframe thead th {\n",
       "        text-align: right;\n",
       "    }\n",
       "</style>\n",
       "<table border=\"1\" class=\"dataframe\">\n",
       "  <thead>\n",
       "    <tr style=\"text-align: right;\">\n",
       "      <th></th>\n",
       "      <th>Date</th>\n",
       "      <th>State</th>\n",
       "      <th>Dead</th>\n",
       "      <th>Injured</th>\n",
       "      <th>Total</th>\n",
       "      <th>Description</th>\n",
       "      <th>Year</th>\n",
       "      <th>Month</th>\n",
       "    </tr>\n",
       "  </thead>\n",
       "  <tbody>\n",
       "    <tr>\n",
       "      <th>0</th>\n",
       "      <td>31/12/2018</td>\n",
       "      <td>Ohio</td>\n",
       "      <td>3</td>\n",
       "      <td>2</td>\n",
       "      <td>5</td>\n",
       "      <td>A dispute began at a rented Airbnb during a Ne...</td>\n",
       "      <td>2018</td>\n",
       "      <td>12</td>\n",
       "    </tr>\n",
       "    <tr>\n",
       "      <th>1</th>\n",
       "      <td>29/12/2018</td>\n",
       "      <td>Ohio</td>\n",
       "      <td>1</td>\n",
       "      <td>3</td>\n",
       "      <td>4</td>\n",
       "      <td>One person was killed and three people were wo...</td>\n",
       "      <td>2018</td>\n",
       "      <td>12</td>\n",
       "    </tr>\n",
       "    <tr>\n",
       "      <th>2</th>\n",
       "      <td>28/12/2018</td>\n",
       "      <td>Missouri</td>\n",
       "      <td>4</td>\n",
       "      <td>1</td>\n",
       "      <td>5</td>\n",
       "      <td>A gunman shot and killed his girlfriend, her t...</td>\n",
       "      <td>2018</td>\n",
       "      <td>12</td>\n",
       "    </tr>\n",
       "    <tr>\n",
       "      <th>3</th>\n",
       "      <td>24/12/2018</td>\n",
       "      <td>Louisiana</td>\n",
       "      <td>2</td>\n",
       "      <td>2</td>\n",
       "      <td>4</td>\n",
       "      <td>Three people were killed and two others were w...</td>\n",
       "      <td>2018</td>\n",
       "      <td>12</td>\n",
       "    </tr>\n",
       "    <tr>\n",
       "      <th>4</th>\n",
       "      <td>23/12/2018</td>\n",
       "      <td>Missouri</td>\n",
       "      <td>0</td>\n",
       "      <td>7</td>\n",
       "      <td>7</td>\n",
       "      <td>Seven people were wounded during a shooting at...</td>\n",
       "      <td>2018</td>\n",
       "      <td>12</td>\n",
       "    </tr>\n",
       "    <tr>\n",
       "      <th>...</th>\n",
       "      <td>...</td>\n",
       "      <td>...</td>\n",
       "      <td>...</td>\n",
       "      <td>...</td>\n",
       "      <td>...</td>\n",
       "      <td>...</td>\n",
       "      <td>...</td>\n",
       "      <td>...</td>\n",
       "    </tr>\n",
       "    <tr>\n",
       "      <th>317</th>\n",
       "      <td>07/01/2018</td>\n",
       "      <td>Alabama</td>\n",
       "      <td>1</td>\n",
       "      <td>5</td>\n",
       "      <td>6</td>\n",
       "      <td>A shooting on US Highway 29 led to the shootin...</td>\n",
       "      <td>2018</td>\n",
       "      <td>7</td>\n",
       "    </tr>\n",
       "    <tr>\n",
       "      <th>318</th>\n",
       "      <td>07/01/2018</td>\n",
       "      <td>Florida</td>\n",
       "      <td>0</td>\n",
       "      <td>4</td>\n",
       "      <td>4</td>\n",
       "      <td>Four people were wounded while leaving a priva...</td>\n",
       "      <td>2018</td>\n",
       "      <td>7</td>\n",
       "    </tr>\n",
       "    <tr>\n",
       "      <th>319</th>\n",
       "      <td>05/01/2018</td>\n",
       "      <td>Mississippi</td>\n",
       "      <td>0</td>\n",
       "      <td>6</td>\n",
       "      <td>6</td>\n",
       "      <td>Six people were wounded in a drive-by shooting...</td>\n",
       "      <td>2018</td>\n",
       "      <td>5</td>\n",
       "    </tr>\n",
       "    <tr>\n",
       "      <th>320</th>\n",
       "      <td>04/01/2018</td>\n",
       "      <td>Arkansas</td>\n",
       "      <td>1</td>\n",
       "      <td>3</td>\n",
       "      <td>4</td>\n",
       "      <td>A 33-year-old was killed and three others woun...</td>\n",
       "      <td>2018</td>\n",
       "      <td>4</td>\n",
       "    </tr>\n",
       "    <tr>\n",
       "      <th>321</th>\n",
       "      <td>01/01/2018</td>\n",
       "      <td>Alabama</td>\n",
       "      <td>1</td>\n",
       "      <td>3</td>\n",
       "      <td>4</td>\n",
       "      <td>A 21-year-old was killed and three others were...</td>\n",
       "      <td>2018</td>\n",
       "      <td>1</td>\n",
       "    </tr>\n",
       "  </tbody>\n",
       "</table>\n",
       "<p>322 rows × 8 columns</p>\n",
       "</div>"
      ],
      "text/plain": [
       "           Date        State  Dead  Injured  Total  \\\n",
       "0    31/12/2018         Ohio     3        2      5   \n",
       "1    29/12/2018         Ohio     1        3      4   \n",
       "2    28/12/2018     Missouri     4        1      5   \n",
       "3    24/12/2018    Louisiana     2        2      4   \n",
       "4    23/12/2018     Missouri     0        7      7   \n",
       "..          ...          ...   ...      ...    ...   \n",
       "317  07/01/2018      Alabama     1        5      6   \n",
       "318  07/01/2018      Florida     0        4      4   \n",
       "319  05/01/2018  Mississippi     0        6      6   \n",
       "320  04/01/2018     Arkansas     1        3      4   \n",
       "321  01/01/2018      Alabama     1        3      4   \n",
       "\n",
       "                                           Description  Year  Month  \n",
       "0    A dispute began at a rented Airbnb during a Ne...  2018     12  \n",
       "1    One person was killed and three people were wo...  2018     12  \n",
       "2    A gunman shot and killed his girlfriend, her t...  2018     12  \n",
       "3    Three people were killed and two others were w...  2018     12  \n",
       "4    Seven people were wounded during a shooting at...  2018     12  \n",
       "..                                                 ...   ...    ...  \n",
       "317  A shooting on US Highway 29 led to the shootin...  2018      7  \n",
       "318  Four people were wounded while leaving a priva...  2018      7  \n",
       "319  Six people were wounded in a drive-by shooting...  2018      5  \n",
       "320  A 33-year-old was killed and three others woun...  2018      4  \n",
       "321  A 21-year-old was killed and three others were...  2018      1  \n",
       "\n",
       "[322 rows x 8 columns]"
      ]
     },
     "execution_count": 29,
     "metadata": {},
     "output_type": "execute_result"
    }
   ],
   "source": [
    "df"
   ]
  },
  {
   "cell_type": "code",
   "execution_count": null,
   "id": "72a2da6a",
   "metadata": {},
   "outputs": [],
   "source": []
  },
  {
   "cell_type": "code",
   "execution_count": null,
   "id": "22f0d1e4",
   "metadata": {},
   "outputs": [],
   "source": [
    "# The next Exploratory Data Analysis relies on another but complete dataset on Mass shooting in the USA."
   ]
  },
  {
   "cell_type": "code",
   "execution_count": 30,
   "id": "0e4d13f4",
   "metadata": {},
   "outputs": [],
   "source": [
    "df2 = pd.read_excel('Mother Jones - Mass Shootings Database, 1982 - 2019.xlsx')"
   ]
  },
  {
   "cell_type": "code",
   "execution_count": 31,
   "id": "075ee395",
   "metadata": {},
   "outputs": [
    {
     "data": {
      "text/html": [
       "<div>\n",
       "<style scoped>\n",
       "    .dataframe tbody tr th:only-of-type {\n",
       "        vertical-align: middle;\n",
       "    }\n",
       "\n",
       "    .dataframe tbody tr th {\n",
       "        vertical-align: top;\n",
       "    }\n",
       "\n",
       "    .dataframe thead th {\n",
       "        text-align: right;\n",
       "    }\n",
       "</style>\n",
       "<table border=\"1\" class=\"dataframe\">\n",
       "  <thead>\n",
       "    <tr style=\"text-align: right;\">\n",
       "      <th></th>\n",
       "      <th>case</th>\n",
       "      <th>location</th>\n",
       "      <th>date</th>\n",
       "      <th>summary</th>\n",
       "      <th>fatalities</th>\n",
       "      <th>injured</th>\n",
       "      <th>total_victims</th>\n",
       "      <th>location.1</th>\n",
       "      <th>age_of_shooter</th>\n",
       "      <th>prior_signs_mental_health_issues</th>\n",
       "      <th>mental_health_details</th>\n",
       "      <th>weapons_obtained_legally</th>\n",
       "      <th>where_obtained</th>\n",
       "      <th>weapon_type</th>\n",
       "      <th>weapon_details</th>\n",
       "      <th>race</th>\n",
       "      <th>gender</th>\n",
       "      <th>sources</th>\n",
       "      <th>mental_health_sources</th>\n",
       "      <th>sources_additional_age</th>\n",
       "      <th>latitude</th>\n",
       "      <th>longitude</th>\n",
       "      <th>type</th>\n",
       "      <th>year</th>\n",
       "    </tr>\n",
       "  </thead>\n",
       "  <tbody>\n",
       "    <tr>\n",
       "      <th>0</th>\n",
       "      <td>Sacramento County church shooting</td>\n",
       "      <td>Sacramento, California</td>\n",
       "      <td>2022-02-28</td>\n",
       "      <td>\"A man believed to be meeting his three childr...</td>\n",
       "      <td>4</td>\n",
       "      <td>0</td>\n",
       "      <td>4</td>\n",
       "      <td>Religious</td>\n",
       "      <td>-</td>\n",
       "      <td>-</td>\n",
       "      <td>-</td>\n",
       "      <td>-</td>\n",
       "      <td>-</td>\n",
       "      <td>-</td>\n",
       "      <td>-</td>\n",
       "      <td>-</td>\n",
       "      <td>M</td>\n",
       "      <td>https://www.nytimes.com/2022/02/28/us/church-s...</td>\n",
       "      <td>-</td>\n",
       "      <td>-</td>\n",
       "      <td>38.601110</td>\n",
       "      <td>-121.418966</td>\n",
       "      <td>Mass</td>\n",
       "      <td>2022</td>\n",
       "    </tr>\n",
       "    <tr>\n",
       "      <th>1</th>\n",
       "      <td>Oxford High School shooting</td>\n",
       "      <td>Oxford, Michigan</td>\n",
       "      <td>2021-11-30</td>\n",
       "      <td>Ethan Crumbley, a 15-year-old student at Oxfor...</td>\n",
       "      <td>4</td>\n",
       "      <td>7</td>\n",
       "      <td>11</td>\n",
       "      <td>School</td>\n",
       "      <td>15</td>\n",
       "      <td>-</td>\n",
       "      <td>-</td>\n",
       "      <td>-</td>\n",
       "      <td>-</td>\n",
       "      <td>semiautomatic handgun</td>\n",
       "      <td>Sig Sauer 9mm pistol</td>\n",
       "      <td>-</td>\n",
       "      <td>M</td>\n",
       "      <td>https://www.washingtonpost.com/nation/2021/11/...</td>\n",
       "      <td>-</td>\n",
       "      <td>-</td>\n",
       "      <td>42.844108</td>\n",
       "      <td>-83.259928</td>\n",
       "      <td>Mass</td>\n",
       "      <td>2021</td>\n",
       "    </tr>\n",
       "    <tr>\n",
       "      <th>2</th>\n",
       "      <td>San Jose VTA shooting</td>\n",
       "      <td>San Jose, California</td>\n",
       "      <td>2021-05-26</td>\n",
       "      <td>Samuel Cassidy, 57, a Valley Transportation Au...</td>\n",
       "      <td>9</td>\n",
       "      <td>0</td>\n",
       "      <td>9</td>\n",
       "      <td>Workplace</td>\n",
       "      <td>57</td>\n",
       "      <td>yes</td>\n",
       "      <td>Perpetrator had a history of depression, angry...</td>\n",
       "      <td>-</td>\n",
       "      <td>-</td>\n",
       "      <td>semiautomatic handguns</td>\n",
       "      <td>-</td>\n",
       "      <td>-</td>\n",
       "      <td>M</td>\n",
       "      <td>https://www.sfchronicle.com/crime/article/Mass...</td>\n",
       "      <td>https://www.nytimes.com/2021/05/26/us/what-hap...</td>\n",
       "      <td>-</td>\n",
       "      <td>37.316097</td>\n",
       "      <td>-121.888533</td>\n",
       "      <td>Mass</td>\n",
       "      <td>2021</td>\n",
       "    </tr>\n",
       "  </tbody>\n",
       "</table>\n",
       "</div>"
      ],
      "text/plain": [
       "                                case                location       date  \\\n",
       "0  Sacramento County church shooting  Sacramento, California 2022-02-28   \n",
       "1        Oxford High School shooting        Oxford, Michigan 2021-11-30   \n",
       "2              San Jose VTA shooting    San Jose, California 2021-05-26   \n",
       "\n",
       "                                             summary  fatalities  injured  \\\n",
       "0  \"A man believed to be meeting his three childr...           4        0   \n",
       "1  Ethan Crumbley, a 15-year-old student at Oxfor...           4        7   \n",
       "2  Samuel Cassidy, 57, a Valley Transportation Au...           9        0   \n",
       "\n",
       "   total_victims location.1 age_of_shooter prior_signs_mental_health_issues  \\\n",
       "0              4  Religious              -                                -   \n",
       "1             11     School             15                                -   \n",
       "2              9  Workplace             57                              yes   \n",
       "\n",
       "                               mental_health_details weapons_obtained_legally  \\\n",
       "0                                                  -                        -   \n",
       "1                                                  -                        -   \n",
       "2  Perpetrator had a history of depression, angry...                        -   \n",
       "\n",
       "  where_obtained             weapon_type        weapon_details race gender  \\\n",
       "0              -                       -                     -    -      M   \n",
       "1              -   semiautomatic handgun  Sig Sauer 9mm pistol    -      M   \n",
       "2              -  semiautomatic handguns                     -    -      M   \n",
       "\n",
       "                                             sources  \\\n",
       "0  https://www.nytimes.com/2022/02/28/us/church-s...   \n",
       "1  https://www.washingtonpost.com/nation/2021/11/...   \n",
       "2  https://www.sfchronicle.com/crime/article/Mass...   \n",
       "\n",
       "                               mental_health_sources sources_additional_age  \\\n",
       "0                                                  -                      -   \n",
       "1                                                  -                      -   \n",
       "2  https://www.nytimes.com/2021/05/26/us/what-hap...                      -   \n",
       "\n",
       "    latitude   longitude  type  year  \n",
       "0  38.601110 -121.418966  Mass  2022  \n",
       "1  42.844108  -83.259928  Mass  2021  \n",
       "2  37.316097 -121.888533  Mass  2021  "
      ]
     },
     "execution_count": 31,
     "metadata": {},
     "output_type": "execute_result"
    }
   ],
   "source": [
    "df2.head(3)"
   ]
  },
  {
   "cell_type": "code",
   "execution_count": null,
   "id": "e0c2b753",
   "metadata": {},
   "outputs": [],
   "source": []
  },
  {
   "cell_type": "code",
   "execution_count": 32,
   "id": "930df057",
   "metadata": {},
   "outputs": [],
   "source": [
    "# Capitalize Dataframe column names.\n",
    "df2.columns = map(str.capitalize, df2.columns)"
   ]
  },
  {
   "cell_type": "code",
   "execution_count": null,
   "id": "4d3c58e2",
   "metadata": {},
   "outputs": [],
   "source": []
  },
  {
   "cell_type": "code",
   "execution_count": 33,
   "id": "a92a0e5e",
   "metadata": {},
   "outputs": [
    {
     "name": "stdout",
     "output_type": "stream",
     "text": [
      "<class 'pandas.core.frame.DataFrame'>\n",
      "RangeIndex: 126 entries, 0 to 125\n",
      "Data columns (total 24 columns):\n",
      " #   Column                            Non-Null Count  Dtype         \n",
      "---  ------                            --------------  -----         \n",
      " 0   Case                              126 non-null    object        \n",
      " 1   Location                          126 non-null    object        \n",
      " 2   Date                              126 non-null    datetime64[ns]\n",
      " 3   Summary                           126 non-null    object        \n",
      " 4   Fatalities                        126 non-null    int64         \n",
      " 5   Injured                           126 non-null    int64         \n",
      " 6   Total_victims                     126 non-null    int64         \n",
      " 7   Location.1                        126 non-null    object        \n",
      " 8   Age_of_shooter                    126 non-null    object        \n",
      " 9   Prior_signs_mental_health_issues  126 non-null    object        \n",
      " 10  Mental_health_details             126 non-null    object        \n",
      " 11  Weapons_obtained_legally          126 non-null    object        \n",
      " 12  Where_obtained                    126 non-null    object        \n",
      " 13  Weapon_type                       126 non-null    object        \n",
      " 14  Weapon_details                    126 non-null    object        \n",
      " 15  Race                              126 non-null    object        \n",
      " 16  Gender                            126 non-null    object        \n",
      " 17  Sources                           126 non-null    object        \n",
      " 18  Mental_health_sources             126 non-null    object        \n",
      " 19  Sources_additional_age            126 non-null    object        \n",
      " 20  Latitude                          126 non-null    float64       \n",
      " 21  Longitude                         126 non-null    float64       \n",
      " 22  Type                              126 non-null    object        \n",
      " 23  Year                              126 non-null    int64         \n",
      "dtypes: datetime64[ns](1), float64(2), int64(4), object(17)\n",
      "memory usage: 23.8+ KB\n"
     ]
    }
   ],
   "source": [
    "df2.info()"
   ]
  },
  {
   "cell_type": "code",
   "execution_count": null,
   "id": "32069e34",
   "metadata": {},
   "outputs": [],
   "source": []
  },
  {
   "cell_type": "code",
   "execution_count": 34,
   "id": "a9c24832",
   "metadata": {},
   "outputs": [
    {
     "data": {
      "text/html": [
       "<div>\n",
       "<style scoped>\n",
       "    .dataframe tbody tr th:only-of-type {\n",
       "        vertical-align: middle;\n",
       "    }\n",
       "\n",
       "    .dataframe tbody tr th {\n",
       "        vertical-align: top;\n",
       "    }\n",
       "\n",
       "    .dataframe thead th {\n",
       "        text-align: right;\n",
       "    }\n",
       "</style>\n",
       "<table border=\"1\" class=\"dataframe\">\n",
       "  <thead>\n",
       "    <tr style=\"text-align: right;\">\n",
       "      <th></th>\n",
       "      <th>Fatalities</th>\n",
       "      <th>Injured</th>\n",
       "      <th>Total_victims</th>\n",
       "      <th>Latitude</th>\n",
       "      <th>Longitude</th>\n",
       "      <th>Year</th>\n",
       "    </tr>\n",
       "  </thead>\n",
       "  <tbody>\n",
       "    <tr>\n",
       "      <th>count</th>\n",
       "      <td>126.000000</td>\n",
       "      <td>126.000000</td>\n",
       "      <td>126.000000</td>\n",
       "      <td>126.000000</td>\n",
       "      <td>126.000000</td>\n",
       "      <td>126.000000</td>\n",
       "    </tr>\n",
       "    <tr>\n",
       "      <th>mean</th>\n",
       "      <td>7.968254</td>\n",
       "      <td>11.579365</td>\n",
       "      <td>19.547619</td>\n",
       "      <td>37.384370</td>\n",
       "      <td>-96.842004</td>\n",
       "      <td>2008.968254</td>\n",
       "    </tr>\n",
       "    <tr>\n",
       "      <th>std</th>\n",
       "      <td>7.721074</td>\n",
       "      <td>49.099630</td>\n",
       "      <td>54.514234</td>\n",
       "      <td>5.623364</td>\n",
       "      <td>17.913985</td>\n",
       "      <td>10.562527</td>\n",
       "    </tr>\n",
       "    <tr>\n",
       "      <th>min</th>\n",
       "      <td>3.000000</td>\n",
       "      <td>0.000000</td>\n",
       "      <td>3.000000</td>\n",
       "      <td>21.320063</td>\n",
       "      <td>-157.876462</td>\n",
       "      <td>1982.000000</td>\n",
       "    </tr>\n",
       "    <tr>\n",
       "      <th>25%</th>\n",
       "      <td>4.000000</td>\n",
       "      <td>1.000000</td>\n",
       "      <td>6.250000</td>\n",
       "      <td>33.799701</td>\n",
       "      <td>-117.555742</td>\n",
       "      <td>2000.250000</td>\n",
       "    </tr>\n",
       "    <tr>\n",
       "      <th>50%</th>\n",
       "      <td>6.000000</td>\n",
       "      <td>3.000000</td>\n",
       "      <td>10.000000</td>\n",
       "      <td>38.323367</td>\n",
       "      <td>-90.874832</td>\n",
       "      <td>2013.000000</td>\n",
       "    </tr>\n",
       "    <tr>\n",
       "      <th>75%</th>\n",
       "      <td>8.750000</td>\n",
       "      <td>10.000000</td>\n",
       "      <td>17.000000</td>\n",
       "      <td>41.468409</td>\n",
       "      <td>-81.507765</td>\n",
       "      <td>2017.000000</td>\n",
       "    </tr>\n",
       "    <tr>\n",
       "      <th>max</th>\n",
       "      <td>58.000000</td>\n",
       "      <td>546.000000</td>\n",
       "      <td>604.000000</td>\n",
       "      <td>48.461367</td>\n",
       "      <td>-71.075913</td>\n",
       "      <td>2022.000000</td>\n",
       "    </tr>\n",
       "  </tbody>\n",
       "</table>\n",
       "</div>"
      ],
      "text/plain": [
       "       Fatalities     Injured  Total_victims    Latitude   Longitude  \\\n",
       "count  126.000000  126.000000     126.000000  126.000000  126.000000   \n",
       "mean     7.968254   11.579365      19.547619   37.384370  -96.842004   \n",
       "std      7.721074   49.099630      54.514234    5.623364   17.913985   \n",
       "min      3.000000    0.000000       3.000000   21.320063 -157.876462   \n",
       "25%      4.000000    1.000000       6.250000   33.799701 -117.555742   \n",
       "50%      6.000000    3.000000      10.000000   38.323367  -90.874832   \n",
       "75%      8.750000   10.000000      17.000000   41.468409  -81.507765   \n",
       "max     58.000000  546.000000     604.000000   48.461367  -71.075913   \n",
       "\n",
       "              Year  \n",
       "count   126.000000  \n",
       "mean   2008.968254  \n",
       "std      10.562527  \n",
       "min    1982.000000  \n",
       "25%    2000.250000  \n",
       "50%    2013.000000  \n",
       "75%    2017.000000  \n",
       "max    2022.000000  "
      ]
     },
     "execution_count": 34,
     "metadata": {},
     "output_type": "execute_result"
    }
   ],
   "source": [
    "df2.describe()"
   ]
  },
  {
   "cell_type": "code",
   "execution_count": null,
   "id": "46d0fa65",
   "metadata": {},
   "outputs": [],
   "source": []
  },
  {
   "cell_type": "code",
   "execution_count": 35,
   "id": "1906dcec",
   "metadata": {},
   "outputs": [
    {
     "data": {
      "text/html": [
       "<div>\n",
       "<style scoped>\n",
       "    .dataframe tbody tr th:only-of-type {\n",
       "        vertical-align: middle;\n",
       "    }\n",
       "\n",
       "    .dataframe tbody tr th {\n",
       "        vertical-align: top;\n",
       "    }\n",
       "\n",
       "    .dataframe thead th {\n",
       "        text-align: right;\n",
       "    }\n",
       "</style>\n",
       "<table border=\"1\" class=\"dataframe\">\n",
       "  <thead>\n",
       "    <tr style=\"text-align: right;\">\n",
       "      <th></th>\n",
       "      <th>Fatalities</th>\n",
       "      <th>Injured</th>\n",
       "      <th>Total_victims</th>\n",
       "      <th>Latitude</th>\n",
       "      <th>Longitude</th>\n",
       "      <th>Year</th>\n",
       "    </tr>\n",
       "  </thead>\n",
       "  <tbody>\n",
       "    <tr>\n",
       "      <th>Fatalities</th>\n",
       "      <td>1.000000</td>\n",
       "      <td>0.661317</td>\n",
       "      <td>0.737266</td>\n",
       "      <td>-0.204248</td>\n",
       "      <td>0.022313</td>\n",
       "      <td>-0.017277</td>\n",
       "    </tr>\n",
       "    <tr>\n",
       "      <th>Injured</th>\n",
       "      <td>0.661317</td>\n",
       "      <td>1.000000</td>\n",
       "      <td>0.994340</td>\n",
       "      <td>-0.052412</td>\n",
       "      <td>-0.105125</td>\n",
       "      <td>0.050385</td>\n",
       "    </tr>\n",
       "    <tr>\n",
       "      <th>Total_victims</th>\n",
       "      <td>0.737266</td>\n",
       "      <td>0.994340</td>\n",
       "      <td>1.000000</td>\n",
       "      <td>-0.076135</td>\n",
       "      <td>-0.091523</td>\n",
       "      <td>0.042934</td>\n",
       "    </tr>\n",
       "    <tr>\n",
       "      <th>Latitude</th>\n",
       "      <td>-0.204248</td>\n",
       "      <td>-0.052412</td>\n",
       "      <td>-0.076135</td>\n",
       "      <td>1.000000</td>\n",
       "      <td>-0.063901</td>\n",
       "      <td>0.103112</td>\n",
       "    </tr>\n",
       "    <tr>\n",
       "      <th>Longitude</th>\n",
       "      <td>0.022313</td>\n",
       "      <td>-0.105125</td>\n",
       "      <td>-0.091523</td>\n",
       "      <td>-0.063901</td>\n",
       "      <td>1.000000</td>\n",
       "      <td>0.004830</td>\n",
       "    </tr>\n",
       "    <tr>\n",
       "      <th>Year</th>\n",
       "      <td>-0.017277</td>\n",
       "      <td>0.050385</td>\n",
       "      <td>0.042934</td>\n",
       "      <td>0.103112</td>\n",
       "      <td>0.004830</td>\n",
       "      <td>1.000000</td>\n",
       "    </tr>\n",
       "  </tbody>\n",
       "</table>\n",
       "</div>"
      ],
      "text/plain": [
       "               Fatalities   Injured  Total_victims  Latitude  Longitude  \\\n",
       "Fatalities       1.000000  0.661317       0.737266 -0.204248   0.022313   \n",
       "Injured          0.661317  1.000000       0.994340 -0.052412  -0.105125   \n",
       "Total_victims    0.737266  0.994340       1.000000 -0.076135  -0.091523   \n",
       "Latitude        -0.204248 -0.052412      -0.076135  1.000000  -0.063901   \n",
       "Longitude        0.022313 -0.105125      -0.091523 -0.063901   1.000000   \n",
       "Year            -0.017277  0.050385       0.042934  0.103112   0.004830   \n",
       "\n",
       "                   Year  \n",
       "Fatalities    -0.017277  \n",
       "Injured        0.050385  \n",
       "Total_victims  0.042934  \n",
       "Latitude       0.103112  \n",
       "Longitude      0.004830  \n",
       "Year           1.000000  "
      ]
     },
     "execution_count": 35,
     "metadata": {},
     "output_type": "execute_result"
    }
   ],
   "source": [
    "df2.corr()"
   ]
  },
  {
   "cell_type": "code",
   "execution_count": null,
   "id": "24a6bd79",
   "metadata": {},
   "outputs": [],
   "source": []
  },
  {
   "cell_type": "code",
   "execution_count": 36,
   "id": "e6258d86",
   "metadata": {},
   "outputs": [
    {
     "data": {
      "text/plain": [
       "<AxesSubplot:>"
      ]
     },
     "execution_count": 36,
     "metadata": {},
     "output_type": "execute_result"
    },
    {
     "data": {
      "image/png": "[encoded data removed]",
      "text/plain": [
       "<Figure size 432x288 with 2 Axes>"
      ]
     },
     "metadata": {
      "needs_background": "light"
     },
     "output_type": "display_data"
    }
   ],
   "source": [
    "sns.heatmap(df2.corr(), annot  = True, cmap = \"Spectral\")"
   ]
  },
  {
   "cell_type": "code",
   "execution_count": null,
   "id": "f4527e1f",
   "metadata": {},
   "outputs": [],
   "source": []
  },
  {
   "cell_type": "code",
   "execution_count": 88,
   "id": "f90ea33c",
   "metadata": {},
   "outputs": [
    {
     "data": {
      "text/plain": [
       "<seaborn.axisgrid.PairGrid at 0x15e2f7ad580>"
      ]
     },
     "execution_count": 88,
     "metadata": {},
     "output_type": "execute_result"
    },
    {
     "data": {
      "image/png": "[encoded data removed]",
      "text/plain": [
       "<Figure size 1260x1260 with 56 Axes>"
      ]
     },
     "metadata": {
      "needs_background": "light"
     },
     "output_type": "display_data"
    }
   ],
   "source": [
    "sns.pairplot(df2)"
   ]
  },
  {
   "cell_type": "code",
   "execution_count": null,
   "id": "e0f48d0c",
   "metadata": {},
   "outputs": [],
   "source": []
  },
  {
   "cell_type": "code",
   "execution_count": 37,
   "id": "1e3f18ee",
   "metadata": {
    "scrolled": true
   },
   "outputs": [
    {
     "data": {
      "text/plain": [
       "Case                                0\n",
       "Location                            0\n",
       "Date                                0\n",
       "Summary                             0\n",
       "Fatalities                          0\n",
       "Injured                             0\n",
       "Total_victims                       0\n",
       "Location.1                          0\n",
       "Age_of_shooter                      0\n",
       "Prior_signs_mental_health_issues    0\n",
       "Mental_health_details               0\n",
       "Weapons_obtained_legally            0\n",
       "Where_obtained                      0\n",
       "Weapon_type                         0\n",
       "Weapon_details                      0\n",
       "Race                                0\n",
       "Gender                              0\n",
       "Sources                             0\n",
       "Mental_health_sources               0\n",
       "Sources_additional_age              0\n",
       "Latitude                            0\n",
       "Longitude                           0\n",
       "Type                                0\n",
       "Year                                0\n",
       "dtype: int64"
      ]
     },
     "execution_count": 37,
     "metadata": {},
     "output_type": "execute_result"
    }
   ],
   "source": [
    "df2.isna().sum()"
   ]
  },
  {
   "cell_type": "code",
   "execution_count": null,
   "id": "57da5d97",
   "metadata": {},
   "outputs": [],
   "source": []
  },
  {
   "cell_type": "code",
   "execution_count": 38,
   "id": "ddc5b11b",
   "metadata": {},
   "outputs": [
    {
     "data": {
      "text/plain": [
       "Index(['Case', 'Location', 'Date', 'Summary', 'Fatalities', 'Injured',\n",
       "       'Total_victims', 'Location.1', 'Age_of_shooter',\n",
       "       'Prior_signs_mental_health_issues', 'Mental_health_details',\n",
       "       'Weapons_obtained_legally', 'Where_obtained', 'Weapon_type',\n",
       "       'Weapon_details', 'Race', 'Gender', 'Sources', 'Mental_health_sources',\n",
       "       'Sources_additional_age', 'Latitude', 'Longitude', 'Type', 'Year'],\n",
       "      dtype='object')"
      ]
     },
     "execution_count": 38,
     "metadata": {},
     "output_type": "execute_result"
    }
   ],
   "source": [
    "df2.columns"
   ]
  },
  {
   "cell_type": "code",
   "execution_count": null,
   "id": "f98d36df",
   "metadata": {},
   "outputs": [],
   "source": []
  },
  {
   "cell_type": "code",
   "execution_count": 39,
   "id": "36633f76",
   "metadata": {},
   "outputs": [
    {
     "data": {
      "text/plain": [
       "(126, 24)"
      ]
     },
     "execution_count": 39,
     "metadata": {},
     "output_type": "execute_result"
    }
   ],
   "source": [
    "df2.shape"
   ]
  },
  {
   "cell_type": "code",
   "execution_count": null,
   "id": "ea96656e",
   "metadata": {},
   "outputs": [],
   "source": []
  },
  {
   "cell_type": "code",
   "execution_count": 40,
   "id": "512befbc",
   "metadata": {},
   "outputs": [],
   "source": [
    "df2.drop(columns = ['Sources','Mental_health_sources','Sources_additional_age'], inplace = True)"
   ]
  },
  {
   "cell_type": "code",
   "execution_count": null,
   "id": "d1378daf",
   "metadata": {},
   "outputs": [],
   "source": []
  },
  {
   "cell_type": "code",
   "execution_count": 41,
   "id": "990cc98e",
   "metadata": {},
   "outputs": [],
   "source": [
    "df2['Month'] = pd.DatetimeIndex(df2['Date']).month"
   ]
  },
  {
   "cell_type": "code",
   "execution_count": null,
   "id": "9ac91987",
   "metadata": {},
   "outputs": [],
   "source": []
  },
  {
   "cell_type": "code",
   "execution_count": 42,
   "id": "eacf07e0",
   "metadata": {},
   "outputs": [
    {
     "data": {
      "text/html": [
       "<div>\n",
       "<style scoped>\n",
       "    .dataframe tbody tr th:only-of-type {\n",
       "        vertical-align: middle;\n",
       "    }\n",
       "\n",
       "    .dataframe tbody tr th {\n",
       "        vertical-align: top;\n",
       "    }\n",
       "\n",
       "    .dataframe thead th {\n",
       "        text-align: right;\n",
       "    }\n",
       "</style>\n",
       "<table border=\"1\" class=\"dataframe\">\n",
       "  <thead>\n",
       "    <tr style=\"text-align: right;\">\n",
       "      <th></th>\n",
       "      <th>Case</th>\n",
       "      <th>Location</th>\n",
       "      <th>Date</th>\n",
       "      <th>Summary</th>\n",
       "      <th>Fatalities</th>\n",
       "      <th>Injured</th>\n",
       "      <th>Total_victims</th>\n",
       "      <th>Location.1</th>\n",
       "      <th>Age_of_shooter</th>\n",
       "      <th>Prior_signs_mental_health_issues</th>\n",
       "      <th>Mental_health_details</th>\n",
       "      <th>Weapons_obtained_legally</th>\n",
       "      <th>Where_obtained</th>\n",
       "      <th>Weapon_type</th>\n",
       "      <th>Weapon_details</th>\n",
       "      <th>Race</th>\n",
       "      <th>Gender</th>\n",
       "      <th>Latitude</th>\n",
       "      <th>Longitude</th>\n",
       "      <th>Type</th>\n",
       "      <th>Year</th>\n",
       "      <th>Month</th>\n",
       "    </tr>\n",
       "  </thead>\n",
       "  <tbody>\n",
       "    <tr>\n",
       "      <th>0</th>\n",
       "      <td>Sacramento County church shooting</td>\n",
       "      <td>Sacramento, California</td>\n",
       "      <td>2022-02-28</td>\n",
       "      <td>\"A man believed to be meeting his three childr...</td>\n",
       "      <td>4</td>\n",
       "      <td>0</td>\n",
       "      <td>4</td>\n",
       "      <td>Religious</td>\n",
       "      <td>-</td>\n",
       "      <td>-</td>\n",
       "      <td>-</td>\n",
       "      <td>-</td>\n",
       "      <td>-</td>\n",
       "      <td>-</td>\n",
       "      <td>-</td>\n",
       "      <td>-</td>\n",
       "      <td>M</td>\n",
       "      <td>38.601110</td>\n",
       "      <td>-121.418966</td>\n",
       "      <td>Mass</td>\n",
       "      <td>2022</td>\n",
       "      <td>2</td>\n",
       "    </tr>\n",
       "    <tr>\n",
       "      <th>1</th>\n",
       "      <td>Oxford High School shooting</td>\n",
       "      <td>Oxford, Michigan</td>\n",
       "      <td>2021-11-30</td>\n",
       "      <td>Ethan Crumbley, a 15-year-old student at Oxfor...</td>\n",
       "      <td>4</td>\n",
       "      <td>7</td>\n",
       "      <td>11</td>\n",
       "      <td>School</td>\n",
       "      <td>15</td>\n",
       "      <td>-</td>\n",
       "      <td>-</td>\n",
       "      <td>-</td>\n",
       "      <td>-</td>\n",
       "      <td>semiautomatic handgun</td>\n",
       "      <td>Sig Sauer 9mm pistol</td>\n",
       "      <td>-</td>\n",
       "      <td>M</td>\n",
       "      <td>42.844108</td>\n",
       "      <td>-83.259928</td>\n",
       "      <td>Mass</td>\n",
       "      <td>2021</td>\n",
       "      <td>11</td>\n",
       "    </tr>\n",
       "    <tr>\n",
       "      <th>2</th>\n",
       "      <td>San Jose VTA shooting</td>\n",
       "      <td>San Jose, California</td>\n",
       "      <td>2021-05-26</td>\n",
       "      <td>Samuel Cassidy, 57, a Valley Transportation Au...</td>\n",
       "      <td>9</td>\n",
       "      <td>0</td>\n",
       "      <td>9</td>\n",
       "      <td>Workplace</td>\n",
       "      <td>57</td>\n",
       "      <td>yes</td>\n",
       "      <td>Perpetrator had a history of depression, angry...</td>\n",
       "      <td>-</td>\n",
       "      <td>-</td>\n",
       "      <td>semiautomatic handguns</td>\n",
       "      <td>-</td>\n",
       "      <td>-</td>\n",
       "      <td>M</td>\n",
       "      <td>37.316097</td>\n",
       "      <td>-121.888533</td>\n",
       "      <td>Mass</td>\n",
       "      <td>2021</td>\n",
       "      <td>5</td>\n",
       "    </tr>\n",
       "  </tbody>\n",
       "</table>\n",
       "</div>"
      ],
      "text/plain": [
       "                                Case                Location       Date  \\\n",
       "0  Sacramento County church shooting  Sacramento, California 2022-02-28   \n",
       "1        Oxford High School shooting        Oxford, Michigan 2021-11-30   \n",
       "2              San Jose VTA shooting    San Jose, California 2021-05-26   \n",
       "\n",
       "                                             Summary  Fatalities  Injured  \\\n",
       "0  \"A man believed to be meeting his three childr...           4        0   \n",
       "1  Ethan Crumbley, a 15-year-old student at Oxfor...           4        7   \n",
       "2  Samuel Cassidy, 57, a Valley Transportation Au...           9        0   \n",
       "\n",
       "   Total_victims Location.1 Age_of_shooter Prior_signs_mental_health_issues  \\\n",
       "0              4  Religious              -                                -   \n",
       "1             11     School             15                                -   \n",
       "2              9  Workplace             57                              yes   \n",
       "\n",
       "                               Mental_health_details Weapons_obtained_legally  \\\n",
       "0                                                  -                        -   \n",
       "1                                                  -                        -   \n",
       "2  Perpetrator had a history of depression, angry...                        -   \n",
       "\n",
       "  Where_obtained             Weapon_type        Weapon_details Race Gender  \\\n",
       "0              -                       -                     -    -      M   \n",
       "1              -   semiautomatic handgun  Sig Sauer 9mm pistol    -      M   \n",
       "2              -  semiautomatic handguns                     -    -      M   \n",
       "\n",
       "    Latitude   Longitude  Type  Year  Month  \n",
       "0  38.601110 -121.418966  Mass  2022      2  \n",
       "1  42.844108  -83.259928  Mass  2021     11  \n",
       "2  37.316097 -121.888533  Mass  2021      5  "
      ]
     },
     "execution_count": 42,
     "metadata": {},
     "output_type": "execute_result"
    }
   ],
   "source": [
    "df2.head(3)"
   ]
  },
  {
   "cell_type": "code",
   "execution_count": null,
   "id": "1f076bbf",
   "metadata": {},
   "outputs": [],
   "source": []
  },
  {
   "cell_type": "code",
   "execution_count": 43,
   "id": "a5ac761d",
   "metadata": {},
   "outputs": [],
   "source": [
    "t_plot  = df2[['Total_victims', 'Year']]"
   ]
  },
  {
   "cell_type": "code",
   "execution_count": 44,
   "id": "3ac91699",
   "metadata": {},
   "outputs": [
    {
     "data": {
      "text/html": [
       "<div>\n",
       "<style scoped>\n",
       "    .dataframe tbody tr th:only-of-type {\n",
       "        vertical-align: middle;\n",
       "    }\n",
       "\n",
       "    .dataframe tbody tr th {\n",
       "        vertical-align: top;\n",
       "    }\n",
       "\n",
       "    .dataframe thead th {\n",
       "        text-align: right;\n",
       "    }\n",
       "</style>\n",
       "<table border=\"1\" class=\"dataframe\">\n",
       "  <thead>\n",
       "    <tr style=\"text-align: right;\">\n",
       "      <th></th>\n",
       "      <th>Total_victims</th>\n",
       "      <th>Year</th>\n",
       "    </tr>\n",
       "  </thead>\n",
       "  <tbody>\n",
       "    <tr>\n",
       "      <th>0</th>\n",
       "      <td>4</td>\n",
       "      <td>2022</td>\n",
       "    </tr>\n",
       "    <tr>\n",
       "      <th>1</th>\n",
       "      <td>11</td>\n",
       "      <td>2021</td>\n",
       "    </tr>\n",
       "    <tr>\n",
       "      <th>2</th>\n",
       "      <td>9</td>\n",
       "      <td>2021</td>\n",
       "    </tr>\n",
       "    <tr>\n",
       "      <th>3</th>\n",
       "      <td>15</td>\n",
       "      <td>2021</td>\n",
       "    </tr>\n",
       "    <tr>\n",
       "      <th>4</th>\n",
       "      <td>5</td>\n",
       "      <td>2021</td>\n",
       "    </tr>\n",
       "    <tr>\n",
       "      <th>...</th>\n",
       "      <td>...</td>\n",
       "      <td>...</td>\n",
       "    </tr>\n",
       "    <tr>\n",
       "      <th>121</th>\n",
       "      <td>20</td>\n",
       "      <td>1987</td>\n",
       "    </tr>\n",
       "    <tr>\n",
       "      <th>122</th>\n",
       "      <td>21</td>\n",
       "      <td>1986</td>\n",
       "    </tr>\n",
       "    <tr>\n",
       "      <th>123</th>\n",
       "      <td>41</td>\n",
       "      <td>1984</td>\n",
       "    </tr>\n",
       "    <tr>\n",
       "      <th>124</th>\n",
       "      <td>7</td>\n",
       "      <td>1984</td>\n",
       "    </tr>\n",
       "    <tr>\n",
       "      <th>125</th>\n",
       "      <td>11</td>\n",
       "      <td>1982</td>\n",
       "    </tr>\n",
       "  </tbody>\n",
       "</table>\n",
       "<p>126 rows × 2 columns</p>\n",
       "</div>"
      ],
      "text/plain": [
       "     Total_victims  Year\n",
       "0                4  2022\n",
       "1               11  2021\n",
       "2                9  2021\n",
       "3               15  2021\n",
       "4                5  2021\n",
       "..             ...   ...\n",
       "121             20  1987\n",
       "122             21  1986\n",
       "123             41  1984\n",
       "124              7  1984\n",
       "125             11  1982\n",
       "\n",
       "[126 rows x 2 columns]"
      ]
     },
     "execution_count": 44,
     "metadata": {},
     "output_type": "execute_result"
    }
   ],
   "source": [
    "t_plot"
   ]
  },
  {
   "cell_type": "code",
   "execution_count": null,
   "id": "22db5af1",
   "metadata": {},
   "outputs": [],
   "source": []
  },
  {
   "cell_type": "code",
   "execution_count": 45,
   "id": "bf097a49",
   "metadata": {},
   "outputs": [
    {
     "data": {
      "image/png": "[encoded data removed]",
      "text/plain": [
       "<Figure size 864x432 with 1 Axes>"
      ]
     },
     "metadata": {
      "needs_background": "light"
     },
     "output_type": "display_data"
    }
   ],
   "source": [
    "t_plot.plot( 'Year' , 'Total_victims', figsize = (12,6))\n",
    "plt.show()\n"
   ]
  },
  {
   "cell_type": "code",
   "execution_count": null,
   "id": "4b8b9bf8",
   "metadata": {},
   "outputs": [],
   "source": []
  },
  {
   "cell_type": "code",
   "execution_count": 46,
   "id": "57322c4e",
   "metadata": {},
   "outputs": [
    {
     "data": {
      "text/plain": [
       "<AxesSubplot:xlabel='Year'>"
      ]
     },
     "execution_count": 46,
     "metadata": {},
     "output_type": "execute_result"
    },
    {
     "data": {
      "image/png": "[encoded data removed]",
      "text/plain": [
       "<Figure size 864x432 with 1 Axes>"
      ]
     },
     "metadata": {
      "needs_background": "light"
     },
     "output_type": "display_data"
    }
   ],
   "source": [
    "df2.groupby('Year').sum()['Total_victims'].sort_values(ascending = False).plot(kind = 'bar', figsize = (12,6))"
   ]
  },
  {
   "cell_type": "code",
   "execution_count": null,
   "id": "df85b48e",
   "metadata": {},
   "outputs": [],
   "source": []
  },
  {
   "cell_type": "code",
   "execution_count": 47,
   "id": "f0298e50",
   "metadata": {},
   "outputs": [
    {
     "data": {
      "text/html": [
       "<div>\n",
       "<style scoped>\n",
       "    .dataframe tbody tr th:only-of-type {\n",
       "        vertical-align: middle;\n",
       "    }\n",
       "\n",
       "    .dataframe tbody tr th {\n",
       "        vertical-align: top;\n",
       "    }\n",
       "\n",
       "    .dataframe thead th {\n",
       "        text-align: right;\n",
       "    }\n",
       "</style>\n",
       "<table border=\"1\" class=\"dataframe\">\n",
       "  <thead>\n",
       "    <tr style=\"text-align: right;\">\n",
       "      <th></th>\n",
       "      <th>Case</th>\n",
       "      <th>Location</th>\n",
       "      <th>Date</th>\n",
       "      <th>Summary</th>\n",
       "      <th>Fatalities</th>\n",
       "      <th>Injured</th>\n",
       "      <th>Total_victims</th>\n",
       "      <th>Location.1</th>\n",
       "      <th>Age_of_shooter</th>\n",
       "      <th>Prior_signs_mental_health_issues</th>\n",
       "      <th>Mental_health_details</th>\n",
       "      <th>Weapons_obtained_legally</th>\n",
       "      <th>Where_obtained</th>\n",
       "      <th>Weapon_type</th>\n",
       "      <th>Weapon_details</th>\n",
       "      <th>Race</th>\n",
       "      <th>Gender</th>\n",
       "      <th>Latitude</th>\n",
       "      <th>Longitude</th>\n",
       "      <th>Type</th>\n",
       "      <th>Year</th>\n",
       "      <th>Month</th>\n",
       "    </tr>\n",
       "  </thead>\n",
       "  <tbody>\n",
       "    <tr>\n",
       "      <th>0</th>\n",
       "      <td>Sacramento County church shooting</td>\n",
       "      <td>Sacramento, California</td>\n",
       "      <td>2022-02-28</td>\n",
       "      <td>\"A man believed to be meeting his three childr...</td>\n",
       "      <td>4</td>\n",
       "      <td>0</td>\n",
       "      <td>4</td>\n",
       "      <td>Religious</td>\n",
       "      <td>-</td>\n",
       "      <td>-</td>\n",
       "      <td>-</td>\n",
       "      <td>-</td>\n",
       "      <td>-</td>\n",
       "      <td>-</td>\n",
       "      <td>-</td>\n",
       "      <td>-</td>\n",
       "      <td>M</td>\n",
       "      <td>38.601110</td>\n",
       "      <td>-121.418966</td>\n",
       "      <td>Mass</td>\n",
       "      <td>2022</td>\n",
       "      <td>2</td>\n",
       "    </tr>\n",
       "    <tr>\n",
       "      <th>1</th>\n",
       "      <td>Oxford High School shooting</td>\n",
       "      <td>Oxford, Michigan</td>\n",
       "      <td>2021-11-30</td>\n",
       "      <td>Ethan Crumbley, a 15-year-old student at Oxfor...</td>\n",
       "      <td>4</td>\n",
       "      <td>7</td>\n",
       "      <td>11</td>\n",
       "      <td>School</td>\n",
       "      <td>15</td>\n",
       "      <td>-</td>\n",
       "      <td>-</td>\n",
       "      <td>-</td>\n",
       "      <td>-</td>\n",
       "      <td>semiautomatic handgun</td>\n",
       "      <td>Sig Sauer 9mm pistol</td>\n",
       "      <td>-</td>\n",
       "      <td>M</td>\n",
       "      <td>42.844108</td>\n",
       "      <td>-83.259928</td>\n",
       "      <td>Mass</td>\n",
       "      <td>2021</td>\n",
       "      <td>11</td>\n",
       "    </tr>\n",
       "  </tbody>\n",
       "</table>\n",
       "</div>"
      ],
      "text/plain": [
       "                                Case                Location       Date  \\\n",
       "0  Sacramento County church shooting  Sacramento, California 2022-02-28   \n",
       "1        Oxford High School shooting        Oxford, Michigan 2021-11-30   \n",
       "\n",
       "                                             Summary  Fatalities  Injured  \\\n",
       "0  \"A man believed to be meeting his three childr...           4        0   \n",
       "1  Ethan Crumbley, a 15-year-old student at Oxfor...           4        7   \n",
       "\n",
       "   Total_victims Location.1 Age_of_shooter Prior_signs_mental_health_issues  \\\n",
       "0              4  Religious              -                                -   \n",
       "1             11     School             15                                -   \n",
       "\n",
       "  Mental_health_details Weapons_obtained_legally Where_obtained  \\\n",
       "0                     -                        -              -   \n",
       "1                     -                        -              -   \n",
       "\n",
       "             Weapon_type        Weapon_details Race Gender   Latitude  \\\n",
       "0                      -                     -    -      M  38.601110   \n",
       "1  semiautomatic handgun  Sig Sauer 9mm pistol    -      M  42.844108   \n",
       "\n",
       "    Longitude  Type  Year  Month  \n",
       "0 -121.418966  Mass  2022      2  \n",
       "1  -83.259928  Mass  2021     11  "
      ]
     },
     "execution_count": 47,
     "metadata": {},
     "output_type": "execute_result"
    }
   ],
   "source": [
    "df2.head(2)"
   ]
  },
  {
   "cell_type": "code",
   "execution_count": null,
   "id": "52be42ac",
   "metadata": {},
   "outputs": [],
   "source": []
  },
  {
   "cell_type": "code",
   "execution_count": 48,
   "id": "00f99c5d",
   "metadata": {},
   "outputs": [
    {
     "data": {
      "text/plain": [
       "2463"
      ]
     },
     "execution_count": 48,
     "metadata": {},
     "output_type": "execute_result"
    }
   ],
   "source": [
    "df2['Total_victims'].sum()"
   ]
  },
  {
   "cell_type": "code",
   "execution_count": null,
   "id": "e310bbee",
   "metadata": {},
   "outputs": [],
   "source": []
  },
  {
   "cell_type": "code",
   "execution_count": 49,
   "id": "5bd5639f",
   "metadata": {},
   "outputs": [
    {
     "data": {
      "text/plain": [
       "1004"
      ]
     },
     "execution_count": 49,
     "metadata": {},
     "output_type": "execute_result"
    }
   ],
   "source": [
    "df2['Fatalities'].sum()"
   ]
  },
  {
   "cell_type": "code",
   "execution_count": null,
   "id": "6d95a404",
   "metadata": {},
   "outputs": [],
   "source": []
  },
  {
   "cell_type": "code",
   "execution_count": 50,
   "id": "31aa7fb6",
   "metadata": {},
   "outputs": [
    {
     "data": {
      "text/plain": [
       "1459"
      ]
     },
     "execution_count": 50,
     "metadata": {},
     "output_type": "execute_result"
    }
   ],
   "source": [
    "df2['Injured'].sum()"
   ]
  },
  {
   "cell_type": "code",
   "execution_count": null,
   "id": "8c840911",
   "metadata": {},
   "outputs": [],
   "source": []
  },
  {
   "cell_type": "code",
   "execution_count": 51,
   "id": "e197f725",
   "metadata": {},
   "outputs": [
    {
     "data": {
      "text/plain": [
       "Sacramento County church shooting             1\n",
       "Virginia Beach municipal building shooting    1\n",
       "FedEx warehouse shooting                      1\n",
       "Orange office complex shooting                1\n",
       "Boulder supermarket shooting                  1\n",
       "                                             ..\n",
       "Shopping centers spree killings               1\n",
       "United States Postal Service shooting         1\n",
       "San Ysidro McDonald's massacre                1\n",
       "Dallas nightclub shooting                     1\n",
       "Welding shop shooting                         1\n",
       "Name: Case, Length: 126, dtype: int64"
      ]
     },
     "execution_count": 51,
     "metadata": {},
     "output_type": "execute_result"
    }
   ],
   "source": [
    "df2['Case'].value_counts().sort_values(ascending = False)"
   ]
  },
  {
   "cell_type": "code",
   "execution_count": null,
   "id": "f4be3d0c",
   "metadata": {},
   "outputs": [],
   "source": []
  },
  {
   "cell_type": "code",
   "execution_count": 52,
   "id": "4a76149c",
   "metadata": {},
   "outputs": [
    {
     "data": {
      "text/plain": [
       "Location\n",
       "Las Vegas, Nevada             604\n",
       "Orlando, Florida              107\n",
       "Aurora, Colorado               87\n",
       "Fort Hood, Texas               59\n",
       "Blacksburg, Virginia           55\n",
       "El Paso, Texas                 48\n",
       "Sutherland Springs, Texas      46\n",
       "Killeen, Texas                 44\n",
       "San Ysidro, California         41\n",
       "Littleton, Colorado            37\n",
       "Dayton, Ohio                   36\n",
       "Stockton, California           35\n",
       "San Bernardino, California     35\n",
       "Parkland, Florida              34\n",
       "Thousand Oaks, California      34\n",
       "Name: Total_victims, dtype: int64"
      ]
     },
     "execution_count": 52,
     "metadata": {},
     "output_type": "execute_result"
    }
   ],
   "source": [
    "df2.groupby(['Location']).sum()['Total_victims'].sort_values(ascending  = False) [:15]"
   ]
  },
  {
   "cell_type": "code",
   "execution_count": null,
   "id": "dda0154c",
   "metadata": {},
   "outputs": [],
   "source": []
  },
  {
   "cell_type": "code",
   "execution_count": 53,
   "id": "cecbde84",
   "metadata": {},
   "outputs": [
    {
     "data": {
      "text/plain": [
       "<AxesSubplot:xlabel='Location'>"
      ]
     },
     "execution_count": 53,
     "metadata": {},
     "output_type": "execute_result"
    },
    {
     "data": {
      "image/png": "[encoded data removed]",
      "text/plain": [
       "<Figure size 648x324 with 1 Axes>"
      ]
     },
     "metadata": {
      "needs_background": "light"
     },
     "output_type": "display_data"
    }
   ],
   "source": [
    "df2.groupby(['Location']).sum()['Total_victims'].sort_values(ascending  = False) [:15].plot(kind = 'bar', figsize = (9,4.5))"
   ]
  },
  {
   "cell_type": "code",
   "execution_count": null,
   "id": "6da6495e",
   "metadata": {},
   "outputs": [],
   "source": []
  },
  {
   "cell_type": "code",
   "execution_count": 54,
   "id": "46e09a68",
   "metadata": {},
   "outputs": [
    {
     "name": "stderr",
     "output_type": "stream",
     "text": [
      "C:\\swsetup\\New folder\\lib\\site-packages\\seaborn\\_decorators.py:36: FutureWarning: Pass the following variable as a keyword arg: x. From version 0.12, the only valid positional argument will be `data`, and passing other arguments without an explicit keyword will result in an error or misinterpretation.\n",
      "  warnings.warn(\n"
     ]
    },
    {
     "data": {
      "text/plain": [
       "<AxesSubplot:xlabel='Location.1', ylabel='count'>"
      ]
     },
     "execution_count": 54,
     "metadata": {},
     "output_type": "execute_result"
    },
    {
     "data": {
      "image/png": "[encoded data removed]",
      "text/plain": [
       "<Figure size 432x288 with 1 Axes>"
      ]
     },
     "metadata": {
      "needs_background": "light"
     },
     "output_type": "display_data"
    }
   ],
   "source": [
    "sns.countplot(df2['Location.1'])"
   ]
  },
  {
   "cell_type": "code",
   "execution_count": null,
   "id": "0681a216",
   "metadata": {},
   "outputs": [],
   "source": []
  },
  {
   "cell_type": "code",
   "execution_count": 55,
   "id": "609877e9",
   "metadata": {
    "scrolled": true
   },
   "outputs": [
    {
     "data": {
      "text/plain": [
       "Location.1\n",
       "Other          1344\n",
       "Workplace       420\n",
       "School          394\n",
       "Military        125\n",
       "Religious       113\n",
       "\\nWorkplace      35\n",
       "Other\\n          21\n",
       "Airport          11\n",
       "Name: Total_victims, dtype: int64"
      ]
     },
     "execution_count": 55,
     "metadata": {},
     "output_type": "execute_result"
    }
   ],
   "source": [
    "df2.groupby(['Location.1']).sum()['Total_victims'].sort_values(ascending  = False) [:15]"
   ]
  },
  {
   "cell_type": "code",
   "execution_count": null,
   "id": "dd71a6c9",
   "metadata": {},
   "outputs": [],
   "source": []
  },
  {
   "cell_type": "code",
   "execution_count": 56,
   "id": "4cf991dc",
   "metadata": {},
   "outputs": [
    {
     "name": "stderr",
     "output_type": "stream",
     "text": [
      "C:\\swsetup\\New folder\\lib\\site-packages\\seaborn\\_decorators.py:36: FutureWarning: Pass the following variable as a keyword arg: x. From version 0.12, the only valid positional argument will be `data`, and passing other arguments without an explicit keyword will result in an error or misinterpretation.\n",
      "  warnings.warn(\n"
     ]
    },
    {
     "data": {
      "text/plain": [
       "<AxesSubplot:xlabel='Age_of_shooter', ylabel='count'>"
      ]
     },
     "execution_count": 56,
     "metadata": {},
     "output_type": "execute_result"
    },
    {
     "data": {
      "image/png": "[encoded data removed]",
      "text/plain": [
       "<Figure size 432x288 with 1 Axes>"
      ]
     },
     "metadata": {
      "needs_background": "light"
     },
     "output_type": "display_data"
    }
   ],
   "source": [
    "sns.countplot(df2['Age_of_shooter'])"
   ]
  },
  {
   "cell_type": "code",
   "execution_count": 57,
   "id": "e167c470",
   "metadata": {},
   "outputs": [
    {
     "data": {
      "text/plain": [
       "<AxesSubplot:xlabel='Age_of_shooter'>"
      ]
     },
     "execution_count": 57,
     "metadata": {},
     "output_type": "execute_result"
    },
    {
     "data": {
      "image/png": "[encoded data removed]",
      "text/plain": [
       "<Figure size 648x324 with 1 Axes>"
      ]
     },
     "metadata": {
      "needs_background": "light"
     },
     "output_type": "display_data"
    }
   ],
   "source": [
    "df2.groupby(['Age_of_shooter']).sum()['Total_victims'].sort_values(ascending  = False) [:15].plot(kind = 'bar', figsize = (9,4.5))"
   ]
  },
  {
   "cell_type": "code",
   "execution_count": null,
   "id": "d432db44",
   "metadata": {},
   "outputs": [],
   "source": []
  },
  {
   "cell_type": "code",
   "execution_count": 58,
   "id": "db51946a",
   "metadata": {
    "scrolled": true
   },
   "outputs": [
    {
     "data": {
      "text/plain": [
       "Prior_signs_mental_health_issues\n",
       "Yes         960\n",
       "TBD         655\n",
       "Unclear     349\n",
       "-           205\n",
       "No          201\n",
       "yes          66\n",
       "Unclear      21\n",
       "Unknown       6\n",
       "Name: Total_victims, dtype: int64"
      ]
     },
     "execution_count": 58,
     "metadata": {},
     "output_type": "execute_result"
    }
   ],
   "source": [
    "df2.groupby(['Prior_signs_mental_health_issues']).sum()['Total_victims'].sort_values(ascending  = False) [:15]"
   ]
  },
  {
   "cell_type": "code",
   "execution_count": null,
   "id": "0b1dda70",
   "metadata": {},
   "outputs": [],
   "source": []
  },
  {
   "cell_type": "code",
   "execution_count": 59,
   "id": "28a996f4",
   "metadata": {},
   "outputs": [
    {
     "data": {
      "text/plain": [
       "<AxesSubplot:xlabel='Prior_signs_mental_health_issues'>"
      ]
     },
     "execution_count": 59,
     "metadata": {},
     "output_type": "execute_result"
    },
    {
     "data": {
      "image/png": "[encoded data removed]",
      "text/plain": [
       "<Figure size 648x324 with 1 Axes>"
      ]
     },
     "metadata": {
      "needs_background": "light"
     },
     "output_type": "display_data"
    }
   ],
   "source": [
    "df2.groupby(['Prior_signs_mental_health_issues']).sum()['Total_victims'].sort_values(ascending  = False) [:15].plot(kind = 'bar', figsize = (9,4.5))"
   ]
  },
  {
   "cell_type": "code",
   "execution_count": null,
   "id": "1d3ba677",
   "metadata": {},
   "outputs": [],
   "source": []
  },
  {
   "cell_type": "code",
   "execution_count": 60,
   "id": "1160364a",
   "metadata": {},
   "outputs": [
    {
     "data": {
      "text/plain": [
       "Mental_health_details\n",
       "Perpetrator's history unclear. In 1969 Paddock's father was classified by the FBI as a dangerous psychopath with suicidal tendencies; psychopathy can be heritable (see Mother Jones sourcing).                                                                                                                                                                                           604\n",
       "-                                                                                                                                                                                                                                                                                                                                                                                         304\n",
       "Unclear                                                                                                                                                                                                                                                                                                                                                                                   184\n",
       "He saw at least three mental health professionals before dropping out of his university.                                                                                                                                                                                                                                                                                                   82\n",
       "A district court ruled Cho was \"an imminent danger\" to himself and others as a result of mental illness two years earlier, and directed Cho to seek treatment.                                                                                                                                                                                                                             55\n",
       "Kelley had a history of domestic violence, including a court martial and conviction stemming from assaulting his wife and child; he also had a history of cruelty to animals and of stalking and harassing ex-girlfriends, including an underage girl. He reportedly briefly escaped from a mental health facility in 2012.                                                                46\n",
       "Medical officials at Walter Reed Army Medical Center and the Uniformed Services University of the Health Sciences raised concerns prior to the shooting regarding Hasan's aloof and erratic behavior and extremist Islamic views.                                                                                                                                                          44\n",
       "Acquaintances described him as troubled, unstable, combative, and misogynistic. He made convenience store employees \"nervous.\"                                                                                                                                                                                                                                                             44\n",
       "The day before the shooting, he tried to make an appointment at a mental health clinic.                                                                                                                                                                                                                                                                                                    41\n",
       "Harris was an alleged psychopath; Klebold was depressed and suicidal.                                                                                                                                                                                                                                                                                                                      37\n",
       "He told a mental health professional he was \"struggling to resist actions on thoughts which are destructive in nature.\" He also suffered from alcoholism.                                                                                                                                                                                                                                  35\n",
       "Per the LATimes: \"Sheriff Geoff Dean said his department had had several interactions with Long, including a call to his home in April for a complaint of disturbing the peace. Deputies at the time said Long was irate and acting irrationally, Dean said. They called in mental health professionals to evaluate him, and they concluded he did not need to be taken into custody.\"     34\n",
       "Cruz had a long history of behavioral problems and had spent time in mental health clinics.                                                                                                                                                                                                                                                                                                34\n",
       "\"One friend of the family said the gunman had a long history of mental problems, trouble with the law and making racist comments,\" according to a report in the New York Times.                                                                                                                                                                                                            32\n",
       "Lanza had a history of serious mental health problems that were known to his family and others, as detailed in a post-massacre investigation by Connecticut authorities.                                                                                                                                                                                                                   29\n",
       "Name: Total_victims, dtype: int64"
      ]
     },
     "execution_count": 60,
     "metadata": {},
     "output_type": "execute_result"
    }
   ],
   "source": [
    "df2.groupby(['Mental_health_details']).sum()['Total_victims'].sort_values(ascending  = False) [:15]"
   ]
  },
  {
   "cell_type": "code",
   "execution_count": null,
   "id": "195a4787",
   "metadata": {},
   "outputs": [],
   "source": []
  },
  {
   "cell_type": "code",
   "execution_count": 61,
   "id": "3bfdb673",
   "metadata": {},
   "outputs": [
    {
     "data": {
      "text/plain": [
       "Weapons_obtained_legally\n",
       "Yes                                                                                                                                    1924\n",
       "No                                                                                                                                      223\n",
       "-                                                                                                                                       100\n",
       "\\nYes                                                                                                                                    50\n",
       "TBD                                                                                                                                      47\n",
       "Kelley passed federal criminal background checks; the US Air Force failed to provide information on his criminal history to the FBI      46\n",
       "Unknown                                                                                                                                  42\n",
       "yes                                                                                                                                      15\n",
       "Yes                                                                                                                                       9\n",
       "Yes (\"some of the weapons were purchased legally and some of them may not have been\")                                                     7\n",
       "Name: Total_victims, dtype: int64"
      ]
     },
     "execution_count": 61,
     "metadata": {},
     "output_type": "execute_result"
    }
   ],
   "source": [
    "df2.groupby(['Weapons_obtained_legally']).sum()['Total_victims'].sort_values(ascending  = False) [:15]"
   ]
  },
  {
   "cell_type": "code",
   "execution_count": null,
   "id": "b5ffdc0b",
   "metadata": {},
   "outputs": [],
   "source": []
  },
  {
   "cell_type": "code",
   "execution_count": 62,
   "id": "0af8ab92",
   "metadata": {},
   "outputs": [
    {
     "data": {
      "text/plain": [
       "Where_obtained\n",
       "Two gun shops in Nevada                                                                                            604\n",
       "-                                                                                                                  352\n",
       "Unknown                                                                                                            149\n",
       "Shooting center in Port St. Lucie, Florida                                                                         102\n",
       "Gander Mountain stores in Thornton and Aurora, Colo.; Bass Pro Shop in Denver, Colo.; BulkAmmo.com                  82\n",
       "Purchased variously online and from Roanoke Firearms in Roanoke, Va.                                                55\n",
       "Purchased in April 2016 from an Academy Sports & Outdoors store in San Antonio                                      46\n",
       "Mike's Gun Shop in Henderson, Nev.                                                                                  44\n",
       "Guns Galore in Kileen, Texas                                                                                        44\n",
       "Purchased variously at Tanner Gun Show in Denver, Colo. and from an individual                                      37\n",
       "Sandy Trading Post in Sandy, Ore.; Hunter Loan and Jewelry Co. in Stockton, Calif.                                  35\n",
       "The suspects purchased their handguns in the United States; the assault rifles were purchased by a third party.     35\n",
       "A Florida pawn shop                                                                                                 34\n",
       "A gun store in Simi Valley                                                                                          34\n",
       "Stolen from mother                                                                                                  29\n",
       "Name: Total_victims, dtype: int64"
      ]
     },
     "execution_count": 62,
     "metadata": {},
     "output_type": "execute_result"
    }
   ],
   "source": [
    "df2.groupby(['Where_obtained']).sum()['Total_victims'].sort_values(ascending  = False) [:15]"
   ]
  },
  {
   "cell_type": "code",
   "execution_count": null,
   "id": "093f5a27",
   "metadata": {},
   "outputs": [],
   "source": []
  },
  {
   "cell_type": "code",
   "execution_count": 63,
   "id": "7972a9f8",
   "metadata": {},
   "outputs": [
    {
     "data": {
      "text/plain": [
       "Weapon_type\n",
       "23 firearms, mostly rifles; including scopes, and two modified for \"fully automatic\" firing; two were mounted on tripods                                                                                                                                                                                                                                                                                 604\n",
       "semiautomatic rifle                                                                                                                                                                                                                                                                                                                                                                                      234\n",
       "One semiautomatic handgun                                                                                                                                                                                                                                                                                                                                                                                201\n",
       "Two semiautomatic handguns                                                                                                                                                                                                                                                                                                                                                                               150\n",
       "Semiautomatic rifle, semiautomatic handgun                                                                                                                                                                                                                                                                                                                                                               119\n",
       "Two semiautomatic handguns, one rifle (assault), one shotgun                                                                                                                                                                                                                                                                                                                                              91\n",
       "semiautomatic handgun                                                                                                                                                                                                                                                                                                                                                                                     88\n",
       "One rifle (assault)                                                                                                                                                                                                                                                                                                                                                                                       55\n",
       "One semiautomatic handgun, one rifle (assault), one shotgun                                                                                                                                                                                                                                                                                                                                               48\n",
       "One semiautomatic handgun (assault), one rifle (assault), two shotguns                                                                                                                                                                                                                                                                                                                                    37\n",
       "Two assault rifles and two semi-automatic pistols were used in the attack. Police found a remote controlled explosive device at the scene of the crime. At the home were 12 pipe bombs, 2,500 rounds for the AR-15 variants, 2,000 rounds for the pistols, and several hundred for a .22 calibre rifle. In the suspects' car were an additional 1,400 rounds for the rifles and 200 for the handguns.     35\n",
       "One semiautomatic handgun, one rifle (assault)                                                                                                                                                                                                                                                                                                                                                            35\n",
       "handgun                                                                                                                                                                                                                                                                                                                                                                                                   34\n",
       "Two semiautomatic handguns, one rifle                                                                                                                                                                                                                                                                                                                                                                     29\n",
       "Two semiautomatic handguns, one rifle (assault), one shotgun (assault)                                                                                                                                                                                                                                                                                                                                    29\n",
       "Name: Total_victims, dtype: int64"
      ]
     },
     "execution_count": 63,
     "metadata": {},
     "output_type": "execute_result"
    }
   ],
   "source": [
    "df2.groupby(['Weapon_type']).sum()['Total_victims'].sort_values(ascending  = False) [:15]"
   ]
  },
  {
   "cell_type": "code",
   "execution_count": null,
   "id": "3a3d455f",
   "metadata": {},
   "outputs": [],
   "source": []
  },
  {
   "cell_type": "code",
   "execution_count": 64,
   "id": "42393509",
   "metadata": {},
   "outputs": [
    {
     "name": "stderr",
     "output_type": "stream",
     "text": [
      "C:\\swsetup\\New folder\\lib\\site-packages\\seaborn\\_decorators.py:36: FutureWarning: Pass the following variable as a keyword arg: x. From version 0.12, the only valid positional argument will be `data`, and passing other arguments without an explicit keyword will result in an error or misinterpretation.\n",
      "  warnings.warn(\n"
     ]
    },
    {
     "data": {
      "text/plain": [
       "<AxesSubplot:xlabel='Race', ylabel='count'>"
      ]
     },
     "execution_count": 64,
     "metadata": {},
     "output_type": "execute_result"
    },
    {
     "data": {
      "image/png": "[encoded data removed]",
      "text/plain": [
       "<Figure size 432x288 with 1 Axes>"
      ]
     },
     "metadata": {
      "needs_background": "light"
     },
     "output_type": "display_data"
    }
   ],
   "source": [
    "sns.countplot(df2['Race'])"
   ]
  },
  {
   "cell_type": "code",
   "execution_count": null,
   "id": "5ee7465e",
   "metadata": {},
   "outputs": [],
   "source": []
  },
  {
   "cell_type": "code",
   "execution_count": 65,
   "id": "740b222f",
   "metadata": {
    "scrolled": true
   },
   "outputs": [
    {
     "data": {
      "text/plain": [
       "Race\n",
       "White              982\n",
       "white              730\n",
       "Other              206\n",
       "Black              118\n",
       "-                  113\n",
       "Asian              110\n",
       "black               91\n",
       "Latino              77\n",
       "Native American     27\n",
       "unclear              6\n",
       "White                3\n",
       "Name: Total_victims, dtype: int64"
      ]
     },
     "execution_count": 65,
     "metadata": {},
     "output_type": "execute_result"
    }
   ],
   "source": [
    "df2.groupby(['Race']).sum()['Total_victims'].sort_values(ascending  = False) [:15]"
   ]
  },
  {
   "cell_type": "code",
   "execution_count": null,
   "id": "3bf68f71",
   "metadata": {},
   "outputs": [],
   "source": []
  },
  {
   "cell_type": "code",
   "execution_count": 66,
   "id": "8c6b266f",
   "metadata": {},
   "outputs": [
    {
     "name": "stderr",
     "output_type": "stream",
     "text": [
      "C:\\swsetup\\New folder\\lib\\site-packages\\seaborn\\_decorators.py:36: FutureWarning: Pass the following variable as a keyword arg: x. From version 0.12, the only valid positional argument will be `data`, and passing other arguments without an explicit keyword will result in an error or misinterpretation.\n",
      "  warnings.warn(\n"
     ]
    },
    {
     "data": {
      "text/plain": [
       "<AxesSubplot:xlabel='Gender', ylabel='count'>"
      ]
     },
     "execution_count": 66,
     "metadata": {},
     "output_type": "execute_result"
    },
    {
     "data": {
      "image/png": "[encoded data removed]",
      "text/plain": [
       "<Figure size 432x288 with 1 Axes>"
      ]
     },
     "metadata": {
      "needs_background": "light"
     },
     "output_type": "display_data"
    }
   ],
   "source": [
    "sns.countplot(df2['Gender'])"
   ]
  },
  {
   "cell_type": "code",
   "execution_count": null,
   "id": "f897ee9f",
   "metadata": {},
   "outputs": [],
   "source": []
  },
  {
   "cell_type": "code",
   "execution_count": 67,
   "id": "802856e0",
   "metadata": {
    "scrolled": false
   },
   "outputs": [
    {
     "data": {
      "text/plain": [
       "<AxesSubplot:xlabel='Gender'>"
      ]
     },
     "execution_count": 67,
     "metadata": {},
     "output_type": "execute_result"
    },
    {
     "data": {
      "image/png": "[encoded data removed]",
      "text/plain": [
       "<Figure size 864x432 with 1 Axes>"
      ]
     },
     "metadata": {
      "needs_background": "light"
     },
     "output_type": "display_data"
    }
   ],
   "source": [
    "df2.groupby(['Gender']).sum()['Total_victims'].sort_values(ascending  = False) [:15].plot(kind='bar',figsize = (12,6))"
   ]
  },
  {
   "cell_type": "code",
   "execution_count": null,
   "id": "7e578ae6",
   "metadata": {},
   "outputs": [],
   "source": []
  },
  {
   "cell_type": "code",
   "execution_count": 68,
   "id": "fd148afc",
   "metadata": {},
   "outputs": [
    {
     "name": "stderr",
     "output_type": "stream",
     "text": [
      "C:\\swsetup\\New folder\\lib\\site-packages\\seaborn\\_decorators.py:36: FutureWarning: Pass the following variable as a keyword arg: x. From version 0.12, the only valid positional argument will be `data`, and passing other arguments without an explicit keyword will result in an error or misinterpretation.\n",
      "  warnings.warn(\n"
     ]
    },
    {
     "data": {
      "text/plain": [
       "<AxesSubplot:xlabel='Year', ylabel='count'>"
      ]
     },
     "execution_count": 68,
     "metadata": {},
     "output_type": "execute_result"
    },
    {
     "data": {
      "image/png": "[encoded data removed]",
      "text/plain": [
       "<Figure size 432x288 with 1 Axes>"
      ]
     },
     "metadata": {
      "needs_background": "light"
     },
     "output_type": "display_data"
    }
   ],
   "source": [
    "sns.countplot(df2['Year'])"
   ]
  },
  {
   "cell_type": "code",
   "execution_count": null,
   "id": "4a4efa48",
   "metadata": {},
   "outputs": [],
   "source": []
  },
  {
   "cell_type": "code",
   "execution_count": 69,
   "id": "9b21fcc7",
   "metadata": {},
   "outputs": [
    {
     "data": {
      "text/plain": [
       "<AxesSubplot:xlabel='Year'>"
      ]
     },
     "execution_count": 69,
     "metadata": {},
     "output_type": "execute_result"
    },
    {
     "data": {
      "image/png": "[encoded data removed]",
      "text/plain": [
       "<Figure size 648x324 with 1 Axes>"
      ]
     },
     "metadata": {
      "needs_background": "light"
     },
     "output_type": "display_data"
    }
   ],
   "source": [
    "df2.groupby(['Year']).sum()['Total_victims'].sort_values(ascending  = False) [:15].plot(kind = 'bar', figsize = (9,4.5))"
   ]
  },
  {
   "cell_type": "code",
   "execution_count": 70,
   "id": "53fee59c",
   "metadata": {
    "scrolled": true
   },
   "outputs": [
    {
     "data": {
      "text/plain": [
       "<AxesSubplot:xlabel='Year'>"
      ]
     },
     "execution_count": 70,
     "metadata": {},
     "output_type": "execute_result"
    },
    {
     "data": {
      "image/png": "[encoded data removed]",
      "text/plain": [
       "<Figure size 648x324 with 1 Axes>"
      ]
     },
     "metadata": {
      "needs_background": "light"
     },
     "output_type": "display_data"
    }
   ],
   "source": [
    "df2.groupby(['Year']).sum()['Total_victims'].sort_values(ascending  = False) [:15].plot(kind = 'line', figsize = (9,4.5))"
   ]
  },
  {
   "cell_type": "code",
   "execution_count": null,
   "id": "701d6c1f",
   "metadata": {},
   "outputs": [],
   "source": []
  },
  {
   "cell_type": "code",
   "execution_count": 71,
   "id": "98d0e5f2",
   "metadata": {},
   "outputs": [
    {
     "name": "stderr",
     "output_type": "stream",
     "text": [
      "C:\\swsetup\\New folder\\lib\\site-packages\\seaborn\\_decorators.py:36: FutureWarning: Pass the following variable as a keyword arg: x. From version 0.12, the only valid positional argument will be `data`, and passing other arguments without an explicit keyword will result in an error or misinterpretation.\n",
      "  warnings.warn(\n"
     ]
    },
    {
     "data": {
      "text/plain": [
       "<AxesSubplot:xlabel='Type', ylabel='count'>"
      ]
     },
     "execution_count": 71,
     "metadata": {},
     "output_type": "execute_result"
    },
    {
     "data": {
      "image/png": "[encoded data removed]",
      "text/plain": [
       "<Figure size 432x288 with 1 Axes>"
      ]
     },
     "metadata": {
      "needs_background": "light"
     },
     "output_type": "display_data"
    }
   ],
   "source": [
    "sns.countplot(df2['Type'])"
   ]
  },
  {
   "cell_type": "code",
   "execution_count": null,
   "id": "20f9e54f",
   "metadata": {},
   "outputs": [],
   "source": []
  },
  {
   "cell_type": "code",
   "execution_count": 72,
   "id": "b14a3cc6",
   "metadata": {
    "scrolled": true
   },
   "outputs": [
    {
     "data": {
      "text/plain": [
       "Type\n",
       "Mass     2185\n",
       "Spree     278\n",
       "Name: Total_victims, dtype: int64"
      ]
     },
     "execution_count": 72,
     "metadata": {},
     "output_type": "execute_result"
    }
   ],
   "source": [
    "df2.groupby(['Type']).sum()['Total_victims'].sort_values(ascending  = False) [:15]"
   ]
  },
  {
   "cell_type": "code",
   "execution_count": null,
   "id": "63cdd0ae",
   "metadata": {},
   "outputs": [],
   "source": []
  },
  {
   "cell_type": "code",
   "execution_count": 73,
   "id": "00d778aa",
   "metadata": {},
   "outputs": [
    {
     "data": {
      "text/plain": [
       "<AxesSubplot:xlabel='Month'>"
      ]
     },
     "execution_count": 73,
     "metadata": {},
     "output_type": "execute_result"
    },
    {
     "data": {
      "image/png": "[encoded data removed]",
      "text/plain": [
       "<Figure size 648x324 with 1 Axes>"
      ]
     },
     "metadata": {
      "needs_background": "light"
     },
     "output_type": "display_data"
    }
   ],
   "source": [
    "df2.groupby(['Month']).sum()['Total_victims'].sort_values(ascending  = False) [:15].plot(kind = 'line', figsize = (9,4.5))"
   ]
  },
  {
   "cell_type": "code",
   "execution_count": null,
   "id": "3fedbb76",
   "metadata": {},
   "outputs": [],
   "source": []
  },
  {
   "cell_type": "code",
   "execution_count": 74,
   "id": "2d0d8a46",
   "metadata": {
    "scrolled": true
   },
   "outputs": [
    {
     "data": {
      "text/html": [
       "<div>\n",
       "<style scoped>\n",
       "    .dataframe tbody tr th:only-of-type {\n",
       "        vertical-align: middle;\n",
       "    }\n",
       "\n",
       "    .dataframe tbody tr th {\n",
       "        vertical-align: top;\n",
       "    }\n",
       "\n",
       "    .dataframe thead th {\n",
       "        text-align: right;\n",
       "    }\n",
       "</style>\n",
       "<table border=\"1\" class=\"dataframe\">\n",
       "  <thead>\n",
       "    <tr style=\"text-align: right;\">\n",
       "      <th></th>\n",
       "      <th>Case</th>\n",
       "      <th>Location</th>\n",
       "      <th>Date</th>\n",
       "      <th>Summary</th>\n",
       "      <th>Fatalities</th>\n",
       "      <th>Injured</th>\n",
       "      <th>Total_victims</th>\n",
       "      <th>Location.1</th>\n",
       "      <th>Age_of_shooter</th>\n",
       "      <th>Prior_signs_mental_health_issues</th>\n",
       "      <th>Mental_health_details</th>\n",
       "      <th>Weapons_obtained_legally</th>\n",
       "      <th>Where_obtained</th>\n",
       "      <th>Weapon_type</th>\n",
       "      <th>Weapon_details</th>\n",
       "      <th>Race</th>\n",
       "      <th>Gender</th>\n",
       "      <th>Latitude</th>\n",
       "      <th>Longitude</th>\n",
       "      <th>Type</th>\n",
       "      <th>Year</th>\n",
       "      <th>Month</th>\n",
       "    </tr>\n",
       "  </thead>\n",
       "  <tbody>\n",
       "    <tr>\n",
       "      <th>0</th>\n",
       "      <td>Sacramento County church shooting</td>\n",
       "      <td>Sacramento, California</td>\n",
       "      <td>2022-02-28</td>\n",
       "      <td>\"A man believed to be meeting his three childr...</td>\n",
       "      <td>4</td>\n",
       "      <td>0</td>\n",
       "      <td>4</td>\n",
       "      <td>Religious</td>\n",
       "      <td>-</td>\n",
       "      <td>-</td>\n",
       "      <td>-</td>\n",
       "      <td>-</td>\n",
       "      <td>-</td>\n",
       "      <td>-</td>\n",
       "      <td>-</td>\n",
       "      <td>-</td>\n",
       "      <td>M</td>\n",
       "      <td>38.60111</td>\n",
       "      <td>-121.418966</td>\n",
       "      <td>Mass</td>\n",
       "      <td>2022</td>\n",
       "      <td>2</td>\n",
       "    </tr>\n",
       "  </tbody>\n",
       "</table>\n",
       "</div>"
      ],
      "text/plain": [
       "                                Case                Location       Date  \\\n",
       "0  Sacramento County church shooting  Sacramento, California 2022-02-28   \n",
       "\n",
       "                                             Summary  Fatalities  Injured  \\\n",
       "0  \"A man believed to be meeting his three childr...           4        0   \n",
       "\n",
       "   Total_victims Location.1 Age_of_shooter Prior_signs_mental_health_issues  \\\n",
       "0              4  Religious              -                                -   \n",
       "\n",
       "  Mental_health_details Weapons_obtained_legally Where_obtained Weapon_type  \\\n",
       "0                     -                        -              -           -   \n",
       "\n",
       "  Weapon_details Race Gender  Latitude   Longitude  Type  Year  Month  \n",
       "0              -    -      M  38.60111 -121.418966  Mass  2022      2  "
      ]
     },
     "execution_count": 74,
     "metadata": {},
     "output_type": "execute_result"
    }
   ],
   "source": [
    "df2.head(1)"
   ]
  },
  {
   "cell_type": "code",
   "execution_count": null,
   "id": "1a1f5684",
   "metadata": {},
   "outputs": [],
   "source": []
  },
  {
   "cell_type": "code",
   "execution_count": null,
   "id": "2fb72db9",
   "metadata": {},
   "outputs": [],
   "source": []
  },
  {
   "cell_type": "code",
   "execution_count": 75,
   "id": "5e7880eb",
   "metadata": {},
   "outputs": [
    {
     "data": {
      "text/html": [
       "<div>\n",
       "<style scoped>\n",
       "    .dataframe tbody tr th:only-of-type {\n",
       "        vertical-align: middle;\n",
       "    }\n",
       "\n",
       "    .dataframe tbody tr th {\n",
       "        vertical-align: top;\n",
       "    }\n",
       "\n",
       "    .dataframe thead th {\n",
       "        text-align: right;\n",
       "    }\n",
       "</style>\n",
       "<table border=\"1\" class=\"dataframe\">\n",
       "  <thead>\n",
       "    <tr style=\"text-align: right;\">\n",
       "      <th></th>\n",
       "      <th>Location.1</th>\n",
       "      <th>Total_victims</th>\n",
       "    </tr>\n",
       "  </thead>\n",
       "  <tbody>\n",
       "    <tr>\n",
       "      <th>0</th>\n",
       "      <td>Religious</td>\n",
       "      <td>4</td>\n",
       "    </tr>\n",
       "    <tr>\n",
       "      <th>1</th>\n",
       "      <td>School</td>\n",
       "      <td>11</td>\n",
       "    </tr>\n",
       "    <tr>\n",
       "      <th>2</th>\n",
       "      <td>Workplace</td>\n",
       "      <td>9</td>\n",
       "    </tr>\n",
       "    <tr>\n",
       "      <th>3</th>\n",
       "      <td>Workplace</td>\n",
       "      <td>15</td>\n",
       "    </tr>\n",
       "    <tr>\n",
       "      <th>4</th>\n",
       "      <td>Workplace</td>\n",
       "      <td>5</td>\n",
       "    </tr>\n",
       "    <tr>\n",
       "      <th>...</th>\n",
       "      <td>...</td>\n",
       "      <td>...</td>\n",
       "    </tr>\n",
       "    <tr>\n",
       "      <th>121</th>\n",
       "      <td>Other</td>\n",
       "      <td>20</td>\n",
       "    </tr>\n",
       "    <tr>\n",
       "      <th>122</th>\n",
       "      <td>Workplace</td>\n",
       "      <td>21</td>\n",
       "    </tr>\n",
       "    <tr>\n",
       "      <th>123</th>\n",
       "      <td>Other</td>\n",
       "      <td>41</td>\n",
       "    </tr>\n",
       "    <tr>\n",
       "      <th>124</th>\n",
       "      <td>Other</td>\n",
       "      <td>7</td>\n",
       "    </tr>\n",
       "    <tr>\n",
       "      <th>125</th>\n",
       "      <td>Other</td>\n",
       "      <td>11</td>\n",
       "    </tr>\n",
       "  </tbody>\n",
       "</table>\n",
       "<p>126 rows × 2 columns</p>\n",
       "</div>"
      ],
      "text/plain": [
       "    Location.1  Total_victims\n",
       "0    Religious              4\n",
       "1       School             11\n",
       "2    Workplace              9\n",
       "3    Workplace             15\n",
       "4    Workplace              5\n",
       "..         ...            ...\n",
       "121      Other             20\n",
       "122  Workplace             21\n",
       "123      Other             41\n",
       "124      Other              7\n",
       "125      Other             11\n",
       "\n",
       "[126 rows x 2 columns]"
      ]
     },
     "execution_count": 75,
     "metadata": {},
     "output_type": "execute_result"
    }
   ],
   "source": [
    "df2[['Location.1', 'Total_victims']]"
   ]
  },
  {
   "cell_type": "code",
   "execution_count": 76,
   "id": "32da025a",
   "metadata": {},
   "outputs": [],
   "source": [
    "df_loc_t = df2[['Location.1', 'Total_victims']]"
   ]
  },
  {
   "cell_type": "code",
   "execution_count": 77,
   "id": "9ab3762f",
   "metadata": {
    "scrolled": true
   },
   "outputs": [
    {
     "data": {
      "text/html": [
       "<div>\n",
       "<style scoped>\n",
       "    .dataframe tbody tr th:only-of-type {\n",
       "        vertical-align: middle;\n",
       "    }\n",
       "\n",
       "    .dataframe tbody tr th {\n",
       "        vertical-align: top;\n",
       "    }\n",
       "\n",
       "    .dataframe thead th {\n",
       "        text-align: right;\n",
       "    }\n",
       "</style>\n",
       "<table border=\"1\" class=\"dataframe\">\n",
       "  <thead>\n",
       "    <tr style=\"text-align: right;\">\n",
       "      <th></th>\n",
       "      <th>Location.1</th>\n",
       "      <th>Total_victims</th>\n",
       "    </tr>\n",
       "  </thead>\n",
       "  <tbody>\n",
       "    <tr>\n",
       "      <th>13</th>\n",
       "      <td>Workplace</td>\n",
       "      <td>48</td>\n",
       "    </tr>\n",
       "    <tr>\n",
       "      <th>98</th>\n",
       "      <td>Workplace</td>\n",
       "      <td>22</td>\n",
       "    </tr>\n",
       "    <tr>\n",
       "      <th>122</th>\n",
       "      <td>Workplace</td>\n",
       "      <td>21</td>\n",
       "    </tr>\n",
       "    <tr>\n",
       "      <th>118</th>\n",
       "      <td>Workplace</td>\n",
       "      <td>21</td>\n",
       "    </tr>\n",
       "    <tr>\n",
       "      <th>46</th>\n",
       "      <td>Workplace</td>\n",
       "      <td>17</td>\n",
       "    </tr>\n",
       "    <tr>\n",
       "      <th>15</th>\n",
       "      <td>Workplace</td>\n",
       "      <td>16</td>\n",
       "    </tr>\n",
       "    <tr>\n",
       "      <th>3</th>\n",
       "      <td>Workplace</td>\n",
       "      <td>15</td>\n",
       "    </tr>\n",
       "    <tr>\n",
       "      <th>92</th>\n",
       "      <td>Workplace</td>\n",
       "      <td>15</td>\n",
       "    </tr>\n",
       "    <tr>\n",
       "      <th>49</th>\n",
       "      <td>Workplace</td>\n",
       "      <td>12</td>\n",
       "    </tr>\n",
       "    <tr>\n",
       "      <th>16</th>\n",
       "      <td>Workplace</td>\n",
       "      <td>11</td>\n",
       "    </tr>\n",
       "  </tbody>\n",
       "</table>\n",
       "</div>"
      ],
      "text/plain": [
       "    Location.1  Total_victims\n",
       "13   Workplace             48\n",
       "98   Workplace             22\n",
       "122  Workplace             21\n",
       "118  Workplace             21\n",
       "46   Workplace             17\n",
       "15   Workplace             16\n",
       "3    Workplace             15\n",
       "92   Workplace             15\n",
       "49   Workplace             12\n",
       "16   Workplace             11"
      ]
     },
     "execution_count": 77,
     "metadata": {},
     "output_type": "execute_result"
    }
   ],
   "source": [
    "df_loc_t[df_loc_t['Location.1'] =='Workplace'].sort_values(by = 'Total_victims',ascending = False)[:10]"
   ]
  },
  {
   "cell_type": "code",
   "execution_count": null,
   "id": "4f0144d5",
   "metadata": {},
   "outputs": [],
   "source": []
  },
  {
   "cell_type": "code",
   "execution_count": 78,
   "id": "37a8bd5f",
   "metadata": {},
   "outputs": [
    {
     "data": {
      "text/html": [
       "<div>\n",
       "<style scoped>\n",
       "    .dataframe tbody tr th:only-of-type {\n",
       "        vertical-align: middle;\n",
       "    }\n",
       "\n",
       "    .dataframe tbody tr th {\n",
       "        vertical-align: top;\n",
       "    }\n",
       "\n",
       "    .dataframe thead th {\n",
       "        text-align: right;\n",
       "    }\n",
       "</style>\n",
       "<table border=\"1\" class=\"dataframe\">\n",
       "  <thead>\n",
       "    <tr style=\"text-align: right;\">\n",
       "      <th></th>\n",
       "      <th>Location.1</th>\n",
       "      <th>Total_victims</th>\n",
       "    </tr>\n",
       "  </thead>\n",
       "  <tbody>\n",
       "    <tr>\n",
       "      <th>84</th>\n",
       "      <td>School</td>\n",
       "      <td>55</td>\n",
       "    </tr>\n",
       "    <tr>\n",
       "      <th>99</th>\n",
       "      <td>School</td>\n",
       "      <td>37</td>\n",
       "    </tr>\n",
       "    <tr>\n",
       "      <th>119</th>\n",
       "      <td>School</td>\n",
       "      <td>35</td>\n",
       "    </tr>\n",
       "    <tr>\n",
       "      <th>29</th>\n",
       "      <td>School</td>\n",
       "      <td>34</td>\n",
       "    </tr>\n",
       "    <tr>\n",
       "      <th>64</th>\n",
       "      <td>School</td>\n",
       "      <td>29</td>\n",
       "    </tr>\n",
       "    <tr>\n",
       "      <th>100</th>\n",
       "      <td>School</td>\n",
       "      <td>29</td>\n",
       "    </tr>\n",
       "    <tr>\n",
       "      <th>80</th>\n",
       "      <td>School</td>\n",
       "      <td>26</td>\n",
       "    </tr>\n",
       "    <tr>\n",
       "      <th>26</th>\n",
       "      <td>School</td>\n",
       "      <td>23</td>\n",
       "    </tr>\n",
       "    <tr>\n",
       "      <th>56</th>\n",
       "      <td>School</td>\n",
       "      <td>19</td>\n",
       "    </tr>\n",
       "    <tr>\n",
       "      <th>51</th>\n",
       "      <td>School</td>\n",
       "      <td>18</td>\n",
       "    </tr>\n",
       "  </tbody>\n",
       "</table>\n",
       "</div>"
      ],
      "text/plain": [
       "    Location.1  Total_victims\n",
       "84      School             55\n",
       "99      School             37\n",
       "119     School             35\n",
       "29      School             34\n",
       "64      School             29\n",
       "100     School             29\n",
       "80      School             26\n",
       "26      School             23\n",
       "56      School             19\n",
       "51      School             18"
      ]
     },
     "execution_count": 78,
     "metadata": {},
     "output_type": "execute_result"
    }
   ],
   "source": [
    "df_loc_t[df_loc_t['Location.1'] =='School'].sort_values(by = 'Total_victims',ascending = False)[:10]"
   ]
  },
  {
   "cell_type": "code",
   "execution_count": null,
   "id": "dd0b63c3",
   "metadata": {},
   "outputs": [],
   "source": []
  },
  {
   "cell_type": "code",
   "execution_count": 79,
   "id": "2ccac67c",
   "metadata": {},
   "outputs": [
    {
     "data": {
      "text/html": [
       "<div>\n",
       "<style scoped>\n",
       "    .dataframe tbody tr th:only-of-type {\n",
       "        vertical-align: middle;\n",
       "    }\n",
       "\n",
       "    .dataframe tbody tr th {\n",
       "        vertical-align: top;\n",
       "    }\n",
       "\n",
       "    .dataframe thead th {\n",
       "        text-align: right;\n",
       "    }\n",
       "</style>\n",
       "<table border=\"1\" class=\"dataframe\">\n",
       "  <thead>\n",
       "    <tr style=\"text-align: right;\">\n",
       "      <th></th>\n",
       "      <th>Location.1</th>\n",
       "      <th>Total_victims</th>\n",
       "    </tr>\n",
       "  </thead>\n",
       "  <tbody>\n",
       "    <tr>\n",
       "      <th>32</th>\n",
       "      <td>Religious</td>\n",
       "      <td>46</td>\n",
       "    </tr>\n",
       "    <tr>\n",
       "      <th>21</th>\n",
       "      <td>Religious</td>\n",
       "      <td>17</td>\n",
       "    </tr>\n",
       "    <tr>\n",
       "      <th>97</th>\n",
       "      <td>Religious</td>\n",
       "      <td>15</td>\n",
       "    </tr>\n",
       "    <tr>\n",
       "      <th>90</th>\n",
       "      <td>Religious</td>\n",
       "      <td>11</td>\n",
       "    </tr>\n",
       "    <tr>\n",
       "      <th>53</th>\n",
       "      <td>Religious</td>\n",
       "      <td>10</td>\n",
       "    </tr>\n",
       "    <tr>\n",
       "      <th>66</th>\n",
       "      <td>Religious</td>\n",
       "      <td>10</td>\n",
       "    </tr>\n",
       "    <tr>\n",
       "      <th>0</th>\n",
       "      <td>Religious</td>\n",
       "      <td>4</td>\n",
       "    </tr>\n",
       "  </tbody>\n",
       "</table>\n",
       "</div>"
      ],
      "text/plain": [
       "   Location.1  Total_victims\n",
       "32  Religious             46\n",
       "21  Religious             17\n",
       "97  Religious             15\n",
       "90  Religious             11\n",
       "53  Religious             10\n",
       "66  Religious             10\n",
       "0   Religious              4"
      ]
     },
     "execution_count": 79,
     "metadata": {},
     "output_type": "execute_result"
    }
   ],
   "source": [
    "df_loc_t[df_loc_t['Location.1'] =='Religious'].sort_values(by = 'Total_victims',ascending = False)[:10]"
   ]
  },
  {
   "cell_type": "code",
   "execution_count": null,
   "id": "c36d27e0",
   "metadata": {},
   "outputs": [],
   "source": []
  },
  {
   "cell_type": "code",
   "execution_count": 80,
   "id": "b842a3ac",
   "metadata": {
    "scrolled": true
   },
   "outputs": [
    {
     "data": {
      "text/html": [
       "<div>\n",
       "<style scoped>\n",
       "    .dataframe tbody tr th:only-of-type {\n",
       "        vertical-align: middle;\n",
       "    }\n",
       "\n",
       "    .dataframe tbody tr th {\n",
       "        vertical-align: top;\n",
       "    }\n",
       "\n",
       "    .dataframe thead th {\n",
       "        text-align: right;\n",
       "    }\n",
       "</style>\n",
       "<table border=\"1\" class=\"dataframe\">\n",
       "  <thead>\n",
       "    <tr style=\"text-align: right;\">\n",
       "      <th>Type</th>\n",
       "      <th>Mass</th>\n",
       "      <th>Spree</th>\n",
       "    </tr>\n",
       "    <tr>\n",
       "      <th>Year</th>\n",
       "      <th></th>\n",
       "      <th></th>\n",
       "    </tr>\n",
       "  </thead>\n",
       "  <tbody>\n",
       "    <tr>\n",
       "      <th>2017</th>\n",
       "      <td>69.0</td>\n",
       "      <td>15.0</td>\n",
       "    </tr>\n",
       "    <tr>\n",
       "      <th>2016</th>\n",
       "      <td>30.0</td>\n",
       "      <td>6.0</td>\n",
       "    </tr>\n",
       "    <tr>\n",
       "      <th>1989</th>\n",
       "      <td>28.0</td>\n",
       "      <td>-</td>\n",
       "    </tr>\n",
       "    <tr>\n",
       "      <th>1994</th>\n",
       "      <td>28.0</td>\n",
       "      <td>-</td>\n",
       "    </tr>\n",
       "    <tr>\n",
       "      <th>1991</th>\n",
       "      <td>27.0</td>\n",
       "      <td>7.0</td>\n",
       "    </tr>\n",
       "    <tr>\n",
       "      <th>1999</th>\n",
       "      <td>25.0</td>\n",
       "      <td>8.0</td>\n",
       "    </tr>\n",
       "    <tr>\n",
       "      <th>2007</th>\n",
       "      <td>24.0</td>\n",
       "      <td>13.0</td>\n",
       "    </tr>\n",
       "    <tr>\n",
       "      <th>1984</th>\n",
       "      <td>24.0</td>\n",
       "      <td>-</td>\n",
       "    </tr>\n",
       "    <tr>\n",
       "      <th>1986</th>\n",
       "      <td>21.0</td>\n",
       "      <td>-</td>\n",
       "    </tr>\n",
       "    <tr>\n",
       "      <th>2019</th>\n",
       "      <td>20.0</td>\n",
       "      <td>14.0</td>\n",
       "    </tr>\n",
       "    <tr>\n",
       "      <th>2009</th>\n",
       "      <td>20.0</td>\n",
       "      <td>-</td>\n",
       "    </tr>\n",
       "    <tr>\n",
       "      <th>2008</th>\n",
       "      <td>17.0</td>\n",
       "      <td>7.0</td>\n",
       "    </tr>\n",
       "    <tr>\n",
       "      <th>1998</th>\n",
       "      <td>17.0</td>\n",
       "      <td>-</td>\n",
       "    </tr>\n",
       "    <tr>\n",
       "      <th>2003</th>\n",
       "      <td>15.0</td>\n",
       "      <td>-</td>\n",
       "    </tr>\n",
       "    <tr>\n",
       "      <th>2005</th>\n",
       "      <td>15.0</td>\n",
       "      <td>11.0</td>\n",
       "    </tr>\n",
       "    <tr>\n",
       "      <th>1990</th>\n",
       "      <td>14.0</td>\n",
       "      <td>-</td>\n",
       "    </tr>\n",
       "    <tr>\n",
       "      <th>2014</th>\n",
       "      <td>13.0</td>\n",
       "      <td>6.0</td>\n",
       "    </tr>\n",
       "    <tr>\n",
       "      <th>2011</th>\n",
       "      <td>13.0</td>\n",
       "      <td>-</td>\n",
       "    </tr>\n",
       "    <tr>\n",
       "      <th>2018</th>\n",
       "      <td>13.0</td>\n",
       "      <td>5.0</td>\n",
       "    </tr>\n",
       "    <tr>\n",
       "      <th>2015</th>\n",
       "      <td>13.0</td>\n",
       "      <td>-</td>\n",
       "    </tr>\n",
       "    <tr>\n",
       "      <th>2004</th>\n",
       "      <td>12.0</td>\n",
       "      <td>-</td>\n",
       "    </tr>\n",
       "    <tr>\n",
       "      <th>2012</th>\n",
       "      <td>12.0</td>\n",
       "      <td>82.0</td>\n",
       "    </tr>\n",
       "    <tr>\n",
       "      <th>2010</th>\n",
       "      <td>11.0</td>\n",
       "      <td>-</td>\n",
       "    </tr>\n",
       "    <tr>\n",
       "      <th>1982</th>\n",
       "      <td>11.0</td>\n",
       "      <td>-</td>\n",
       "    </tr>\n",
       "    <tr>\n",
       "      <th>1988</th>\n",
       "      <td>11.0</td>\n",
       "      <td>-</td>\n",
       "    </tr>\n",
       "    <tr>\n",
       "      <th>1993</th>\n",
       "      <td>11.0</td>\n",
       "      <td>25.0</td>\n",
       "    </tr>\n",
       "    <tr>\n",
       "      <th>2021</th>\n",
       "      <td>10.0</td>\n",
       "      <td>9.0</td>\n",
       "    </tr>\n",
       "    <tr>\n",
       "      <th>2013</th>\n",
       "      <td>10.0</td>\n",
       "      <td>-</td>\n",
       "    </tr>\n",
       "    <tr>\n",
       "      <th>1992</th>\n",
       "      <td>10.0</td>\n",
       "      <td>-</td>\n",
       "    </tr>\n",
       "    <tr>\n",
       "      <th>2006</th>\n",
       "      <td>9.0</td>\n",
       "      <td>-</td>\n",
       "    </tr>\n",
       "    <tr>\n",
       "      <th>2001</th>\n",
       "      <td>9.0</td>\n",
       "      <td>-</td>\n",
       "    </tr>\n",
       "    <tr>\n",
       "      <th>2000</th>\n",
       "      <td>7.0</td>\n",
       "      <td>-</td>\n",
       "    </tr>\n",
       "    <tr>\n",
       "      <th>1997</th>\n",
       "      <td>7.0</td>\n",
       "      <td>7.0</td>\n",
       "    </tr>\n",
       "    <tr>\n",
       "      <th>1995</th>\n",
       "      <td>6.0</td>\n",
       "      <td>-</td>\n",
       "    </tr>\n",
       "    <tr>\n",
       "      <th>2020</th>\n",
       "      <td>4.0</td>\n",
       "      <td>-</td>\n",
       "    </tr>\n",
       "    <tr>\n",
       "      <th>2022</th>\n",
       "      <td>4.0</td>\n",
       "      <td>-</td>\n",
       "    </tr>\n",
       "    <tr>\n",
       "      <th>1987</th>\n",
       "      <td>-</td>\n",
       "      <td>20.0</td>\n",
       "    </tr>\n",
       "    <tr>\n",
       "      <th>1996</th>\n",
       "      <td>-</td>\n",
       "      <td>7.0</td>\n",
       "    </tr>\n",
       "  </tbody>\n",
       "</table>\n",
       "</div>"
      ],
      "text/plain": [
       "Type  Mass Spree\n",
       "Year            \n",
       "2017  69.0  15.0\n",
       "2016  30.0   6.0\n",
       "1989  28.0     -\n",
       "1994  28.0     -\n",
       "1991  27.0   7.0\n",
       "1999  25.0   8.0\n",
       "2007  24.0  13.0\n",
       "1984  24.0     -\n",
       "1986  21.0     -\n",
       "2019  20.0  14.0\n",
       "2009  20.0     -\n",
       "2008  17.0   7.0\n",
       "1998  17.0     -\n",
       "2003  15.0     -\n",
       "2005  15.0  11.0\n",
       "1990  14.0     -\n",
       "2014  13.0   6.0\n",
       "2011  13.0     -\n",
       "2018  13.0   5.0\n",
       "2015  13.0     -\n",
       "2004  12.0     -\n",
       "2012  12.0  82.0\n",
       "2010  11.0     -\n",
       "1982  11.0     -\n",
       "1988  11.0     -\n",
       "1993  11.0  25.0\n",
       "2021  10.0   9.0\n",
       "2013  10.0     -\n",
       "1992  10.0     -\n",
       "2006   9.0     -\n",
       "2001   9.0     -\n",
       "2000   7.0     -\n",
       "1997   7.0   7.0\n",
       "1995   6.0     -\n",
       "2020   4.0     -\n",
       "2022   4.0     -\n",
       "1987     -  20.0\n",
       "1996     -   7.0"
      ]
     },
     "execution_count": 80,
     "metadata": {},
     "output_type": "execute_result"
    }
   ],
   "source": [
    "df2.pivot_table(index = 'Year', columns = 'Type', values = 'Total_victims').sort_values(by = 'Mass',ascending  =  False).round(0).fillna('-')"
   ]
  },
  {
   "cell_type": "code",
   "execution_count": null,
   "id": "5ba77f3a",
   "metadata": {},
   "outputs": [],
   "source": []
  },
  {
   "cell_type": "code",
   "execution_count": null,
   "id": "1ab22111",
   "metadata": {},
   "outputs": [],
   "source": []
  },
  {
   "cell_type": "code",
   "execution_count": null,
   "id": "6e30f7b5",
   "metadata": {},
   "outputs": [],
   "source": []
  }
 ],
 "metadata": {
  "kernelspec": {
   "display_name": "Python 3 (ipykernel)",
   "language": "python",
   "name": "python3"
  },
  "language_info": {
   "codemirror_mode": {
    "name": "ipython",
    "version": 3
   },
   "file_extension": ".py",
   "mimetype": "text/x-python",
   "name": "python",
   "nbconvert_exporter": "python",
   "pygments_lexer": "ipython3",
   "version": "3.9.7"
  }
 },
 "nbformat": 4,
 "nbformat_minor": 5
}
