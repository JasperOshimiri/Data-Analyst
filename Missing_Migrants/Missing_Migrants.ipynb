# This is the analysis of casualties suffered by migrants all over the world from 2014 to 2022.
