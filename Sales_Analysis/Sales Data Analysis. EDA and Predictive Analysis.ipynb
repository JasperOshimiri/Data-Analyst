{
 "cells": [
  {
   "cell_type": "code",
   "execution_count": null,
   "id": "208e690e",
   "metadata": {},
   "outputs": [],
   "source": []
  },
  {
   "cell_type": "code",
   "execution_count": 51,
   "id": "ac8be46c",
   "metadata": {},
   "outputs": [],
   "source": [
    "import pandas as pd\n",
    "import numpy as np\n",
    "import matplotlib.pyplot as plt\n",
    "import plotly.express as px\n",
    "%matplotlib inline\n",
    "import seaborn as sns"
   ]
  },
  {
   "cell_type": "code",
   "execution_count": null,
   "id": "7c902441",
   "metadata": {},
   "outputs": [],
   "source": []
  },
  {
   "cell_type": "code",
   "execution_count": 52,
   "id": "acc8968b",
   "metadata": {},
   "outputs": [],
   "source": [
    "df = pd.read_csv('sales_data_sample.csv',encoding= 'unicode_escape')\n",
    "pd.set_option('display.max_columns', None)"
   ]
  },
  {
   "cell_type": "code",
   "execution_count": 101,
   "id": "5e0002d3",
   "metadata": {
    "scrolled": true
   },
   "outputs": [
    {
     "data": {
      "text/html": [
       "<div>\n",
       "<style scoped>\n",
       "    .dataframe tbody tr th:only-of-type {\n",
       "        vertical-align: middle;\n",
       "    }\n",
       "\n",
       "    .dataframe tbody tr th {\n",
       "        vertical-align: top;\n",
       "    }\n",
       "\n",
       "    .dataframe thead th {\n",
       "        text-align: right;\n",
       "    }\n",
       "</style>\n",
       "<table border=\"1\" class=\"dataframe\">\n",
       "  <thead>\n",
       "    <tr style=\"text-align: right;\">\n",
       "      <th></th>\n",
       "      <th>Ordernumber</th>\n",
       "      <th>Quantityordered</th>\n",
       "      <th>Priceeach</th>\n",
       "      <th>Orderlinenumber</th>\n",
       "      <th>Sales</th>\n",
       "      <th>Orderdate</th>\n",
       "      <th>Status</th>\n",
       "      <th>Qtr_id</th>\n",
       "      <th>Month_id</th>\n",
       "      <th>Year_id</th>\n",
       "      <th>Productline</th>\n",
       "      <th>Msrp</th>\n",
       "      <th>Productcode</th>\n",
       "      <th>Customername</th>\n",
       "      <th>Phone</th>\n",
       "      <th>Addressline1</th>\n",
       "      <th>Addressline2</th>\n",
       "      <th>City</th>\n",
       "      <th>State</th>\n",
       "      <th>Postalcode</th>\n",
       "      <th>Country</th>\n",
       "      <th>Territory</th>\n",
       "      <th>Contactlastname</th>\n",
       "      <th>Contactfirstname</th>\n",
       "      <th>Dealsize</th>\n",
       "      <th>Month</th>\n",
       "      <th>Day</th>\n",
       "    </tr>\n",
       "  </thead>\n",
       "  <tbody>\n",
       "    <tr>\n",
       "      <th>0</th>\n",
       "      <td>10107</td>\n",
       "      <td>30</td>\n",
       "      <td>95.70</td>\n",
       "      <td>2</td>\n",
       "      <td>2871.00</td>\n",
       "      <td>2003-02-24</td>\n",
       "      <td>Shipped</td>\n",
       "      <td>1</td>\n",
       "      <td>2</td>\n",
       "      <td>2003</td>\n",
       "      <td>Motorcycles</td>\n",
       "      <td>95</td>\n",
       "      <td>S10_1678</td>\n",
       "      <td>Land of Toys Inc.</td>\n",
       "      <td>2125557818</td>\n",
       "      <td>897 Long Airport Avenue</td>\n",
       "      <td></td>\n",
       "      <td>NYC</td>\n",
       "      <td>NY</td>\n",
       "      <td>10022</td>\n",
       "      <td>USA</td>\n",
       "      <td></td>\n",
       "      <td>Yu</td>\n",
       "      <td>Kwai</td>\n",
       "      <td>Small</td>\n",
       "      <td>2</td>\n",
       "      <td>24</td>\n",
       "    </tr>\n",
       "    <tr>\n",
       "      <th>1</th>\n",
       "      <td>10121</td>\n",
       "      <td>34</td>\n",
       "      <td>81.35</td>\n",
       "      <td>5</td>\n",
       "      <td>2765.90</td>\n",
       "      <td>2003-05-07</td>\n",
       "      <td>Shipped</td>\n",
       "      <td>2</td>\n",
       "      <td>5</td>\n",
       "      <td>2003</td>\n",
       "      <td>Motorcycles</td>\n",
       "      <td>95</td>\n",
       "      <td>S10_1678</td>\n",
       "      <td>Reims Collectables</td>\n",
       "      <td>26.47.1555</td>\n",
       "      <td>59 rue de l'Abbaye</td>\n",
       "      <td></td>\n",
       "      <td>Reims</td>\n",
       "      <td></td>\n",
       "      <td>51100</td>\n",
       "      <td>France</td>\n",
       "      <td>EMEA</td>\n",
       "      <td>Henriot</td>\n",
       "      <td>Paul</td>\n",
       "      <td>Small</td>\n",
       "      <td>5</td>\n",
       "      <td>7</td>\n",
       "    </tr>\n",
       "    <tr>\n",
       "      <th>2</th>\n",
       "      <td>10134</td>\n",
       "      <td>41</td>\n",
       "      <td>94.74</td>\n",
       "      <td>2</td>\n",
       "      <td>3884.34</td>\n",
       "      <td>2003-07-01</td>\n",
       "      <td>Shipped</td>\n",
       "      <td>3</td>\n",
       "      <td>7</td>\n",
       "      <td>2003</td>\n",
       "      <td>Motorcycles</td>\n",
       "      <td>95</td>\n",
       "      <td>S10_1678</td>\n",
       "      <td>Lyon Souveniers</td>\n",
       "      <td>+33 1 46 62 7555</td>\n",
       "      <td>27 rue du Colonel Pierre Avia</td>\n",
       "      <td></td>\n",
       "      <td>Paris</td>\n",
       "      <td></td>\n",
       "      <td>75508</td>\n",
       "      <td>France</td>\n",
       "      <td>EMEA</td>\n",
       "      <td>Da Cunha</td>\n",
       "      <td>Daniel</td>\n",
       "      <td>Medium</td>\n",
       "      <td>7</td>\n",
       "      <td>1</td>\n",
       "    </tr>\n",
       "    <tr>\n",
       "      <th>3</th>\n",
       "      <td>10145</td>\n",
       "      <td>45</td>\n",
       "      <td>83.26</td>\n",
       "      <td>6</td>\n",
       "      <td>3746.70</td>\n",
       "      <td>2003-08-25</td>\n",
       "      <td>Shipped</td>\n",
       "      <td>3</td>\n",
       "      <td>8</td>\n",
       "      <td>2003</td>\n",
       "      <td>Motorcycles</td>\n",
       "      <td>95</td>\n",
       "      <td>S10_1678</td>\n",
       "      <td>Toys4GrownUps.com</td>\n",
       "      <td>6265557265</td>\n",
       "      <td>78934 Hillside Dr.</td>\n",
       "      <td></td>\n",
       "      <td>Pasadena</td>\n",
       "      <td>CA</td>\n",
       "      <td>90003</td>\n",
       "      <td>USA</td>\n",
       "      <td></td>\n",
       "      <td>Young</td>\n",
       "      <td>Julie</td>\n",
       "      <td>Medium</td>\n",
       "      <td>8</td>\n",
       "      <td>25</td>\n",
       "    </tr>\n",
       "    <tr>\n",
       "      <th>4</th>\n",
       "      <td>10159</td>\n",
       "      <td>49</td>\n",
       "      <td>100.00</td>\n",
       "      <td>14</td>\n",
       "      <td>5205.27</td>\n",
       "      <td>2003-10-10</td>\n",
       "      <td>Shipped</td>\n",
       "      <td>4</td>\n",
       "      <td>10</td>\n",
       "      <td>2003</td>\n",
       "      <td>Motorcycles</td>\n",
       "      <td>95</td>\n",
       "      <td>S10_1678</td>\n",
       "      <td>Corporate Gift Ideas Co.</td>\n",
       "      <td>6505551386</td>\n",
       "      <td>7734 Strong St.</td>\n",
       "      <td></td>\n",
       "      <td>San Francisco</td>\n",
       "      <td>CA</td>\n",
       "      <td></td>\n",
       "      <td>USA</td>\n",
       "      <td></td>\n",
       "      <td>Brown</td>\n",
       "      <td>Julie</td>\n",
       "      <td>Medium</td>\n",
       "      <td>10</td>\n",
       "      <td>10</td>\n",
       "    </tr>\n",
       "  </tbody>\n",
       "</table>\n",
       "</div>"
      ],
      "text/plain": [
       "   Ordernumber  Quantityordered  Priceeach  Orderlinenumber    Sales  \\\n",
       "0        10107               30      95.70                2  2871.00   \n",
       "1        10121               34      81.35                5  2765.90   \n",
       "2        10134               41      94.74                2  3884.34   \n",
       "3        10145               45      83.26                6  3746.70   \n",
       "4        10159               49     100.00               14  5205.27   \n",
       "\n",
       "    Orderdate   Status  Qtr_id  Month_id  Year_id  Productline  Msrp  \\\n",
       "0  2003-02-24  Shipped       1         2     2003  Motorcycles    95   \n",
       "1  2003-05-07  Shipped       2         5     2003  Motorcycles    95   \n",
       "2  2003-07-01  Shipped       3         7     2003  Motorcycles    95   \n",
       "3  2003-08-25  Shipped       3         8     2003  Motorcycles    95   \n",
       "4  2003-10-10  Shipped       4        10     2003  Motorcycles    95   \n",
       "\n",
       "  Productcode              Customername             Phone  \\\n",
       "0    S10_1678         Land of Toys Inc.        2125557818   \n",
       "1    S10_1678        Reims Collectables        26.47.1555   \n",
       "2    S10_1678           Lyon Souveniers  +33 1 46 62 7555   \n",
       "3    S10_1678         Toys4GrownUps.com        6265557265   \n",
       "4    S10_1678  Corporate Gift Ideas Co.        6505551386   \n",
       "\n",
       "                    Addressline1 Addressline2           City State Postalcode  \\\n",
       "0        897 Long Airport Avenue                         NYC    NY      10022   \n",
       "1             59 rue de l'Abbaye                       Reims            51100   \n",
       "2  27 rue du Colonel Pierre Avia                       Paris            75508   \n",
       "3             78934 Hillside Dr.                    Pasadena    CA      90003   \n",
       "4                7734 Strong St.               San Francisco    CA              \n",
       "\n",
       "  Country Territory Contactlastname Contactfirstname Dealsize  Month  Day  \n",
       "0     USA                        Yu             Kwai    Small      2   24  \n",
       "1  France      EMEA         Henriot             Paul    Small      5    7  \n",
       "2  France      EMEA        Da Cunha           Daniel   Medium      7    1  \n",
       "3     USA                     Young            Julie   Medium      8   25  \n",
       "4     USA                     Brown            Julie   Medium     10   10  "
      ]
     },
     "execution_count": 101,
     "metadata": {},
     "output_type": "execute_result"
    }
   ],
   "source": [
    "df.head(5)"
   ]
  },
  {
   "cell_type": "code",
   "execution_count": 100,
   "id": "51729acb",
   "metadata": {},
   "outputs": [],
   "source": [
    "df['Month'] = pd.DatetimeIndex(df['Orderdate']).month\n",
    "df['Day'] = pd.DatetimeIndex(df['Orderdate']).day"
   ]
  },
  {
   "cell_type": "code",
   "execution_count": 78,
   "id": "e8d24a67",
   "metadata": {},
   "outputs": [
    {
     "data": {
      "text/plain": [
       "11    597\n",
       "10    317\n",
       "5     252\n",
       "1     229\n",
       "2     224\n",
       "3     212\n",
       "8     191\n",
       "12    180\n",
       "4     178\n",
       "9     171\n",
       "7     141\n",
       "6     131\n",
       "Name: Month_id, dtype: int64"
      ]
     },
     "execution_count": 78,
     "metadata": {},
     "output_type": "execute_result"
    }
   ],
   "source": [
    "df['Month_id'].value_counts()"
   ]
  },
  {
   "cell_type": "code",
   "execution_count": null,
   "id": "a0407cca",
   "metadata": {},
   "outputs": [],
   "source": []
  },
  {
   "cell_type": "code",
   "execution_count": 54,
   "id": "469ab972",
   "metadata": {},
   "outputs": [],
   "source": [
    "df.columns = map(str.capitalize, df.columns)"
   ]
  },
  {
   "cell_type": "code",
   "execution_count": 55,
   "id": "947c948b",
   "metadata": {},
   "outputs": [
    {
     "data": {
      "text/plain": [
       "(2823, 25)"
      ]
     },
     "execution_count": 55,
     "metadata": {},
     "output_type": "execute_result"
    }
   ],
   "source": [
    "df.shape"
   ]
  },
  {
   "cell_type": "code",
   "execution_count": 56,
   "id": "7ac122a3",
   "metadata": {},
   "outputs": [
    {
     "data": {
      "text/html": [
       "<div>\n",
       "<style scoped>\n",
       "    .dataframe tbody tr th:only-of-type {\n",
       "        vertical-align: middle;\n",
       "    }\n",
       "\n",
       "    .dataframe tbody tr th {\n",
       "        vertical-align: top;\n",
       "    }\n",
       "\n",
       "    .dataframe thead th {\n",
       "        text-align: right;\n",
       "    }\n",
       "</style>\n",
       "<table border=\"1\" class=\"dataframe\">\n",
       "  <thead>\n",
       "    <tr style=\"text-align: right;\">\n",
       "      <th></th>\n",
       "      <th>Ordernumber</th>\n",
       "      <th>Quantityordered</th>\n",
       "      <th>Priceeach</th>\n",
       "      <th>Orderlinenumber</th>\n",
       "      <th>Sales</th>\n",
       "      <th>Qtr_id</th>\n",
       "      <th>Month_id</th>\n",
       "      <th>Year_id</th>\n",
       "      <th>Msrp</th>\n",
       "    </tr>\n",
       "  </thead>\n",
       "  <tbody>\n",
       "    <tr>\n",
       "      <th>count</th>\n",
       "      <td>2823.000000</td>\n",
       "      <td>2823.000000</td>\n",
       "      <td>2823.000000</td>\n",
       "      <td>2823.000000</td>\n",
       "      <td>2823.000000</td>\n",
       "      <td>2823.000000</td>\n",
       "      <td>2823.000000</td>\n",
       "      <td>2823.00000</td>\n",
       "      <td>2823.000000</td>\n",
       "    </tr>\n",
       "    <tr>\n",
       "      <th>mean</th>\n",
       "      <td>10258.725115</td>\n",
       "      <td>35.092809</td>\n",
       "      <td>83.658544</td>\n",
       "      <td>6.466171</td>\n",
       "      <td>3553.889072</td>\n",
       "      <td>2.717676</td>\n",
       "      <td>7.092455</td>\n",
       "      <td>2003.81509</td>\n",
       "      <td>100.715551</td>\n",
       "    </tr>\n",
       "    <tr>\n",
       "      <th>std</th>\n",
       "      <td>92.085478</td>\n",
       "      <td>9.741443</td>\n",
       "      <td>20.174277</td>\n",
       "      <td>4.225841</td>\n",
       "      <td>1841.865106</td>\n",
       "      <td>1.203878</td>\n",
       "      <td>3.656633</td>\n",
       "      <td>0.69967</td>\n",
       "      <td>40.187912</td>\n",
       "    </tr>\n",
       "    <tr>\n",
       "      <th>min</th>\n",
       "      <td>10100.000000</td>\n",
       "      <td>6.000000</td>\n",
       "      <td>26.880000</td>\n",
       "      <td>1.000000</td>\n",
       "      <td>482.130000</td>\n",
       "      <td>1.000000</td>\n",
       "      <td>1.000000</td>\n",
       "      <td>2003.00000</td>\n",
       "      <td>33.000000</td>\n",
       "    </tr>\n",
       "    <tr>\n",
       "      <th>25%</th>\n",
       "      <td>10180.000000</td>\n",
       "      <td>27.000000</td>\n",
       "      <td>68.860000</td>\n",
       "      <td>3.000000</td>\n",
       "      <td>2203.430000</td>\n",
       "      <td>2.000000</td>\n",
       "      <td>4.000000</td>\n",
       "      <td>2003.00000</td>\n",
       "      <td>68.000000</td>\n",
       "    </tr>\n",
       "    <tr>\n",
       "      <th>50%</th>\n",
       "      <td>10262.000000</td>\n",
       "      <td>35.000000</td>\n",
       "      <td>95.700000</td>\n",
       "      <td>6.000000</td>\n",
       "      <td>3184.800000</td>\n",
       "      <td>3.000000</td>\n",
       "      <td>8.000000</td>\n",
       "      <td>2004.00000</td>\n",
       "      <td>99.000000</td>\n",
       "    </tr>\n",
       "    <tr>\n",
       "      <th>75%</th>\n",
       "      <td>10333.500000</td>\n",
       "      <td>43.000000</td>\n",
       "      <td>100.000000</td>\n",
       "      <td>9.000000</td>\n",
       "      <td>4508.000000</td>\n",
       "      <td>4.000000</td>\n",
       "      <td>11.000000</td>\n",
       "      <td>2004.00000</td>\n",
       "      <td>124.000000</td>\n",
       "    </tr>\n",
       "    <tr>\n",
       "      <th>max</th>\n",
       "      <td>10425.000000</td>\n",
       "      <td>97.000000</td>\n",
       "      <td>100.000000</td>\n",
       "      <td>18.000000</td>\n",
       "      <td>14082.800000</td>\n",
       "      <td>4.000000</td>\n",
       "      <td>12.000000</td>\n",
       "      <td>2005.00000</td>\n",
       "      <td>214.000000</td>\n",
       "    </tr>\n",
       "  </tbody>\n",
       "</table>\n",
       "</div>"
      ],
      "text/plain": [
       "        Ordernumber  Quantityordered    Priceeach  Orderlinenumber  \\\n",
       "count   2823.000000      2823.000000  2823.000000      2823.000000   \n",
       "mean   10258.725115        35.092809    83.658544         6.466171   \n",
       "std       92.085478         9.741443    20.174277         4.225841   \n",
       "min    10100.000000         6.000000    26.880000         1.000000   \n",
       "25%    10180.000000        27.000000    68.860000         3.000000   \n",
       "50%    10262.000000        35.000000    95.700000         6.000000   \n",
       "75%    10333.500000        43.000000   100.000000         9.000000   \n",
       "max    10425.000000        97.000000   100.000000        18.000000   \n",
       "\n",
       "              Sales       Qtr_id     Month_id     Year_id         Msrp  \n",
       "count   2823.000000  2823.000000  2823.000000  2823.00000  2823.000000  \n",
       "mean    3553.889072     2.717676     7.092455  2003.81509   100.715551  \n",
       "std     1841.865106     1.203878     3.656633     0.69967    40.187912  \n",
       "min      482.130000     1.000000     1.000000  2003.00000    33.000000  \n",
       "25%     2203.430000     2.000000     4.000000  2003.00000    68.000000  \n",
       "50%     3184.800000     3.000000     8.000000  2004.00000    99.000000  \n",
       "75%     4508.000000     4.000000    11.000000  2004.00000   124.000000  \n",
       "max    14082.800000     4.000000    12.000000  2005.00000   214.000000  "
      ]
     },
     "execution_count": 56,
     "metadata": {},
     "output_type": "execute_result"
    }
   ],
   "source": [
    "df.describe()"
   ]
  },
  {
   "cell_type": "code",
   "execution_count": 57,
   "id": "56b7b1f0",
   "metadata": {},
   "outputs": [
    {
     "data": {
      "text/plain": [
       "Index(['Ordernumber', 'Quantityordered', 'Priceeach', 'Orderlinenumber',\n",
       "       'Sales', 'Orderdate', 'Status', 'Qtr_id', 'Month_id', 'Year_id',\n",
       "       'Productline', 'Msrp', 'Productcode', 'Customername', 'Phone',\n",
       "       'Addressline1', 'Addressline2', 'City', 'State', 'Postalcode',\n",
       "       'Country', 'Territory', 'Contactlastname', 'Contactfirstname',\n",
       "       'Dealsize'],\n",
       "      dtype='object')"
      ]
     },
     "execution_count": 57,
     "metadata": {},
     "output_type": "execute_result"
    }
   ],
   "source": [
    "df.columns"
   ]
  },
  {
   "cell_type": "code",
   "execution_count": 58,
   "id": "b2ddcc76",
   "metadata": {
    "scrolled": true
   },
   "outputs": [
    {
     "name": "stdout",
     "output_type": "stream",
     "text": [
      "<class 'pandas.core.frame.DataFrame'>\n",
      "RangeIndex: 2823 entries, 0 to 2822\n",
      "Data columns (total 25 columns):\n",
      " #   Column            Non-Null Count  Dtype  \n",
      "---  ------            --------------  -----  \n",
      " 0   Ordernumber       2823 non-null   int64  \n",
      " 1   Quantityordered   2823 non-null   int64  \n",
      " 2   Priceeach         2823 non-null   float64\n",
      " 3   Orderlinenumber   2823 non-null   int64  \n",
      " 4   Sales             2823 non-null   float64\n",
      " 5   Orderdate         2823 non-null   object \n",
      " 6   Status            2823 non-null   object \n",
      " 7   Qtr_id            2823 non-null   int64  \n",
      " 8   Month_id          2823 non-null   int64  \n",
      " 9   Year_id           2823 non-null   int64  \n",
      " 10  Productline       2823 non-null   object \n",
      " 11  Msrp              2823 non-null   int64  \n",
      " 12  Productcode       2823 non-null   object \n",
      " 13  Customername      2823 non-null   object \n",
      " 14  Phone             2823 non-null   object \n",
      " 15  Addressline1      2823 non-null   object \n",
      " 16  Addressline2      302 non-null    object \n",
      " 17  City              2823 non-null   object \n",
      " 18  State             1337 non-null   object \n",
      " 19  Postalcode        2747 non-null   object \n",
      " 20  Country           2823 non-null   object \n",
      " 21  Territory         1749 non-null   object \n",
      " 22  Contactlastname   2823 non-null   object \n",
      " 23  Contactfirstname  2823 non-null   object \n",
      " 24  Dealsize          2823 non-null   object \n",
      "dtypes: float64(2), int64(7), object(16)\n",
      "memory usage: 551.5+ KB\n"
     ]
    }
   ],
   "source": [
    "df.info()"
   ]
  },
  {
   "cell_type": "code",
   "execution_count": 59,
   "id": "dc5d11ef",
   "metadata": {
    "scrolled": true
   },
   "outputs": [
    {
     "data": {
      "text/plain": [
       "Ordernumber            0\n",
       "Quantityordered        0\n",
       "Priceeach              0\n",
       "Orderlinenumber        0\n",
       "Sales                  0\n",
       "Orderdate              0\n",
       "Status                 0\n",
       "Qtr_id                 0\n",
       "Month_id               0\n",
       "Year_id                0\n",
       "Productline            0\n",
       "Msrp                   0\n",
       "Productcode            0\n",
       "Customername           0\n",
       "Phone                  0\n",
       "Addressline1           0\n",
       "Addressline2        2521\n",
       "City                   0\n",
       "State               1486\n",
       "Postalcode            76\n",
       "Country                0\n",
       "Territory           1074\n",
       "Contactlastname        0\n",
       "Contactfirstname       0\n",
       "Dealsize               0\n",
       "dtype: int64"
      ]
     },
     "execution_count": 59,
     "metadata": {},
     "output_type": "execute_result"
    }
   ],
   "source": [
    "df.isnull().sum()"
   ]
  },
  {
   "cell_type": "code",
   "execution_count": 61,
   "id": "af52edfe",
   "metadata": {},
   "outputs": [],
   "source": [
    "df.fillna('', inplace = True)"
   ]
  },
  {
   "cell_type": "code",
   "execution_count": 62,
   "id": "c443148b",
   "metadata": {
    "scrolled": true
   },
   "outputs": [
    {
     "data": {
      "text/plain": [
       "Ordernumber         0\n",
       "Quantityordered     0\n",
       "Priceeach           0\n",
       "Orderlinenumber     0\n",
       "Sales               0\n",
       "Orderdate           0\n",
       "Status              0\n",
       "Qtr_id              0\n",
       "Month_id            0\n",
       "Year_id             0\n",
       "Productline         0\n",
       "Msrp                0\n",
       "Productcode         0\n",
       "Customername        0\n",
       "Phone               0\n",
       "Addressline1        0\n",
       "Addressline2        0\n",
       "City                0\n",
       "State               0\n",
       "Postalcode          0\n",
       "Country             0\n",
       "Territory           0\n",
       "Contactlastname     0\n",
       "Contactfirstname    0\n",
       "Dealsize            0\n",
       "dtype: int64"
      ]
     },
     "execution_count": 62,
     "metadata": {},
     "output_type": "execute_result"
    }
   ],
   "source": [
    "df.isnull().sum()"
   ]
  },
  {
   "cell_type": "code",
   "execution_count": null,
   "id": "e6fca59d",
   "metadata": {},
   "outputs": [],
   "source": []
  },
  {
   "cell_type": "code",
   "execution_count": 67,
   "id": "f6be423a",
   "metadata": {},
   "outputs": [],
   "source": [
    "df.corr().drop(columns = ['Ordernumber', 'Orderlinenumber', 'Month_id','Year_id'])"
   ]
  },
  {
   "cell_type": "code",
   "execution_count": 69,
   "id": "cfc4f467",
   "metadata": {
    "scrolled": true
   },
   "outputs": [
    {
     "data": {
      "text/plain": [
       "<AxesSubplot:>"
      ]
     },
     "execution_count": 69,
     "metadata": {},
     "output_type": "execute_result"
    },
    {
     "data": {
      "image/png": "[encoded data removed]",
      "text/plain": [
       "<Figure size 432x288 with 2 Axes>"
      ]
     },
     "metadata": {
      "needs_background": "light"
     },
     "output_type": "display_data"
    }
   ],
   "source": [
    "sns.heatmap(df.corr().drop(columns = ['Ordernumber', 'Orderlinenumber', 'Month_id','Year_id']), annot = True, cmap = 'Greens')"
   ]
  },
  {
   "cell_type": "code",
   "execution_count": null,
   "id": "a7bda801",
   "metadata": {},
   "outputs": [],
   "source": []
  },
  {
   "cell_type": "code",
   "execution_count": 72,
   "id": "4586b1f5",
   "metadata": {},
   "outputs": [],
   "source": [
    "df['Orderdate'] = pd.to_datetime(df['Orderdate']).dt.date"
   ]
  },
  {
   "cell_type": "code",
   "execution_count": null,
   "id": "f6a1af53",
   "metadata": {},
   "outputs": [],
   "source": [
    "# import plotly.express as px\n",
    "# fig = px.line(df, x = 'Year_id', y = ['Sales'], title = 'Total Sales ')\n",
    "# fig.show()"
   ]
  },
  {
   "cell_type": "code",
   "execution_count": null,
   "id": "b5b94c6a",
   "metadata": {},
   "outputs": [],
   "source": []
  },
  {
   "cell_type": "code",
   "execution_count": 74,
   "id": "6edb4c87",
   "metadata": {},
   "outputs": [
    {
     "data": {
      "text/plain": [
       "<AxesSubplot:xlabel='Orderdate'>"
      ]
     },
     "execution_count": 74,
     "metadata": {},
     "output_type": "execute_result"
    },
    {
     "data": {
      "image/png": "[encoded data removed]",
      "text/plain": [
       "<Figure size 1440x432 with 1 Axes>"
      ]
     },
     "metadata": {
      "needs_background": "light"
     },
     "output_type": "display_data"
    }
   ],
   "source": [
    "df.plot(kind = 'line', x = 'Orderdate', y = 'Sales', figsize = (20,6))"
   ]
  },
  {
   "cell_type": "code",
   "execution_count": null,
   "id": "d10e874a",
   "metadata": {},
   "outputs": [],
   "source": []
  },
  {
   "cell_type": "code",
   "execution_count": 85,
   "id": "ba4d5004",
   "metadata": {},
   "outputs": [
    {
     "data": {
      "text/plain": [
       "<AxesSubplot:xlabel='Month'>"
      ]
     },
     "execution_count": 85,
     "metadata": {},
     "output_type": "execute_result"
    },
    {
     "data": {
      "image/png": "[encoded data removed]",
      "text/plain": [
       "<Figure size 1440x432 with 1 Axes>"
      ]
     },
     "metadata": {
      "needs_background": "light"
     },
     "output_type": "display_data"
    }
   ],
   "source": [
    "df.plot(kind = 'bar', x = 'Month', y = 'Sales', figsize = (20,6))"
   ]
  },
  {
   "cell_type": "code",
   "execution_count": null,
   "id": "fc5aa15f",
   "metadata": {},
   "outputs": [],
   "source": []
  },
  {
   "cell_type": "code",
   "execution_count": 86,
   "id": "f1cc32eb",
   "metadata": {},
   "outputs": [
    {
     "name": "stderr",
     "output_type": "stream",
     "text": [
      "C:\\swsetup\\New folder\\lib\\site-packages\\seaborn\\_decorators.py:36: FutureWarning:\n",
      "\n",
      "Pass the following variable as a keyword arg: x. From version 0.12, the only valid positional argument will be `data`, and passing other arguments without an explicit keyword will result in an error or misinterpretation.\n",
      "\n"
     ]
    },
    {
     "data": {
      "text/plain": [
       "<AxesSubplot:xlabel='Month', ylabel='count'>"
      ]
     },
     "execution_count": 86,
     "metadata": {},
     "output_type": "execute_result"
    },
    {
     "data": {
      "image/png": "[encoded data removed]",
      "text/plain": [
       "<Figure size 432x288 with 1 Axes>"
      ]
     },
     "metadata": {
      "needs_background": "light"
     },
     "output_type": "display_data"
    }
   ],
   "source": [
    "sns.countplot(df['Month'])"
   ]
  },
  {
   "cell_type": "code",
   "execution_count": 167,
   "id": "27a712de",
   "metadata": {},
   "outputs": [
    {
     "data": {
      "text/plain": [
       "Year_id\n",
       "2005    3747.880146\n",
       "2003    3516.979540\n",
       "2004    3512.388550\n",
       "Name: Sales, dtype: float64"
      ]
     },
     "execution_count": 167,
     "metadata": {},
     "output_type": "execute_result"
    }
   ],
   "source": [
    "df.groupby(['Year_id']).mean()['Sales'].sort_values(ascending = False)"
   ]
  },
  {
   "cell_type": "code",
   "execution_count": 93,
   "id": "ea984669",
   "metadata": {
    "scrolled": true
   },
   "outputs": [
    {
     "data": {
      "text/plain": [
       "Year_id\n",
       "2004    4724162.60\n",
       "2003    3516979.54\n",
       "2005    1791486.71\n",
       "Name: Sales, dtype: float64"
      ]
     },
     "execution_count": 93,
     "metadata": {},
     "output_type": "execute_result"
    }
   ],
   "source": [
    "df.groupby(['Year_id']).sum()['Sales'].sort_values(ascending = False)"
   ]
  },
  {
   "cell_type": "code",
   "execution_count": 170,
   "id": "42934f40",
   "metadata": {},
   "outputs": [
    {
     "data": {
      "text/plain": [
       "<AxesSubplot:xlabel='Year_id', ylabel='Sales'>"
      ]
     },
     "execution_count": 170,
     "metadata": {},
     "output_type": "execute_result"
    },
    {
     "data": {
      "image/png": "[encoded data removed]",
      "text/plain": [
       "<Figure size 432x288 with 1 Axes>"
      ]
     },
     "metadata": {
      "needs_background": "light"
     },
     "output_type": "display_data"
    }
   ],
   "source": [
    "sns.barplot(data =df, x = 'Year_id', y = 'Sales')"
   ]
  },
  {
   "cell_type": "code",
   "execution_count": 94,
   "id": "c5ee95b6",
   "metadata": {
    "scrolled": true
   },
   "outputs": [
    {
     "data": {
      "text/plain": [
       "Year_id\n",
       "2005    3316.815\n",
       "2003    3210.095\n",
       "2004    3141.570\n",
       "Name: Sales, dtype: float64"
      ]
     },
     "execution_count": 94,
     "metadata": {},
     "output_type": "execute_result"
    }
   ],
   "source": [
    "df.groupby(['Year_id']).median()['Sales'].sort_values(ascending = False)"
   ]
  },
  {
   "cell_type": "code",
   "execution_count": 95,
   "id": "5d7034ef",
   "metadata": {
    "scrolled": true
   },
   "outputs": [
    {
     "data": {
      "text/plain": [
       "Productline\n",
       "Classic Cars        3919615.66\n",
       "Vintage Cars        1903150.84\n",
       "Motorcycles         1166388.34\n",
       "Trucks and Buses    1127789.84\n",
       "Planes               975003.57\n",
       "Ships                714437.13\n",
       "Trains               226243.47\n",
       "Name: Sales, dtype: float64"
      ]
     },
     "execution_count": 95,
     "metadata": {},
     "output_type": "execute_result"
    }
   ],
   "source": [
    "df.groupby(['Productline']).sum()['Sales'].sort_values(ascending = False)"
   ]
  },
  {
   "cell_type": "code",
   "execution_count": 173,
   "id": "a18fdde5",
   "metadata": {},
   "outputs": [
    {
     "data": {
      "text/plain": [
       "<AxesSubplot:xlabel='Productline', ylabel='Sales'>"
      ]
     },
     "execution_count": 173,
     "metadata": {},
     "output_type": "execute_result"
    },
    {
     "data": {
      "image/png": "[encoded data removed]",
      "text/plain": [
       "<Figure size 432x288 with 1 Axes>"
      ]
     },
     "metadata": {
      "needs_background": "light"
     },
     "output_type": "display_data"
    }
   ],
   "source": [
    "sns.barplot(data =df, x = 'Productline', y = 'Sales')"
   ]
  },
  {
   "cell_type": "code",
   "execution_count": 99,
   "id": "2e91f857",
   "metadata": {
    "scrolled": true
   },
   "outputs": [
    {
     "data": {
      "text/plain": [
       "Customername\n",
       "Euro Shopping Channel           912294.11\n",
       "Mini Gifts Distributors Ltd.    654858.06\n",
       "Australian Collectors, Co.      200995.41\n",
       "Muscle Machine Inc              197736.94\n",
       "La Rochelle Gifts               180124.90\n",
       "Dragon Souveniers, Ltd.         172989.68\n",
       "Land of Toys Inc.               164069.44\n",
       "The Sharp Gifts Warehouse       160010.27\n",
       "AV Stores, Co.                  157807.81\n",
       "Anna's Decorations, Ltd         153996.13\n",
       "Name: Sales, dtype: float64"
      ]
     },
     "execution_count": 99,
     "metadata": {},
     "output_type": "execute_result"
    }
   ],
   "source": [
    "df.groupby(['Customername']).sum()['Sales'].sort_values(ascending = False)[:10]"
   ]
  },
  {
   "cell_type": "code",
   "execution_count": 175,
   "id": "1cb5f1ad",
   "metadata": {},
   "outputs": [
    {
     "data": {
      "text/plain": [
       "<AxesSubplot:title={'center':'Sales by Customers'}, xlabel='Customername'>"
      ]
     },
     "execution_count": 175,
     "metadata": {},
     "output_type": "execute_result"
    },
    {
     "data": {
      "image/png": "[encoded data removed]",
      "text/plain": [
       "<Figure size 432x288 with 1 Axes>"
      ]
     },
     "metadata": {
      "needs_background": "light"
     },
     "output_type": "display_data"
    }
   ],
   "source": [
    "df.groupby(['Customername']).sum()['Sales'].sort_values(ascending = False)[:10].plot(kind = 'bar', title = 'Sales by Customers')"
   ]
  },
  {
   "cell_type": "code",
   "execution_count": 102,
   "id": "6d0d3a47",
   "metadata": {
    "scrolled": true
   },
   "outputs": [
    {
     "data": {
      "text/plain": [
       "Addressline1\n",
       "C/ Moralzarzal, 86                      912294.11\n",
       "5677 Strong St.                         654858.06\n",
       "636 St Kilda Road                       200995.41\n",
       "4092 Furth Circle                       197736.94\n",
       "67, rue des Cinquante Otages            180124.90\n",
       "Bronz Sok., Bronz Apt. 3/6 Tesvikiye    172989.68\n",
       "897 Long Airport Avenue                 164069.44\n",
       "3086 Ingle Ln.                          160010.27\n",
       "Fauntleroy Circus                       157807.81\n",
       "201 Miller Street                       153996.13\n",
       "Name: Sales, dtype: float64"
      ]
     },
     "execution_count": 102,
     "metadata": {},
     "output_type": "execute_result"
    }
   ],
   "source": [
    "df.groupby(['Addressline1']).sum()['Sales'].sort_values(ascending = False)[:10]"
   ]
  },
  {
   "cell_type": "code",
   "execution_count": 177,
   "id": "56bf55c6",
   "metadata": {},
   "outputs": [
    {
     "data": {
      "text/plain": [
       "<AxesSubplot:title={'center':'Sales by Addressline1'}, xlabel='Addressline1'>"
      ]
     },
     "execution_count": 177,
     "metadata": {},
     "output_type": "execute_result"
    },
    {
     "data": {
      "image/png": "[encoded data removed]",
      "text/plain": [
       "<Figure size 432x288 with 1 Axes>"
      ]
     },
     "metadata": {
      "needs_background": "light"
     },
     "output_type": "display_data"
    }
   ],
   "source": [
    "df.groupby(['Addressline1']).sum()['Sales'][:10].plot(kind = 'bar', title = 'Sales by Addressline1')"
   ]
  },
  {
   "cell_type": "code",
   "execution_count": null,
   "id": "d75a0f3e",
   "metadata": {},
   "outputs": [],
   "source": []
  },
  {
   "cell_type": "code",
   "execution_count": 108,
   "id": "fd132413",
   "metadata": {
    "scrolled": true
   },
   "outputs": [
    {
     "data": {
      "text/plain": [
       "State     City         \n",
       "          Madrid           1082551.44\n",
       "CA        San Rafael        654858.06\n",
       "NY        NYC               560787.77\n",
       "          Singapore         288488.41\n",
       "          Paris             268944.68\n",
       "CA        San Francisco     224358.68\n",
       "MA        New Bedford       207874.86\n",
       "          Nantes            204304.86\n",
       "Victoria  Melbourne         200995.41\n",
       "MA        Brickhaven        165255.20\n",
       "CA        San Jose          160010.27\n",
       "          Manchester        157807.81\n",
       "MA        Boston            154069.66\n",
       "NSW       North Sydney      153996.13\n",
       "          Chatswood         151570.98\n",
       "PA        Philadelphia      151189.13\n",
       "          Salzburg          149798.63\n",
       "          Kobenhavn         145041.60\n",
       "          Lyon              142874.25\n",
       "          Reggio Emilia     142601.33\n",
       "Name: Sales, dtype: float64"
      ]
     },
     "execution_count": 108,
     "metadata": {},
     "output_type": "execute_result"
    }
   ],
   "source": [
    "df.groupby(['State', 'City']).sum()['Sales'].sort_values(ascending = False)[:20]"
   ]
  },
  {
   "cell_type": "code",
   "execution_count": 179,
   "id": "69b7f57c",
   "metadata": {},
   "outputs": [
    {
     "data": {
      "text/plain": [
       "<AxesSubplot:title={'center':'Sales by City'}, xlabel='City'>"
      ]
     },
     "execution_count": 179,
     "metadata": {},
     "output_type": "execute_result"
    },
    {
     "data": {
      "image/png": "[encoded data removed]",
      "text/plain": [
       "<Figure size 432x288 with 1 Axes>"
      ]
     },
     "metadata": {
      "needs_background": "light"
     },
     "output_type": "display_data"
    }
   ],
   "source": [
    "df.groupby(['City']).sum()['Sales'].sort_values(ascending = False)[:20].plot(kind = 'bar', title = 'Sales by City')"
   ]
  },
  {
   "cell_type": "code",
   "execution_count": 110,
   "id": "3dc8554e",
   "metadata": {},
   "outputs": [
    {
     "data": {
      "text/plain": [
       "Country    City         \n",
       "Spain      Madrid           1082551.44\n",
       "USA        San Rafael        654858.06\n",
       "           NYC               560787.77\n",
       "Singapore  Singapore         288488.41\n",
       "France     Paris             268944.68\n",
       "USA        San Francisco     224358.68\n",
       "           New Bedford       207874.86\n",
       "France     Nantes            204304.86\n",
       "Australia  Melbourne         200995.41\n",
       "USA        Brickhaven        165255.20\n",
       "           San Jose          160010.27\n",
       "UK         Manchester        157807.81\n",
       "USA        Boston            154069.66\n",
       "Australia  North Sydney      153996.13\n",
       "           Chatswood         151570.98\n",
       "USA        Philadelphia      151189.13\n",
       "Austria    Salzburg          149798.63\n",
       "Denmark    Kobenhavn         145041.60\n",
       "France     Lyon              142874.25\n",
       "Italy      Reggio Emilia     142601.33\n",
       "Name: Sales, dtype: float64"
      ]
     },
     "execution_count": 110,
     "metadata": {},
     "output_type": "execute_result"
    }
   ],
   "source": [
    "df.groupby(['Country', 'City']).sum()['Sales'].sort_values(ascending = False)[:20]"
   ]
  },
  {
   "cell_type": "code",
   "execution_count": 184,
   "id": "7d54e064",
   "metadata": {
    "scrolled": true
   },
   "outputs": [
    {
     "data": {
      "text/plain": [
       "<AxesSubplot:title={'center':'Sales by Country'}, xlabel='Country'>"
      ]
     },
     "execution_count": 184,
     "metadata": {},
     "output_type": "execute_result"
    },
    {
     "data": {
      "image/png": "[encoded data removed]",
      "text/plain": [
       "<Figure size 432x288 with 1 Axes>"
      ]
     },
     "metadata": {
      "needs_background": "light"
     },
     "output_type": "display_data"
    }
   ],
   "source": [
    "df.groupby(['Country']).sum()['Sales'].sort_values(ascending = False)[:20].plot(kind = 'bar', title = 'Sales by Country')"
   ]
  },
  {
   "cell_type": "code",
   "execution_count": null,
   "id": "f436f78f",
   "metadata": {},
   "outputs": [],
   "source": [
    "df.groupby(['Country']).sum()['Sales'].sort_values(ascending = False)[:20]"
   ]
  },
  {
   "cell_type": "code",
   "execution_count": 111,
   "id": "e3ec0a3a",
   "metadata": {},
   "outputs": [
    {
     "data": {
      "text/plain": [
       "Shipped       2617\n",
       "Cancelled       60\n",
       "Resolved        47\n",
       "On Hold         44\n",
       "In Process      41\n",
       "Disputed        14\n",
       "Name: Status, dtype: int64"
      ]
     },
     "execution_count": 111,
     "metadata": {},
     "output_type": "execute_result"
    }
   ],
   "source": [
    "df['Status'].value_counts()"
   ]
  },
  {
   "cell_type": "code",
   "execution_count": 112,
   "id": "ddcc8103",
   "metadata": {},
   "outputs": [
    {
     "data": {
      "text/plain": [
       "Medium    1384\n",
       "Small     1282\n",
       "Large      157\n",
       "Name: Dealsize, dtype: int64"
      ]
     },
     "execution_count": 112,
     "metadata": {},
     "output_type": "execute_result"
    }
   ],
   "source": [
    "df['Dealsize'].value_counts()"
   ]
  },
  {
   "cell_type": "code",
   "execution_count": 152,
   "id": "8d8260e7",
   "metadata": {},
   "outputs": [
    {
     "name": "stdout",
     "output_type": "stream",
     "text": [
      "In the Sales years, we had a total of 60 cancelled transactions\n",
      "\n",
      "In 2003, we had a total of 16 cancelled transactions\n",
      "\n",
      "In 2004, we had  a total of 44 cancelled transactions\n",
      "\n",
      "In 2005, we had 0 cancelled transactions\n"
     ]
    }
   ],
   "source": [
    "Total_Cancelled = df[df['Status'] == 'Cancelled'].count()['Year_id']\n",
    "print(f\"In the Sales years, we had a total of {Total_Cancelled} cancelled transactions\\n\")\n",
    "cancelled_2003 = df[(df['Status']=='Cancelled') &(df['Year_id'] == 2003)].count()['Year_id']\n",
    "print(f\"In 2003, we had a total of {cancelled_2003} cancelled transactions\\n\")\n",
    "cancelled_2004 = df[(df['Status']=='Cancelled') &(df['Year_id'] == 2004)].count()['Year_id']\n",
    "print(f\"In 2004, we had  a total of {cancelled_2004} cancelled transactions\\n\")\n",
    "cancelled_2005 = df[(df['Status']=='Cancelled') &(df['Year_id'] == 2005)].count()['Year_id']\n",
    "print(f\"In 2005, we had {cancelled_2005} cancelled transactions\")"
   ]
  },
  {
   "cell_type": "code",
   "execution_count": 153,
   "id": "30ce5f9d",
   "metadata": {},
   "outputs": [],
   "source": [
    "# cancelled_2003 = df[(df['Status']=='Cancelled') &(df['Year_id'] == 2003)].count()['Year_id']\n",
    "# print(f\"In 2003, we had a total of {cancelled_2003} cancelled transactions\")"
   ]
  },
  {
   "cell_type": "code",
   "execution_count": 154,
   "id": "c88d7d6d",
   "metadata": {},
   "outputs": [],
   "source": [
    "# cancelled_2004 = df[(df['Status']=='Cancelled') &(df['Year_id'] == 2004)].count()['Year_id']\n",
    "# print(f\"In 2004, we had  a total of {cancelled_2004} cancelled transactions\")"
   ]
  },
  {
   "cell_type": "code",
   "execution_count": 155,
   "id": "2169ef81",
   "metadata": {},
   "outputs": [],
   "source": [
    "# cancelled_2005 = df[(df['Status']=='Cancelled') &(df['Year_id'] == 2005)].count()['Year_id']\n",
    "# print(f\"In 2005, we had {cancelled_2005} cancelled transactions\")"
   ]
  },
  {
   "cell_type": "code",
   "execution_count": 157,
   "id": "e44c9dcc",
   "metadata": {},
   "outputs": [
    {
     "name": "stdout",
     "output_type": "stream",
     "text": [
      "In the Sales years, we had a total of 14 disputed transactions\n",
      "\n",
      "In 2003, we had a total of 0 disputed transactions\n",
      "\n",
      "In 2004, we had  a total of 0 disputed transactions\n",
      "\n",
      "In 2005, we had 14 disputed transactions\n"
     ]
    }
   ],
   "source": [
    "Total_disputed = df[df['Status'] == 'Disputed'].count()['Year_id']\n",
    "print(f\"In the Sales years, we had a total of {Total_disputed} disputed transactions\\n\")\n",
    "Disputed_2003 = df[(df['Status']=='dis') &(df['Year_id'] == 2003)].count()['Year_id']\n",
    "print(f\"In 2003, we had a total of {Disputed_2003} disputed transactions\\n\")\n",
    "Disputed_2004 = df[(df['Status']=='Disputed') &(df['Year_id'] == 2004)].count()['Year_id']\n",
    "print(f\"In 2004, we had  a total of {Disputed_2004} disputed transactions\\n\")\n",
    "Disputed_2005 = df[(df['Status']=='Disputed') &(df['Year_id'] == 2005)].count()['Year_id']\n",
    "print(f\"In 2005, we had {Disputed_2005} disputed transactions\")"
   ]
  },
  {
   "cell_type": "code",
   "execution_count": null,
   "id": "f950db5c",
   "metadata": {},
   "outputs": [],
   "source": []
  },
  {
   "cell_type": "markdown",
   "id": "5870ec0b",
   "metadata": {},
   "source": [
    "# Predictive Analysis"
   ]
  },
  {
   "cell_type": "code",
   "execution_count": 187,
   "id": "5c37a2b2",
   "metadata": {},
   "outputs": [
    {
     "data": {
      "text/html": [
       "<div>\n",
       "<style scoped>\n",
       "    .dataframe tbody tr th:only-of-type {\n",
       "        vertical-align: middle;\n",
       "    }\n",
       "\n",
       "    .dataframe tbody tr th {\n",
       "        vertical-align: top;\n",
       "    }\n",
       "\n",
       "    .dataframe thead th {\n",
       "        text-align: right;\n",
       "    }\n",
       "</style>\n",
       "<table border=\"1\" class=\"dataframe\">\n",
       "  <thead>\n",
       "    <tr style=\"text-align: right;\">\n",
       "      <th></th>\n",
       "      <th>Ordernumber</th>\n",
       "      <th>Quantityordered</th>\n",
       "      <th>Priceeach</th>\n",
       "      <th>Orderlinenumber</th>\n",
       "      <th>Sales</th>\n",
       "      <th>Orderdate</th>\n",
       "      <th>Status</th>\n",
       "      <th>Qtr_id</th>\n",
       "      <th>Month_id</th>\n",
       "      <th>Year_id</th>\n",
       "      <th>Productline</th>\n",
       "      <th>Msrp</th>\n",
       "      <th>Productcode</th>\n",
       "      <th>Customername</th>\n",
       "      <th>Phone</th>\n",
       "      <th>Addressline1</th>\n",
       "      <th>Addressline2</th>\n",
       "      <th>City</th>\n",
       "      <th>State</th>\n",
       "      <th>Postalcode</th>\n",
       "      <th>Country</th>\n",
       "      <th>Territory</th>\n",
       "      <th>Contactlastname</th>\n",
       "      <th>Contactfirstname</th>\n",
       "      <th>Dealsize</th>\n",
       "      <th>Month</th>\n",
       "      <th>Day</th>\n",
       "    </tr>\n",
       "  </thead>\n",
       "  <tbody>\n",
       "    <tr>\n",
       "      <th>0</th>\n",
       "      <td>10107</td>\n",
       "      <td>30</td>\n",
       "      <td>95.70</td>\n",
       "      <td>2</td>\n",
       "      <td>2871.00</td>\n",
       "      <td>2003-02-24</td>\n",
       "      <td>Shipped</td>\n",
       "      <td>1</td>\n",
       "      <td>2</td>\n",
       "      <td>2003</td>\n",
       "      <td>Motorcycles</td>\n",
       "      <td>95</td>\n",
       "      <td>S10_1678</td>\n",
       "      <td>Land of Toys Inc.</td>\n",
       "      <td>2125557818</td>\n",
       "      <td>897 Long Airport Avenue</td>\n",
       "      <td></td>\n",
       "      <td>NYC</td>\n",
       "      <td>NY</td>\n",
       "      <td>10022</td>\n",
       "      <td>USA</td>\n",
       "      <td></td>\n",
       "      <td>Yu</td>\n",
       "      <td>Kwai</td>\n",
       "      <td>Small</td>\n",
       "      <td>2</td>\n",
       "      <td>24</td>\n",
       "    </tr>\n",
       "    <tr>\n",
       "      <th>1</th>\n",
       "      <td>10121</td>\n",
       "      <td>34</td>\n",
       "      <td>81.35</td>\n",
       "      <td>5</td>\n",
       "      <td>2765.90</td>\n",
       "      <td>2003-05-07</td>\n",
       "      <td>Shipped</td>\n",
       "      <td>2</td>\n",
       "      <td>5</td>\n",
       "      <td>2003</td>\n",
       "      <td>Motorcycles</td>\n",
       "      <td>95</td>\n",
       "      <td>S10_1678</td>\n",
       "      <td>Reims Collectables</td>\n",
       "      <td>26.47.1555</td>\n",
       "      <td>59 rue de l'Abbaye</td>\n",
       "      <td></td>\n",
       "      <td>Reims</td>\n",
       "      <td></td>\n",
       "      <td>51100</td>\n",
       "      <td>France</td>\n",
       "      <td>EMEA</td>\n",
       "      <td>Henriot</td>\n",
       "      <td>Paul</td>\n",
       "      <td>Small</td>\n",
       "      <td>5</td>\n",
       "      <td>7</td>\n",
       "    </tr>\n",
       "    <tr>\n",
       "      <th>2</th>\n",
       "      <td>10134</td>\n",
       "      <td>41</td>\n",
       "      <td>94.74</td>\n",
       "      <td>2</td>\n",
       "      <td>3884.34</td>\n",
       "      <td>2003-07-01</td>\n",
       "      <td>Shipped</td>\n",
       "      <td>3</td>\n",
       "      <td>7</td>\n",
       "      <td>2003</td>\n",
       "      <td>Motorcycles</td>\n",
       "      <td>95</td>\n",
       "      <td>S10_1678</td>\n",
       "      <td>Lyon Souveniers</td>\n",
       "      <td>+33 1 46 62 7555</td>\n",
       "      <td>27 rue du Colonel Pierre Avia</td>\n",
       "      <td></td>\n",
       "      <td>Paris</td>\n",
       "      <td></td>\n",
       "      <td>75508</td>\n",
       "      <td>France</td>\n",
       "      <td>EMEA</td>\n",
       "      <td>Da Cunha</td>\n",
       "      <td>Daniel</td>\n",
       "      <td>Medium</td>\n",
       "      <td>7</td>\n",
       "      <td>1</td>\n",
       "    </tr>\n",
       "    <tr>\n",
       "      <th>3</th>\n",
       "      <td>10145</td>\n",
       "      <td>45</td>\n",
       "      <td>83.26</td>\n",
       "      <td>6</td>\n",
       "      <td>3746.70</td>\n",
       "      <td>2003-08-25</td>\n",
       "      <td>Shipped</td>\n",
       "      <td>3</td>\n",
       "      <td>8</td>\n",
       "      <td>2003</td>\n",
       "      <td>Motorcycles</td>\n",
       "      <td>95</td>\n",
       "      <td>S10_1678</td>\n",
       "      <td>Toys4GrownUps.com</td>\n",
       "      <td>6265557265</td>\n",
       "      <td>78934 Hillside Dr.</td>\n",
       "      <td></td>\n",
       "      <td>Pasadena</td>\n",
       "      <td>CA</td>\n",
       "      <td>90003</td>\n",
       "      <td>USA</td>\n",
       "      <td></td>\n",
       "      <td>Young</td>\n",
       "      <td>Julie</td>\n",
       "      <td>Medium</td>\n",
       "      <td>8</td>\n",
       "      <td>25</td>\n",
       "    </tr>\n",
       "    <tr>\n",
       "      <th>4</th>\n",
       "      <td>10159</td>\n",
       "      <td>49</td>\n",
       "      <td>100.00</td>\n",
       "      <td>14</td>\n",
       "      <td>5205.27</td>\n",
       "      <td>2003-10-10</td>\n",
       "      <td>Shipped</td>\n",
       "      <td>4</td>\n",
       "      <td>10</td>\n",
       "      <td>2003</td>\n",
       "      <td>Motorcycles</td>\n",
       "      <td>95</td>\n",
       "      <td>S10_1678</td>\n",
       "      <td>Corporate Gift Ideas Co.</td>\n",
       "      <td>6505551386</td>\n",
       "      <td>7734 Strong St.</td>\n",
       "      <td></td>\n",
       "      <td>San Francisco</td>\n",
       "      <td>CA</td>\n",
       "      <td></td>\n",
       "      <td>USA</td>\n",
       "      <td></td>\n",
       "      <td>Brown</td>\n",
       "      <td>Julie</td>\n",
       "      <td>Medium</td>\n",
       "      <td>10</td>\n",
       "      <td>10</td>\n",
       "    </tr>\n",
       "  </tbody>\n",
       "</table>\n",
       "</div>"
      ],
      "text/plain": [
       "   Ordernumber  Quantityordered  Priceeach  Orderlinenumber    Sales  \\\n",
       "0        10107               30      95.70                2  2871.00   \n",
       "1        10121               34      81.35                5  2765.90   \n",
       "2        10134               41      94.74                2  3884.34   \n",
       "3        10145               45      83.26                6  3746.70   \n",
       "4        10159               49     100.00               14  5205.27   \n",
       "\n",
       "    Orderdate   Status  Qtr_id  Month_id  Year_id  Productline  Msrp  \\\n",
       "0  2003-02-24  Shipped       1         2     2003  Motorcycles    95   \n",
       "1  2003-05-07  Shipped       2         5     2003  Motorcycles    95   \n",
       "2  2003-07-01  Shipped       3         7     2003  Motorcycles    95   \n",
       "3  2003-08-25  Shipped       3         8     2003  Motorcycles    95   \n",
       "4  2003-10-10  Shipped       4        10     2003  Motorcycles    95   \n",
       "\n",
       "  Productcode              Customername             Phone  \\\n",
       "0    S10_1678         Land of Toys Inc.        2125557818   \n",
       "1    S10_1678        Reims Collectables        26.47.1555   \n",
       "2    S10_1678           Lyon Souveniers  +33 1 46 62 7555   \n",
       "3    S10_1678         Toys4GrownUps.com        6265557265   \n",
       "4    S10_1678  Corporate Gift Ideas Co.        6505551386   \n",
       "\n",
       "                    Addressline1 Addressline2           City State Postalcode  \\\n",
       "0        897 Long Airport Avenue                         NYC    NY      10022   \n",
       "1             59 rue de l'Abbaye                       Reims            51100   \n",
       "2  27 rue du Colonel Pierre Avia                       Paris            75508   \n",
       "3             78934 Hillside Dr.                    Pasadena    CA      90003   \n",
       "4                7734 Strong St.               San Francisco    CA              \n",
       "\n",
       "  Country Territory Contactlastname Contactfirstname Dealsize  Month  Day  \n",
       "0     USA                        Yu             Kwai    Small      2   24  \n",
       "1  France      EMEA         Henriot             Paul    Small      5    7  \n",
       "2  France      EMEA        Da Cunha           Daniel   Medium      7    1  \n",
       "3     USA                     Young            Julie   Medium      8   25  \n",
       "4     USA                     Brown            Julie   Medium     10   10  "
      ]
     },
     "execution_count": 187,
     "metadata": {},
     "output_type": "execute_result"
    }
   ],
   "source": [
    "df.head(5)"
   ]
  },
  {
   "cell_type": "code",
   "execution_count": 189,
   "id": "22bf4a7f",
   "metadata": {},
   "outputs": [],
   "source": [
    "x = df[['Quantityordered','Priceeach','Month','Day','Year_id']]\n",
    "y = df['Sales']"
   ]
  },
  {
   "cell_type": "code",
   "execution_count": 191,
   "id": "ecc94ba0",
   "metadata": {},
   "outputs": [],
   "source": [
    "from sklearn.model_selection import train_test_split\n",
    "x_train, x_test, y_train, y_test = train_test_split(x, y, test_size=0.33, random_state=42)"
   ]
  },
  {
   "cell_type": "code",
   "execution_count": 194,
   "id": "331dbeba",
   "metadata": {},
   "outputs": [
    {
     "data": {
      "text/plain": [
       "LinearRegression()"
      ]
     },
     "execution_count": 194,
     "metadata": {},
     "output_type": "execute_result"
    }
   ],
   "source": [
    "from sklearn.linear_model import LinearRegression\n",
    "multiple_reg = LinearRegression()\n",
    "multiple_reg.fit(x_train, y_train)"
   ]
  },
  {
   "cell_type": "code",
   "execution_count": 196,
   "id": "2d623178",
   "metadata": {},
   "outputs": [],
   "source": [
    "y_pred = multiple_reg.predict(x_test)"
   ]
  },
  {
   "cell_type": "code",
   "execution_count": 197,
   "id": "9774a908",
   "metadata": {},
   "outputs": [
    {
     "data": {
      "text/plain": [
       "<matplotlib.collections.PathCollection at 0x13bf4f50fd0>"
      ]
     },
     "execution_count": 197,
     "metadata": {},
     "output_type": "execute_result"
    },
    {
     "data": {
      "image/png": "[encoded data removed]",
      "text/plain": [
       "<Figure size 432x288 with 1 Axes>"
      ]
     },
     "metadata": {
      "needs_background": "light"
     },
     "output_type": "display_data"
    }
   ],
   "source": [
    "plt.scatter(y_test, y_pred)"
   ]
  },
  {
   "cell_type": "code",
   "execution_count": 198,
   "id": "8f575185",
   "metadata": {},
   "outputs": [
    {
     "data": {
      "text/plain": [
       "array([101.38393904,  59.30807288,  -3.62217461,  -4.72067584,\n",
       "       -12.88523471])"
      ]
     },
     "execution_count": 198,
     "metadata": {},
     "output_type": "execute_result"
    }
   ],
   "source": [
    "multiple_reg.coef_"
   ]
  },
  {
   "cell_type": "code",
   "execution_count": 199,
   "id": "65c8662a",
   "metadata": {},
   "outputs": [
    {
     "data": {
      "text/plain": [
       "20924.588828224347"
      ]
     },
     "execution_count": 199,
     "metadata": {},
     "output_type": "execute_result"
    }
   ],
   "source": [
    "multiple_reg.intercept_"
   ]
  },
  {
   "cell_type": "code",
   "execution_count": 200,
   "id": "1976e77c",
   "metadata": {},
   "outputs": [
    {
     "data": {
      "text/plain": [
       "0.6973290120409109"
      ]
     },
     "execution_count": 200,
     "metadata": {},
     "output_type": "execute_result"
    }
   ],
   "source": [
    "# Testing the R2 score\n",
    "from sklearn.metrics import r2_score\n",
    "r2_score(y_test, y_pred)"
   ]
  },
  {
   "cell_type": "code",
   "execution_count": 202,
   "id": "8e1e4b37",
   "metadata": {},
   "outputs": [
    {
     "data": {
      "text/plain": [
       "array([1528.22184481, 2743.28882581, 4952.05785152, 4853.17218584,\n",
       "       3488.12942102, 5823.8617196 , 4886.9783148 , 1694.44540725,\n",
       "       2574.32206898, 6516.03901774, 2912.74224966, 3080.09017579,\n",
       "       -941.14555466, 5035.06404972, 5575.67475844, 4267.30319419,\n",
       "       1382.70775969, 5837.0208813 , 2412.03642889,  -79.23238619])"
      ]
     },
     "execution_count": 202,
     "metadata": {},
     "output_type": "execute_result"
    }
   ],
   "source": [
    "y_pred[:20]"
   ]
  },
  {
   "cell_type": "code",
   "execution_count": 203,
   "id": "412d7e0a",
   "metadata": {},
   "outputs": [
    {
     "data": {
      "text/plain": [
       "1091    1536.57\n",
       "2328    2168.50\n",
       "1474    4351.23\n",
       "1437    3880.20\n",
       "1105    3042.68\n",
       "         ...   \n",
       "1726     846.51\n",
       "976     3006.43\n",
       "489     5239.50\n",
       "2657    4072.20\n",
       "1159    4405.22\n",
       "Name: Sales, Length: 932, dtype: float64"
      ]
     },
     "execution_count": 203,
     "metadata": {},
     "output_type": "execute_result"
    }
   ],
   "source": [
    "y_test"
   ]
  },
  {
   "cell_type": "code",
   "execution_count": 208,
   "id": "a249075b",
   "metadata": {},
   "outputs": [
    {
     "name": "stdout",
     "output_type": "stream",
     "text": [
      "Quantityordered: 34\n",
      "Priceeach: 81.35\n",
      "Year_id: 2003\n",
      "Month: 5\n",
      "Day: 7\n",
      "[3336.07376435]\n"
     ]
    }
   ],
   "source": [
    "## Making the Predictions\n",
    "Quantityordered = int(input(\"Quantityordered: \"))\n",
    "Priceeach = float(input(\"Priceeach: \"))\n",
    "Year_id = int(input(\"Year_id: \"))\n",
    "Month = int(input(\"Month: \"))\n",
    "Day = int(input(\"Day: \"))\n",
    "\n",
    "\n",
    "output = multiple_reg.predict([[Quantityordered,Priceeach,Month,Day,Year_id]])\n",
    "print(output)"
   ]
  },
  {
   "cell_type": "code",
   "execution_count": 204,
   "id": "3a80e7a6",
   "metadata": {
    "scrolled": true
   },
   "outputs": [
    {
     "data": {
      "text/html": [
       "<div>\n",
       "<style scoped>\n",
       "    .dataframe tbody tr th:only-of-type {\n",
       "        vertical-align: middle;\n",
       "    }\n",
       "\n",
       "    .dataframe tbody tr th {\n",
       "        vertical-align: top;\n",
       "    }\n",
       "\n",
       "    .dataframe thead th {\n",
       "        text-align: right;\n",
       "    }\n",
       "</style>\n",
       "<table border=\"1\" class=\"dataframe\">\n",
       "  <thead>\n",
       "    <tr style=\"text-align: right;\">\n",
       "      <th></th>\n",
       "      <th>Quantityordered</th>\n",
       "      <th>Priceeach</th>\n",
       "      <th>Month</th>\n",
       "      <th>Day</th>\n",
       "      <th>Year_id</th>\n",
       "    </tr>\n",
       "  </thead>\n",
       "  <tbody>\n",
       "    <tr>\n",
       "      <th>0</th>\n",
       "      <td>30</td>\n",
       "      <td>95.70</td>\n",
       "      <td>2</td>\n",
       "      <td>24</td>\n",
       "      <td>2003</td>\n",
       "    </tr>\n",
       "    <tr>\n",
       "      <th>1</th>\n",
       "      <td>34</td>\n",
       "      <td>81.35</td>\n",
       "      <td>5</td>\n",
       "      <td>7</td>\n",
       "      <td>2003</td>\n",
       "    </tr>\n",
       "    <tr>\n",
       "      <th>2</th>\n",
       "      <td>41</td>\n",
       "      <td>94.74</td>\n",
       "      <td>7</td>\n",
       "      <td>1</td>\n",
       "      <td>2003</td>\n",
       "    </tr>\n",
       "    <tr>\n",
       "      <th>3</th>\n",
       "      <td>45</td>\n",
       "      <td>83.26</td>\n",
       "      <td>8</td>\n",
       "      <td>25</td>\n",
       "      <td>2003</td>\n",
       "    </tr>\n",
       "    <tr>\n",
       "      <th>4</th>\n",
       "      <td>49</td>\n",
       "      <td>100.00</td>\n",
       "      <td>10</td>\n",
       "      <td>10</td>\n",
       "      <td>2003</td>\n",
       "    </tr>\n",
       "    <tr>\n",
       "      <th>...</th>\n",
       "      <td>...</td>\n",
       "      <td>...</td>\n",
       "      <td>...</td>\n",
       "      <td>...</td>\n",
       "      <td>...</td>\n",
       "    </tr>\n",
       "    <tr>\n",
       "      <th>2818</th>\n",
       "      <td>20</td>\n",
       "      <td>100.00</td>\n",
       "      <td>12</td>\n",
       "      <td>2</td>\n",
       "      <td>2004</td>\n",
       "    </tr>\n",
       "    <tr>\n",
       "      <th>2819</th>\n",
       "      <td>29</td>\n",
       "      <td>100.00</td>\n",
       "      <td>1</td>\n",
       "      <td>31</td>\n",
       "      <td>2005</td>\n",
       "    </tr>\n",
       "    <tr>\n",
       "      <th>2820</th>\n",
       "      <td>43</td>\n",
       "      <td>100.00</td>\n",
       "      <td>3</td>\n",
       "      <td>1</td>\n",
       "      <td>2005</td>\n",
       "    </tr>\n",
       "    <tr>\n",
       "      <th>2821</th>\n",
       "      <td>34</td>\n",
       "      <td>62.24</td>\n",
       "      <td>3</td>\n",
       "      <td>28</td>\n",
       "      <td>2005</td>\n",
       "    </tr>\n",
       "    <tr>\n",
       "      <th>2822</th>\n",
       "      <td>47</td>\n",
       "      <td>65.52</td>\n",
       "      <td>5</td>\n",
       "      <td>6</td>\n",
       "      <td>2005</td>\n",
       "    </tr>\n",
       "  </tbody>\n",
       "</table>\n",
       "<p>2823 rows × 5 columns</p>\n",
       "</div>"
      ],
      "text/plain": [
       "      Quantityordered  Priceeach  Month  Day  Year_id\n",
       "0                  30      95.70      2   24     2003\n",
       "1                  34      81.35      5    7     2003\n",
       "2                  41      94.74      7    1     2003\n",
       "3                  45      83.26      8   25     2003\n",
       "4                  49     100.00     10   10     2003\n",
       "...               ...        ...    ...  ...      ...\n",
       "2818               20     100.00     12    2     2004\n",
       "2819               29     100.00      1   31     2005\n",
       "2820               43     100.00      3    1     2005\n",
       "2821               34      62.24      3   28     2005\n",
       "2822               47      65.52      5    6     2005\n",
       "\n",
       "[2823 rows x 5 columns]"
      ]
     },
     "execution_count": 204,
     "metadata": {},
     "output_type": "execute_result"
    }
   ],
   "source": [
    "x"
   ]
  },
  {
   "cell_type": "code",
   "execution_count": null,
   "id": "32012a82",
   "metadata": {},
   "outputs": [],
   "source": []
  },
  {
   "cell_type": "code",
   "execution_count": 209,
   "id": "50c0f205",
   "metadata": {},
   "outputs": [],
   "source": [
    "from pandas import DataFrame"
   ]
  },
  {
   "cell_type": "code",
   "execution_count": 215,
   "id": "fe617ec6",
   "metadata": {},
   "outputs": [],
   "source": [
    "Sales_Prediction = {'Quantityordered': [20,16,10,50,44,90,45,90,34,27,16,74,38,16,22,12],\n",
    "                   'Priceeach': [120,304,65,203,78,304,102,200,608,90,405,67,120,301,203, 100],\n",
    "                   'Year_id': [2010,2011,2012,2013,2018,2019,2017,2018,2022,2021,2020,2013,2006,2004,2024,2004],\n",
    "                   'Month': [1,2,3,4,5,9,5,6,9,2,12,11,8,4,3,2],\n",
    "                   'Day': [1,2,3,4,15,12,16,17,22,30,28,18,14,8,9,10]}"
   ]
  },
  {
   "cell_type": "code",
   "execution_count": 217,
   "id": "222465a8",
   "metadata": {},
   "outputs": [
    {
     "data": {
      "text/html": [
       "<div>\n",
       "<style scoped>\n",
       "    .dataframe tbody tr th:only-of-type {\n",
       "        vertical-align: middle;\n",
       "    }\n",
       "\n",
       "    .dataframe tbody tr th {\n",
       "        vertical-align: top;\n",
       "    }\n",
       "\n",
       "    .dataframe thead th {\n",
       "        text-align: right;\n",
       "    }\n",
       "</style>\n",
       "<table border=\"1\" class=\"dataframe\">\n",
       "  <thead>\n",
       "    <tr style=\"text-align: right;\">\n",
       "      <th></th>\n",
       "      <th>Quantityordered</th>\n",
       "      <th>Priceeach</th>\n",
       "      <th>Year_id</th>\n",
       "      <th>Month</th>\n",
       "      <th>Day</th>\n",
       "    </tr>\n",
       "  </thead>\n",
       "  <tbody>\n",
       "    <tr>\n",
       "      <th>0</th>\n",
       "      <td>20</td>\n",
       "      <td>120</td>\n",
       "      <td>2010</td>\n",
       "      <td>1</td>\n",
       "      <td>1</td>\n",
       "    </tr>\n",
       "    <tr>\n",
       "      <th>1</th>\n",
       "      <td>16</td>\n",
       "      <td>304</td>\n",
       "      <td>2011</td>\n",
       "      <td>2</td>\n",
       "      <td>2</td>\n",
       "    </tr>\n",
       "    <tr>\n",
       "      <th>2</th>\n",
       "      <td>10</td>\n",
       "      <td>65</td>\n",
       "      <td>2012</td>\n",
       "      <td>3</td>\n",
       "      <td>3</td>\n",
       "    </tr>\n",
       "    <tr>\n",
       "      <th>3</th>\n",
       "      <td>50</td>\n",
       "      <td>203</td>\n",
       "      <td>2013</td>\n",
       "      <td>4</td>\n",
       "      <td>4</td>\n",
       "    </tr>\n",
       "    <tr>\n",
       "      <th>4</th>\n",
       "      <td>44</td>\n",
       "      <td>78</td>\n",
       "      <td>2018</td>\n",
       "      <td>5</td>\n",
       "      <td>15</td>\n",
       "    </tr>\n",
       "    <tr>\n",
       "      <th>5</th>\n",
       "      <td>90</td>\n",
       "      <td>304</td>\n",
       "      <td>2019</td>\n",
       "      <td>9</td>\n",
       "      <td>12</td>\n",
       "    </tr>\n",
       "    <tr>\n",
       "      <th>6</th>\n",
       "      <td>45</td>\n",
       "      <td>102</td>\n",
       "      <td>2017</td>\n",
       "      <td>5</td>\n",
       "      <td>16</td>\n",
       "    </tr>\n",
       "    <tr>\n",
       "      <th>7</th>\n",
       "      <td>90</td>\n",
       "      <td>200</td>\n",
       "      <td>2018</td>\n",
       "      <td>6</td>\n",
       "      <td>17</td>\n",
       "    </tr>\n",
       "    <tr>\n",
       "      <th>8</th>\n",
       "      <td>34</td>\n",
       "      <td>608</td>\n",
       "      <td>2022</td>\n",
       "      <td>9</td>\n",
       "      <td>22</td>\n",
       "    </tr>\n",
       "    <tr>\n",
       "      <th>9</th>\n",
       "      <td>27</td>\n",
       "      <td>90</td>\n",
       "      <td>2021</td>\n",
       "      <td>2</td>\n",
       "      <td>30</td>\n",
       "    </tr>\n",
       "    <tr>\n",
       "      <th>10</th>\n",
       "      <td>16</td>\n",
       "      <td>405</td>\n",
       "      <td>2020</td>\n",
       "      <td>12</td>\n",
       "      <td>28</td>\n",
       "    </tr>\n",
       "    <tr>\n",
       "      <th>11</th>\n",
       "      <td>74</td>\n",
       "      <td>67</td>\n",
       "      <td>2013</td>\n",
       "      <td>11</td>\n",
       "      <td>18</td>\n",
       "    </tr>\n",
       "    <tr>\n",
       "      <th>12</th>\n",
       "      <td>38</td>\n",
       "      <td>120</td>\n",
       "      <td>2006</td>\n",
       "      <td>8</td>\n",
       "      <td>14</td>\n",
       "    </tr>\n",
       "    <tr>\n",
       "      <th>13</th>\n",
       "      <td>16</td>\n",
       "      <td>301</td>\n",
       "      <td>2004</td>\n",
       "      <td>4</td>\n",
       "      <td>8</td>\n",
       "    </tr>\n",
       "    <tr>\n",
       "      <th>14</th>\n",
       "      <td>22</td>\n",
       "      <td>203</td>\n",
       "      <td>2024</td>\n",
       "      <td>3</td>\n",
       "      <td>9</td>\n",
       "    </tr>\n",
       "    <tr>\n",
       "      <th>15</th>\n",
       "      <td>12</td>\n",
       "      <td>100</td>\n",
       "      <td>2004</td>\n",
       "      <td>2</td>\n",
       "      <td>10</td>\n",
       "    </tr>\n",
       "  </tbody>\n",
       "</table>\n",
       "</div>"
      ],
      "text/plain": [
       "    Quantityordered  Priceeach  Year_id  Month  Day\n",
       "0                20        120     2010      1    1\n",
       "1                16        304     2011      2    2\n",
       "2                10         65     2012      3    3\n",
       "3                50        203     2013      4    4\n",
       "4                44         78     2018      5   15\n",
       "5                90        304     2019      9   12\n",
       "6                45        102     2017      5   16\n",
       "7                90        200     2018      6   17\n",
       "8                34        608     2022      9   22\n",
       "9                27         90     2021      2   30\n",
       "10               16        405     2020     12   28\n",
       "11               74         67     2013     11   18\n",
       "12               38        120     2006      8   14\n",
       "13               16        301     2004      4    8\n",
       "14               22        203     2024      3    9\n",
       "15               12        100     2004      2   10"
      ]
     },
     "execution_count": 217,
     "metadata": {},
     "output_type": "execute_result"
    }
   ],
   "source": [
    "ddf = DataFrame(Sales_Prediction, columns = ['Quantityordered', 'Priceeach', 'Year_id', 'Month', 'Day'])\n",
    "ddf"
   ]
  },
  {
   "cell_type": "code",
   "execution_count": 218,
   "id": "02d55513",
   "metadata": {},
   "outputs": [
    {
     "data": {
      "text/plain": [
       "array([22771.05946818, 33256.98103694, 18452.819899  , 30671.46343303,\n",
       "       22485.08155799, 40568.51805108, 24000.59618608, 34353.83650007,\n",
       "       52780.9527497 , 21283.26845196, 38832.27396562, 24825.34204143,\n",
       "       24409.90628731, 33017.65928069, 27733.16372144, 20674.87175773])"
      ]
     },
     "execution_count": 218,
     "metadata": {},
     "output_type": "execute_result"
    }
   ],
   "source": [
    "y_pred = multiple_reg.predict(ddf)\n",
    "y_pred"
   ]
  },
  {
   "cell_type": "code",
   "execution_count": 222,
   "id": "cb9a4397",
   "metadata": {},
   "outputs": [
    {
     "data": {
      "text/html": [
       "<div>\n",
       "<style scoped>\n",
       "    .dataframe tbody tr th:only-of-type {\n",
       "        vertical-align: middle;\n",
       "    }\n",
       "\n",
       "    .dataframe tbody tr th {\n",
       "        vertical-align: top;\n",
       "    }\n",
       "\n",
       "    .dataframe thead th {\n",
       "        text-align: right;\n",
       "    }\n",
       "</style>\n",
       "<table border=\"1\" class=\"dataframe\">\n",
       "  <thead>\n",
       "    <tr style=\"text-align: right;\">\n",
       "      <th></th>\n",
       "      <th>Quantityordered</th>\n",
       "      <th>Priceeach</th>\n",
       "      <th>Year_id</th>\n",
       "      <th>Month</th>\n",
       "      <th>Day</th>\n",
       "      <th>Predicted_Sales</th>\n",
       "    </tr>\n",
       "  </thead>\n",
       "  <tbody>\n",
       "    <tr>\n",
       "      <th>0</th>\n",
       "      <td>20</td>\n",
       "      <td>120</td>\n",
       "      <td>2010</td>\n",
       "      <td>1</td>\n",
       "      <td>1</td>\n",
       "      <td>22771.0</td>\n",
       "    </tr>\n",
       "    <tr>\n",
       "      <th>1</th>\n",
       "      <td>16</td>\n",
       "      <td>304</td>\n",
       "      <td>2011</td>\n",
       "      <td>2</td>\n",
       "      <td>2</td>\n",
       "      <td>33257.0</td>\n",
       "    </tr>\n",
       "    <tr>\n",
       "      <th>2</th>\n",
       "      <td>10</td>\n",
       "      <td>65</td>\n",
       "      <td>2012</td>\n",
       "      <td>3</td>\n",
       "      <td>3</td>\n",
       "      <td>18453.0</td>\n",
       "    </tr>\n",
       "    <tr>\n",
       "      <th>3</th>\n",
       "      <td>50</td>\n",
       "      <td>203</td>\n",
       "      <td>2013</td>\n",
       "      <td>4</td>\n",
       "      <td>4</td>\n",
       "      <td>30671.0</td>\n",
       "    </tr>\n",
       "    <tr>\n",
       "      <th>4</th>\n",
       "      <td>44</td>\n",
       "      <td>78</td>\n",
       "      <td>2018</td>\n",
       "      <td>5</td>\n",
       "      <td>15</td>\n",
       "      <td>22485.0</td>\n",
       "    </tr>\n",
       "    <tr>\n",
       "      <th>5</th>\n",
       "      <td>90</td>\n",
       "      <td>304</td>\n",
       "      <td>2019</td>\n",
       "      <td>9</td>\n",
       "      <td>12</td>\n",
       "      <td>40569.0</td>\n",
       "    </tr>\n",
       "    <tr>\n",
       "      <th>6</th>\n",
       "      <td>45</td>\n",
       "      <td>102</td>\n",
       "      <td>2017</td>\n",
       "      <td>5</td>\n",
       "      <td>16</td>\n",
       "      <td>24001.0</td>\n",
       "    </tr>\n",
       "    <tr>\n",
       "      <th>7</th>\n",
       "      <td>90</td>\n",
       "      <td>200</td>\n",
       "      <td>2018</td>\n",
       "      <td>6</td>\n",
       "      <td>17</td>\n",
       "      <td>34354.0</td>\n",
       "    </tr>\n",
       "    <tr>\n",
       "      <th>8</th>\n",
       "      <td>34</td>\n",
       "      <td>608</td>\n",
       "      <td>2022</td>\n",
       "      <td>9</td>\n",
       "      <td>22</td>\n",
       "      <td>52781.0</td>\n",
       "    </tr>\n",
       "    <tr>\n",
       "      <th>9</th>\n",
       "      <td>27</td>\n",
       "      <td>90</td>\n",
       "      <td>2021</td>\n",
       "      <td>2</td>\n",
       "      <td>30</td>\n",
       "      <td>21283.0</td>\n",
       "    </tr>\n",
       "    <tr>\n",
       "      <th>10</th>\n",
       "      <td>16</td>\n",
       "      <td>405</td>\n",
       "      <td>2020</td>\n",
       "      <td>12</td>\n",
       "      <td>28</td>\n",
       "      <td>38832.0</td>\n",
       "    </tr>\n",
       "    <tr>\n",
       "      <th>11</th>\n",
       "      <td>74</td>\n",
       "      <td>67</td>\n",
       "      <td>2013</td>\n",
       "      <td>11</td>\n",
       "      <td>18</td>\n",
       "      <td>24825.0</td>\n",
       "    </tr>\n",
       "    <tr>\n",
       "      <th>12</th>\n",
       "      <td>38</td>\n",
       "      <td>120</td>\n",
       "      <td>2006</td>\n",
       "      <td>8</td>\n",
       "      <td>14</td>\n",
       "      <td>24410.0</td>\n",
       "    </tr>\n",
       "    <tr>\n",
       "      <th>13</th>\n",
       "      <td>16</td>\n",
       "      <td>301</td>\n",
       "      <td>2004</td>\n",
       "      <td>4</td>\n",
       "      <td>8</td>\n",
       "      <td>33018.0</td>\n",
       "    </tr>\n",
       "    <tr>\n",
       "      <th>14</th>\n",
       "      <td>22</td>\n",
       "      <td>203</td>\n",
       "      <td>2024</td>\n",
       "      <td>3</td>\n",
       "      <td>9</td>\n",
       "      <td>27733.0</td>\n",
       "    </tr>\n",
       "    <tr>\n",
       "      <th>15</th>\n",
       "      <td>12</td>\n",
       "      <td>100</td>\n",
       "      <td>2004</td>\n",
       "      <td>2</td>\n",
       "      <td>10</td>\n",
       "      <td>20675.0</td>\n",
       "    </tr>\n",
       "  </tbody>\n",
       "</table>\n",
       "</div>"
      ],
      "text/plain": [
       "    Quantityordered  Priceeach  Year_id  Month  Day  Predicted_Sales\n",
       "0                20        120     2010      1    1          22771.0\n",
       "1                16        304     2011      2    2          33257.0\n",
       "2                10         65     2012      3    3          18453.0\n",
       "3                50        203     2013      4    4          30671.0\n",
       "4                44         78     2018      5   15          22485.0\n",
       "5                90        304     2019      9   12          40569.0\n",
       "6                45        102     2017      5   16          24001.0\n",
       "7                90        200     2018      6   17          34354.0\n",
       "8                34        608     2022      9   22          52781.0\n",
       "9                27         90     2021      2   30          21283.0\n",
       "10               16        405     2020     12   28          38832.0\n",
       "11               74         67     2013     11   18          24825.0\n",
       "12               38        120     2006      8   14          24410.0\n",
       "13               16        301     2004      4    8          33018.0\n",
       "14               22        203     2024      3    9          27733.0\n",
       "15               12        100     2004      2   10          20675.0"
      ]
     },
     "execution_count": 222,
     "metadata": {},
     "output_type": "execute_result"
    }
   ],
   "source": [
    "ddf['Predicted_Sales'] = y_pred\n",
    "ddf.round(0)"
   ]
  },
  {
   "cell_type": "code",
   "execution_count": 223,
   "id": "61ff9816",
   "metadata": {},
   "outputs": [],
   "source": [
    "ddf.to_csv('Sales_Predicted_for_certain_years.csv')"
   ]
  }
 ],
 "metadata": {
  "kernelspec": {
   "display_name": "Python 3 (ipykernel)",
   "language": "python",
   "name": "python3"
  },
  "language_info": {
   "codemirror_mode": {
    "name": "ipython",
    "version": 3
   },
   "file_extension": ".py",
   "mimetype": "text/x-python",
   "name": "python",
   "nbconvert_exporter": "python",
   "pygments_lexer": "ipython3",
   "version": "3.9.7"
  }
 },
 "nbformat": 4,
 "nbformat_minor": 5
}
