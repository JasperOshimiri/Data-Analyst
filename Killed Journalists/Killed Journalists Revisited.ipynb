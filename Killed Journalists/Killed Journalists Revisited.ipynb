{
 "cells": [
  {
   "cell_type": "markdown",
   "id": "92a5c857",
   "metadata": {},
   "source": [
    "# Analyzing journalists killed from 1993 to 2022"
   ]
  },
  {
   "cell_type": "code",
   "execution_count": 6,
   "id": "e74c4140",
   "metadata": {},
   "outputs": [],
   "source": [
    "import numpy as np\n",
    "import pandas as pd\n",
    "import matplotlib.pyplot as plt\n",
    "import seaborn as sns\n",
    "import plotly.express as px\n",
    "%matplotlib inline\n",
    "import re"
   ]
  },
  {
   "cell_type": "code",
   "execution_count": 7,
   "id": "9c0e8030",
   "metadata": {},
   "outputs": [],
   "source": [
    "df = pd.read_csv(\"Killed_journalists.csv\")"
   ]
  },
  {
   "cell_type": "code",
   "execution_count": 8,
   "id": "7459d116",
   "metadata": {},
   "outputs": [
    {
     "data": {
      "text/html": [
       "<div>\n",
       "<style scoped>\n",
       "    .dataframe tbody tr th:only-of-type {\n",
       "        vertical-align: middle;\n",
       "    }\n",
       "\n",
       "    .dataframe tbody tr th {\n",
       "        vertical-align: top;\n",
       "    }\n",
       "\n",
       "    .dataframe thead th {\n",
       "        text-align: right;\n",
       "    }\n",
       "</style>\n",
       "<table border=\"1\" class=\"dataframe\">\n",
       "  <thead>\n",
       "    <tr style=\"text-align: right;\">\n",
       "      <th></th>\n",
       "      <th>Name</th>\n",
       "      <th>Gender</th>\n",
       "      <th>Date killed</th>\n",
       "      <th>Nationality</th>\n",
       "      <th>Judicial enquiry status</th>\n",
       "      <th>Country in which killed</th>\n",
       "      <th>DG condemnation</th>\n",
       "      <th>Member State response *</th>\n",
       "    </tr>\n",
       "  </thead>\n",
       "  <tbody>\n",
       "    <tr>\n",
       "      <th>0</th>\n",
       "      <td>John Wesley Amady</td>\n",
       "      <td>Male</td>\n",
       "      <td>06/01/2022</td>\n",
       "      <td>Haitian</td>\n",
       "      <td>New request</td>\n",
       "      <td>Haiti</td>\n",
       "      <td>Link</td>\n",
       "      <td>NaN</td>\n",
       "    </tr>\n",
       "    <tr>\n",
       "      <th>1</th>\n",
       "      <td>Muratkhan Bazarbayev</td>\n",
       "      <td>Male</td>\n",
       "      <td>06/01/2022</td>\n",
       "      <td>NaN</td>\n",
       "      <td>New request</td>\n",
       "      <td>Kazakhstan</td>\n",
       "      <td>Link</td>\n",
       "      <td>NaN</td>\n",
       "    </tr>\n",
       "    <tr>\n",
       "      <th>2</th>\n",
       "      <td>Wilguens Louissaint</td>\n",
       "      <td>Male</td>\n",
       "      <td>06/01/2022</td>\n",
       "      <td>Haitian</td>\n",
       "      <td>New request</td>\n",
       "      <td>Haiti</td>\n",
       "      <td>Link</td>\n",
       "      <td>NaN</td>\n",
       "    </tr>\n",
       "    <tr>\n",
       "      <th>3</th>\n",
       "      <td>Sai Win Aung</td>\n",
       "      <td>Male</td>\n",
       "      <td>25/12/2021</td>\n",
       "      <td>Burmese</td>\n",
       "      <td>New request</td>\n",
       "      <td>Myanmar</td>\n",
       "      <td>Link</td>\n",
       "      <td>NaN</td>\n",
       "    </tr>\n",
       "    <tr>\n",
       "      <th>4</th>\n",
       "      <td>Soe Naing</td>\n",
       "      <td>Male</td>\n",
       "      <td>14/12/2021</td>\n",
       "      <td>Burmese</td>\n",
       "      <td>New request</td>\n",
       "      <td>Myanmar</td>\n",
       "      <td>Link</td>\n",
       "      <td>NaN</td>\n",
       "    </tr>\n",
       "  </tbody>\n",
       "</table>\n",
       "</div>"
      ],
      "text/plain": [
       "                   Name Gender Date killed Nationality  \\\n",
       "0     John Wesley Amady   Male  06/01/2022     Haitian   \n",
       "1  Muratkhan Bazarbayev   Male  06/01/2022         NaN   \n",
       "2   Wilguens Louissaint   Male  06/01/2022     Haitian   \n",
       "3          Sai Win Aung   Male  25/12/2021     Burmese   \n",
       "4             Soe Naing   Male  14/12/2021     Burmese   \n",
       "\n",
       "  Judicial enquiry status Country in which killed DG condemnation  \\\n",
       "0             New request                   Haiti            Link   \n",
       "1             New request              Kazakhstan            Link   \n",
       "2             New request                   Haiti            Link   \n",
       "3             New request                 Myanmar            Link   \n",
       "4             New request                 Myanmar            Link   \n",
       "\n",
       "  Member State response *  \n",
       "0                     NaN  \n",
       "1                     NaN  \n",
       "2                     NaN  \n",
       "3                     NaN  \n",
       "4                     NaN  "
      ]
     },
     "execution_count": 8,
     "metadata": {},
     "output_type": "execute_result"
    }
   ],
   "source": [
    "df.head()"
   ]
  },
  {
   "cell_type": "code",
   "execution_count": null,
   "id": "2db52ae3",
   "metadata": {},
   "outputs": [],
   "source": []
  },
  {
   "cell_type": "markdown",
   "id": "6ede172d",
   "metadata": {},
   "source": [
    "### Read the Information Below to understand the process I employed the get the data"
   ]
  },
  {
   "cell_type": "code",
   "execution_count": null,
   "id": "4ed48f23",
   "metadata": {},
   "outputs": [],
   "source": [
    "# The data used for this analysis was scrapped from the UNESCO Website https://en.unesco.org/themes/safety-journalists/observatory.\n",
    "# It the government released number of journalists that have been killed in the course of their duties in various countries\n",
    "# and various times.\n",
    "\n",
    "# A part of the reason for this is to deepen my konwledge of scraping data from websites. I have to indicate that I tried to scrape\n",
    "# the data with a single unified code but encountered server errors on dely to respond. I still want to learn so when you read this\n",
    "# and find a way around, reach out to me. I will share the code I used to scrape below while the one that failed will be shared\n",
    "# down after the multiples onces that worked. The data was paginated. It has a total of 51 pages as at the time of this analysis\n",
    "# 13/05/2022. I continued to change the url below in the load process to as to extract each page.\n",
    "\n",
    "\n",
    "# import re\n",
    "# import requests\n",
    "# from bs4 import BeautifulSoup as bs\n",
    "# r = requests.get('https://en.unesco.org/themes/safety-journalists/observatory?field_journalists_date_killed_value%5Bmax%5D%5Byear%5D=&field_journalists_date_killed_value%5Bmin%5D%5Byear%5D=&field_journalists_gender_value_i18n=All&field_journalists_judicial_tid=All&field_journalists_local_value_i18n=All&field_journalists_nationality_tid_i18n=All&field_journalists_status_value_i18n=All&field_journalists_type_of_media_tid_i18n=All&field_unesco_region_value_i18n=All&page=50')\n",
    "# unesdata = bs(r.content)\n",
    "# print(unesdata.prettify())\n",
    "\n",
    "# table = unesdata.find_all('table')\n",
    "# unes1 = pd.read_html(str(table))[0]\n",
    "# unes1.head(2)\n",
    "\n",
    "# table = unesdata.find_all('table')\n",
    "# unes2 = pd.read_html(str(table))[0]\n",
    "# unes2.head(2)\n",
    "\n",
    "# table = unesdata.find_all('table')\n",
    "# unes3 = pd.read_html(str(table))[0]\n",
    "# unes3.head(2)\n",
    "\n",
    "# table = unesdata.find_all('table')\n",
    "# unes4 = pd.read_html(str(table))[0]\n",
    "# unes4.head(2)\n",
    "\n",
    "# table = unesdata.find_all('table')\n",
    "# unes5 = pd.read_html(str(table))[0]\n",
    "# unes5.head(2)\n",
    "\n",
    "# table = unesdata.find_all('table')\n",
    "# unes6 = pd.read_html(str(table))[0]\n",
    "# unes6.head(2)\n",
    "\n",
    "# table = unesdata.find_all('table')\n",
    "# unes7 = pd.read_html(str(table))[0]\n",
    "# unes7.head(2)\n",
    "\n",
    "# table = unesdata.find_all('table')\n",
    "# unes8 = pd.read_html(str(table))[0]\n",
    "# unes8.head(2)\n",
    "\n",
    "# table = unesdata.find_all('table')\n",
    "# unes9 = pd.read_html(str(table))[0]\n",
    "# unes9.head(2)\n",
    "\n",
    "# table = unesdata.find_all('table')\n",
    "# unes10 = pd.read_html(str(table))[0]\n",
    "# unes10.head(2)\n",
    "\n",
    "# table = unesdata.find_all('table')\n",
    "# unes11 = pd.read_html(str(table))[0]\n",
    "# unes11.head(2)\n",
    "\n",
    "# table = unesdata.find_all('table')\n",
    "# unes12 = pd.read_html(str(table))[0]\n",
    "# unes12.head(2)\n",
    "\n",
    "# table = unesdata.find_all('table')\n",
    "# unes13 = pd.read_html(str(table))[0]\n",
    "# unes13.head(2)\n",
    "\n",
    "# table = unesdata.find_all('table')\n",
    "# unes14 = pd.read_html(str(table))[0]\n",
    "# unes14.head(2)\n",
    "\n",
    "# table = unesdata.find_all('table')\n",
    "# unes15 = pd.read_html(str(table))[0]\n",
    "# unes15.head(2)\n",
    "\n",
    "# table = unesdata.find_all('table')\n",
    "# unes16 = pd.read_html(str(table))[0]\n",
    "# unes16.head(2)\n",
    "\n",
    "# table = unesdata.find_all('table')\n",
    "# unes17 = pd.read_html(str(table))[0]\n",
    "# unes17.head(2)\n",
    "\n",
    "# table = unesdata.find_all('table')\n",
    "# unes18 = pd.read_html(str(table))[0]\n",
    "# unes18.head(2)\n",
    "\n",
    "# table = unesdata.find_all('table')\n",
    "# unes19 = pd.read_html(str(table))[0]\n",
    "# unes19.head(2)\n",
    "\n",
    "# table = unesdata.find_all('table')\n",
    "# unes20 = pd.read_html(str(table))[0]\n",
    "# unes20.head(2)\n",
    "\n",
    "# table = unesdata.find_all('table')\n",
    "# unes21 = pd.read_html(str(table))[0]\n",
    "# unes21.head(2)\n",
    "\n",
    "# table = unesdata.find_all('table')\n",
    "# unes22 = pd.read_html(str(table))[0]\n",
    "# unes22.head(2)\n",
    "\n",
    "# table = unesdata.find_all('table')\n",
    "# unes23 = pd.read_html(str(table))[0]\n",
    "# unes23.head(2)\n",
    "\n",
    "# table = unesdata.find_all('table')\n",
    "# unes24 = pd.read_html(str(table))[0]\n",
    "# unes24.head(2)\n",
    "\n",
    "# table = unesdata.find_all('table')\n",
    "# unes25 = pd.read_html(str(table))[0]\n",
    "# unes25.head(2)\n",
    "\n",
    "# table = unesdata.find_all('table')\n",
    "# unes26 = pd.read_html(str(table))[0]\n",
    "# unes26.head(2)\n",
    "\n",
    "# table = unesdata.find_all('table')\n",
    "# unes27 = pd.read_html(str(table))[0]\n",
    "# unes27.head(2)\n",
    "\n",
    "# table = unesdata.find_all('table')\n",
    "# unes28 = pd.read_html(str(table))[0]\n",
    "# unes28.head(2)\n",
    "\n",
    "# table = unesdata.find_all('table')\n",
    "# unes29 = pd.read_html(str(table))[0]\n",
    "# unes29.head(2)\n",
    "\n",
    "# table = unesdata.find_all('table')\n",
    "# unes30 = pd.read_html(str(table))[0]\n",
    "# unes30.head(2)\n",
    "\n",
    "# table = unesdata.find_all('table')\n",
    "# unes31 = pd.read_html(str(table))[0]\n",
    "# unes31.head(2)\n",
    "\n",
    "# table = unesdata.find_all('table')\n",
    "# unes32 = pd.read_html(str(table))[0]\n",
    "# unes32.head(2)\n",
    "\n",
    "# table = unesdata.find_all('table')\n",
    "# unes33 = pd.read_html(str(table))[0]\n",
    "# unes33.head(2)\n",
    "\n",
    "# table = unesdata.find_all('table')\n",
    "# unes34 = pd.read_html(str(table))[0]\n",
    "# unes34.head(2)\n",
    "\n",
    "# table = unesdata.find_all('table')\n",
    "# unes35 = pd.read_html(str(table))[0]\n",
    "# unes35.head(2)\n",
    "\n",
    "# table = unesdata.find_all('table')\n",
    "# unes36 = pd.read_html(str(table))[0]\n",
    "# unes36.head(2)\n",
    "\n",
    "# table = unesdata.find_all('table')\n",
    "# unes37 = pd.read_html(str(table))[0]\n",
    "# unes37.head(2)\n",
    "\n",
    "# table = unesdata.find_all('table')\n",
    "# unes38 = pd.read_html(str(table))[0]\n",
    "# unes38.head(2)\n",
    "\n",
    "# table = unesdata.find_all('table')\n",
    "# unes39 = pd.read_html(str(table))[0]\n",
    "# unes39.head(2)\n",
    "\n",
    "# table = unesdata.find_all('table')\n",
    "# unes40 = pd.read_html(str(table))[0]\n",
    "# unes40.head(2)\n",
    "\n",
    "# table = unesdata.find_all('table')\n",
    "# unes41 = pd.read_html(str(table))[0]\n",
    "# unes41.head(2)\n",
    "\n",
    "# table = unesdata.find_all('table')\n",
    "# unes42 = pd.read_html(str(table))[0]\n",
    "# unes42.head(2)\n",
    "\n",
    "# table = unesdata.find_all('table')\n",
    "# unes43 = pd.read_html(str(table))[0]\n",
    "# unes43.head(2)\n",
    "\n",
    "# table = unesdata.find_all('table')\n",
    "# unes44 = pd.read_html(str(table))[0]\n",
    "# unes44.head(2)\n",
    "\n",
    "# table = unesdata.find_all('table')\n",
    "# unes45 = pd.read_html(str(table))[0]\n",
    "# unes45.head(2)\n",
    "\n",
    "# table = unesdata.find_all('table')\n",
    "# unes46 = pd.read_html(str(table))[0]\n",
    "# unes46.head(2)\n",
    "\n",
    "# table = unesdata.find_all('table')\n",
    "# unes47 = pd.read_html(str(table))[0]\n",
    "# unes47.head(2)\n",
    "\n",
    "# table = unesdata.find_all('table')\n",
    "# unes48 = pd.read_html(str(table))[0]\n",
    "# unes48.head(2)\n",
    "\n",
    "# table = unesdata.find_all('table')\n",
    "# unes49 = pd.read_html(str(table))[0]\n",
    "# unes49.head(2)\n",
    "\n",
    "# table = unesdata.find_all('table')\n",
    "# unes50 = pd.read_html(str(table))[0]\n",
    "# unes50.head(2)\n",
    "\n",
    "\n",
    "\n",
    "# unesco_concat1 = pd.concat([unes49, unes50], axis=0)\n",
    "# unesco_concat1.head()\n",
    "\n",
    "# unesco_concat1.shape\n",
    "\n",
    "# unesco_concat2 = pd.concat([unes1, unes2, unes3, unes4, unes5, unes6, unes7, unes8, unes9, unes10, unes11, unes12, unes13, unes14, unes15, unes16, unes17, unes18, unes19, unes20, unes21, unes22, unes23, unes24, unes25, unes26, unes27, unes28, unes29, unes29, unes30, unes31, unes32, unes33, unes34, unes35, unes36, unes37, unes38, unes39, unes40, unes41, unes42, unes43, unes44, unes45, unes46, unes47, unes48], axis=0)\n",
    "# unesco_concat2.head()\n",
    "\n",
    "# unescojodata = pd.concat([unesco_concat2, unesco_concat1])\n",
    "# unescojodata.info()\n",
    "\n",
    "The code I tried but failed:\n",
    "# #Generated an error. Do not run!!!\n",
    "# import urllib\n",
    "# import urllib.request\n",
    "# from bs4 import BeautifulSoup\n",
    "# import os\n",
    "\n",
    "\n",
    "# def make_soup(url):\n",
    "#     thepage=urllib.request.urlopen(url)\n",
    "#     soupdata=BeautifulSoup(thepage,\"html.parser\")\n",
    "#     return soupdata\n",
    "\n",
    "\n",
    "# save=\"\"\n",
    "# for num in range(0, 49):\n",
    "#     soup=make_soup(\"https://en.unesco.org/themes/safety-journalists/observatory?field_journalists_date_killed_value%5Bmax%5D%5Byear%5D=&field_journalists_date_killed_value%5Bmin%5D%5Byear%5D=&field_journalists_gender_value_i18n=All&field_journalists_judicial_tid=All&field_journalists_local_value_i18n=All&field_journalists_nationality_tid_i18n=All&field_journalists_status_value_i18n=All&field_journalists_type_of_media_tid_i18n=All&field_unesco_region_value_i18n=All\"+str(num))\n",
    "#     for rec in soup.find_all('tr'):\n",
    "#         saverec=\"\"\n",
    "#         for data in rec.find_all('td'):\n",
    "#             data = data.text.strip()\n",
    "#             if \",\" in data:\n",
    "#                 data = data.replace(\",\", \"\")\n",
    "#             saverec=saverec+\",\"+data\n",
    "#         if len(saverec)!=0:\n",
    "#          save=save+\"\\n\"+saverec[1:]\n",
    "#     print('#%d done' % num)\n",
    "\n",
    "# headers=\"Name\",\"Gender\",\"Date killed\",\"Nationality\",\"Judicial enquiry status\",\"DG condemnation\",\"Member State response *\"\n",
    "# with open(os.path.expanduser(\"Killed_journalists.csv\"), \"w\") as csv_file:\n",
    "#     csv_file.write(headers)\n",
    "#     csv_file.write(save)\n",
    "    \n",
    "    \n",
    "As well as:\n",
    "# import requests, csv\n",
    "# from bs4 import BeautifulSoup\n",
    "\n",
    "# url = \"https://en.unesco.org/themes/safety-journalists/observatory?field_journalists_date_killed_value%5Bmax%5D%5Byear%5D=&field_journalists_date_killed_value%5Bmin%5D%5Byear%5D=&field_journalists_gender_value_i18n=All&field_journalists_judicial_tid=All&field_journalists_local_value_i18n=All&field_journalists_nationality_tid_i18n=All&field_journalists_status_value_i18n=All&field_journalists_type_of_media_tid_i18n=All&field_unesco_region_value_i18n=All\"\n",
    "\n",
    "# with open('Killed_journalists.csv', \"w\", encoding=\"utf-8\") as f:\n",
    "#     writer = csv.writer(f)\n",
    "#     writer.writerow([\"Name\",\"Gender\",\"Date killed\",\"Nationality\",\"Judicial enquiry status\",\"DG condemnation\",\"Member State response *\"])\n",
    "\n",
    "#     while True:\n",
    "#         html = requests.get(url)\n",
    "#         soup = BeautifulSoup(html.text, 'html.parser')\n",
    "#         for row in soup.select('table tbody tr'):\n",
    "#             writer.writerow([c.text if c.text else '' for c in row.select('td')])\n",
    "\n",
    "\n",
    "#         if soup.select_one('li.active + li a'):\n",
    "#             url = soup.select_one('li.active + li a')['href']\n",
    "#         else:\n",
    "#             break"
   ]
  },
  {
   "cell_type": "code",
   "execution_count": null,
   "id": "5b7807e7",
   "metadata": {},
   "outputs": [],
   "source": []
  },
  {
   "cell_type": "code",
   "execution_count": 11,
   "id": "bac85da5",
   "metadata": {},
   "outputs": [
    {
     "data": {
      "text/html": [
       "<div>\n",
       "<style scoped>\n",
       "    .dataframe tbody tr th:only-of-type {\n",
       "        vertical-align: middle;\n",
       "    }\n",
       "\n",
       "    .dataframe tbody tr th {\n",
       "        vertical-align: top;\n",
       "    }\n",
       "\n",
       "    .dataframe thead th {\n",
       "        text-align: right;\n",
       "    }\n",
       "</style>\n",
       "<table border=\"1\" class=\"dataframe\">\n",
       "  <thead>\n",
       "    <tr style=\"text-align: right;\">\n",
       "      <th></th>\n",
       "      <th>Name</th>\n",
       "      <th>Gender</th>\n",
       "      <th>Date killed</th>\n",
       "      <th>Nationality</th>\n",
       "      <th>Judicial enquiry status</th>\n",
       "      <th>Country in which killed</th>\n",
       "      <th>DG condemnation</th>\n",
       "      <th>Member State response *</th>\n",
       "    </tr>\n",
       "  </thead>\n",
       "  <tbody>\n",
       "    <tr>\n",
       "      <th>0</th>\n",
       "      <td>John Wesley Amady</td>\n",
       "      <td>Male</td>\n",
       "      <td>06/01/2022</td>\n",
       "      <td>Haitian</td>\n",
       "      <td>New request</td>\n",
       "      <td>Haiti</td>\n",
       "      <td>Link</td>\n",
       "      <td>NaN</td>\n",
       "    </tr>\n",
       "    <tr>\n",
       "      <th>1</th>\n",
       "      <td>Muratkhan Bazarbayev</td>\n",
       "      <td>Male</td>\n",
       "      <td>06/01/2022</td>\n",
       "      <td>NaN</td>\n",
       "      <td>New request</td>\n",
       "      <td>Kazakhstan</td>\n",
       "      <td>Link</td>\n",
       "      <td>NaN</td>\n",
       "    </tr>\n",
       "    <tr>\n",
       "      <th>2</th>\n",
       "      <td>Wilguens Louissaint</td>\n",
       "      <td>Male</td>\n",
       "      <td>06/01/2022</td>\n",
       "      <td>Haitian</td>\n",
       "      <td>New request</td>\n",
       "      <td>Haiti</td>\n",
       "      <td>Link</td>\n",
       "      <td>NaN</td>\n",
       "    </tr>\n",
       "    <tr>\n",
       "      <th>3</th>\n",
       "      <td>Sai Win Aung</td>\n",
       "      <td>Male</td>\n",
       "      <td>25/12/2021</td>\n",
       "      <td>Burmese</td>\n",
       "      <td>New request</td>\n",
       "      <td>Myanmar</td>\n",
       "      <td>Link</td>\n",
       "      <td>NaN</td>\n",
       "    </tr>\n",
       "    <tr>\n",
       "      <th>4</th>\n",
       "      <td>Soe Naing</td>\n",
       "      <td>Male</td>\n",
       "      <td>14/12/2021</td>\n",
       "      <td>Burmese</td>\n",
       "      <td>New request</td>\n",
       "      <td>Myanmar</td>\n",
       "      <td>Link</td>\n",
       "      <td>NaN</td>\n",
       "    </tr>\n",
       "  </tbody>\n",
       "</table>\n",
       "</div>"
      ],
      "text/plain": [
       "                   Name Gender Date killed Nationality  \\\n",
       "0     John Wesley Amady   Male  06/01/2022     Haitian   \n",
       "1  Muratkhan Bazarbayev   Male  06/01/2022         NaN   \n",
       "2   Wilguens Louissaint   Male  06/01/2022     Haitian   \n",
       "3          Sai Win Aung   Male  25/12/2021     Burmese   \n",
       "4             Soe Naing   Male  14/12/2021     Burmese   \n",
       "\n",
       "  Judicial enquiry status Country in which killed DG condemnation  \\\n",
       "0             New request                   Haiti            Link   \n",
       "1             New request              Kazakhstan            Link   \n",
       "2             New request                   Haiti            Link   \n",
       "3             New request                 Myanmar            Link   \n",
       "4             New request                 Myanmar            Link   \n",
       "\n",
       "  Member State response *  \n",
       "0                     NaN  \n",
       "1                     NaN  \n",
       "2                     NaN  \n",
       "3                     NaN  \n",
       "4                     NaN  "
      ]
     },
     "execution_count": 11,
     "metadata": {},
     "output_type": "execute_result"
    }
   ],
   "source": [
    "df.head()"
   ]
  },
  {
   "cell_type": "code",
   "execution_count": 12,
   "id": "d5c5a5a1",
   "metadata": {},
   "outputs": [
    {
     "name": "stdout",
     "output_type": "stream",
     "text": [
      "<class 'pandas.core.frame.DataFrame'>\n",
      "RangeIndex: 1516 entries, 0 to 1515\n",
      "Data columns (total 8 columns):\n",
      " #   Column                   Non-Null Count  Dtype \n",
      "---  ------                   --------------  ----- \n",
      " 0   Name                     1516 non-null   object\n",
      " 1   Gender                   1516 non-null   object\n",
      " 2   Date killed              1516 non-null   object\n",
      " 3   Nationality              1513 non-null   object\n",
      " 4   Judicial enquiry status  1348 non-null   object\n",
      " 5   Country in which killed  1516 non-null   object\n",
      " 6   DG condemnation          1509 non-null   object\n",
      " 7   Member State response *  733 non-null    object\n",
      "dtypes: object(8)\n",
      "memory usage: 94.9+ KB\n"
     ]
    }
   ],
   "source": [
    "df.info()"
   ]
  },
  {
   "cell_type": "code",
   "execution_count": 13,
   "id": "c065b10f",
   "metadata": {},
   "outputs": [
    {
     "data": {
      "text/plain": [
       "Name                         0\n",
       "Gender                       0\n",
       "Date killed                  0\n",
       "Nationality                  3\n",
       "Judicial enquiry status    168\n",
       "Country in which killed      0\n",
       "DG condemnation              7\n",
       "Member State response *    783\n",
       "dtype: int64"
      ]
     },
     "execution_count": 13,
     "metadata": {},
     "output_type": "execute_result"
    }
   ],
   "source": [
    "df.isna().sum()"
   ]
  },
  {
   "cell_type": "code",
   "execution_count": null,
   "id": "f5139106",
   "metadata": {},
   "outputs": [],
   "source": [
    "data['Native Country'].fillna(data['Native Country'].mode()[0], inplace=True)"
   ]
  },
  {
   "cell_type": "code",
   "execution_count": 18,
   "id": "4fd61f13",
   "metadata": {},
   "outputs": [],
   "source": [
    "df['Nationality'].fillna(df['Nationality'].mode()[0], inplace = True)\n",
    "df['Judicial enquiry status'].fillna(df['Judicial enquiry status'].mode()[0], inplace = True)"
   ]
  },
  {
   "cell_type": "code",
   "execution_count": 22,
   "id": "abe5b3f2",
   "metadata": {},
   "outputs": [],
   "source": [
    "df.drop(columns = ['DG condemnation','Member State response *'], axis = 1, inplace = True)"
   ]
  },
  {
   "cell_type": "code",
   "execution_count": 26,
   "id": "ff87b237",
   "metadata": {},
   "outputs": [],
   "source": [
    "df['Date killed'] = pd.to_datetime(df['Date killed'])"
   ]
  },
  {
   "cell_type": "code",
   "execution_count": 45,
   "id": "769fa1d5",
   "metadata": {
    "scrolled": true
   },
   "outputs": [
    {
     "data": {
      "text/html": [
       "<div>\n",
       "<style scoped>\n",
       "    .dataframe tbody tr th:only-of-type {\n",
       "        vertical-align: middle;\n",
       "    }\n",
       "\n",
       "    .dataframe tbody tr th {\n",
       "        vertical-align: top;\n",
       "    }\n",
       "\n",
       "    .dataframe thead th {\n",
       "        text-align: right;\n",
       "    }\n",
       "</style>\n",
       "<table border=\"1\" class=\"dataframe\">\n",
       "  <thead>\n",
       "    <tr style=\"text-align: right;\">\n",
       "      <th></th>\n",
       "      <th>Name</th>\n",
       "      <th>Gender</th>\n",
       "      <th>Date killed</th>\n",
       "      <th>Nationality</th>\n",
       "      <th>Judicial enquiry status</th>\n",
       "      <th>Country in which killed</th>\n",
       "      <th>Month Killed</th>\n",
       "      <th>Year Killed</th>\n",
       "    </tr>\n",
       "  </thead>\n",
       "  <tbody>\n",
       "    <tr>\n",
       "      <th>0</th>\n",
       "      <td>John Wesley Amady</td>\n",
       "      <td>Male</td>\n",
       "      <td>2022-06-01</td>\n",
       "      <td>Haitian</td>\n",
       "      <td>New request</td>\n",
       "      <td>Haiti</td>\n",
       "      <td>June</td>\n",
       "      <td>2022</td>\n",
       "    </tr>\n",
       "    <tr>\n",
       "      <th>1</th>\n",
       "      <td>Muratkhan Bazarbayev</td>\n",
       "      <td>Male</td>\n",
       "      <td>2022-06-01</td>\n",
       "      <td>Iraqi</td>\n",
       "      <td>New request</td>\n",
       "      <td>Kazakhstan</td>\n",
       "      <td>June</td>\n",
       "      <td>2022</td>\n",
       "    </tr>\n",
       "    <tr>\n",
       "      <th>2</th>\n",
       "      <td>Wilguens Louissaint</td>\n",
       "      <td>Male</td>\n",
       "      <td>2022-06-01</td>\n",
       "      <td>Haitian</td>\n",
       "      <td>New request</td>\n",
       "      <td>Haiti</td>\n",
       "      <td>June</td>\n",
       "      <td>2022</td>\n",
       "    </tr>\n",
       "  </tbody>\n",
       "</table>\n",
       "</div>"
      ],
      "text/plain": [
       "                   Name Gender Date killed Nationality  \\\n",
       "0     John Wesley Amady   Male  2022-06-01     Haitian   \n",
       "1  Muratkhan Bazarbayev   Male  2022-06-01       Iraqi   \n",
       "2   Wilguens Louissaint   Male  2022-06-01     Haitian   \n",
       "\n",
       "  Judicial enquiry status Country in which killed Month Killed  Year Killed  \n",
       "0             New request                   Haiti         June         2022  \n",
       "1             New request              Kazakhstan         June         2022  \n",
       "2             New request                   Haiti         June         2022  "
      ]
     },
     "execution_count": 45,
     "metadata": {},
     "output_type": "execute_result"
    }
   ],
   "source": [
    "df.head(3)"
   ]
  },
  {
   "cell_type": "code",
   "execution_count": 42,
   "id": "143c593d",
   "metadata": {},
   "outputs": [],
   "source": [
    "df['Month Killed'] = pd.DatetimeIndex(df['Date killed']).month\n",
    "df['Year Killed'] = pd.DatetimeIndex(df['Date killed']).year"
   ]
  },
  {
   "cell_type": "code",
   "execution_count": 44,
   "id": "3599daf5",
   "metadata": {},
   "outputs": [],
   "source": [
    "df['Month Killed'].replace({1:'January', 2:'February',3:'March',4:'April',5:'May',6:'June',7:'July',8:'August',9:'September',10:'October',11:'November',12:'December'}, inplace = True)"
   ]
  },
  {
   "cell_type": "code",
   "execution_count": 47,
   "id": "c3ea9e0a",
   "metadata": {},
   "outputs": [
    {
     "data": {
      "text/plain": [
       "1993"
      ]
     },
     "execution_count": 47,
     "metadata": {},
     "output_type": "execute_result"
    }
   ],
   "source": [
    "df['Year Killed'].min()"
   ]
  },
  {
   "cell_type": "code",
   "execution_count": 48,
   "id": "6a554b54",
   "metadata": {},
   "outputs": [
    {
     "data": {
      "text/plain": [
       "2022"
      ]
     },
     "execution_count": 48,
     "metadata": {},
     "output_type": "execute_result"
    }
   ],
   "source": [
    "df['Year Killed'].max()"
   ]
  },
  {
   "cell_type": "code",
   "execution_count": 56,
   "id": "94cbf51d",
   "metadata": {},
   "outputs": [
    {
     "name": "stdout",
     "output_type": "stream",
     "text": [
      "The Number of journalists killed according to governments record is: 1516\n"
     ]
    }
   ],
   "source": [
    "#Counting the number of journalists killed from 1993 to 2022 May.\n",
    "count_of_people_killed  = df['Name'].count()\n",
    "print(f\"The Number of journalists killed according to governments record is: {count_of_people_killed}\")"
   ]
  },
  {
   "cell_type": "code",
   "execution_count": 60,
   "id": "9a7c8f35",
   "metadata": {
    "scrolled": true
   },
   "outputs": [
    {
     "data": {
      "text/html": [
       "<div>\n",
       "<style scoped>\n",
       "    .dataframe tbody tr th:only-of-type {\n",
       "        vertical-align: middle;\n",
       "    }\n",
       "\n",
       "    .dataframe tbody tr th {\n",
       "        vertical-align: top;\n",
       "    }\n",
       "\n",
       "    .dataframe thead th {\n",
       "        text-align: right;\n",
       "    }\n",
       "</style>\n",
       "<table border=\"1\" class=\"dataframe\">\n",
       "  <thead>\n",
       "    <tr style=\"text-align: right;\">\n",
       "      <th></th>\n",
       "      <th>Name</th>\n",
       "    </tr>\n",
       "    <tr>\n",
       "      <th>Year Killed</th>\n",
       "      <th></th>\n",
       "    </tr>\n",
       "  </thead>\n",
       "  <tbody>\n",
       "    <tr>\n",
       "      <th>2012</th>\n",
       "      <td>154</td>\n",
       "    </tr>\n",
       "    <tr>\n",
       "      <th>2015</th>\n",
       "      <td>116</td>\n",
       "    </tr>\n",
       "    <tr>\n",
       "      <th>2016</th>\n",
       "      <td>102</td>\n",
       "    </tr>\n",
       "    <tr>\n",
       "      <th>2018</th>\n",
       "      <td>99</td>\n",
       "    </tr>\n",
       "    <tr>\n",
       "      <th>2014</th>\n",
       "      <td>99</td>\n",
       "    </tr>\n",
       "    <tr>\n",
       "      <th>2013</th>\n",
       "      <td>90</td>\n",
       "    </tr>\n",
       "    <tr>\n",
       "      <th>2006</th>\n",
       "      <td>84</td>\n",
       "    </tr>\n",
       "    <tr>\n",
       "      <th>2021</th>\n",
       "      <td>82</td>\n",
       "    </tr>\n",
       "    <tr>\n",
       "      <th>2017</th>\n",
       "      <td>80</td>\n",
       "    </tr>\n",
       "    <tr>\n",
       "      <th>2009</th>\n",
       "      <td>77</td>\n",
       "    </tr>\n",
       "    <tr>\n",
       "      <th>2007</th>\n",
       "      <td>66</td>\n",
       "    </tr>\n",
       "    <tr>\n",
       "      <th>2010</th>\n",
       "      <td>65</td>\n",
       "    </tr>\n",
       "    <tr>\n",
       "      <th>2011</th>\n",
       "      <td>62</td>\n",
       "    </tr>\n",
       "    <tr>\n",
       "      <th>2020</th>\n",
       "      <td>62</td>\n",
       "    </tr>\n",
       "    <tr>\n",
       "      <th>2019</th>\n",
       "      <td>57</td>\n",
       "    </tr>\n",
       "    <tr>\n",
       "      <th>2004</th>\n",
       "      <td>48</td>\n",
       "    </tr>\n",
       "    <tr>\n",
       "      <th>2008</th>\n",
       "      <td>46</td>\n",
       "    </tr>\n",
       "    <tr>\n",
       "      <th>1995</th>\n",
       "      <td>42</td>\n",
       "    </tr>\n",
       "    <tr>\n",
       "      <th>2005</th>\n",
       "      <td>42</td>\n",
       "    </tr>\n",
       "    <tr>\n",
       "      <th>2003</th>\n",
       "      <td>16</td>\n",
       "    </tr>\n",
       "    <tr>\n",
       "      <th>2001</th>\n",
       "      <td>11</td>\n",
       "    </tr>\n",
       "    <tr>\n",
       "      <th>2022</th>\n",
       "      <td>6</td>\n",
       "    </tr>\n",
       "    <tr>\n",
       "      <th>2002</th>\n",
       "      <td>6</td>\n",
       "    </tr>\n",
       "    <tr>\n",
       "      <th>1993</th>\n",
       "      <td>4</td>\n",
       "    </tr>\n",
       "  </tbody>\n",
       "</table>\n",
       "</div>"
      ],
      "text/plain": [
       "             Name\n",
       "Year Killed      \n",
       "2012          154\n",
       "2015          116\n",
       "2016          102\n",
       "2018           99\n",
       "2014           99\n",
       "2013           90\n",
       "2006           84\n",
       "2021           82\n",
       "2017           80\n",
       "2009           77\n",
       "2007           66\n",
       "2010           65\n",
       "2011           62\n",
       "2020           62\n",
       "2019           57\n",
       "2004           48\n",
       "2008           46\n",
       "1995           42\n",
       "2005           42\n",
       "2003           16\n",
       "2001           11\n",
       "2022            6\n",
       "2002            6\n",
       "1993            4"
      ]
     },
     "execution_count": 60,
     "metadata": {},
     "output_type": "execute_result"
    }
   ],
   "source": [
    "df.pivot_table(index = 'Year Killed', values = 'Name', aggfunc = 'count').sort_values(by = 'Name', ascending = False)"
   ]
  },
  {
   "cell_type": "code",
   "execution_count": 76,
   "id": "e2a7cf42",
   "metadata": {},
   "outputs": [
    {
     "data": {
      "text/plain": [
       "<AxesSubplot:xlabel='Year Killed', ylabel='count'>"
      ]
     },
     "execution_count": 76,
     "metadata": {},
     "output_type": "execute_result"
    },
    {
     "data": {
      "image/png": "[encoded data removed]",
      "text/plain": [
       "<Figure size 1440x432 with 1 Axes>"
      ]
     },
     "metadata": {
      "needs_background": "light"
     },
     "output_type": "display_data"
    }
   ],
   "source": [
    "plt.figure(figsize=(20,6))\n",
    "sns.countplot(x = 'Year Killed', data = df)"
   ]
  },
  {
   "cell_type": "code",
   "execution_count": null,
   "id": "fa2ec15c",
   "metadata": {},
   "outputs": [],
   "source": []
  },
  {
   "cell_type": "code",
   "execution_count": 63,
   "id": "a54496e7",
   "metadata": {
    "scrolled": true
   },
   "outputs": [
    {
     "data": {
      "text/plain": [
       "Male      0.925462\n",
       "Female    0.074538\n",
       "Name: Gender, dtype: float64"
      ]
     },
     "execution_count": 63,
     "metadata": {},
     "output_type": "execute_result"
    }
   ],
   "source": [
    "df['Gender'].value_counts(normalize = True)"
   ]
  },
  {
   "cell_type": "code",
   "execution_count": 81,
   "id": "c4bd52d1",
   "metadata": {},
   "outputs": [
    {
     "data": {
      "text/plain": [
       "<AxesSubplot:xlabel='Gender', ylabel='count'>"
      ]
     },
     "execution_count": 81,
     "metadata": {},
     "output_type": "execute_result"
    },
    {
     "data": {
      "image/png": "[encoded data removed]",
      "text/plain": [
       "<Figure size 576x216 with 1 Axes>"
      ]
     },
     "metadata": {
      "needs_background": "light"
     },
     "output_type": "display_data"
    }
   ],
   "source": [
    "plt.figure(figsize=(8,3))\n",
    "sns.countplot(x = 'Gender', data = df)"
   ]
  },
  {
   "cell_type": "code",
   "execution_count": null,
   "id": "ccf93ff1",
   "metadata": {},
   "outputs": [],
   "source": []
  },
  {
   "cell_type": "code",
   "execution_count": 66,
   "id": "9cee69e5",
   "metadata": {
    "scrolled": true
   },
   "outputs": [
    {
     "data": {
      "text/plain": [
       "May          0.100264\n",
       "November     0.095646\n",
       "October      0.095646\n",
       "July         0.091689\n",
       "June         0.090369\n",
       "August       0.083773\n",
       "January      0.081794\n",
       "April        0.077177\n",
       "September    0.075198\n",
       "December     0.070580\n",
       "February     0.070580\n",
       "March        0.067282\n",
       "Name: Month Killed, dtype: float64"
      ]
     },
     "execution_count": 66,
     "metadata": {},
     "output_type": "execute_result"
    }
   ],
   "source": [
    "df['Month Killed'].value_counts(normalize = True)"
   ]
  },
  {
   "cell_type": "code",
   "execution_count": 82,
   "id": "8742f053",
   "metadata": {},
   "outputs": [
    {
     "data": {
      "text/plain": [
       "<AxesSubplot:xlabel='Month Killed', ylabel='count'>"
      ]
     },
     "execution_count": 82,
     "metadata": {},
     "output_type": "execute_result"
    },
    {
     "data": {
      "image/png": "[encoded data removed]",
      "text/plain": [
       "<Figure size 1440x432 with 1 Axes>"
      ]
     },
     "metadata": {
      "needs_background": "light"
     },
     "output_type": "display_data"
    }
   ],
   "source": [
    "plt.figure(figsize=(20,6))\n",
    "sns.countplot(x = 'Month Killed', data = df)"
   ]
  },
  {
   "cell_type": "code",
   "execution_count": null,
   "id": "0375ccd2",
   "metadata": {},
   "outputs": [],
   "source": []
  },
  {
   "cell_type": "code",
   "execution_count": 69,
   "id": "2a598a2b",
   "metadata": {
    "scrolled": true
   },
   "outputs": [
    {
     "data": {
      "text/plain": [
       "Iraqi        0.129947\n",
       "Mexican      0.089710\n",
       "Syrian       0.075198\n",
       "Filipino     0.073879\n",
       "Pakistani    0.058707\n",
       "Somali       0.050132\n",
       "Afghan       0.047493\n",
       "Indian       0.038918\n",
       "Brazilian    0.033641\n",
       "Honduran     0.032322\n",
       "Name: Nationality, dtype: float64"
      ]
     },
     "execution_count": 69,
     "metadata": {},
     "output_type": "execute_result"
    }
   ],
   "source": [
    "#Top 10 Nationalities killed\n",
    "df['Nationality'].value_counts(normalize = True)[:10]"
   ]
  },
  {
   "cell_type": "code",
   "execution_count": 123,
   "id": "9f02e111",
   "metadata": {},
   "outputs": [],
   "source": [
    "df1 = df[['Nationality']].value_counts()[:10]"
   ]
  },
  {
   "cell_type": "code",
   "execution_count": 126,
   "id": "7b4abce3",
   "metadata": {},
   "outputs": [],
   "source": [
    "#Creating a new dataframe for the top 10 Nationality most killed\n",
    "df1 = pd.DataFrame(df1)"
   ]
  },
  {
   "cell_type": "code",
   "execution_count": 127,
   "id": "c1158ee0",
   "metadata": {},
   "outputs": [
    {
     "data": {
      "text/html": [
       "<div>\n",
       "<style scoped>\n",
       "    .dataframe tbody tr th:only-of-type {\n",
       "        vertical-align: middle;\n",
       "    }\n",
       "\n",
       "    .dataframe tbody tr th {\n",
       "        vertical-align: top;\n",
       "    }\n",
       "\n",
       "    .dataframe thead th {\n",
       "        text-align: right;\n",
       "    }\n",
       "</style>\n",
       "<table border=\"1\" class=\"dataframe\">\n",
       "  <thead>\n",
       "    <tr style=\"text-align: right;\">\n",
       "      <th></th>\n",
       "      <th>0</th>\n",
       "    </tr>\n",
       "    <tr>\n",
       "      <th>Nationality</th>\n",
       "      <th></th>\n",
       "    </tr>\n",
       "  </thead>\n",
       "  <tbody>\n",
       "    <tr>\n",
       "      <th>Iraqi</th>\n",
       "      <td>197</td>\n",
       "    </tr>\n",
       "    <tr>\n",
       "      <th>Mexican</th>\n",
       "      <td>136</td>\n",
       "    </tr>\n",
       "    <tr>\n",
       "      <th>Syrian</th>\n",
       "      <td>114</td>\n",
       "    </tr>\n",
       "    <tr>\n",
       "      <th>Filipino</th>\n",
       "      <td>112</td>\n",
       "    </tr>\n",
       "    <tr>\n",
       "      <th>Pakistani</th>\n",
       "      <td>89</td>\n",
       "    </tr>\n",
       "    <tr>\n",
       "      <th>Somali</th>\n",
       "      <td>76</td>\n",
       "    </tr>\n",
       "    <tr>\n",
       "      <th>Afghan</th>\n",
       "      <td>72</td>\n",
       "    </tr>\n",
       "    <tr>\n",
       "      <th>Indian</th>\n",
       "      <td>59</td>\n",
       "    </tr>\n",
       "    <tr>\n",
       "      <th>Brazilian</th>\n",
       "      <td>51</td>\n",
       "    </tr>\n",
       "    <tr>\n",
       "      <th>Honduran</th>\n",
       "      <td>49</td>\n",
       "    </tr>\n",
       "  </tbody>\n",
       "</table>\n",
       "</div>"
      ],
      "text/plain": [
       "               0\n",
       "Nationality     \n",
       "Iraqi        197\n",
       "Mexican      136\n",
       "Syrian       114\n",
       "Filipino     112\n",
       "Pakistani     89\n",
       "Somali        76\n",
       "Afghan        72\n",
       "Indian        59\n",
       "Brazilian     51\n",
       "Honduran      49"
      ]
     },
     "execution_count": 127,
     "metadata": {},
     "output_type": "execute_result"
    }
   ],
   "source": [
    "df1"
   ]
  },
  {
   "cell_type": "code",
   "execution_count": null,
   "id": "541d2aa1",
   "metadata": {},
   "outputs": [],
   "source": []
  },
  {
   "cell_type": "code",
   "execution_count": 70,
   "id": "747fccf9",
   "metadata": {
    "scrolled": true
   },
   "outputs": [
    {
     "data": {
      "text/plain": [
       "Iraq                    0.133245\n",
       "Mexico                  0.091029\n",
       "Syrian Arab Republic    0.083113\n",
       "Philippines             0.073879\n",
       "Pakistan                0.060026\n",
       "Afghanistan             0.054090\n",
       "Somalia                 0.051451\n",
       "India                   0.037599\n",
       "Brazil                  0.033641\n",
       "Honduras                0.031662\n",
       "Name: Country in which killed, dtype: float64"
      ]
     },
     "execution_count": 70,
     "metadata": {},
     "output_type": "execute_result"
    }
   ],
   "source": [
    "df['Country in which killed'].value_counts(normalize = True)[:10]"
   ]
  },
  {
   "cell_type": "code",
   "execution_count": 130,
   "id": "6b8dee73",
   "metadata": {
    "scrolled": true
   },
   "outputs": [
    {
     "data": {
      "text/plain": [
       "<AxesSubplot:xlabel='Country in which killed', ylabel='count'>"
      ]
     },
     "execution_count": 130,
     "metadata": {},
     "output_type": "execute_result"
    },
    {
     "data": {
      "image/png": "[encoded data removed]",
      "text/plain": [
       "<Figure size 1440x360 with 1 Axes>"
      ]
     },
     "metadata": {
      "needs_background": "light"
     },
     "output_type": "display_data"
    }
   ],
   "source": [
    "plt.figure(figsize=(20,5))\n",
    "sns.countplot(x = 'Country in which killed', data = df)"
   ]
  },
  {
   "cell_type": "code",
   "execution_count": null,
   "id": "94868e53",
   "metadata": {},
   "outputs": [],
   "source": []
  },
  {
   "cell_type": "code",
   "execution_count": 72,
   "id": "d8f39df6",
   "metadata": {},
   "outputs": [
    {
     "data": {
      "text/plain": [
       "Ongoing/Unresolved                                                                                        0.556728\n",
       "No Information Received So Far                                                                            0.246702\n",
       "Resolved                                                                                                  0.108839\n",
       "New request                                                                                               0.058047\n",
       "Unresolved – Archived                                                                                     0.015172\n",
       "Ongoing/Unresolved – Reported by Member State as killed by foreign actors beyond national jurisdiction    0.014512\n",
       "Name: Judicial enquiry status, dtype: float64"
      ]
     },
     "execution_count": 72,
     "metadata": {},
     "output_type": "execute_result"
    }
   ],
   "source": [
    "df['Judicial enquiry status'].value_counts(normalize = True)"
   ]
  },
  {
   "cell_type": "code",
   "execution_count": 132,
   "id": "95ea0f92",
   "metadata": {},
   "outputs": [
    {
     "data": {
      "text/plain": [
       "<AxesSubplot:xlabel='Judicial enquiry status', ylabel='count'>"
      ]
     },
     "execution_count": 132,
     "metadata": {},
     "output_type": "execute_result"
    },
    {
     "data": {
      "image/png": "[encoded data removed]",
      "text/plain": [
       "<Figure size 1440x360 with 1 Axes>"
      ]
     },
     "metadata": {
      "needs_background": "light"
     },
     "output_type": "display_data"
    }
   ],
   "source": [
    "plt.figure(figsize=(20,5))\n",
    "sns.countplot(x = 'Judicial enquiry status', data = df)"
   ]
  },
  {
   "cell_type": "code",
   "execution_count": null,
   "id": "1e70c793",
   "metadata": {},
   "outputs": [],
   "source": []
  }
 ],
 "metadata": {
  "kernelspec": {
   "display_name": "Python 3 (ipykernel)",
   "language": "python",
   "name": "python3"
  },
  "language_info": {
   "codemirror_mode": {
    "name": "ipython",
    "version": 3
   },
   "file_extension": ".py",
   "mimetype": "text/x-python",
   "name": "python",
   "nbconvert_exporter": "python",
   "pygments_lexer": "ipython3",
   "version": "3.9.7"
  }
 },
 "nbformat": 4,
 "nbformat_minor": 5
}
