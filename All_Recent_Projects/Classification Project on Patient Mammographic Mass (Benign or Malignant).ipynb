{
 "cells": [
  {
   "cell_type": "markdown",
   "id": "38bc46fb-488f-4af8-a6e1-484f5b384bb6",
   "metadata": {},
   "source": [
    "### An Overview of the Data and its Feature Description\n",
    "\n",
    "The Mammographic Mass Data set from the UCI Machine Learning Repository comprises information on mammographic masses detected in patients. The data is structured with the following six columns, each providing specific attributes of the masses and patient information:\n",
    "\n",
    "BI-RADS assessment: An ordinal value from 1 to 5, representing the radiologist's assessment of the likelihood of malignancy based on the BI-RADS scoring system, with higher scores indicating greater suspicion of cancer.\n",
    "\n",
    "Age: An integer representing the age of the patient in years.\n",
    "\n",
    "Shape: A nominal value indicating the shape of the mass, categorized as round (1), oval (2), lobular (3), or irregular (4).\n",
    "\n",
    "Margin: A nominal value describing the edges of the mass, classified as circumscribed (1), microlobulated (2), obscured (3), ill-defined (4), or spiculated (5).\n",
    "\n",
    "Density: An ordinal value reflecting the density of the mass on the mammogram, with categories of high (1), iso (2), low (3), or fat-containing (4).\n",
    "\n",
    "Severity: A binomial value indicating whether the mass is benign (0) or malignant (1)."
   ]
  },
  {
   "cell_type": "code",
   "execution_count": null,
   "id": "11ff740c-ee26-4b33-af58-889132c057db",
   "metadata": {},
   "outputs": [],
   "source": []
  },
  {
   "cell_type": "code",
   "execution_count": 22,
   "id": "edfba09b-dda3-451f-bbb5-ced794cd7abe",
   "metadata": {},
   "outputs": [],
   "source": [
    "#Import Statements.\n",
    "import numpy as np\n",
    "import pandas as pd\n",
    "import matplotlib.pyplot as plt\n",
    "\n",
    "from sklearn.model_selection import train_test_split\n",
    "from sklearn.naive_bayes import GaussianNB\n",
    "\n",
    "from sklearn.metrics import recall_score, precision_score, f1_score, accuracy_score\n",
    "from sklearn.metrics import confusion_matrix, ConfusionMatrixDisplay"
   ]
  },
  {
   "cell_type": "code",
   "execution_count": 2,
   "id": "64b028d7-4e67-4275-963a-abbf7475be8c",
   "metadata": {},
   "outputs": [],
   "source": [
    "df = pd.read_csv('mammographic_masses.data', delimiter=',')"
   ]
  },
  {
   "cell_type": "code",
   "execution_count": 3,
   "id": "248b7e44-130b-420c-8144-8c2e25915a40",
   "metadata": {},
   "outputs": [
    {
     "data": {
      "text/html": [
       "<div>\n",
       "<style scoped>\n",
       "    .dataframe tbody tr th:only-of-type {\n",
       "        vertical-align: middle;\n",
       "    }\n",
       "\n",
       "    .dataframe tbody tr th {\n",
       "        vertical-align: top;\n",
       "    }\n",
       "\n",
       "    .dataframe thead th {\n",
       "        text-align: right;\n",
       "    }\n",
       "</style>\n",
       "<table border=\"1\" class=\"dataframe\">\n",
       "  <thead>\n",
       "    <tr style=\"text-align: right;\">\n",
       "      <th></th>\n",
       "      <th>5</th>\n",
       "      <th>67</th>\n",
       "      <th>3</th>\n",
       "      <th>5.1</th>\n",
       "      <th>3.1</th>\n",
       "      <th>1</th>\n",
       "    </tr>\n",
       "  </thead>\n",
       "  <tbody>\n",
       "    <tr>\n",
       "      <th>0</th>\n",
       "      <td>4</td>\n",
       "      <td>43</td>\n",
       "      <td>1</td>\n",
       "      <td>1</td>\n",
       "      <td>?</td>\n",
       "      <td>1</td>\n",
       "    </tr>\n",
       "    <tr>\n",
       "      <th>1</th>\n",
       "      <td>5</td>\n",
       "      <td>58</td>\n",
       "      <td>4</td>\n",
       "      <td>5</td>\n",
       "      <td>3</td>\n",
       "      <td>1</td>\n",
       "    </tr>\n",
       "    <tr>\n",
       "      <th>2</th>\n",
       "      <td>4</td>\n",
       "      <td>28</td>\n",
       "      <td>1</td>\n",
       "      <td>1</td>\n",
       "      <td>3</td>\n",
       "      <td>0</td>\n",
       "    </tr>\n",
       "    <tr>\n",
       "      <th>3</th>\n",
       "      <td>5</td>\n",
       "      <td>74</td>\n",
       "      <td>1</td>\n",
       "      <td>5</td>\n",
       "      <td>?</td>\n",
       "      <td>1</td>\n",
       "    </tr>\n",
       "    <tr>\n",
       "      <th>4</th>\n",
       "      <td>4</td>\n",
       "      <td>65</td>\n",
       "      <td>1</td>\n",
       "      <td>?</td>\n",
       "      <td>3</td>\n",
       "      <td>0</td>\n",
       "    </tr>\n",
       "  </tbody>\n",
       "</table>\n",
       "</div>"
      ],
      "text/plain": [
       "   5  67  3 5.1 3.1  1\n",
       "0  4  43  1   1   ?  1\n",
       "1  5  58  4   5   3  1\n",
       "2  4  28  1   1   3  0\n",
       "3  5  74  1   5   ?  1\n",
       "4  4  65  1   ?   3  0"
      ]
     },
     "execution_count": 3,
     "metadata": {},
     "output_type": "execute_result"
    }
   ],
   "source": [
    "df.head()"
   ]
  },
  {
   "cell_type": "code",
   "execution_count": null,
   "id": "872f1491-00ca-48db-b905-3eff21aa1005",
   "metadata": {},
   "outputs": [],
   "source": [
    " Attribute Information:\n",
    "   1. BI-RADS assessment: 1 to 5 (ordinal)  \n",
    "   2. Age: patient's age in years (integer)\n",
    "   3. Shape: mass shape: round=1 oval=2 lobular=3 irregular=4 (nominal)\n",
    "   4. Margin: mass margin: circumscribed=1 microlobulated=2 obscured=3 ill-defined=4 spiculated=5 (nominal)\n",
    "   5. Density: mass density high=1 iso=2 low=3 fat-containing=4 (ordinal)\n",
    "   6. Severity: benign=0 or malignant=1 (binominal)"
   ]
  },
  {
   "cell_type": "code",
   "execution_count": 4,
   "id": "a4c3d444-d3ff-48f3-9360-a3a3e51d599c",
   "metadata": {},
   "outputs": [],
   "source": [
    "#Assigning column names to the dataframe\n",
    "df.columns = [\"BI\",\"Age\",\"Shape\",\"Margin\",\n",
    "\"Density\",\"Severity\"]"
   ]
  },
  {
   "cell_type": "code",
   "execution_count": 5,
   "id": "dc7f87bc-5c44-43d8-a187-bac302f34450",
   "metadata": {},
   "outputs": [
    {
     "data": {
      "text/html": [
       "<div>\n",
       "<style scoped>\n",
       "    .dataframe tbody tr th:only-of-type {\n",
       "        vertical-align: middle;\n",
       "    }\n",
       "\n",
       "    .dataframe tbody tr th {\n",
       "        vertical-align: top;\n",
       "    }\n",
       "\n",
       "    .dataframe thead th {\n",
       "        text-align: right;\n",
       "    }\n",
       "</style>\n",
       "<table border=\"1\" class=\"dataframe\">\n",
       "  <thead>\n",
       "    <tr style=\"text-align: right;\">\n",
       "      <th></th>\n",
       "      <th>BI</th>\n",
       "      <th>Age</th>\n",
       "      <th>Shape</th>\n",
       "      <th>Margin</th>\n",
       "      <th>Density</th>\n",
       "      <th>Severity</th>\n",
       "    </tr>\n",
       "  </thead>\n",
       "  <tbody>\n",
       "    <tr>\n",
       "      <th>0</th>\n",
       "      <td>4</td>\n",
       "      <td>43</td>\n",
       "      <td>1</td>\n",
       "      <td>1</td>\n",
       "      <td>?</td>\n",
       "      <td>1</td>\n",
       "    </tr>\n",
       "    <tr>\n",
       "      <th>1</th>\n",
       "      <td>5</td>\n",
       "      <td>58</td>\n",
       "      <td>4</td>\n",
       "      <td>5</td>\n",
       "      <td>3</td>\n",
       "      <td>1</td>\n",
       "    </tr>\n",
       "    <tr>\n",
       "      <th>2</th>\n",
       "      <td>4</td>\n",
       "      <td>28</td>\n",
       "      <td>1</td>\n",
       "      <td>1</td>\n",
       "      <td>3</td>\n",
       "      <td>0</td>\n",
       "    </tr>\n",
       "    <tr>\n",
       "      <th>3</th>\n",
       "      <td>5</td>\n",
       "      <td>74</td>\n",
       "      <td>1</td>\n",
       "      <td>5</td>\n",
       "      <td>?</td>\n",
       "      <td>1</td>\n",
       "    </tr>\n",
       "    <tr>\n",
       "      <th>4</th>\n",
       "      <td>4</td>\n",
       "      <td>65</td>\n",
       "      <td>1</td>\n",
       "      <td>?</td>\n",
       "      <td>3</td>\n",
       "      <td>0</td>\n",
       "    </tr>\n",
       "  </tbody>\n",
       "</table>\n",
       "</div>"
      ],
      "text/plain": [
       "  BI Age Shape Margin Density  Severity\n",
       "0  4  43     1      1       ?         1\n",
       "1  5  58     4      5       3         1\n",
       "2  4  28     1      1       3         0\n",
       "3  5  74     1      5       ?         1\n",
       "4  4  65     1      ?       3         0"
      ]
     },
     "execution_count": 5,
     "metadata": {},
     "output_type": "execute_result"
    }
   ],
   "source": [
    "df.head()"
   ]
  },
  {
   "cell_type": "code",
   "execution_count": 7,
   "id": "f94e82b7-c231-4b07-8f9e-3835ac6bfcb1",
   "metadata": {},
   "outputs": [
    {
     "data": {
      "text/plain": [
       "(960, 6)"
      ]
     },
     "execution_count": 7,
     "metadata": {},
     "output_type": "execute_result"
    }
   ],
   "source": [
    "df.shape"
   ]
  },
  {
   "cell_type": "code",
   "execution_count": 8,
   "id": "f9b72705-4891-44de-ae9d-d01c0e90bf10",
   "metadata": {},
   "outputs": [
    {
     "name": "stdout",
     "output_type": "stream",
     "text": [
      "<class 'pandas.core.frame.DataFrame'>\n",
      "RangeIndex: 960 entries, 0 to 959\n",
      "Data columns (total 6 columns):\n",
      " #   Column    Non-Null Count  Dtype \n",
      "---  ------    --------------  ----- \n",
      " 0   BI        960 non-null    object\n",
      " 1   Age       960 non-null    object\n",
      " 2   Shape     960 non-null    object\n",
      " 3   Margin    960 non-null    object\n",
      " 4   Density   960 non-null    object\n",
      " 5   Severity  960 non-null    int64 \n",
      "dtypes: int64(1), object(5)\n",
      "memory usage: 45.1+ KB\n"
     ]
    }
   ],
   "source": [
    "df.info()"
   ]
  },
  {
   "cell_type": "code",
   "execution_count": null,
   "id": "3f0e30a3-aefa-482f-91c9-27fece7b5719",
   "metadata": {},
   "outputs": [],
   "source": []
  },
  {
   "cell_type": "code",
   "execution_count": 13,
   "id": "5effc5a3-b3b9-417a-ad5a-0d2fe8b3fded",
   "metadata": {},
   "outputs": [
    {
     "name": "stdout",
     "output_type": "stream",
     "text": [
      "Number of rows containing '?': 131\n"
     ]
    }
   ],
   "source": [
    "# Function to check for the presence of a question mark in a row\n",
    "def contains_question_mark(row):\n",
    "    return row.astype(str).str.contains('\\?').any()\n",
    "\n",
    "# Apply the function to each row and count the rows containing '?'\n",
    "count_rows_with_question_mark = df.apply(contains_question_mark, axis=1).sum()\n",
    "\n",
    "# Display the result\n",
    "print(f\"Number of rows containing '?': {count_rows_with_question_mark}\")"
   ]
  },
  {
   "cell_type": "code",
   "execution_count": null,
   "id": "22965acd-d947-4322-8d91-2e8d2709e35b",
   "metadata": {},
   "outputs": [],
   "source": []
  },
  {
   "cell_type": "code",
   "execution_count": 16,
   "id": "2a279d04-8c07-4f3c-b9f4-f12af776a6a9",
   "metadata": {},
   "outputs": [],
   "source": [
    "# Function to check for the presence of a question mark in a row\n",
    "def contains_question_mark(row):\n",
    "    return row.astype(str).str.contains('\\?').any()\n",
    "\n",
    "# Apply the function to each row and get a boolean mask\n",
    "mask = df.apply(contains_question_mark, axis=1)\n",
    "\n",
    "# Filter out the rows containing '?'\n",
    "df_cl = df[~mask]"
   ]
  },
  {
   "cell_type": "code",
   "execution_count": 17,
   "id": "b0358969-e58d-4076-955d-0a6c35858bff",
   "metadata": {},
   "outputs": [
    {
     "data": {
      "text/html": [
       "<div>\n",
       "<style scoped>\n",
       "    .dataframe tbody tr th:only-of-type {\n",
       "        vertical-align: middle;\n",
       "    }\n",
       "\n",
       "    .dataframe tbody tr th {\n",
       "        vertical-align: top;\n",
       "    }\n",
       "\n",
       "    .dataframe thead th {\n",
       "        text-align: right;\n",
       "    }\n",
       "</style>\n",
       "<table border=\"1\" class=\"dataframe\">\n",
       "  <thead>\n",
       "    <tr style=\"text-align: right;\">\n",
       "      <th></th>\n",
       "      <th>BI</th>\n",
       "      <th>Age</th>\n",
       "      <th>Shape</th>\n",
       "      <th>Margin</th>\n",
       "      <th>Density</th>\n",
       "      <th>Severity</th>\n",
       "    </tr>\n",
       "  </thead>\n",
       "  <tbody>\n",
       "    <tr>\n",
       "      <th>1</th>\n",
       "      <td>5</td>\n",
       "      <td>58</td>\n",
       "      <td>4</td>\n",
       "      <td>5</td>\n",
       "      <td>3</td>\n",
       "      <td>1</td>\n",
       "    </tr>\n",
       "    <tr>\n",
       "      <th>2</th>\n",
       "      <td>4</td>\n",
       "      <td>28</td>\n",
       "      <td>1</td>\n",
       "      <td>1</td>\n",
       "      <td>3</td>\n",
       "      <td>0</td>\n",
       "    </tr>\n",
       "    <tr>\n",
       "      <th>7</th>\n",
       "      <td>5</td>\n",
       "      <td>57</td>\n",
       "      <td>1</td>\n",
       "      <td>5</td>\n",
       "      <td>3</td>\n",
       "      <td>1</td>\n",
       "    </tr>\n",
       "    <tr>\n",
       "      <th>9</th>\n",
       "      <td>5</td>\n",
       "      <td>76</td>\n",
       "      <td>1</td>\n",
       "      <td>4</td>\n",
       "      <td>3</td>\n",
       "      <td>1</td>\n",
       "    </tr>\n",
       "    <tr>\n",
       "      <th>10</th>\n",
       "      <td>3</td>\n",
       "      <td>42</td>\n",
       "      <td>2</td>\n",
       "      <td>1</td>\n",
       "      <td>3</td>\n",
       "      <td>1</td>\n",
       "    </tr>\n",
       "  </tbody>\n",
       "</table>\n",
       "</div>"
      ],
      "text/plain": [
       "   BI Age Shape Margin Density  Severity\n",
       "1   5  58     4      5       3         1\n",
       "2   4  28     1      1       3         0\n",
       "7   5  57     1      5       3         1\n",
       "9   5  76     1      4       3         1\n",
       "10  3  42     2      1       3         1"
      ]
     },
     "execution_count": 17,
     "metadata": {},
     "output_type": "execute_result"
    }
   ],
   "source": [
    "df_cl.head()"
   ]
  },
  {
   "cell_type": "code",
   "execution_count": 20,
   "id": "e748d1fa-7158-4bac-828a-903279c101f5",
   "metadata": {},
   "outputs": [],
   "source": [
    "pd.options.mode.chained_assignment = None"
   ]
  },
  {
   "cell_type": "code",
   "execution_count": 21,
   "id": "5399823f-847e-4735-ba52-f0612a9472ba",
   "metadata": {},
   "outputs": [],
   "source": [
    "# List of columns to convert\n",
    "columns_to_convert = ['BI', 'Age', 'Shape', 'Margin', 'Density']\n",
    "\n",
    "# Convert the specified columns to integers\n",
    "df_cl[columns_to_convert] = df_cl[columns_to_convert].astype(int)"
   ]
  },
  {
   "cell_type": "code",
   "execution_count": 19,
   "id": "a427bef3-d805-48d1-8403-5c5ba53d4c52",
   "metadata": {},
   "outputs": [
    {
     "data": {
      "text/html": [
       "<div>\n",
       "<style scoped>\n",
       "    .dataframe tbody tr th:only-of-type {\n",
       "        vertical-align: middle;\n",
       "    }\n",
       "\n",
       "    .dataframe tbody tr th {\n",
       "        vertical-align: top;\n",
       "    }\n",
       "\n",
       "    .dataframe thead th {\n",
       "        text-align: right;\n",
       "    }\n",
       "</style>\n",
       "<table border=\"1\" class=\"dataframe\">\n",
       "  <thead>\n",
       "    <tr style=\"text-align: right;\">\n",
       "      <th></th>\n",
       "      <th>BI</th>\n",
       "      <th>Age</th>\n",
       "      <th>Shape</th>\n",
       "      <th>Margin</th>\n",
       "      <th>Density</th>\n",
       "      <th>Severity</th>\n",
       "    </tr>\n",
       "  </thead>\n",
       "  <tbody>\n",
       "    <tr>\n",
       "      <th>count</th>\n",
       "      <td>829.000000</td>\n",
       "      <td>829.000000</td>\n",
       "      <td>829.000000</td>\n",
       "      <td>829.000000</td>\n",
       "      <td>829.000000</td>\n",
       "      <td>829.000000</td>\n",
       "    </tr>\n",
       "    <tr>\n",
       "      <th>mean</th>\n",
       "      <td>4.393245</td>\n",
       "      <td>55.768396</td>\n",
       "      <td>2.781665</td>\n",
       "      <td>2.810615</td>\n",
       "      <td>2.915561</td>\n",
       "      <td>0.484922</td>\n",
       "    </tr>\n",
       "    <tr>\n",
       "      <th>std</th>\n",
       "      <td>1.889394</td>\n",
       "      <td>14.675456</td>\n",
       "      <td>1.243088</td>\n",
       "      <td>1.566276</td>\n",
       "      <td>0.351136</td>\n",
       "      <td>0.500074</td>\n",
       "    </tr>\n",
       "    <tr>\n",
       "      <th>min</th>\n",
       "      <td>0.000000</td>\n",
       "      <td>18.000000</td>\n",
       "      <td>1.000000</td>\n",
       "      <td>1.000000</td>\n",
       "      <td>1.000000</td>\n",
       "      <td>0.000000</td>\n",
       "    </tr>\n",
       "    <tr>\n",
       "      <th>25%</th>\n",
       "      <td>4.000000</td>\n",
       "      <td>46.000000</td>\n",
       "      <td>2.000000</td>\n",
       "      <td>1.000000</td>\n",
       "      <td>3.000000</td>\n",
       "      <td>0.000000</td>\n",
       "    </tr>\n",
       "    <tr>\n",
       "      <th>50%</th>\n",
       "      <td>4.000000</td>\n",
       "      <td>57.000000</td>\n",
       "      <td>3.000000</td>\n",
       "      <td>3.000000</td>\n",
       "      <td>3.000000</td>\n",
       "      <td>0.000000</td>\n",
       "    </tr>\n",
       "    <tr>\n",
       "      <th>75%</th>\n",
       "      <td>5.000000</td>\n",
       "      <td>66.000000</td>\n",
       "      <td>4.000000</td>\n",
       "      <td>4.000000</td>\n",
       "      <td>3.000000</td>\n",
       "      <td>1.000000</td>\n",
       "    </tr>\n",
       "    <tr>\n",
       "      <th>max</th>\n",
       "      <td>55.000000</td>\n",
       "      <td>96.000000</td>\n",
       "      <td>4.000000</td>\n",
       "      <td>5.000000</td>\n",
       "      <td>4.000000</td>\n",
       "      <td>1.000000</td>\n",
       "    </tr>\n",
       "  </tbody>\n",
       "</table>\n",
       "</div>"
      ],
      "text/plain": [
       "               BI         Age       Shape      Margin     Density    Severity\n",
       "count  829.000000  829.000000  829.000000  829.000000  829.000000  829.000000\n",
       "mean     4.393245   55.768396    2.781665    2.810615    2.915561    0.484922\n",
       "std      1.889394   14.675456    1.243088    1.566276    0.351136    0.500074\n",
       "min      0.000000   18.000000    1.000000    1.000000    1.000000    0.000000\n",
       "25%      4.000000   46.000000    2.000000    1.000000    3.000000    0.000000\n",
       "50%      4.000000   57.000000    3.000000    3.000000    3.000000    0.000000\n",
       "75%      5.000000   66.000000    4.000000    4.000000    3.000000    1.000000\n",
       "max     55.000000   96.000000    4.000000    5.000000    4.000000    1.000000"
      ]
     },
     "execution_count": 19,
     "metadata": {},
     "output_type": "execute_result"
    }
   ],
   "source": [
    "df_cl.describe()"
   ]
  },
  {
   "cell_type": "code",
   "execution_count": null,
   "id": "ec4a9ef7-9fd9-4c86-be33-757f321aeb8c",
   "metadata": {},
   "outputs": [],
   "source": []
  },
  {
   "cell_type": "code",
   "execution_count": 23,
   "id": "3831676d-0ab9-4edb-b73e-91d84ddc54e3",
   "metadata": {},
   "outputs": [
    {
     "data": {
      "text/plain": [
       "Severity\n",
       "0    516\n",
       "1    444\n",
       "Name: count, dtype: int64"
      ]
     },
     "execution_count": 23,
     "metadata": {},
     "output_type": "execute_result"
    }
   ],
   "source": [
    "df['Severity'].value_counts()"
   ]
  },
  {
   "cell_type": "code",
   "execution_count": null,
   "id": "214690f6-60c8-4048-b8cd-6140b351a523",
   "metadata": {},
   "outputs": [],
   "source": []
  },
  {
   "cell_type": "code",
   "execution_count": 24,
   "id": "ac409b5a-53c9-4ec0-ac06-cb0f13e2695b",
   "metadata": {},
   "outputs": [],
   "source": [
    "# Dummy encode categorical variables\n",
    "df_cl = pd.get_dummies(df_cl, drop_first=True)"
   ]
  },
  {
   "cell_type": "code",
   "execution_count": null,
   "id": "3abf4da2-cd36-4dca-b44b-6b130d741168",
   "metadata": {},
   "outputs": [],
   "source": []
  },
  {
   "cell_type": "code",
   "execution_count": 25,
   "id": "1b12a16a-0674-41a5-8183-56aa19231072",
   "metadata": {},
   "outputs": [],
   "source": [
    "# Define the y (target) variable\n",
    "y = df_cl['Severity']\n",
    "\n",
    "# Define the X (predictor) variables\n",
    "X = df_cl.copy()\n",
    "X = X.drop('Severity', axis=1)\n",
    "\n",
    "# Split into train and test sets\n",
    "X_train, X_test, y_train, y_test = train_test_split(X, y, test_size=0.25, \\\n",
    "                                                    stratify=y, random_state=42)"
   ]
  },
  {
   "cell_type": "code",
   "execution_count": null,
   "id": "3d17124c-c517-4ca6-821a-b15c2a9d0a38",
   "metadata": {},
   "outputs": [],
   "source": []
  },
  {
   "cell_type": "code",
   "execution_count": 37,
   "id": "ab44a76d-dcc4-4f54-ac89-c87eea509312",
   "metadata": {},
   "outputs": [
    {
     "name": "stdout",
     "output_type": "stream",
     "text": [
      "[1 1 1 0 0 1 1 1 1 0 0 1 0 0 0 0 1 0 1 1 0 0 0 0 0 0 1 0 1 1 1 1 0 1 1 0 1\n",
      " 0 0 0 1 0 0 0 0 0 0 1 1 0 0 1 0 0 0 1 1 0 1 1 1 0 0 1 0 0 0 0 1 0 0 1 0 1\n",
      " 1 0 1 0 0 1 1 0 0 0 0 0 1 0 0 0 1 0 1 1 1 1 0 0 1 0 1 0 0 1 0 0 0 1 0 1 1\n",
      " 0 0 1 1 0 1 1 1 0 1 0 1 0 1 0 0 1 1 0 0 1 0 0 0 1 0 1 1 0 0 1 0 1 1 1 0 0\n",
      " 1 0 1 1 0 0 0 1 1 0 1 0 1 0 1 1 1 1 0 1 0 1 1 0 0 0 0 0 1 0 0 0 1 1 1 1 0\n",
      " 0 0 0 0 0 1 0 1 0 0 0 0 1 1 1 1 1 1 0 1 1 1 1]\n"
     ]
    }
   ],
   "source": [
    "# Fit the model\n",
    "gnb = GaussianNB()\n",
    "gnb.fit(X_train, y_train)\n",
    "\n",
    "# Get the predictions on test data\n",
    "y_preds = gnb.predict(X_test)\n",
    "print(y_preds)"
   ]
  },
  {
   "cell_type": "code",
   "execution_count": null,
   "id": "c6277864-3a9b-45db-b3ad-ba729fa5f580",
   "metadata": {},
   "outputs": [],
   "source": []
  },
  {
   "cell_type": "markdown",
   "id": "a97997ba-1373-472b-9369-af67b0d187bd",
   "metadata": {},
   "source": [
    "#### Model Prediction Evaluation "
   ]
  },
  {
   "cell_type": "code",
   "execution_count": 27,
   "id": "8ec620a7-bb82-43a8-84c3-409f12dadc83",
   "metadata": {
    "scrolled": true
   },
   "outputs": [
    {
     "name": "stdout",
     "output_type": "stream",
     "text": [
      "Accuracy: 0.817\n",
      "Precision: 0.825\n",
      "Recall: 0.792\n",
      "F1 Score: 0.808\n"
     ]
    }
   ],
   "source": [
    "print('Accuracy:', '%.3f' % accuracy_score(y_test, y_preds))\n",
    "print('Precision:', '%.3f' % precision_score(y_test, y_preds))\n",
    "print('Recall:', '%.3f' % recall_score(y_test, y_preds))\n",
    "print('F1 Score:', '%.3f' % f1_score(y_test, y_preds))"
   ]
  },
  {
   "cell_type": "markdown",
   "id": "ca3b69ea-785f-46b8-bc29-93e174927638",
   "metadata": {},
   "source": [
    "### Explaining the prediction values\n",
    "\n",
    "Accuracy (0.817):\n",
    "\n",
    "Accuracy is the proportion of correctly classified instances among the total instances in the test data. In this case, the GNB model achieved an accuracy of 0.817, indicating that it correctly predicted the severity (benign or malignant) for approximately 81.7% of the cases in the test data.\n",
    "\n",
    "Precision (0.825):\n",
    "\n",
    "Precision measures the proportion of true positive predictions (correctly predicted malignancies) among all instances predicted as positive (predicted as malignant). A precision of 0.825 suggests that out of all the instances predicted as malignant by the GNB model, about 82.5% were correctly classified as malignant.\n",
    "\n",
    "Recall (0.792):\n",
    "\n",
    "Recall, also known as sensitivity or true positive rate, measures the proportion of true positive predictions among all actual positive instances. A recall of 0.792 indicates that the GNB model correctly identified about 79.2% of all actual malignant cases.\n",
    "\n",
    "F1 Score (0.808):\n",
    "\n",
    "The F1 Score is the harmonic mean of precision and recall, providing a balance between these two metrics. It's particularly useful when dealing with imbalanced datasets. An F1 Score of 0.808 implies that the GNB model achieved a good balance between precision and recall, considering both the correctness of positive predictions and the ability to capture actual positives.\n",
    "\n",
    "Overall, these evaluation metrics suggest that the GNB model performed reasonably well in predicting mammographic mass severity, with a good balance between accuracy, precision, recall, and F1 Score. \n",
    "However, further analysis and potentially incorporating other evaluation metrics or techniques may provide additional insights into the model's performance."
   ]
  },
  {
   "cell_type": "markdown",
   "id": "04fdb83d-cfd3-4a33-9062-6105020e2622",
   "metadata": {},
   "source": []
  },
  {
   "cell_type": "code",
   "execution_count": null,
   "id": "f1a8208d-bcd9-43d4-ac57-6879f2d52e46",
   "metadata": {},
   "outputs": [],
   "source": []
  },
  {
   "cell_type": "code",
   "execution_count": 28,
   "id": "d62bb336-5a1c-4192-9836-d2810a43d30f",
   "metadata": {},
   "outputs": [],
   "source": [
    "def conf_matrix_plot(model, x_data, y_data):\n",
    "    '''\n",
    "    Accepts as argument model object, X data (test or validate), and y data (test or validate). \n",
    "    Return a plot of confusion matrix for predictions on y data.\n",
    "    ''' \n",
    "  \n",
    "    model_pred = model.predict(x_data)\n",
    "    cm = confusion_matrix(y_data, model_pred, labels=model.classes_)\n",
    "    disp = ConfusionMatrixDisplay(confusion_matrix=cm,\n",
    "                                  display_labels=model.classes_,\n",
    "                                 )\n",
    "  \n",
    "    disp.plot(values_format='') # `values_format=''` suppresses scientific notation\n",
    "    plt.show()"
   ]
  },
  {
   "cell_type": "code",
   "execution_count": null,
   "id": "fb98bdfb-23fa-40e8-ae21-933c59ee4d58",
   "metadata": {},
   "outputs": [],
   "source": []
  },
  {
   "cell_type": "code",
   "execution_count": 29,
   "id": "eb0ee7f4-825c-4888-9e01-d0d3dc06bb8a",
   "metadata": {},
   "outputs": [
    {
     "data": {
      "image/png": "[encoded data removed]",
      "text/plain": [
       "<Figure size 640x480 with 2 Axes>"
      ]
     },
     "metadata": {},
     "output_type": "display_data"
    }
   ],
   "source": [
    "conf_matrix_plot(gnb, X_test, y_test)"
   ]
  },
  {
   "cell_type": "markdown",
   "id": "c1f07546-25bf-4b57-a89b-bd4400099c5d",
   "metadata": {},
   "source": [
    "#### In the context of a binary classification problem like predicting mammographic mass severity (benign or malignant), a confusion matrix provides a detailed breakdown of the model's predictions compared to the actual outcomes. Here's an explanation using the provided information:\n",
    "\n",
    "##### True Negative (TN): 90\n",
    "\n",
    "These are cases where the model correctly predicted a mass as benign (negative) and it was indeed benign.\n",
    "\n",
    "##### False Negative (FN): 21\n",
    "\n",
    "These are cases where the model incorrectly predicted a mass as benign (negative) but it was actually malignant (positive).\n",
    "\n",
    "##### False Positive (FP): 17\n",
    "\n",
    "These are cases where the model incorrectly predicted a mass as malignant (positive) but it was actually benign (negative).\n",
    "\n",
    "##### True Positive (TP): 80\n",
    "\n",
    "These are cases where the model correctly predicted a mass as malignant (positive) and it was indeed malignant."
   ]
  },
  {
   "cell_type": "code",
   "execution_count": null,
   "id": "18867055-4495-4028-b011-5dcc6f9a4a6b",
   "metadata": {},
   "outputs": [],
   "source": []
  },
  {
   "cell_type": "markdown",
   "id": "039b73a1-7922-408a-af64-b4e608685b27",
   "metadata": {},
   "source": [
    "### Seeing the performance of the data, let us see if there will be a better model outcome by scaling the data."
   ]
  },
  {
   "cell_type": "code",
   "execution_count": 38,
   "id": "1fdabf58-2422-4d7d-a210-08a151356580",
   "metadata": {},
   "outputs": [],
   "source": [
    "# Import the scaler function\n",
    "\n",
    "from sklearn.preprocessing import MinMaxScaler\n",
    "\n",
    "# Instantiate the scaler\n",
    "\n",
    "scaler = MinMaxScaler()\n",
    "\n",
    "# Fit the scaler to the training data\n",
    "\n",
    "scaler.fit(X_train)\n",
    "\n",
    "# Scale the training data\n",
    "\n",
    "X_train = scaler.transform(X_train)\n",
    "\n",
    "# Scale the test data\n",
    "\n",
    "X_test = scaler.transform(X_test)"
   ]
  },
  {
   "cell_type": "code",
   "execution_count": null,
   "id": "a20eda74-a8f4-4530-b36f-d10d738f4bcc",
   "metadata": {},
   "outputs": [],
   "source": []
  },
  {
   "cell_type": "code",
   "execution_count": 35,
   "id": "a2225fcd-029b-462f-954c-5e7cd3cccb79",
   "metadata": {},
   "outputs": [],
   "source": [
    "# Fit the model\n",
    "\n",
    "gnb_scaled = GaussianNB()\n",
    "\n",
    "gnb_scaled.fit(X_train, y_train)\n",
    "\n",
    "# Get the predictions on test data\n",
    "\n",
    "scaled_preds = gnb_scaled.predict(X_test)"
   ]
  },
  {
   "cell_type": "code",
   "execution_count": null,
   "id": "b8ee2622-4f87-44e3-9ab3-55a63541c98d",
   "metadata": {},
   "outputs": [],
   "source": []
  },
  {
   "cell_type": "code",
   "execution_count": 36,
   "id": "06dd601c-cd00-47f1-b51b-cf0abf0677c5",
   "metadata": {},
   "outputs": [
    {
     "name": "stdout",
     "output_type": "stream",
     "text": [
      "Accuracy: 0.817\n",
      "Precision: 0.825\n",
      "Recall: 0.792\n",
      "F1 Score: 0.808\n"
     ]
    }
   ],
   "source": [
    "#Print the model evaluation metrices\n",
    "print('Accuracy:', '%.3f' % accuracy_score(y_test, scaled_preds))\n",
    "print('Precision:', '%.3f' % precision_score(y_test,scaled_preds))\n",
    "print('Recall:', '%.3f' % recall_score(y_test, scaled_preds))\n",
    "print('F1 Score:', '%.3f' % f1_score(y_test, scaled_preds))"
   ]
  },
  {
   "cell_type": "code",
   "execution_count": null,
   "id": "cefc6f77-fb42-4717-9221-6d4725a200dc",
   "metadata": {},
   "outputs": [],
   "source": []
  },
  {
   "cell_type": "code",
   "execution_count": 33,
   "id": "3ec8ff28-fa44-4ad2-9351-2623f0fe6536",
   "metadata": {},
   "outputs": [
    {
     "data": {
      "image/png": "[encoded data removed]",
      "text/plain": [
       "<Figure size 640x480 with 2 Axes>"
      ]
     },
     "metadata": {},
     "output_type": "display_data"
    }
   ],
   "source": [
    "#Plot a confusion matrix\n",
    "conf_matrix_plot(gnb_scaled, X_test, y_test)"
   ]
  },
  {
   "cell_type": "markdown",
   "id": "803c26ff-43c8-4a07-bb79-ffbdff85093a",
   "metadata": {},
   "source": [
    "Having scaled the data, fit it into the model, and printed the model evaluation metrics and the confusion matrix, we can see no difference in the model performance"
   ]
  },
  {
   "cell_type": "code",
   "execution_count": null,
   "id": "40a6cc93-3334-4148-a8b0-be3e9020a29b",
   "metadata": {},
   "outputs": [],
   "source": []
  },
  {
   "cell_type": "markdown",
   "id": "4d6684b5-7d6d-43e2-969f-952f40a48066",
   "metadata": {},
   "source": [
    "##### Print and store in a data frame the train and test data"
   ]
  },
  {
   "cell_type": "code",
   "execution_count": 39,
   "id": "99702ed4-9a1c-4603-bb06-becf6ebd38b3",
   "metadata": {},
   "outputs": [
    {
     "name": "stdout",
     "output_type": "stream",
     "text": [
      "X_train shape: (621, 5)\n",
      "y_train shape: (621,)\n",
      "X_test shape: (208, 5)\n",
      "y_test shape: (208,)\n",
      "\n",
      "X_train head:\n",
      "         BI       Age  Shape  Margin   Density\n",
      "0  0.072727  0.217949    0.0    0.00  0.333333\n",
      "1  0.054545  0.384615    1.0    0.75  0.666667\n",
      "2  0.090909  0.615385    1.0    0.75  0.666667\n",
      "3  0.090909  0.564103    1.0    0.75  0.666667\n",
      "4  0.072727  0.410256    0.0    0.00  0.666667\n",
      "\n",
      "X_test head:\n",
      "         BI       Age     Shape  Margin   Density\n",
      "0  0.090909  0.538462  1.000000    0.75  0.666667\n",
      "1  0.090909  0.653846  1.000000    0.50  0.666667\n",
      "2  0.090909  0.705128  1.000000    0.75  0.666667\n",
      "3  0.072727  0.717949  0.333333    0.00  0.333333\n",
      "4  0.072727  0.423077  0.000000    0.00  0.666667\n"
     ]
    }
   ],
   "source": [
    "# Print the shape of the train and test sets\n",
    "print(\"X_train shape:\", X_train.shape)\n",
    "print(\"y_train shape:\", y_train.shape)\n",
    "print(\"X_test shape:\", X_test.shape)\n",
    "print(\"y_test shape:\", y_test.shape)\n",
    "\n",
    "# Convert X_train and X_test back to pandas DataFrames for printing\n",
    "X_train_df = pd.DataFrame(X_train, columns=X.columns)\n",
    "X_test_df = pd.DataFrame(X_test, columns=X.columns)\n",
    "\n",
    "# Print the head of the train and test sets (first 5 rows)\n",
    "print(\"\\nX_train head:\")\n",
    "print(X_train_df.head())\n",
    "\n",
    "print(\"\\nX_test head:\")\n",
    "print(X_test_df.head())\n",
    "\n"
   ]
  },
  {
   "cell_type": "code",
   "execution_count": null,
   "id": "98f31452-a44c-42b7-a43f-6f23d1e1ba53",
   "metadata": {},
   "outputs": [],
   "source": []
  },
  {
   "cell_type": "markdown",
   "id": "17addc0d-4183-47ed-8d26-749051080182",
   "metadata": {},
   "source": [
    "#### Calculate and Print a Summarized Actual amd Predicted Benign and Malignant Patients"
   ]
  },
  {
   "cell_type": "code",
   "execution_count": 40,
   "id": "9749c238-6f56-4fc6-9ff1-0a16f666f904",
   "metadata": {},
   "outputs": [
    {
     "name": "stdout",
     "output_type": "stream",
     "text": [
      "          Actual  Predicted as Benign (0)  Predicted as Malignant (1)\n",
      "0     Benign (0)                       90                          17\n",
      "1  Malignant (1)                       21                          80\n"
     ]
    }
   ],
   "source": [
    "# Predict labels using the model on the test data\n",
    "y_pred = gnb_scaled.predict(X_test)\n",
    "\n",
    "# Create a confusion matrix\n",
    "conf_matrix = confusion_matrix(y_test, y_pred)\n",
    "\n",
    "# Extract TP, FP, TN, FN from the confusion matrix\n",
    "TP = conf_matrix[1, 1]\n",
    "FP = conf_matrix[0, 1]\n",
    "TN = conf_matrix[0, 0]\n",
    "FN = conf_matrix[1, 0]\n",
    "\n",
    "# Store the results in a DataFrame\n",
    "results_df = pd.DataFrame({\n",
    "    'Actual': ['Benign (0)', 'Malignant (1)'],\n",
    "    'Predicted as Benign (0)': [TN, FN],\n",
    "    'Predicted as Malignant (1)': [FP, TP]\n",
    "})\n",
    "\n",
    "print(results_df)"
   ]
  },
  {
   "cell_type": "code",
   "execution_count": null,
   "id": "185df857-45cb-46b1-adf5-5888e33a77b2",
   "metadata": {},
   "outputs": [],
   "source": []
  },
  {
   "cell_type": "markdown",
   "id": "6161c8a2-482a-4555-af6d-1e2fcedc34ba",
   "metadata": {},
   "source": [
    "### Classifying the Malignant and Benign Patients into separate data frames"
   ]
  },
  {
   "cell_type": "code",
   "execution_count": 41,
   "id": "f9e17355-01a4-4fb3-b8d7-6dec59f0b070",
   "metadata": {},
   "outputs": [
    {
     "name": "stdout",
     "output_type": "stream",
     "text": [
      "Patients Classified as Malignant:\n",
      "           BI       Age  Shape  Margin   Density  Predicted_Severity\n",
      "0    0.090909  0.538462    1.0    0.75  0.666667                   1\n",
      "1    0.090909  0.653846    1.0    0.50  0.666667                   1\n",
      "2    0.090909  0.705128    1.0    0.75  0.666667                   1\n",
      "5    0.090909  0.846154    1.0    1.00  0.666667                   1\n",
      "6    0.090909  0.628205    1.0    0.75  0.666667                   1\n",
      "..        ...       ...    ...     ...       ...                 ...\n",
      "202  0.072727  0.448718    1.0    1.00  0.666667                   1\n",
      "204  0.072727  0.679487    1.0    1.00  0.333333                   1\n",
      "205  0.090909  0.615385    1.0    0.75  0.666667                   1\n",
      "206  0.000000  0.653846    1.0    1.00  0.666667                   1\n",
      "207  0.072727  0.615385    1.0    0.75  0.666667                   1\n",
      "\n",
      "[97 rows x 6 columns]\n",
      "\n",
      "Patients Classified as Benign:\n",
      "           BI       Age     Shape  Margin   Density  Predicted_Severity\n",
      "3    0.072727  0.717949  0.333333     0.0  0.333333                   0\n",
      "4    0.072727  0.423077  0.000000     0.0  0.666667                   0\n",
      "9    0.072727  0.435897  0.333333     0.0  0.666667                   0\n",
      "10   0.054545  0.064103  0.000000     0.0  0.666667                   0\n",
      "12   0.072727  0.500000  0.000000     0.0  0.666667                   0\n",
      "..        ...       ...       ...     ...       ...                 ...\n",
      "193  0.072727  0.705128  0.666667     0.0  0.333333                   0\n",
      "194  0.072727  0.717949  0.666667     0.0  0.666667                   0\n",
      "195  0.072727  0.615385  0.000000     0.0  0.666667                   0\n",
      "196  0.072727  0.525641  0.333333     0.0  0.666667                   0\n",
      "203  0.054545  0.320513  0.333333     0.0  0.666667                   0\n",
      "\n",
      "[111 rows x 6 columns]\n"
     ]
    }
   ],
   "source": [
    "# Predict labels using the model on the test data\n",
    "y_pred = gnb_scaled.predict(X_test)\n",
    "\n",
    "# Convert X_test back to a pandas DataFrame for easier manipulation\n",
    "X_test_df = pd.DataFrame(X_test, columns=X.columns)\n",
    "\n",
    "# Add the predicted labels (y_pred) to X_test_df\n",
    "X_test_df['Predicted_Severity'] = y_pred\n",
    "\n",
    "# Filter rows where the predicted label is 1 (Malignant)\n",
    "malignant_patients = X_test_df[X_test_df['Predicted_Severity'] == 1]\n",
    "\n",
    "# Filter rows where the predicted label is 0 (Benign)\n",
    "benign_patients = X_test_df[X_test_df['Predicted_Severity'] == 0]\n",
    "\n",
    "# Print the patients classified as Malignant\n",
    "print(\"Patients Classified as Malignant:\")\n",
    "print(malignant_patients)\n",
    "\n",
    "# Print the patients classified as Benign\n",
    "print(\"\\nPatients Classified as Benign:\")\n",
    "print(benign_patients)"
   ]
  },
  {
   "cell_type": "code",
   "execution_count": null,
   "id": "da59e5d3-d2fa-4483-8d00-acbc88877836",
   "metadata": {},
   "outputs": [],
   "source": []
  },
  {
   "cell_type": "markdown",
   "id": "c6bae462-a80c-47a1-b094-a02a8e9fd508",
   "metadata": {},
   "source": [
    "### Project Summary and Recommendation"
   ]
  },
  {
   "cell_type": "markdown",
   "id": "9649812f-5b93-4dd3-9d98-11c196aa0dd8",
   "metadata": {},
   "source": [
    "#### Overall Performance\n",
    "\n",
    "Accuracy: The Gaussian Naive Bayes (GNB) model achieved an accuracy of 81.7%, indicating that it correctly predicted mammographic mass severity (benign or malignant) for around 82 out of every 100 cases in the test data.\n",
    "\n",
    "Precision: The precision of 82.5% suggests that when the model predicted a mass as malignant, it was correct approximately 83 times out of every 100 predictions. This indicates a high level of confidence in identifying true positives (malignant cases).\n",
    "\n",
    "Recall: The recall, also known as sensitivity, was at 79.2%. This means that the model correctly identified around 79 out of every 100 actual malignant cases, showing its ability to capture positive instances effectively.\n",
    "\n",
    "F1 Score: The F1 Score, which balances precision and recall, was calculated at 80.8%. This score indicates a good overall performance of the model, considering both its ability to correctly classify positive instances and its balance between precision and recall.\n",
    "\n",
    "#### Recommendations for Non-Technical Stakeholders:\n",
    "\n",
    "Model Reliability: The GNB model demonstrates a reliable performance in predicting mammographic mass severity, with an overall accuracy of 81.7%. Stakeholders can have confidence in its ability to classify cases correctly.\n",
    "\n",
    "Focus on Malignancy Prediction: The model shows a high precision of 82.5%, indicating its strength in correctly identifying malignant cases when it predicts a mass as malignant. This is crucial for early detection and timely intervention.\n",
    "\n",
    "Considerations for Improvement: While the model performs well overall, there may be opportunities to further enhance its performance, especially in terms of recall (79.2%). This could involve refining the feature selection process or exploring other machine learning algorithms for comparison.\n",
    "\n",
    "Continued Monitoring: It's recommended to continuously monitor the model's performance and validate it against new data. Regular updates and improvements can help maintain its effectiveness over time."
   ]
  },
  {
   "cell_type": "code",
   "execution_count": null,
   "id": "4274c8fd-4df3-439e-b038-cfd5e52b733f",
   "metadata": {},
   "outputs": [],
   "source": []
  },
  {
   "cell_type": "markdown",
   "id": "324adeb8-7569-4d86-a508-2485e52a1168",
   "metadata": {},
   "source": [
    "Access and Read more about the data from https://archive.ics.uci.edu/dataset/161/mammographic+mass"
   ]
  }
 ],
 "metadata": {
  "kernelspec": {
   "display_name": "Python 3 (ipykernel)",
   "language": "python",
   "name": "python3"
  },
  "language_info": {
   "codemirror_mode": {
    "name": "ipython",
    "version": 3
   },
   "file_extension": ".py",
   "mimetype": "text/x-python",
   "name": "python",
   "nbconvert_exporter": "python",
   "pygments_lexer": "ipython3",
   "version": "3.11.7"
  }
 },
 "nbformat": 4,
 "nbformat_minor": 5
}
