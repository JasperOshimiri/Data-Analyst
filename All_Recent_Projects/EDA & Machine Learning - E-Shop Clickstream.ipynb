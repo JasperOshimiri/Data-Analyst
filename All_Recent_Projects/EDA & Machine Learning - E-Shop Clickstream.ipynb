{
 "cells": [
  {
   "cell_type": "markdown",
   "id": "be38b85a-49ed-4500-9ade-4e630476c2f6",
   "metadata": {},
   "source": [
    "### EDA and the Application of Machine Learning on Online Shop Customer Behaviour"
   ]
  },
  {
   "cell_type": "code",
   "execution_count": 1,
   "id": "b8fd191d-c838-42c9-b21b-26fe9f26301a",
   "metadata": {},
   "outputs": [],
   "source": [
    "#Import Statements - Revelant libraries\n",
    "import pandas as pd\n",
    "import numpy as np\n",
    "\n",
    "from sklearn.model_selection import train_test_split\n",
    "from sklearn.ensemble import RandomForestRegressor\n",
    "from sklearn.preprocessing import LabelEncoder\n",
    "from sklearn.metrics import mean_squared_error, r2_score\n",
    "\n",
    "import matplotlib.pyplot as plt\n",
    "import statsmodels.api as sm\n",
    "from statsmodels.formula.api import ols\n",
    "import statsmodels.formula.api as smf\n",
    "from statsmodels.stats.multicomp import pairwise_tukeyhsd"
   ]
  },
  {
   "cell_type": "code",
   "execution_count": 2,
   "id": "a78c0655-2bac-4a8a-a988-0fd47943645e",
   "metadata": {},
   "outputs": [],
   "source": [
    "#Read the data\n",
    "df1 = pd.read_csv(\"e-shop clothing 2008.csv\", delimiter=';')"
   ]
  },
  {
   "cell_type": "code",
   "execution_count": 3,
   "id": "ad6cb75a-6069-47fe-89fc-6f13f5b8f63a",
   "metadata": {
    "scrolled": true
   },
   "outputs": [
    {
     "data": {
      "text/html": [
       "<div>\n",
       "<style scoped>\n",
       "    .dataframe tbody tr th:only-of-type {\n",
       "        vertical-align: middle;\n",
       "    }\n",
       "\n",
       "    .dataframe tbody tr th {\n",
       "        vertical-align: top;\n",
       "    }\n",
       "\n",
       "    .dataframe thead th {\n",
       "        text-align: right;\n",
       "    }\n",
       "</style>\n",
       "<table border=\"1\" class=\"dataframe\">\n",
       "  <thead>\n",
       "    <tr style=\"text-align: right;\">\n",
       "      <th></th>\n",
       "      <th>year</th>\n",
       "      <th>month</th>\n",
       "      <th>day</th>\n",
       "      <th>order</th>\n",
       "      <th>country</th>\n",
       "      <th>session ID</th>\n",
       "      <th>page 1 (main category)</th>\n",
       "      <th>page 2 (clothing model)</th>\n",
       "      <th>colour</th>\n",
       "      <th>location</th>\n",
       "      <th>model photography</th>\n",
       "      <th>price</th>\n",
       "      <th>price 2</th>\n",
       "      <th>page</th>\n",
       "    </tr>\n",
       "  </thead>\n",
       "  <tbody>\n",
       "    <tr>\n",
       "      <th>0</th>\n",
       "      <td>2008</td>\n",
       "      <td>4</td>\n",
       "      <td>1</td>\n",
       "      <td>1</td>\n",
       "      <td>29</td>\n",
       "      <td>1</td>\n",
       "      <td>1</td>\n",
       "      <td>A13</td>\n",
       "      <td>1</td>\n",
       "      <td>5</td>\n",
       "      <td>1</td>\n",
       "      <td>28</td>\n",
       "      <td>2</td>\n",
       "      <td>1</td>\n",
       "    </tr>\n",
       "    <tr>\n",
       "      <th>1</th>\n",
       "      <td>2008</td>\n",
       "      <td>4</td>\n",
       "      <td>1</td>\n",
       "      <td>2</td>\n",
       "      <td>29</td>\n",
       "      <td>1</td>\n",
       "      <td>1</td>\n",
       "      <td>A16</td>\n",
       "      <td>1</td>\n",
       "      <td>6</td>\n",
       "      <td>1</td>\n",
       "      <td>33</td>\n",
       "      <td>2</td>\n",
       "      <td>1</td>\n",
       "    </tr>\n",
       "    <tr>\n",
       "      <th>2</th>\n",
       "      <td>2008</td>\n",
       "      <td>4</td>\n",
       "      <td>1</td>\n",
       "      <td>3</td>\n",
       "      <td>29</td>\n",
       "      <td>1</td>\n",
       "      <td>2</td>\n",
       "      <td>B4</td>\n",
       "      <td>10</td>\n",
       "      <td>2</td>\n",
       "      <td>1</td>\n",
       "      <td>52</td>\n",
       "      <td>1</td>\n",
       "      <td>1</td>\n",
       "    </tr>\n",
       "  </tbody>\n",
       "</table>\n",
       "</div>"
      ],
      "text/plain": [
       "   year  month  day  order  country  session ID  page 1 (main category)  \\\n",
       "0  2008      4    1      1       29           1                       1   \n",
       "1  2008      4    1      2       29           1                       1   \n",
       "2  2008      4    1      3       29           1                       2   \n",
       "\n",
       "  page 2 (clothing model)  colour  location  model photography  price  \\\n",
       "0                     A13       1         5                  1     28   \n",
       "1                     A16       1         6                  1     33   \n",
       "2                      B4      10         2                  1     52   \n",
       "\n",
       "   price 2  page  \n",
       "0        2     1  \n",
       "1        2     1  \n",
       "2        1     1  "
      ]
     },
     "execution_count": 3,
     "metadata": {},
     "output_type": "execute_result"
    }
   ],
   "source": [
    "#Load the first 3 rows\n",
    "df1.head(3)"
   ]
  },
  {
   "cell_type": "code",
   "execution_count": 4,
   "id": "2d33c527-cf5f-4ee1-b0d7-0ece4507f5e5",
   "metadata": {},
   "outputs": [],
   "source": [
    "# Define the column renaming mapping\n",
    "column_renaming = {\n",
    "    'order': 'clicks_per_session',\n",
    "    'page 1 (main category)': 'page_1_product_category',\n",
    "    'page 2 (clothing model)': 'page_2_clothing_model',\n",
    "    'price 2': 'price_above_avg',\n",
    "    'page': 'site_page_num',\n",
    "    'model photography': 'model_photography'\n",
    "}\n",
    "\n",
    "# Rename the columns\n",
    "df1 = df1.rename(columns=column_renaming)"
   ]
  },
  {
   "cell_type": "code",
   "execution_count": 5,
   "id": "ce68e18a-bde2-45ab-a522-312e92348178",
   "metadata": {},
   "outputs": [
    {
     "data": {
      "text/plain": [
       "(165474, 14)"
      ]
     },
     "execution_count": 5,
     "metadata": {},
     "output_type": "execute_result"
    }
   ],
   "source": [
    "#Get the shape of the data\n",
    "df1.shape"
   ]
  },
  {
   "cell_type": "code",
   "execution_count": 6,
   "id": "93cd5e1b-a59b-4c13-bb37-f7f0b776a03e",
   "metadata": {},
   "outputs": [
    {
     "name": "stdout",
     "output_type": "stream",
     "text": [
      "<class 'pandas.core.frame.DataFrame'>\n",
      "RangeIndex: 165474 entries, 0 to 165473\n",
      "Data columns (total 14 columns):\n",
      " #   Column                   Non-Null Count   Dtype \n",
      "---  ------                   --------------   ----- \n",
      " 0   year                     165474 non-null  int64 \n",
      " 1   month                    165474 non-null  int64 \n",
      " 2   day                      165474 non-null  int64 \n",
      " 3   clicks_per_session       165474 non-null  int64 \n",
      " 4   country                  165474 non-null  int64 \n",
      " 5   session ID               165474 non-null  int64 \n",
      " 6   page_1_product_category  165474 non-null  int64 \n",
      " 7   page_2_clothing_model    165474 non-null  object\n",
      " 8   colour                   165474 non-null  int64 \n",
      " 9   location                 165474 non-null  int64 \n",
      " 10  model_photography        165474 non-null  int64 \n",
      " 11  price                    165474 non-null  int64 \n",
      " 12  price_above_avg          165474 non-null  int64 \n",
      " 13  site_page_num            165474 non-null  int64 \n",
      "dtypes: int64(13), object(1)\n",
      "memory usage: 17.7+ MB\n"
     ]
    }
   ],
   "source": [
    "df1.info()"
   ]
  },
  {
   "cell_type": "code",
   "execution_count": null,
   "id": "571eda8c-096a-4ac1-92bb-1caae0289c1b",
   "metadata": {},
   "outputs": [],
   "source": []
  },
  {
   "cell_type": "code",
   "execution_count": 7,
   "id": "0fc8791d-5821-4cc3-bc0a-f2348e6bb280",
   "metadata": {},
   "outputs": [
    {
     "name": "stdout",
     "output_type": "stream",
     "text": [
      "year                        int64\n",
      "month                      object\n",
      "day                        object\n",
      "clicks_per_session          int64\n",
      "country                    object\n",
      "session ID                 object\n",
      "page_1_product_category    object\n",
      "page_2_clothing_model      object\n",
      "colour                     object\n",
      "location                   object\n",
      "model_photography          object\n",
      "price                       int64\n",
      "price_above_avg            object\n",
      "site_page_num              object\n",
      "dtype: object\n"
     ]
    }
   ],
   "source": [
    "# Columns to keep as original types (year, order, and price)\n",
    "columns_to_exclude = ['year', 'clicks_per_session', 'price']\n",
    "\n",
    "# Convert all other columns to string\n",
    "for column in df1.columns:\n",
    "    if column not in columns_to_exclude:\n",
    "        df1[column] = df1[column].astype(str)\n",
    "\n",
    "# Display the DataFrame to verify the changes\n",
    "print(df1.dtypes)"
   ]
  },
  {
   "cell_type": "markdown",
   "id": "f7b964bc-6b0a-44e3-b95b-65db598ce0d1",
   "metadata": {},
   "source": [
    "Reading the data set documentation revealed the country column to contain unnecessary values that must be dropped."
   ]
  },
  {
   "cell_type": "code",
   "execution_count": 8,
   "id": "d76248b2-9fb1-4e7d-a71a-2c23a5521d26",
   "metadata": {},
   "outputs": [],
   "source": [
    "# Drop rows where 'country' column has values 43, 44, 45, 46, or 47\n",
    "values_to_drop = ['43', '44', '45', '46', '47']\n",
    "df1 = df1[~df1['country'].isin(values_to_drop)]"
   ]
  },
  {
   "cell_type": "code",
   "execution_count": 23,
   "id": "579147dc-1285-4278-867a-af03b6350e3f",
   "metadata": {},
   "outputs": [],
   "source": [
    "# Define the mapping from numeric codes to country names\n",
    "country_mapping = {\n",
    "    1: \"Australia\", 2: \"Austria\", 3: \"Belgium\", 4: \"British Virgin Islands\",\n",
    "    5: \"Cayman Islands\", 6: \"Christmas Island\", 7: \"Croatia\", 8: \"Cyprus\",\n",
    "    9: \"Czech Republic\", 10: \"Denmark\", 11: \"Estonia\", 12: \"unidentified\",\n",
    "    13: \"Faroe Islands\", 14: \"Finland\", 15: \"France\", 16: \"Germany\",\n",
    "    17: \"Greece\", 18: \"Hungary\", 19: \"Iceland\", 20: \"India\",\n",
    "    21: \"Ireland\", 22: \"Italy\", 23: \"Latvia\", 24: \"Lithuania\",\n",
    "    25: \"Luxembourg\", 26: \"Mexico\", 27: \"Netherlands\", 28: \"Norway\",\n",
    "    29: \"Poland\", 30: \"Portugal\", 31: \"Romania\", 32: \"Russia\",\n",
    "    33: \"San Marino\", 34: \"Slovakia\", 35: \"Slovenia\", 36: \"Spain\",\n",
    "    37: \"Sweden\", 38: \"Switzerland\", 39: \"Ukraine\", 40: \"United Arab Emirates\",\n",
    "    41: \"United Kingdom\", 42: \"USA\"\n",
    "}\n",
    "\n",
    "# Replace the numeric country codes with the country names\n",
    "df1['country'] = df1['country'].astype(int).replace(country_mapping)"
   ]
  },
  {
   "cell_type": "code",
   "execution_count": null,
   "id": "5b4c435d-3606-4458-b965-71bd9a89058f",
   "metadata": {},
   "outputs": [],
   "source": []
  },
  {
   "cell_type": "code",
   "execution_count": 24,
   "id": "50ad690f-32b5-4a6e-adaa-dafc149254a5",
   "metadata": {},
   "outputs": [],
   "source": [
    "# Define the mapping from numeric codes to colour names\n",
    "colour_mapping = {\n",
    "    1: \"beige\", 2: \"black\", 3: \"blue\", 4: \"brown\", 5: \"burgundy\",\n",
    "    6: \"gray\", 7: \"green\", 8: \"navy blue\", 9: \"of many colors\", 10: \"olive\",\n",
    "    11: \"pink\", 12: \"red\", 13: \"violet\", 14: \"white\"\n",
    "}\n",
    "\n",
    "# Replace the numeric colour codes with the colour names\n",
    "df1['colour'] = df1['colour'].astype(int).replace(colour_mapping)"
   ]
  },
  {
   "cell_type": "code",
   "execution_count": null,
   "id": "be685ce7-3066-4b92-b3c9-ef57cdb50a9f",
   "metadata": {},
   "outputs": [],
   "source": []
  },
  {
   "cell_type": "code",
   "execution_count": 11,
   "id": "e246766c-3cd4-43e7-8df9-e9ec321751f4",
   "metadata": {},
   "outputs": [],
   "source": [
    "# Define the mapping from numeric codes to month names\n",
    "month_mapping = {\n",
    "    4: \"April\", 5: \"May\",\n",
    "    6: \"June\", 7: \"July\", 8: \"August\"\n",
    "}\n",
    "\n",
    "# Replace the numeric month codes with the month names\n",
    "df1['month'] = df1['month'].astype(int).replace(month_mapping)"
   ]
  },
  {
   "cell_type": "code",
   "execution_count": null,
   "id": "47133089-ad7d-49f5-89fe-7412ea14cb49",
   "metadata": {},
   "outputs": [],
   "source": []
  },
  {
   "cell_type": "code",
   "execution_count": 25,
   "id": "dcbf4b7d-3fea-4592-9213-5a70eaeaac56",
   "metadata": {},
   "outputs": [],
   "source": [
    "# Define the mapping from numeric codes to product names\n",
    "page1_mapping = {\n",
    "    1: \"Trousers\", 2: \"Skirts\",\n",
    "    3: \"Blouses\", 4: \"Sale\"\n",
    "}\n",
    "\n",
    "# Replace the numeric product codes with the product names\n",
    "df1['page_1_product_category'] = df1['page_1_product_category'].astype(int).replace(page1_mapping)"
   ]
  },
  {
   "cell_type": "code",
   "execution_count": null,
   "id": "a60e522a-0f83-4557-994a-32561ef4d48a",
   "metadata": {},
   "outputs": [],
   "source": []
  },
  {
   "cell_type": "code",
   "execution_count": 26,
   "id": "264d7340-61bc-48a3-8339-959102ebe651",
   "metadata": {},
   "outputs": [],
   "source": [
    "# Define the mapping from numeric codes to location names\n",
    "location_mapping = {\n",
    "    1: \"top left\", 2: \"top in the middle\", 3: \"top right\", 4: \"bottom left\", 5: \"bottom in the middle\",\n",
    "    6: \"bottom right\"\n",
    "}\n",
    "\n",
    "# Replace the numeric colour codes with the colour names\n",
    "df1['location'] = df1['location'].astype(int).replace(location_mapping)"
   ]
  },
  {
   "cell_type": "code",
   "execution_count": null,
   "id": "4b20c44e-8f96-4b2f-80f3-6bcf038e3516",
   "metadata": {},
   "outputs": [],
   "source": []
  },
  {
   "cell_type": "code",
   "execution_count": 27,
   "id": "5d505b28-712e-4bab-b248-2411975ccd17",
   "metadata": {},
   "outputs": [],
   "source": [
    "# Define the mapping from numeric codes to model photography names\n",
    "model_photography_mapping = {\n",
    "    1: \"en-face\", 2: \"profile\"\n",
    "}\n",
    "\n",
    "# Replace the numeric model photography codes with the model photography names\n",
    "df1['model_photography'] = df1['model_photography'].astype(int).replace(model_photography_mapping)"
   ]
  },
  {
   "cell_type": "code",
   "execution_count": null,
   "id": "99c5f050-4084-4ac3-a2ac-6998780ca2f0",
   "metadata": {},
   "outputs": [],
   "source": []
  },
  {
   "cell_type": "code",
   "execution_count": 28,
   "id": "dacb8d23-041a-483c-99b4-3eff801314c0",
   "metadata": {},
   "outputs": [],
   "source": [
    "# Define the mapping from numeric codes to model photography names\n",
    "price_above_avg_mapping = {\n",
    "    1: \"yes\", 2: \"no\"\n",
    "}\n",
    "\n",
    "# Replace the numeric model photography codes with the model photography names\n",
    "df1['price_above_avg'] = df1['price_above_avg'].astype(int).replace(price_above_avg_mapping)"
   ]
  },
  {
   "cell_type": "code",
   "execution_count": null,
   "id": "e438299c-1a05-413c-8e93-014849c2c115",
   "metadata": {},
   "outputs": [],
   "source": []
  },
  {
   "cell_type": "code",
   "execution_count": 29,
   "id": "c7dd6d1b-10b5-4c8c-9d85-300959562e8a",
   "metadata": {},
   "outputs": [],
   "source": [
    "df1['clicks_per_session'] = df1['clicks_per_session'].astype(int)"
   ]
  },
  {
   "cell_type": "code",
   "execution_count": null,
   "id": "a773191e-fab7-4b28-a1e0-adfe300cdb61",
   "metadata": {},
   "outputs": [],
   "source": []
  },
  {
   "cell_type": "code",
   "execution_count": 30,
   "id": "44b6fb92-512b-4b39-aeb6-fe7f37959b99",
   "metadata": {},
   "outputs": [
    {
     "data": {
      "text/html": [
       "<div>\n",
       "<style scoped>\n",
       "    .dataframe tbody tr th:only-of-type {\n",
       "        vertical-align: middle;\n",
       "    }\n",
       "\n",
       "    .dataframe tbody tr th {\n",
       "        vertical-align: top;\n",
       "    }\n",
       "\n",
       "    .dataframe thead th {\n",
       "        text-align: right;\n",
       "    }\n",
       "</style>\n",
       "<table border=\"1\" class=\"dataframe\">\n",
       "  <thead>\n",
       "    <tr style=\"text-align: right;\">\n",
       "      <th></th>\n",
       "      <th></th>\n",
       "      <th>sum</th>\n",
       "      <th>mean</th>\n",
       "    </tr>\n",
       "    <tr>\n",
       "      <th>month</th>\n",
       "      <th>page_1_product_category</th>\n",
       "      <th></th>\n",
       "      <th></th>\n",
       "    </tr>\n",
       "  </thead>\n",
       "  <tbody>\n",
       "    <tr>\n",
       "      <th rowspan=\"4\" valign=\"top\">April</th>\n",
       "      <th>Blouses</th>\n",
       "      <td>116856</td>\n",
       "      <td>10.616517</td>\n",
       "    </tr>\n",
       "    <tr>\n",
       "      <th>Sale</th>\n",
       "      <td>144060</td>\n",
       "      <td>12.611398</td>\n",
       "    </tr>\n",
       "    <tr>\n",
       "      <th>Skirts</th>\n",
       "      <td>85668</td>\n",
       "      <td>7.966152</td>\n",
       "    </tr>\n",
       "    <tr>\n",
       "      <th>Trousers</th>\n",
       "      <td>106847</td>\n",
       "      <td>7.646676</td>\n",
       "    </tr>\n",
       "    <tr>\n",
       "      <th rowspan=\"4\" valign=\"top\">August</th>\n",
       "      <th>Blouses</th>\n",
       "      <td>44652</td>\n",
       "      <td>14.006274</td>\n",
       "    </tr>\n",
       "    <tr>\n",
       "      <th>Sale</th>\n",
       "      <td>57032</td>\n",
       "      <td>14.515653</td>\n",
       "    </tr>\n",
       "    <tr>\n",
       "      <th>Skirts</th>\n",
       "      <td>23137</td>\n",
       "      <td>8.525055</td>\n",
       "    </tr>\n",
       "    <tr>\n",
       "      <th>Trousers</th>\n",
       "      <td>37734</td>\n",
       "      <td>9.379567</td>\n",
       "    </tr>\n",
       "    <tr>\n",
       "      <th rowspan=\"4\" valign=\"top\">July</th>\n",
       "      <th>Blouses</th>\n",
       "      <td>87345</td>\n",
       "      <td>11.443076</td>\n",
       "    </tr>\n",
       "    <tr>\n",
       "      <th>Sale</th>\n",
       "      <td>112932</td>\n",
       "      <td>12.578748</td>\n",
       "    </tr>\n",
       "    <tr>\n",
       "      <th>Skirts</th>\n",
       "      <td>58024</td>\n",
       "      <td>8.109574</td>\n",
       "    </tr>\n",
       "    <tr>\n",
       "      <th>Trousers</th>\n",
       "      <td>81062</td>\n",
       "      <td>7.698196</td>\n",
       "    </tr>\n",
       "    <tr>\n",
       "      <th rowspan=\"4\" valign=\"top\">June</th>\n",
       "      <th>Blouses</th>\n",
       "      <td>89419</td>\n",
       "      <td>11.871880</td>\n",
       "    </tr>\n",
       "    <tr>\n",
       "      <th>Sale</th>\n",
       "      <td>78419</td>\n",
       "      <td>11.881667</td>\n",
       "    </tr>\n",
       "    <tr>\n",
       "      <th>Skirts</th>\n",
       "      <td>62327</td>\n",
       "      <td>7.782120</td>\n",
       "    </tr>\n",
       "    <tr>\n",
       "      <th>Trousers</th>\n",
       "      <td>67392</td>\n",
       "      <td>7.311707</td>\n",
       "    </tr>\n",
       "    <tr>\n",
       "      <th rowspan=\"4\" valign=\"top\">May</th>\n",
       "      <th>Blouses</th>\n",
       "      <td>91066</td>\n",
       "      <td>11.044997</td>\n",
       "    </tr>\n",
       "    <tr>\n",
       "      <th>Sale</th>\n",
       "      <td>98593</td>\n",
       "      <td>13.630997</td>\n",
       "    </tr>\n",
       "    <tr>\n",
       "      <th>Skirts</th>\n",
       "      <td>66823</td>\n",
       "      <td>7.661431</td>\n",
       "    </tr>\n",
       "    <tr>\n",
       "      <th>Trousers</th>\n",
       "      <td>89264</td>\n",
       "      <td>8.375305</td>\n",
       "    </tr>\n",
       "  </tbody>\n",
       "</table>\n",
       "</div>"
      ],
      "text/plain": [
       "                                   sum       mean\n",
       "month  page_1_product_category                   \n",
       "April  Blouses                  116856  10.616517\n",
       "       Sale                     144060  12.611398\n",
       "       Skirts                    85668   7.966152\n",
       "       Trousers                 106847   7.646676\n",
       "August Blouses                   44652  14.006274\n",
       "       Sale                      57032  14.515653\n",
       "       Skirts                    23137   8.525055\n",
       "       Trousers                  37734   9.379567\n",
       "July   Blouses                   87345  11.443076\n",
       "       Sale                     112932  12.578748\n",
       "       Skirts                    58024   8.109574\n",
       "       Trousers                  81062   7.698196\n",
       "June   Blouses                   89419  11.871880\n",
       "       Sale                      78419  11.881667\n",
       "       Skirts                    62327   7.782120\n",
       "       Trousers                  67392   7.311707\n",
       "May    Blouses                   91066  11.044997\n",
       "       Sale                      98593  13.630997\n",
       "       Skirts                    66823   7.661431\n",
       "       Trousers                  89264   8.375305"
      ]
     },
     "execution_count": 30,
     "metadata": {},
     "output_type": "execute_result"
    }
   ],
   "source": [
    "#Using groupby method to view the sum and mean performance of clicks per session by different product categories by months\n",
    "df1.groupby([\"month\", \"page_1_product_category\"])[\"clicks_per_session\"].agg({'sum','mean'})"
   ]
  },
  {
   "cell_type": "code",
   "execution_count": 31,
   "id": "41b00386-1ed2-4d73-914e-31bd49de2904",
   "metadata": {},
   "outputs": [
    {
     "data": {
      "text/plain": [
       "page_1_product_category\n",
       "Sale        12.866808\n",
       "Blouses     11.417046\n",
       "Skirts       7.923623\n",
       "Trousers     7.898576\n",
       "Name: clicks_per_session, dtype: float64"
      ]
     },
     "execution_count": 31,
     "metadata": {},
     "output_type": "execute_result"
    }
   ],
   "source": [
    "#Using groupby method to view the mean performance of clicks per session by different product categories\n",
    "df1.groupby([\"page_1_product_category\"])[\"clicks_per_session\"].mean().sort_values(ascending = False)"
   ]
  },
  {
   "cell_type": "code",
   "execution_count": 32,
   "id": "e6c43a77-f5eb-4672-a10b-dc7cc0b0dd3f",
   "metadata": {},
   "outputs": [
    {
     "data": {
      "text/plain": [
       "month\n",
       "August    11.733434\n",
       "May        9.918699\n",
       "July       9.895119\n",
       "April      9.615349\n",
       "June       9.489030\n",
       "Name: clicks_per_session, dtype: float64"
      ]
     },
     "execution_count": 32,
     "metadata": {},
     "output_type": "execute_result"
    }
   ],
   "source": [
    "#Using groupby method to view the sum and mean performance of clicks per session by different months - Trend View\n",
    "df1.groupby([\"month\"])[\"clicks_per_session\"].mean().sort_values(ascending = False)"
   ]
  },
  {
   "cell_type": "code",
   "execution_count": null,
   "id": "4bdcd11d-8487-4902-82e4-ef2376f7dc84",
   "metadata": {},
   "outputs": [],
   "source": []
  },
  {
   "cell_type": "code",
   "execution_count": 33,
   "id": "eca9d376-ec9f-4fa1-915d-d78bc8956c7f",
   "metadata": {},
   "outputs": [
    {
     "data": {
      "text/plain": [
       "page_1_product_category\n",
       "Skirts      51.191251\n",
       "Trousers    46.702961\n",
       "Blouses     40.308151\n",
       "Sale        36.223463\n",
       "Name: price, dtype: float64"
      ]
     },
     "execution_count": 33,
     "metadata": {},
     "output_type": "execute_result"
    }
   ],
   "source": [
    "#Using groupby to view mean price by product category\n",
    "df1.groupby([\"page_1_product_category\"])[\"price\"].mean().sort_values(ascending = False)"
   ]
  },
  {
   "cell_type": "code",
   "execution_count": null,
   "id": "32e52c5c-cf54-4abf-9b98-4ded6a31d3b1",
   "metadata": {},
   "outputs": [],
   "source": []
  },
  {
   "cell_type": "code",
   "execution_count": 34,
   "id": "c26838d2-91ab-47ca-af0a-25e89d6291f8",
   "metadata": {},
   "outputs": [
    {
     "data": {
      "text/plain": [
       "country\n",
       "Poland            1273028\n",
       "Czech Republic     209624\n",
       "Lithuania           56088\n",
       "Germany             13252\n",
       "Slovakia            10572\n",
       "Ireland              6947\n",
       "United Kingdom       4584\n",
       "Romania              3344\n",
       "Belgium              3271\n",
       "unidentified         2407\n",
       "Name: clicks_per_session, dtype: int32"
      ]
     },
     "execution_count": 34,
     "metadata": {},
     "output_type": "execute_result"
    }
   ],
   "source": [
    "#Clicks per session by Country or origin of visitors to the e-commerce site   ------ Top 10\n",
    "df1.groupby([\"country\"])[\"clicks_per_session\"].sum().sort_values(ascending = False)[:10]"
   ]
  },
  {
   "cell_type": "code",
   "execution_count": 35,
   "id": "4354e5e9-4e4a-41ce-b8d0-2c1f36822d8c",
   "metadata": {},
   "outputs": [
    {
     "data": {
      "text/plain": [
       "country\n",
       "Portugal                  11\n",
       "Cayman Islands            10\n",
       "San Marino                 6\n",
       "Slovenia                   6\n",
       "Australia                  6\n",
       "Faroe Islands              3\n",
       "Mexico                     3\n",
       "Cyprus                     1\n",
       "United Arab Emirates       1\n",
       "British Virgin Islands     1\n",
       "Name: clicks_per_session, dtype: int32"
      ]
     },
     "execution_count": 35,
     "metadata": {},
     "output_type": "execute_result"
    }
   ],
   "source": [
    "#Clicks per session by Country or origin of visitors to the e-commerce site   ------ Least 10\n",
    "df1.groupby([\"country\"])[\"clicks_per_session\"].sum().sort_values(ascending = False)[-10:]"
   ]
  },
  {
   "cell_type": "code",
   "execution_count": null,
   "id": "8f2538fc-cd63-4639-8e1b-e8c4bd046653",
   "metadata": {},
   "outputs": [],
   "source": []
  },
  {
   "cell_type": "code",
   "execution_count": 36,
   "id": "2f792912-250d-487d-9d0a-f08e9bf41e58",
   "metadata": {},
   "outputs": [
    {
     "data": {
      "text/plain": [
       "model_photography\n",
       "en-face    1121677\n",
       "profile     476975\n",
       "Name: clicks_per_session, dtype: int32"
      ]
     },
     "execution_count": 36,
     "metadata": {},
     "output_type": "execute_result"
    }
   ],
   "source": [
    "#Clicks per session by model photography in the site\n",
    "df1.groupby([\"model_photography\"])[\"clicks_per_session\"].sum().sort_values(ascending = False)"
   ]
  },
  {
   "cell_type": "code",
   "execution_count": null,
   "id": "14f116f9-9cbe-499c-a092-67104770e121",
   "metadata": {},
   "outputs": [],
   "source": []
  },
  {
   "cell_type": "code",
   "execution_count": 37,
   "id": "f574bf3b-17e8-4de8-a531-d369df8d696d",
   "metadata": {},
   "outputs": [
    {
     "data": {
      "text/html": [
       "<div>\n",
       "<style scoped>\n",
       "    .dataframe tbody tr th:only-of-type {\n",
       "        vertical-align: middle;\n",
       "    }\n",
       "\n",
       "    .dataframe tbody tr th {\n",
       "        vertical-align: top;\n",
       "    }\n",
       "\n",
       "    .dataframe thead th {\n",
       "        text-align: right;\n",
       "    }\n",
       "</style>\n",
       "<table border=\"1\" class=\"dataframe\">\n",
       "  <thead>\n",
       "    <tr style=\"text-align: right;\">\n",
       "      <th></th>\n",
       "      <th>price_above_avg</th>\n",
       "      <th>page_1_product_category</th>\n",
       "      <th>price</th>\n",
       "    </tr>\n",
       "  </thead>\n",
       "  <tbody>\n",
       "    <tr>\n",
       "      <th>0</th>\n",
       "      <td>no</td>\n",
       "      <td>Trousers</td>\n",
       "      <td>28</td>\n",
       "    </tr>\n",
       "    <tr>\n",
       "      <th>1</th>\n",
       "      <td>no</td>\n",
       "      <td>Trousers</td>\n",
       "      <td>33</td>\n",
       "    </tr>\n",
       "    <tr>\n",
       "      <th>2</th>\n",
       "      <td>yes</td>\n",
       "      <td>Skirts</td>\n",
       "      <td>52</td>\n",
       "    </tr>\n",
       "    <tr>\n",
       "      <th>3</th>\n",
       "      <td>no</td>\n",
       "      <td>Skirts</td>\n",
       "      <td>38</td>\n",
       "    </tr>\n",
       "    <tr>\n",
       "      <th>4</th>\n",
       "      <td>yes</td>\n",
       "      <td>Skirts</td>\n",
       "      <td>52</td>\n",
       "    </tr>\n",
       "  </tbody>\n",
       "</table>\n",
       "</div>"
      ],
      "text/plain": [
       "  price_above_avg page_1_product_category  price\n",
       "0              no                Trousers     28\n",
       "1              no                Trousers     33\n",
       "2             yes                  Skirts     52\n",
       "3              no                  Skirts     38\n",
       "4             yes                  Skirts     52"
      ]
     },
     "execution_count": 37,
     "metadata": {},
     "output_type": "execute_result"
    }
   ],
   "source": [
    "#Creating a new data frame to extract product categories whose prices are above the average price of all categories\n",
    "df_price_avg = df1[[\"price_above_avg\",\"page_1_product_category\", \"price\"]]\n",
    "df_price_avg.head()"
   ]
  },
  {
   "cell_type": "code",
   "execution_count": 38,
   "id": "09975fee-1e20-4e02-9b93-cd071d14da46",
   "metadata": {},
   "outputs": [
    {
     "name": "stdout",
     "output_type": "stream",
     "text": [
      "page_1_product_category\n",
      "Blouses     1054811\n",
      "Sale         862118\n",
      "Skirts      1380813\n",
      "Trousers    1073190\n",
      "Name: price, dtype: int64\n"
     ]
    }
   ],
   "source": [
    "# Filter out rows where product category is 'price is above average'\n",
    "filtered_df_price_avg = df_price_avg.loc[df_price_avg['price_above_avg'] == 'yes']\n",
    "\n",
    "# Group by category and calculate the sum of values\n",
    "grouped_result = filtered_df_price_avg.groupby('page_1_product_category')['price'].sum()\n",
    "\n",
    "print(grouped_result)"
   ]
  },
  {
   "cell_type": "code",
   "execution_count": null,
   "id": "6481e486-ef13-40d7-8e5b-b49213af531b",
   "metadata": {},
   "outputs": [],
   "source": []
  },
  {
   "cell_type": "code",
   "execution_count": 39,
   "id": "3a98de52-3ade-4485-9489-44f07ed5e6d7",
   "metadata": {},
   "outputs": [],
   "source": [
    "# Define month mapping from names to numbers to create a new column of Week Day Name\n",
    "month_mapping = {'April': 4, 'May': 5, 'June': 6,\n",
    "                 'July': 7, 'August': 8}\n",
    "\n",
    "# Convert month names to month numbers\n",
    "df1['month'] = df1['month'].replace(month_mapping)\n",
    "\n",
    "# Create the date column using pd.Timestamp\n",
    "df1['date'] = pd.to_datetime(df1[['year', 'month', 'day']])\n",
    "\n",
    "# Extract the weekday name from the date column\n",
    "df1['Week_Day_Name'] = df1['date'].dt.day_name()"
   ]
  },
  {
   "cell_type": "code",
   "execution_count": 40,
   "id": "31fb1008-f4cd-495c-b9d8-39508584d6ff",
   "metadata": {},
   "outputs": [
    {
     "data": {
      "text/plain": [
       "Week_Day_Name\n",
       "Sunday       10.811002\n",
       "Thursday     10.715417\n",
       "Wednesday     9.942656\n",
       "Saturday      9.886666\n",
       "Tuesday       9.822288\n",
       "Friday        9.248990\n",
       "Monday        9.029753\n",
       "Name: clicks_per_session, dtype: float64"
      ]
     },
     "execution_count": 40,
     "metadata": {},
     "output_type": "execute_result"
    }
   ],
   "source": [
    "#Mean clicks per session by Week day Names\n",
    "df1.groupby([\"Week_Day_Name\"])[\"clicks_per_session\"].mean().sort_values(ascending = False)"
   ]
  },
  {
   "cell_type": "code",
   "execution_count": null,
   "id": "027e00f0-e16f-44c2-9cd2-1139f28238b6",
   "metadata": {},
   "outputs": [],
   "source": []
  },
  {
   "cell_type": "code",
   "execution_count": 41,
   "id": "1467d9fb-ab21-4625-983b-10066a73849a",
   "metadata": {},
   "outputs": [],
   "source": [
    "#Duplicating the Data Frame in readiness for the Machine Learning Task\n",
    "df2 = df1.copy()"
   ]
  },
  {
   "cell_type": "code",
   "execution_count": 44,
   "id": "a7ced2ba-f4a2-4a83-9737-f2a656ced4bf",
   "metadata": {},
   "outputs": [
    {
     "data": {
      "text/plain": [
       "Index(['year', 'month', 'day', 'clicks_per_session', 'country', 'session ID',\n",
       "       'page_1_product_category', 'page_2_clothing_model', 'colour',\n",
       "       'location', 'model_photography', 'price', 'price_above_avg',\n",
       "       'site_page_num', 'date', 'Week_Day_Name'],\n",
       "      dtype='object')"
      ]
     },
     "execution_count": 44,
     "metadata": {},
     "output_type": "execute_result"
    }
   ],
   "source": [
    "df2.columns"
   ]
  },
  {
   "cell_type": "markdown",
   "id": "0b8601fe-c019-4362-b308-33242ae285e9",
   "metadata": {},
   "source": [
    "### Random Forest Model Building to Predict Price"
   ]
  },
  {
   "cell_type": "code",
   "execution_count": null,
   "id": "1556f3cf-b9d6-41b2-8249-e16eb0ba0d1e",
   "metadata": {},
   "outputs": [],
   "source": []
  },
  {
   "cell_type": "code",
   "execution_count": 56,
   "id": "9ae71678-4827-4c8d-8ce8-a36b4eeb005b",
   "metadata": {},
   "outputs": [],
   "source": [
    "df2_randf = df2[[\"price\", \"page_1_product_category\", \"colour\", \"model_photography\"]]"
   ]
  },
  {
   "cell_type": "code",
   "execution_count": 65,
   "id": "053a1bf8-bace-4783-9f96-4ee50f23686e",
   "metadata": {},
   "outputs": [],
   "source": [
    "pd.options.mode.chained_assignment = None"
   ]
  },
  {
   "cell_type": "code",
   "execution_count": 66,
   "id": "5ca14334-d109-489e-8569-dcd329163d1a",
   "metadata": {},
   "outputs": [],
   "source": [
    "# Initialize the LabelEncoder\n",
    "le = LabelEncoder()\n",
    "\n",
    "# Encode the categorical features\n",
    "df2_randf['page_1_product_category'] = le.fit_transform(df2_randf['page_1_product_category'])\n",
    "df2_randf['colour'] = le.fit_transform(df2_randf['colour'])\n",
    "df2_randf['model_photography'] = le.fit_transform(df2_randf['model_photography'])"
   ]
  },
  {
   "cell_type": "code",
   "execution_count": null,
   "id": "42f15019-af57-40a3-ab68-fcdc63b49e2c",
   "metadata": {},
   "outputs": [],
   "source": []
  },
  {
   "cell_type": "code",
   "execution_count": 58,
   "id": "6b852743-9219-4f71-af7c-02f5c53f55d0",
   "metadata": {},
   "outputs": [],
   "source": [
    "# Define feature variables (X) and the target variable (y)\n",
    "X = df2_randf.drop(['price'], axis=1)\n",
    "y = df2_randf['price']"
   ]
  },
  {
   "cell_type": "code",
   "execution_count": 59,
   "id": "5cf3ea5f-fd50-4c6c-9964-30e143b787ac",
   "metadata": {},
   "outputs": [],
   "source": [
    "y = df2_randf[\"price\"]\n",
    "X = df2_randf.copy()\n",
    "X = X.drop(\"price\", axis = 1)\n",
    "X_train, X_test, y_train, y_test = train_test_split(X, y, test_size=0.25,random_state=0)"
   ]
  },
  {
   "cell_type": "code",
   "execution_count": 60,
   "id": "7c70c0d0-71ae-4f26-80fa-ba5de15c4832",
   "metadata": {},
   "outputs": [
    {
     "name": "stdout",
     "output_type": "stream",
     "text": [
      "(121142, 3) (40381, 3) (121142,) (40381,)\n"
     ]
    }
   ],
   "source": [
    "# Display the shapes of the resulting datasets\n",
    "print(X_train.shape, X_test.shape, y_train.shape, y_test.shape)"
   ]
  },
  {
   "cell_type": "code",
   "execution_count": 61,
   "id": "1b64a454-89c5-443e-8cfa-5f17971dc973",
   "metadata": {},
   "outputs": [],
   "source": [
    "# Split the data\n",
    "X_train, X_test, y_train, y_test = train_test_split(X, y, test_size=0.3, random_state=42)"
   ]
  },
  {
   "cell_type": "code",
   "execution_count": 62,
   "id": "102a07bd-2221-43db-9721-e30aa47e2204",
   "metadata": {},
   "outputs": [
    {
     "data": {
      "text/html": [
       "<style>#sk-container-id-2 {color: black;background-color: white;}#sk-container-id-2 pre{padding: 0;}#sk-container-id-2 div.sk-toggleable {background-color: white;}#sk-container-id-2 label.sk-toggleable__label {cursor: pointer;display: block;width: 100%;margin-bottom: 0;padding: 0.3em;box-sizing: border-box;text-align: center;}#sk-container-id-2 label.sk-toggleable__label-arrow:before {content: \"▸\";float: left;margin-right: 0.25em;color: #696969;}#sk-container-id-2 label.sk-toggleable__label-arrow:hover:before {color: black;}#sk-container-id-2 div.sk-estimator:hover label.sk-toggleable__label-arrow:before {color: black;}#sk-container-id-2 div.sk-toggleable__content {max-height: 0;max-width: 0;overflow: hidden;text-align: left;background-color: #f0f8ff;}#sk-container-id-2 div.sk-toggleable__content pre {margin: 0.2em;color: black;border-radius: 0.25em;background-color: #f0f8ff;}#sk-container-id-2 input.sk-toggleable__control:checked~div.sk-toggleable__content {max-height: 200px;max-width: 100%;overflow: auto;}#sk-container-id-2 input.sk-toggleable__control:checked~label.sk-toggleable__label-arrow:before {content: \"▾\";}#sk-container-id-2 div.sk-estimator input.sk-toggleable__control:checked~label.sk-toggleable__label {background-color: #d4ebff;}#sk-container-id-2 div.sk-label input.sk-toggleable__control:checked~label.sk-toggleable__label {background-color: #d4ebff;}#sk-container-id-2 input.sk-hidden--visually {border: 0;clip: rect(1px 1px 1px 1px);clip: rect(1px, 1px, 1px, 1px);height: 1px;margin: -1px;overflow: hidden;padding: 0;position: absolute;width: 1px;}#sk-container-id-2 div.sk-estimator {font-family: monospace;background-color: #f0f8ff;border: 1px dotted black;border-radius: 0.25em;box-sizing: border-box;margin-bottom: 0.5em;}#sk-container-id-2 div.sk-estimator:hover {background-color: #d4ebff;}#sk-container-id-2 div.sk-parallel-item::after {content: \"\";width: 100%;border-bottom: 1px solid gray;flex-grow: 1;}#sk-container-id-2 div.sk-label:hover label.sk-toggleable__label {background-color: #d4ebff;}#sk-container-id-2 div.sk-serial::before {content: \"\";position: absolute;border-left: 1px solid gray;box-sizing: border-box;top: 0;bottom: 0;left: 50%;z-index: 0;}#sk-container-id-2 div.sk-serial {display: flex;flex-direction: column;align-items: center;background-color: white;padding-right: 0.2em;padding-left: 0.2em;position: relative;}#sk-container-id-2 div.sk-item {position: relative;z-index: 1;}#sk-container-id-2 div.sk-parallel {display: flex;align-items: stretch;justify-content: center;background-color: white;position: relative;}#sk-container-id-2 div.sk-item::before, #sk-container-id-2 div.sk-parallel-item::before {content: \"\";position: absolute;border-left: 1px solid gray;box-sizing: border-box;top: 0;bottom: 0;left: 50%;z-index: -1;}#sk-container-id-2 div.sk-parallel-item {display: flex;flex-direction: column;z-index: 1;position: relative;background-color: white;}#sk-container-id-2 div.sk-parallel-item:first-child::after {align-self: flex-end;width: 50%;}#sk-container-id-2 div.sk-parallel-item:last-child::after {align-self: flex-start;width: 50%;}#sk-container-id-2 div.sk-parallel-item:only-child::after {width: 0;}#sk-container-id-2 div.sk-dashed-wrapped {border: 1px dashed gray;margin: 0 0.4em 0.5em 0.4em;box-sizing: border-box;padding-bottom: 0.4em;background-color: white;}#sk-container-id-2 div.sk-label label {font-family: monospace;font-weight: bold;display: inline-block;line-height: 1.2em;}#sk-container-id-2 div.sk-label-container {text-align: center;}#sk-container-id-2 div.sk-container {/* jupyter's `normalize.less` sets `[hidden] { display: none; }` but bootstrap.min.css set `[hidden] { display: none !important; }` so we also need the `!important` here to be able to override the default hidden behavior on the sphinx rendered scikit-learn.org. See: https://github.com/scikit-learn/scikit-learn/issues/21755 */display: inline-block !important;position: relative;}#sk-container-id-2 div.sk-text-repr-fallback {display: none;}</style><div id=\"sk-container-id-2\" class=\"sk-top-container\"><div class=\"sk-text-repr-fallback\"><pre>RandomForestRegressor(random_state=42)</pre><b>In a Jupyter environment, please rerun this cell to show the HTML representation or trust the notebook. <br />On GitHub, the HTML representation is unable to render, please try loading this page with nbviewer.org.</b></div><div class=\"sk-container\" hidden><div class=\"sk-item\"><div class=\"sk-estimator sk-toggleable\"><input class=\"sk-toggleable__control sk-hidden--visually\" id=\"sk-estimator-id-2\" type=\"checkbox\" checked><label for=\"sk-estimator-id-2\" class=\"sk-toggleable__label sk-toggleable__label-arrow\">RandomForestRegressor</label><div class=\"sk-toggleable__content\"><pre>RandomForestRegressor(random_state=42)</pre></div></div></div></div></div>"
      ],
      "text/plain": [
       "RandomForestRegressor(random_state=42)"
      ]
     },
     "execution_count": 62,
     "metadata": {},
     "output_type": "execute_result"
    }
   ],
   "source": [
    "# Initialize the Random Forest regressor\n",
    "rf = RandomForestRegressor(n_estimators=100, random_state=42)\n",
    "\n",
    "# Train the model\n",
    "rf.fit(X_train, y_train)"
   ]
  },
  {
   "cell_type": "code",
   "execution_count": 63,
   "id": "1cb30c40-5c8a-478f-8adb-523bfdaafde7",
   "metadata": {},
   "outputs": [],
   "source": [
    "# Make predictions\n",
    "y_pred = rf.predict(X_test)"
   ]
  },
  {
   "cell_type": "code",
   "execution_count": 64,
   "id": "70b453d4-d5ef-42b1-9366-ce149075a385",
   "metadata": {},
   "outputs": [
    {
     "name": "stdout",
     "output_type": "stream",
     "text": [
      "Mean Squared Error: 83.18\n",
      "R^2 Score: 0.47\n"
     ]
    }
   ],
   "source": [
    "# Evaluate the model\n",
    "mse = mean_squared_error(y_test, y_pred)\n",
    "r2 = r2_score(y_test, y_pred)\n",
    "print(f'Mean Squared Error: {mse:.2f}')\n",
    "print(f'R^2 Score: {r2:.2f}')"
   ]
  },
  {
   "cell_type": "code",
   "execution_count": null,
   "id": "691c843c-5972-411a-885b-7ccf3a7698c0",
   "metadata": {},
   "outputs": [],
   "source": []
  },
  {
   "cell_type": "code",
   "execution_count": null,
   "id": "c1c29c1a-99a2-4ae5-8505-1ccc6eb84e78",
   "metadata": {},
   "outputs": [],
   "source": [
    "#### Useing Box Plot to Guage the relationship between product categories and colours on Prices"
   ]
  },
  {
   "cell_type": "code",
   "execution_count": 67,
   "id": "34894522-9fcf-44a3-b249-cc2b32b3e684",
   "metadata": {},
   "outputs": [],
   "source": [
    "# Assuming df2 is your DataFrame\n",
    "allowed_colours = [\"black\", \"blue\", \"violet\", \"red\", \"gray\", \"beige\", \"white\"]\n",
    "\n",
    "# Filter the DataFrame to keep only the specified colours\n",
    "df2_colour = df2[df2[\"colour\"].isin(allowed_colours)]"
   ]
  },
  {
   "cell_type": "code",
   "execution_count": 69,
   "id": "2208be45-b0fc-403f-af02-e05ecc5e00cd",
   "metadata": {},
   "outputs": [
    {
     "data": {
      "image/png": "[encoded data removed]",
      "text/plain": [
       "<Figure size 1300x400 with 1 Axes>"
      ]
     },
     "metadata": {},
     "output_type": "display_data"
    }
   ],
   "source": [
    "import seaborn as sns\n",
    "plt.figure(figsize=(13,4))\n",
    "ax = sns.boxplot(x=\"page_1_product_category\", y=\"price\", data=df2_colour)"
   ]
  },
  {
   "cell_type": "code",
   "execution_count": null,
   "id": "c65f63ad-20d9-45c6-be7e-b1b18a995e17",
   "metadata": {},
   "outputs": [],
   "source": []
  },
  {
   "cell_type": "code",
   "execution_count": 70,
   "id": "295a0f6e-b4f5-4c4f-9c44-e9da2bde1b1a",
   "metadata": {},
   "outputs": [
    {
     "data": {
      "image/png": "[encoded data removed]",
      "text/plain": [
       "<Figure size 1300x400 with 1 Axes>"
      ]
     },
     "metadata": {},
     "output_type": "display_data"
    }
   ],
   "source": [
    "import seaborn as sns\n",
    "plt.figure(figsize=(13,4))\n",
    "ax = sns.boxplot(x=\"colour\", y=\"price\", data=df2_colour)"
   ]
  },
  {
   "cell_type": "code",
   "execution_count": 316,
   "id": "7b13b194-44ce-4cb1-9a3c-27873d29ba0b",
   "metadata": {},
   "outputs": [],
   "source": []
  },
  {
   "cell_type": "code",
   "execution_count": null,
   "id": "decc95eb-a0af-4cb3-a8de-b1e36705ea1c",
   "metadata": {},
   "outputs": [],
   "source": []
  },
  {
   "cell_type": "markdown",
   "id": "ff2c26ca-d4ec-4c91-9057-060386d787c2",
   "metadata": {},
   "source": [
    "### Building and Regression model to Predict Clicks Per Session"
   ]
  },
  {
   "cell_type": "code",
   "execution_count": 336,
   "id": "03eb34df-4938-4571-ab60-a11b61601092",
   "metadata": {},
   "outputs": [
    {
     "name": "stdout",
     "output_type": "stream",
     "text": [
      "                            OLS Regression Results                            \n",
      "==============================================================================\n",
      "Dep. Variable:     clicks_per_session   R-squared:                       0.052\n",
      "Model:                            OLS   Adj. R-squared:                  0.052\n",
      "Method:                 Least Squares   F-statistic:                     438.3\n",
      "Date:                Sun, 16 Jun 2024   Prob (F-statistic):               0.00\n",
      "Time:                        17:32:37   Log-Likelihood:            -4.4924e+05\n",
      "No. Observations:              112591   AIC:                         8.985e+05\n",
      "Df Residuals:                  112576   BIC:                         8.987e+05\n",
      "Df Model:                          14                                         \n",
      "Covariance Type:            nonrobust                                         \n",
      "==========================================================================================================\n",
      "                                             coef    std err          t      P>|t|      [0.025      0.975]\n",
      "----------------------------------------------------------------------------------------------------------\n",
      "Intercept                                  9.3228      0.201     46.446      0.000       8.929       9.716\n",
      "C(colour)[T.black]                         0.2428      0.179      1.359      0.174      -0.107       0.593\n",
      "C(colour)[T.blue]                         -0.1449      0.176     -0.823      0.411      -0.490       0.200\n",
      "C(colour)[T.gray]                         -0.3691      0.200     -1.843      0.065      -0.761       0.023\n",
      "C(colour)[T.red]                          -0.5453      0.227     -2.406      0.016      -0.989      -0.101\n",
      "C(colour)[T.violet]                       -0.4802      0.248     -1.933      0.053      -0.967       0.007\n",
      "C(colour)[T.white]                        -0.5866      0.204     -2.870      0.004      -0.987      -0.186\n",
      "C(page_1_product_category)[T.Sale]         0.6762      0.140      4.832      0.000       0.402       0.951\n",
      "C(page_1_product_category)[T.Skirts]      -2.4922      0.133    -18.764      0.000      -2.752      -2.232\n",
      "C(page_1_product_category)[T.Trousers]    -2.3695      0.135    -17.560      0.000      -2.634      -2.105\n",
      "C(model_photography)[T.profile]           -0.1092      0.100     -1.088      0.277      -0.306       0.088\n",
      "C(site_page_num)[T.2]                      3.6336      0.105     34.701      0.000       3.428       3.839\n",
      "C(site_page_num)[T.3]                      5.3040      0.152     34.958      0.000       5.007       5.601\n",
      "C(site_page_num)[T.4]                      6.0829      0.198     30.762      0.000       5.695       6.470\n",
      "C(site_page_num)[T.5]                      7.8123      0.363     21.515      0.000       7.101       8.524\n",
      "==============================================================================\n",
      "Omnibus:                   106974.503   Durbin-Watson:                   0.155\n",
      "Prob(Omnibus):                  0.000   Jarque-Bera (JB):          6073736.175\n",
      "Skew:                           4.575   Prob(JB):                         0.00\n",
      "Kurtosis:                      37.799   Cond. No.                         14.9\n",
      "==============================================================================\n",
      "\n",
      "Notes:\n",
      "[1] Standard Errors assume that the covariance matrix of the errors is correctly specified.\n"
     ]
    }
   ],
   "source": [
    "# Define the OLS formula\n",
    "ols_formula = 'clicks_per_session ~ C(colour) + C(page_1_product_category) + C(model_photography) + C(site_page_num)'\n",
    "\n",
    "# Create an OLS model\n",
    "OLS = smf.ols(formula=ols_formula, data=df2_colour)\n",
    "\n",
    "# Fit the model\n",
    "model = OLS.fit()\n",
    "\n",
    "# Save the results summary\n",
    "model_results = model.summary()\n",
    "\n",
    "# Print the results summary\n",
    "print(model_results)"
   ]
  },
  {
   "cell_type": "markdown",
   "id": "9de32e36-516f-4041-9add-1948892636e3",
   "metadata": {},
   "source": [
    "#### Interpretation:\n",
    "R-squared (0.052): Indicates that approximately 5.2% of the variability in clicks_per_session is explained by the model.\n",
    "    \n",
    "F-statistic (438.3): Suggests the model is statistically significant overall (p-value = 0.00).\n",
    "\n",
    "#### Coefficients:\n",
    "Intercept (9.3228): Baseline value of clicks_per_session when all categorical variables are at their reference levels.\n",
    "\n",
    "#### Summary:\n",
    "Overall Model Fit: The model explains a small proportion (5.2%) of the variance in clicks per session. Despite the low R-squared, the model is statistically significant.\n",
    "\n",
    "#### Significant Predictors:\n",
    "Colour: Red, violet, and white products are associated with fewer clicks per session.\n",
    "Product Category: Sale items increase clicks, while skirts and trousers decrease clicks significantly.\n",
    "Site Page Number: Pages beyond the first page (2 to 5) see progressively more clicks per session, indicating higher user engagement on deeper site pages.\n",
    "\n",
    "#### Practical Implications:\n",
    "Colour Impact: Certain colors (red, white) may need re-evaluation in marketing strategies due to their negative impact on clicks.\n",
    "\n",
    "Product Categories: Emphasizing sale items can drive more engagement, while skirts and trousers might need better promotion or visibility strategies.\n",
    "\n",
    "User Engagement: Users tend to click more as they navigate deeper into the site, suggesting that maintaining engaging content and easy navigation can keep users interested.\n",
    "\n",
    "\n",
    "### What It Means:\n",
    "\n",
    "Product Colour and Category: Some colours and product categories attract more or fewer clicks. For example, sale items get more attention, while certain categories like skirts and trousers get less.\n",
    "    \n",
    "Navigation: Users click more as they go deeper into the site, indicating they are engaged and exploring more."
   ]
  },
  {
   "cell_type": "code",
   "execution_count": null,
   "id": "7d5ff518-767e-4121-960f-66d682282162",
   "metadata": {},
   "outputs": [],
   "source": []
  },
  {
   "cell_type": "markdown",
   "id": "a02ff2ed-d9dd-4404-8299-b42fcf4e928f",
   "metadata": {},
   "source": [
    "### Lets formulate a Hypotheses that will be tested by the HSD post hoc test"
   ]
  },
  {
   "cell_type": "markdown",
   "id": "f9b09ba7-a5f6-407c-a2d9-db033e9beaae",
   "metadata": {},
   "source": [
    "**H0 (Null Hypothesis): There is no relationship between product category and clicks per session.**\n",
    "\n",
    "**H1 (Alternative Hypothesis): There is a relationship between product category and clicks per session.**"
   ]
  },
  {
   "cell_type": "code",
   "execution_count": 346,
   "id": "3bd9d5b4-5335-45ea-bbe5-674693b9355d",
   "metadata": {},
   "outputs": [],
   "source": [
    "from statsmodels.stats.multicomp import pairwise_tukeyhsd"
   ]
  },
  {
   "cell_type": "markdown",
   "id": "d5dfca65-ddfe-4c4b-8f77-90a09f3bb8ac",
   "metadata": {},
   "source": [
    "#### HSD post hoc test for ANOVA"
   ]
  },
  {
   "cell_type": "code",
   "execution_count": 349,
   "id": "42f266d0-dc45-4cea-91b3-37e1262139d6",
   "metadata": {},
   "outputs": [
    {
     "data": {
      "text/html": [
       "<table class=\"simpletable\">\n",
       "<caption>Multiple Comparison of Means - Tukey HSD, FWER=0.05</caption>\n",
       "<tr>\n",
       "  <th>group1</th>   <th>group2</th>  <th>meandiff</th>  <th>p-adj</th>  <th>lower</th>   <th>upper</th>  <th>reject</th>\n",
       "</tr>\n",
       "<tr>\n",
       "  <td>Blouses</td>   <td>Sale</td>    <td>0.8659</td>    <td>0.0</td>  <td>0.5457</td>  <td>1.1861</td>   <td>True</td> \n",
       "</tr>\n",
       "<tr>\n",
       "  <td>Blouses</td>  <td>Skirts</td>   <td>-4.0635</td>   <td>0.0</td>  <td>-4.3739</td> <td>-3.7531</td>  <td>True</td> \n",
       "</tr>\n",
       "<tr>\n",
       "  <td>Blouses</td> <td>Trousers</td>  <td>-3.9895</td>   <td>0.0</td>  <td>-4.2633</td> <td>-3.7156</td>  <td>True</td> \n",
       "</tr>\n",
       "<tr>\n",
       "   <td>Sale</td>    <td>Skirts</td>   <td>-4.9294</td>   <td>0.0</td>  <td>-5.2496</td> <td>-4.6091</td>  <td>True</td> \n",
       "</tr>\n",
       "<tr>\n",
       "   <td>Sale</td>   <td>Trousers</td>  <td>-4.8553</td>   <td>0.0</td>  <td>-5.1403</td> <td>-4.5703</td>  <td>True</td> \n",
       "</tr>\n",
       "<tr>\n",
       "  <td>Skirts</td>  <td>Trousers</td>   <td>0.074</td>  <td>0.8993</td> <td>-0.1999</td>  <td>0.348</td>   <td>False</td>\n",
       "</tr>\n",
       "</table>"
      ],
      "text/latex": [
       "\\begin{center}\n",
       "\\begin{tabular}{ccccccc}\n",
       "\\toprule\n",
       "\\textbf{group1} & \\textbf{group2} & \\textbf{meandiff} & \\textbf{p-adj} & \\textbf{lower} & \\textbf{upper} & \\textbf{reject}  \\\\\n",
       "\\midrule\n",
       "    Blouses     &       Sale      &       0.8659      &      0.0       &     0.5457     &     1.1861     &       True       \\\\\n",
       "    Blouses     &      Skirts     &      -4.0635      &      0.0       &    -4.3739     &    -3.7531     &       True       \\\\\n",
       "    Blouses     &     Trousers    &      -3.9895      &      0.0       &    -4.2633     &    -3.7156     &       True       \\\\\n",
       "      Sale      &      Skirts     &      -4.9294      &      0.0       &    -5.2496     &    -4.6091     &       True       \\\\\n",
       "      Sale      &     Trousers    &      -4.8553      &      0.0       &    -5.1403     &    -4.5703     &       True       \\\\\n",
       "     Skirts     &     Trousers    &       0.074       &     0.8993     &    -0.1999     &     0.348      &      False       \\\\\n",
       "\\bottomrule\n",
       "\\end{tabular}\n",
       "%\\caption{Multiple Comparison of Means - Tukey HSD, FWER=0.05}\n",
       "\\end{center}"
      ],
      "text/plain": [
       "<class 'statsmodels.iolib.table.SimpleTable'>"
      ]
     },
     "execution_count": 349,
     "metadata": {},
     "output_type": "execute_result"
    }
   ],
   "source": [
    "# Run Tukey's HSD post hoc test for one-way ANOVA to discover statistically the possible significance that exist \n",
    "#between the predictor and target variables\n",
    "\n",
    "tukey_oneway = pairwise_tukeyhsd(endog = df2_colour[\"clicks_per_session\"], groups =df2_colour[\"page_1_product_category\"], alpha = 0.05)\n",
    "tukey_oneway.summary()"
   ]
  },
  {
   "cell_type": "markdown",
   "id": "69f96b5b-60ca-4f80-b0ea-61716fc2be29",
   "metadata": {},
   "source": [
    "#### Now, let's interpret the results based on the hypotheses:\n",
    "\n",
    "##### Blouses vs. Sale:\n",
    "\n",
    "Mean Difference (meandiff): 0.8659\n",
    "\n",
    "Adjusted p-value (p-adj): 0.0 (significant)\n",
    "\n",
    "##### Interpretation: \n",
    "There is a statistically significant difference in mean clicks per session between Blouses and Sale categories. Therefore, we reject the null hypothesis (H0) and accept the alternative hypothesis (H1) that there is a relationship between product category and clicks per session for these two groups.\n",
    "                                                                                                                                                                                                                                                                                     \n",
    "Blouses vs. Skirts and Blouses vs. Trousers:\n",
    "\n",
    "Both comparisons have significant mean differences and p-values of 0.0, indicating a relationship between product category and clicks per session.\n",
    "\n",
    "Sale vs. Skirts and Sale vs. Trousers:\n",
    "\n",
    "Both comparisons have significant mean differences and p-values of 0.0, indicating a relationship between product category and clicks per session.\n",
    "\n",
    "Skirts vs. Trousers:\n",
    "\n",
    "Mean Difference (meandiff): 0.074\n",
    "\n",
    "Adjusted p-value (p-adj): 0.8993 (not significant)\n",
    "\n",
    "#### Interpretation: \n",
    "\n",
    "There is no statistically significant difference in mean clicks per session between Skirts and Trousers categories. Therefore, we fail to reject the null hypothesis (H0) and cannot conclude that there is a relationship between product category and clicks per session for these two groups.\n",
    "                                                                                                                                                                                                                                                                          \n",
    "\n",
    "In summary, the Tukey HSD test results suggest that there is a relationship between product category and clicks per session for all comparisons except for Skirts vs. Trousers, where the difference in means is not statistically significant.\n",
    "\n",
    "#### Actionable Insights & Recommendations\n",
    "\n",
    "Based on the results of the analysis from the Tukey HSD test, here are some recommendations for stakeholders:\r\n",
    "\r\n",
    "Focus on High-Performing Categories:\r\n",
    "Allocate more resources and marketing efforts towards product categories that show significantly higher mean clicks per session compared to others.\r\n",
    "For example, prioritize promoting Sale items, as they have a statistically significant higher mean clicks per session compared to Blouses, Skirts, and Trousers.\r\n",
    "\r\n",
    "Optimize Low-Performing Categories:\r\n",
    "Investigate factors contributing to lower clicks per session in categories like Blouses, Skirts, and Trousers.\r\n",
    "Consider redesigning product presentations, improving product descriptions, or offering promotions to increase engagement with these categories.\r\n",
    "\r\n",
    "Segment Marketing Strategies:\r\n",
    "Tailor marketing strategies and campaigns based on the insights gained from the analysis.\r\n",
    "Customize messaging and promotions for different product categories to better resonate with target audiences.\r\n",
    "\r\n",
    "Evaluate Skirts and Trousers Performance:\r\n",
    "Although Skirts and Trousers did not show a significant difference in mean clicks per session, continue monitoring their performance over time.\r\n",
    "Conduct further analysis or experiments to understand user preferences and behavior within these categories.\r\n",
    "\r\n",
    "Utilize Data-Driven Decision Making:\r\n",
    "Continue using data analytics and statistical tests like Tukey HSD to inform strategic decisions.\r\n",
    "Regularly review and update strategies based on new data and insights to adapt to changing market dynamics.\r\n",
    "\r\n",
    "A/B Testing and Experimentation:\r\n",
    "Consider implementing A/B testing or controlled experiments to test different marketing approaches and measure their impact on clicks per session.\r\n",
    "Use experimental results to refine strategies and optimize performance.\r\n",
    "mize performance.\r\n"
   ]
  },
  {
   "cell_type": "markdown",
   "id": "f1ef131d-3bd0-4960-8f21-0845a02469e2",
   "metadata": {},
   "source": [
    "The dataset was taken from UCI Machine Learning Repository https://archive.ics.uci.edu/dataset/553/clickstream+data+for+online+shopping"
   ]
  },
  {
   "cell_type": "code",
   "execution_count": null,
   "id": "0e709e03-9a4a-4cbb-8c8e-1d040cbbed24",
   "metadata": {},
   "outputs": [],
   "source": []
  }
 ],
 "metadata": {
  "kernelspec": {
   "display_name": "Python 3 (ipykernel)",
   "language": "python",
   "name": "python3"
  },
  "language_info": {
   "codemirror_mode": {
    "name": "ipython",
    "version": 3
   },
   "file_extension": ".py",
   "mimetype": "text/x-python",
   "name": "python",
   "nbconvert_exporter": "python",
   "pygments_lexer": "ipython3",
   "version": "3.11.7"
  }
 },
 "nbformat": 4,
 "nbformat_minor": 5
}
