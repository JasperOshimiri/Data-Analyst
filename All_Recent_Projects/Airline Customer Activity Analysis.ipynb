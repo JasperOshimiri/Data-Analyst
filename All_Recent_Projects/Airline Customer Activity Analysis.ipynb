{
 "cells": [
  {
   "cell_type": "markdown",
   "id": "26b188f5",
   "metadata": {},
   "source": [
    "# The Analysis of an Airline Customers Activities in Canada from 2012 to 2018"
   ]
  },
  {
   "cell_type": "markdown",
   "id": "8929af0b",
   "metadata": {},
   "source": [
    "### The Analysis Project Seeks to Answer the Following Questions\n",
    "\n",
    "Top 5 province with highest flights booking\n",
    "\n",
    "Top 5 province with highest dollar cost redeemed \n",
    "\n",
    "Top 5 province with highest flights booked with companion \n",
    "\n",
    "Flights booking per gender\n",
    "\n",
    "Salary earnings per gender\n",
    "\n",
    "Flights booked per year \n",
    "\n",
    "Find the relationship between flights booked and salary earned by customers per educational level\n",
    "\n",
    "Distribution of customers by education \n",
    "\n",
    "Number of enrollments into promotional offers by month\n",
    "\n",
    "Number of enrollments into standard offers by year \n",
    "\n",
    "Distribution of customers by marital status\n",
    "\n",
    "Distribution of salary earnings by city \n",
    "\n",
    "Maximum salary earned by customers by educational level \n",
    "\n",
    "Share of Total salary earned by customers who are divorced, holds bachelors degree and enrolled on standard type of offer \n",
    "\n",
    "Share of Total salary earned by customers who are single, holds bachelors degree and enrolled on standard type of offer \n",
    "\n",
    "Share of Total salary earned by customers who are married, holds bachelors degree and enrolled on standard type of offer \n",
    "\n",
    "Average salary earned by customers who are divorced, holds bachelors degree and enrolled on standard type of offer \n",
    "\n",
    "Average salary earned by customers who are single, holds bachelors degree and enrolled on standard type of offer\n"
   ]
  },
  {
   "cell_type": "code",
   "execution_count": null,
   "id": "93db2e89",
   "metadata": {},
   "outputs": [],
   "source": []
  },
  {
   "cell_type": "markdown",
   "id": "a7afcca5",
   "metadata": {},
   "source": [
    "### Explanation of the various fields in the dataset\n",
    "Loyalty Number: Customers unique loyalty number ***\n",
    "Year: Year of the period ***\n",
    "Month: Month of the period ***\n",
    "Flights Booked: Number of flights booked for member only in the period ***\n",
    "Flights with Companions:\tNumber of flights booked with additional passengers in the period ***\n",
    "Total Flights:\tSum of Flights Booked and Flights with Companions ***\n",
    "Distance:\tFlight distance traveled in the period (km) ***\n",
    "Points Accumulated:\tLoyalty points accumulated in the period ***\n",
    "Points Redeemed:\tLoyalty points redeemed in the period ***\n",
    "Dollar Cost Points Redeemed:\tDollar equivalent for points redeemed in the period in CDN ***\n",
    "Country:\tCountry of residence ***\n",
    "Province:\tProvince of residence ***\n",
    "City:\tCity of residence ***\n",
    "Gender:\tGender ***\n",
    "Education:\tHighest education level (High school or lower > College > Bachelor > Master > Doctor) ***\n",
    "Salary:\tAnnual income ***\n",
    "Marital Status:\tMarital status (Single, Married, Divorced) ***\n",
    "Enrollment Type:\tEnrollment type (Standard / 2018 Promotion) ***\n",
    "Enrollment Year:\tYear Member enrolled in membership program ***\n",
    "Enrollment Month:\tMonth Member enrolled in membership program ***\n",
    "Cancellation Year:\tYear Member cancelled their membership ***\n",
    "Cancellation Month:\tMonth Member cancelled their membership ***\n"
   ]
  },
  {
   "cell_type": "code",
   "execution_count": 1,
   "id": "3fd1284b",
   "metadata": {},
   "outputs": [],
   "source": [
    "import pandas as pd\n",
    "import seaborn as sns\n",
    "import matplotlib.pyplot as plt\n",
    "%matplotlib inline\n",
    "import plotly.express as px\n",
    "import warnings\n",
    "warnings.simplefilter(action='ignore', category=FutureWarning)"
   ]
  },
  {
   "cell_type": "code",
   "execution_count": 2,
   "id": "3ecce66d",
   "metadata": {},
   "outputs": [],
   "source": [
    "pd.set_option('display.max_columns', None)"
   ]
  },
  {
   "cell_type": "code",
   "execution_count": 3,
   "id": "083d3302",
   "metadata": {},
   "outputs": [],
   "source": [
    "df1 = pd.read_csv(\"Customer Loyalty History.csv\")\n",
    "df2 = pd.read_csv(\"Customer Flight Activity.csv\")"
   ]
  },
  {
   "cell_type": "code",
   "execution_count": 4,
   "id": "97935ea5",
   "metadata": {},
   "outputs": [],
   "source": [
    "mgddf = df1.merge(df2, how='outer')"
   ]
  },
  {
   "cell_type": "code",
   "execution_count": 5,
   "id": "7264c2ef",
   "metadata": {},
   "outputs": [
    {
     "data": {
      "text/html": [
       "<div>\n",
       "<style scoped>\n",
       "    .dataframe tbody tr th:only-of-type {\n",
       "        vertical-align: middle;\n",
       "    }\n",
       "\n",
       "    .dataframe tbody tr th {\n",
       "        vertical-align: top;\n",
       "    }\n",
       "\n",
       "    .dataframe thead th {\n",
       "        text-align: right;\n",
       "    }\n",
       "</style>\n",
       "<table border=\"1\" class=\"dataframe\">\n",
       "  <thead>\n",
       "    <tr style=\"text-align: right;\">\n",
       "      <th></th>\n",
       "      <th>Loyalty Number</th>\n",
       "      <th>Country</th>\n",
       "      <th>Province</th>\n",
       "      <th>City</th>\n",
       "      <th>Postal Code</th>\n",
       "      <th>Gender</th>\n",
       "      <th>Education</th>\n",
       "      <th>Salary</th>\n",
       "      <th>Marital Status</th>\n",
       "      <th>Loyalty Card</th>\n",
       "      <th>CLV</th>\n",
       "      <th>Enrollment Type</th>\n",
       "      <th>Enrollment Year</th>\n",
       "      <th>Enrollment Month</th>\n",
       "      <th>Cancellation Year</th>\n",
       "      <th>Cancellation Month</th>\n",
       "      <th>Year</th>\n",
       "      <th>Month</th>\n",
       "      <th>Flights Booked</th>\n",
       "      <th>Flights with Companions</th>\n",
       "      <th>Total Flights</th>\n",
       "      <th>Distance</th>\n",
       "      <th>Points Accumulated</th>\n",
       "      <th>Points Redeemed</th>\n",
       "      <th>Dollar Cost Points Redeemed</th>\n",
       "    </tr>\n",
       "  </thead>\n",
       "  <tbody>\n",
       "    <tr>\n",
       "      <th>0</th>\n",
       "      <td>480934</td>\n",
       "      <td>Canada</td>\n",
       "      <td>Ontario</td>\n",
       "      <td>Toronto</td>\n",
       "      <td>M2Z 4K1</td>\n",
       "      <td>Female</td>\n",
       "      <td>Bachelor</td>\n",
       "      <td>83236</td>\n",
       "      <td>Married</td>\n",
       "      <td>Star</td>\n",
       "      <td>3839.14</td>\n",
       "      <td>Standard</td>\n",
       "      <td>2016</td>\n",
       "      <td>2</td>\n",
       "      <td>0</td>\n",
       "      <td>0</td>\n",
       "      <td>2017</td>\n",
       "      <td>1</td>\n",
       "      <td>0</td>\n",
       "      <td>0</td>\n",
       "      <td>0</td>\n",
       "      <td>0</td>\n",
       "      <td>0.0</td>\n",
       "      <td>0</td>\n",
       "      <td>0</td>\n",
       "    </tr>\n",
       "    <tr>\n",
       "      <th>1</th>\n",
       "      <td>480934</td>\n",
       "      <td>Canada</td>\n",
       "      <td>Ontario</td>\n",
       "      <td>Toronto</td>\n",
       "      <td>M2Z 4K1</td>\n",
       "      <td>Female</td>\n",
       "      <td>Bachelor</td>\n",
       "      <td>83236</td>\n",
       "      <td>Married</td>\n",
       "      <td>Star</td>\n",
       "      <td>3839.14</td>\n",
       "      <td>Standard</td>\n",
       "      <td>2016</td>\n",
       "      <td>2</td>\n",
       "      <td>0</td>\n",
       "      <td>0</td>\n",
       "      <td>2017</td>\n",
       "      <td>2</td>\n",
       "      <td>3</td>\n",
       "      <td>0</td>\n",
       "      <td>3</td>\n",
       "      <td>2823</td>\n",
       "      <td>282.0</td>\n",
       "      <td>0</td>\n",
       "      <td>0</td>\n",
       "    </tr>\n",
       "    <tr>\n",
       "      <th>2</th>\n",
       "      <td>480934</td>\n",
       "      <td>Canada</td>\n",
       "      <td>Ontario</td>\n",
       "      <td>Toronto</td>\n",
       "      <td>M2Z 4K1</td>\n",
       "      <td>Female</td>\n",
       "      <td>Bachelor</td>\n",
       "      <td>83236</td>\n",
       "      <td>Married</td>\n",
       "      <td>Star</td>\n",
       "      <td>3839.14</td>\n",
       "      <td>Standard</td>\n",
       "      <td>2016</td>\n",
       "      <td>2</td>\n",
       "      <td>0</td>\n",
       "      <td>0</td>\n",
       "      <td>2017</td>\n",
       "      <td>3</td>\n",
       "      <td>0</td>\n",
       "      <td>0</td>\n",
       "      <td>0</td>\n",
       "      <td>0</td>\n",
       "      <td>0.0</td>\n",
       "      <td>0</td>\n",
       "      <td>0</td>\n",
       "    </tr>\n",
       "  </tbody>\n",
       "</table>\n",
       "</div>"
      ],
      "text/plain": [
       "   Loyalty Number Country Province     City Postal Code  Gender Education  \\\n",
       "0          480934  Canada  Ontario  Toronto     M2Z 4K1  Female  Bachelor   \n",
       "1          480934  Canada  Ontario  Toronto     M2Z 4K1  Female  Bachelor   \n",
       "2          480934  Canada  Ontario  Toronto     M2Z 4K1  Female  Bachelor   \n",
       "\n",
       "   Salary Marital Status Loyalty Card      CLV Enrollment Type  \\\n",
       "0   83236        Married         Star  3839.14        Standard   \n",
       "1   83236        Married         Star  3839.14        Standard   \n",
       "2   83236        Married         Star  3839.14        Standard   \n",
       "\n",
       "   Enrollment Year  Enrollment Month  Cancellation Year  Cancellation Month  \\\n",
       "0             2016                 2                  0                   0   \n",
       "1             2016                 2                  0                   0   \n",
       "2             2016                 2                  0                   0   \n",
       "\n",
       "   Year  Month  Flights Booked  Flights with Companions  Total Flights  \\\n",
       "0  2017      1               0                        0              0   \n",
       "1  2017      2               3                        0              3   \n",
       "2  2017      3               0                        0              0   \n",
       "\n",
       "   Distance  Points Accumulated  Points Redeemed  Dollar Cost Points Redeemed  \n",
       "0         0                 0.0                0                            0  \n",
       "1      2823               282.0                0                            0  \n",
       "2         0                 0.0                0                            0  "
      ]
     },
     "execution_count": 5,
     "metadata": {},
     "output_type": "execute_result"
    }
   ],
   "source": [
    "mgddf.head(3)"
   ]
  },
  {
   "cell_type": "code",
   "execution_count": 6,
   "id": "7cbec1d3",
   "metadata": {},
   "outputs": [],
   "source": [
    "#Dropping non-relevant fields in the dataset\n",
    "mgddf.drop(columns = [\"Postal Code\",\"Loyalty Card\",\"CLV\"],inplace = True)"
   ]
  },
  {
   "cell_type": "code",
   "execution_count": 7,
   "id": "060cb66d",
   "metadata": {},
   "outputs": [
    {
     "data": {
      "text/html": [
       "<div>\n",
       "<style scoped>\n",
       "    .dataframe tbody tr th:only-of-type {\n",
       "        vertical-align: middle;\n",
       "    }\n",
       "\n",
       "    .dataframe tbody tr th {\n",
       "        vertical-align: top;\n",
       "    }\n",
       "\n",
       "    .dataframe thead th {\n",
       "        text-align: right;\n",
       "    }\n",
       "</style>\n",
       "<table border=\"1\" class=\"dataframe\">\n",
       "  <thead>\n",
       "    <tr style=\"text-align: right;\">\n",
       "      <th></th>\n",
       "      <th>Loyalty Number</th>\n",
       "      <th>Country</th>\n",
       "      <th>Province</th>\n",
       "      <th>City</th>\n",
       "      <th>Gender</th>\n",
       "      <th>Education</th>\n",
       "      <th>Salary</th>\n",
       "      <th>Marital Status</th>\n",
       "      <th>Enrollment Type</th>\n",
       "      <th>Enrollment Year</th>\n",
       "      <th>Enrollment Month</th>\n",
       "      <th>Cancellation Year</th>\n",
       "      <th>Cancellation Month</th>\n",
       "      <th>Year</th>\n",
       "      <th>Month</th>\n",
       "      <th>Flights Booked</th>\n",
       "      <th>Flights with Companions</th>\n",
       "      <th>Total Flights</th>\n",
       "      <th>Distance</th>\n",
       "      <th>Points Accumulated</th>\n",
       "      <th>Points Redeemed</th>\n",
       "      <th>Dollar Cost Points Redeemed</th>\n",
       "    </tr>\n",
       "  </thead>\n",
       "  <tbody>\n",
       "    <tr>\n",
       "      <th>0</th>\n",
       "      <td>480934</td>\n",
       "      <td>Canada</td>\n",
       "      <td>Ontario</td>\n",
       "      <td>Toronto</td>\n",
       "      <td>Female</td>\n",
       "      <td>Bachelor</td>\n",
       "      <td>83236</td>\n",
       "      <td>Married</td>\n",
       "      <td>Standard</td>\n",
       "      <td>2016</td>\n",
       "      <td>2</td>\n",
       "      <td>0</td>\n",
       "      <td>0</td>\n",
       "      <td>2017</td>\n",
       "      <td>1</td>\n",
       "      <td>0</td>\n",
       "      <td>0</td>\n",
       "      <td>0</td>\n",
       "      <td>0</td>\n",
       "      <td>0.0</td>\n",
       "      <td>0</td>\n",
       "      <td>0</td>\n",
       "    </tr>\n",
       "    <tr>\n",
       "      <th>1</th>\n",
       "      <td>480934</td>\n",
       "      <td>Canada</td>\n",
       "      <td>Ontario</td>\n",
       "      <td>Toronto</td>\n",
       "      <td>Female</td>\n",
       "      <td>Bachelor</td>\n",
       "      <td>83236</td>\n",
       "      <td>Married</td>\n",
       "      <td>Standard</td>\n",
       "      <td>2016</td>\n",
       "      <td>2</td>\n",
       "      <td>0</td>\n",
       "      <td>0</td>\n",
       "      <td>2017</td>\n",
       "      <td>2</td>\n",
       "      <td>3</td>\n",
       "      <td>0</td>\n",
       "      <td>3</td>\n",
       "      <td>2823</td>\n",
       "      <td>282.0</td>\n",
       "      <td>0</td>\n",
       "      <td>0</td>\n",
       "    </tr>\n",
       "    <tr>\n",
       "      <th>2</th>\n",
       "      <td>480934</td>\n",
       "      <td>Canada</td>\n",
       "      <td>Ontario</td>\n",
       "      <td>Toronto</td>\n",
       "      <td>Female</td>\n",
       "      <td>Bachelor</td>\n",
       "      <td>83236</td>\n",
       "      <td>Married</td>\n",
       "      <td>Standard</td>\n",
       "      <td>2016</td>\n",
       "      <td>2</td>\n",
       "      <td>0</td>\n",
       "      <td>0</td>\n",
       "      <td>2017</td>\n",
       "      <td>3</td>\n",
       "      <td>0</td>\n",
       "      <td>0</td>\n",
       "      <td>0</td>\n",
       "      <td>0</td>\n",
       "      <td>0.0</td>\n",
       "      <td>0</td>\n",
       "      <td>0</td>\n",
       "    </tr>\n",
       "  </tbody>\n",
       "</table>\n",
       "</div>"
      ],
      "text/plain": [
       "   Loyalty Number Country Province     City  Gender Education  Salary  \\\n",
       "0          480934  Canada  Ontario  Toronto  Female  Bachelor   83236   \n",
       "1          480934  Canada  Ontario  Toronto  Female  Bachelor   83236   \n",
       "2          480934  Canada  Ontario  Toronto  Female  Bachelor   83236   \n",
       "\n",
       "  Marital Status Enrollment Type  Enrollment Year  Enrollment Month  \\\n",
       "0        Married        Standard             2016                 2   \n",
       "1        Married        Standard             2016                 2   \n",
       "2        Married        Standard             2016                 2   \n",
       "\n",
       "   Cancellation Year  Cancellation Month  Year  Month  Flights Booked  \\\n",
       "0                  0                   0  2017      1               0   \n",
       "1                  0                   0  2017      2               3   \n",
       "2                  0                   0  2017      3               0   \n",
       "\n",
       "   Flights with Companions  Total Flights  Distance  Points Accumulated  \\\n",
       "0                        0              0         0                 0.0   \n",
       "1                        0              3      2823               282.0   \n",
       "2                        0              0         0                 0.0   \n",
       "\n",
       "   Points Redeemed  Dollar Cost Points Redeemed  \n",
       "0                0                            0  \n",
       "1                0                            0  \n",
       "2                0                            0  "
      ]
     },
     "execution_count": 7,
     "metadata": {},
     "output_type": "execute_result"
    }
   ],
   "source": [
    "mgddf.head(3)"
   ]
  },
  {
   "cell_type": "code",
   "execution_count": 8,
   "id": "67597f4a",
   "metadata": {},
   "outputs": [
    {
     "data": {
      "text/plain": [
       "Index(['Loyalty Number', 'Country', 'Province', 'City', 'Gender', 'Education',\n",
       "       'Salary', 'Marital Status', 'Enrollment Type', 'Enrollment Year',\n",
       "       'Enrollment Month', 'Cancellation Year', 'Cancellation Month', 'Year',\n",
       "       'Month', 'Flights Booked', 'Flights with Companions', 'Total Flights',\n",
       "       'Distance', 'Points Accumulated', 'Points Redeemed',\n",
       "       'Dollar Cost Points Redeemed'],\n",
       "      dtype='object')"
      ]
     },
     "execution_count": 8,
     "metadata": {},
     "output_type": "execute_result"
    }
   ],
   "source": [
    "mgddf.columns"
   ]
  },
  {
   "cell_type": "code",
   "execution_count": 9,
   "id": "e5655a2a",
   "metadata": {},
   "outputs": [
    {
     "data": {
      "text/plain": [
       "Loyalty Number                 0\n",
       "Country                        0\n",
       "Province                       0\n",
       "City                           0\n",
       "Gender                         0\n",
       "Education                      0\n",
       "Salary                         0\n",
       "Marital Status                 0\n",
       "Enrollment Type                0\n",
       "Enrollment Year                0\n",
       "Enrollment Month               0\n",
       "Cancellation Year              0\n",
       "Cancellation Month             0\n",
       "Year                           0\n",
       "Month                          0\n",
       "Flights Booked                 0\n",
       "Flights with Companions        0\n",
       "Total Flights                  0\n",
       "Distance                       0\n",
       "Points Accumulated             0\n",
       "Points Redeemed                0\n",
       "Dollar Cost Points Redeemed    0\n",
       "dtype: int64"
      ]
     },
     "execution_count": 9,
     "metadata": {},
     "output_type": "execute_result"
    }
   ],
   "source": [
    "#Checking to against the presence of null values\n",
    "mgddf.isna().sum()"
   ]
  },
  {
   "cell_type": "code",
   "execution_count": 10,
   "id": "0a244645",
   "metadata": {},
   "outputs": [
    {
     "data": {
      "text/plain": [
       "(405624, 22)"
      ]
     },
     "execution_count": 10,
     "metadata": {},
     "output_type": "execute_result"
    }
   ],
   "source": [
    "mgddf.shape"
   ]
  },
  {
   "cell_type": "code",
   "execution_count": 11,
   "id": "914caa39",
   "metadata": {},
   "outputs": [
    {
     "name": "stdout",
     "output_type": "stream",
     "text": [
      "<class 'pandas.core.frame.DataFrame'>\n",
      "Int64Index: 405624 entries, 0 to 405623\n",
      "Data columns (total 22 columns):\n",
      " #   Column                       Non-Null Count   Dtype  \n",
      "---  ------                       --------------   -----  \n",
      " 0   Loyalty Number               405624 non-null  int64  \n",
      " 1   Country                      405624 non-null  object \n",
      " 2   Province                     405624 non-null  object \n",
      " 3   City                         405624 non-null  object \n",
      " 4   Gender                       405624 non-null  object \n",
      " 5   Education                    405624 non-null  object \n",
      " 6   Salary                       405624 non-null  int64  \n",
      " 7   Marital Status               405624 non-null  object \n",
      " 8   Enrollment Type              405624 non-null  object \n",
      " 9   Enrollment Year              405624 non-null  int64  \n",
      " 10  Enrollment Month             405624 non-null  int64  \n",
      " 11  Cancellation Year            405624 non-null  int64  \n",
      " 12  Cancellation Month           405624 non-null  int64  \n",
      " 13  Year                         405624 non-null  int64  \n",
      " 14  Month                        405624 non-null  int64  \n",
      " 15  Flights Booked               405624 non-null  int64  \n",
      " 16  Flights with Companions      405624 non-null  int64  \n",
      " 17  Total Flights                405624 non-null  int64  \n",
      " 18  Distance                     405624 non-null  int64  \n",
      " 19  Points Accumulated           405624 non-null  float64\n",
      " 20  Points Redeemed              405624 non-null  int64  \n",
      " 21  Dollar Cost Points Redeemed  405624 non-null  int64  \n",
      "dtypes: float64(1), int64(14), object(7)\n",
      "memory usage: 71.2+ MB\n"
     ]
    }
   ],
   "source": [
    "mgddf.info()"
   ]
  },
  {
   "cell_type": "code",
   "execution_count": 13,
   "id": "3d6772f9",
   "metadata": {},
   "outputs": [
    {
     "data": {
      "text/html": [
       "<div>\n",
       "<style scoped>\n",
       "    .dataframe tbody tr th:only-of-type {\n",
       "        vertical-align: middle;\n",
       "    }\n",
       "\n",
       "    .dataframe tbody tr th {\n",
       "        vertical-align: top;\n",
       "    }\n",
       "\n",
       "    .dataframe thead th {\n",
       "        text-align: right;\n",
       "    }\n",
       "</style>\n",
       "<table border=\"1\" class=\"dataframe\">\n",
       "  <thead>\n",
       "    <tr style=\"text-align: right;\">\n",
       "      <th></th>\n",
       "      <th>Salary</th>\n",
       "      <th>Flights Booked</th>\n",
       "      <th>Flights with Companions</th>\n",
       "      <th>Total Flights</th>\n",
       "      <th>Distance</th>\n",
       "      <th>Points Accumulated</th>\n",
       "      <th>Points Redeemed</th>\n",
       "      <th>Dollar Cost Points Redeemed</th>\n",
       "    </tr>\n",
       "  </thead>\n",
       "  <tbody>\n",
       "    <tr>\n",
       "      <th>count</th>\n",
       "      <td>405624.000000</td>\n",
       "      <td>405624.000000</td>\n",
       "      <td>405624.000000</td>\n",
       "      <td>405624.000000</td>\n",
       "      <td>405624.000000</td>\n",
       "      <td>405624.000000</td>\n",
       "      <td>405624.000000</td>\n",
       "      <td>405624.000000</td>\n",
       "    </tr>\n",
       "    <tr>\n",
       "      <th>mean</th>\n",
       "      <td>59204.212177</td>\n",
       "      <td>4.115052</td>\n",
       "      <td>1.031805</td>\n",
       "      <td>5.146858</td>\n",
       "      <td>1208.880059</td>\n",
       "      <td>123.692721</td>\n",
       "      <td>30.696872</td>\n",
       "      <td>2.484503</td>\n",
       "    </tr>\n",
       "    <tr>\n",
       "      <th>std</th>\n",
       "      <td>45852.232458</td>\n",
       "      <td>5.225518</td>\n",
       "      <td>2.076869</td>\n",
       "      <td>6.521227</td>\n",
       "      <td>1433.155320</td>\n",
       "      <td>146.599831</td>\n",
       "      <td>125.486049</td>\n",
       "      <td>10.150038</td>\n",
       "    </tr>\n",
       "    <tr>\n",
       "      <th>min</th>\n",
       "      <td>-58486.000000</td>\n",
       "      <td>0.000000</td>\n",
       "      <td>0.000000</td>\n",
       "      <td>0.000000</td>\n",
       "      <td>0.000000</td>\n",
       "      <td>0.000000</td>\n",
       "      <td>0.000000</td>\n",
       "      <td>0.000000</td>\n",
       "    </tr>\n",
       "    <tr>\n",
       "      <th>25%</th>\n",
       "      <td>0.000000</td>\n",
       "      <td>0.000000</td>\n",
       "      <td>0.000000</td>\n",
       "      <td>0.000000</td>\n",
       "      <td>0.000000</td>\n",
       "      <td>0.000000</td>\n",
       "      <td>0.000000</td>\n",
       "      <td>0.000000</td>\n",
       "    </tr>\n",
       "    <tr>\n",
       "      <th>50%</th>\n",
       "      <td>63669.000000</td>\n",
       "      <td>1.000000</td>\n",
       "      <td>0.000000</td>\n",
       "      <td>1.000000</td>\n",
       "      <td>488.000000</td>\n",
       "      <td>50.000000</td>\n",
       "      <td>0.000000</td>\n",
       "      <td>0.000000</td>\n",
       "    </tr>\n",
       "    <tr>\n",
       "      <th>75%</th>\n",
       "      <td>82940.000000</td>\n",
       "      <td>8.000000</td>\n",
       "      <td>1.000000</td>\n",
       "      <td>10.000000</td>\n",
       "      <td>2336.000000</td>\n",
       "      <td>239.000000</td>\n",
       "      <td>0.000000</td>\n",
       "      <td>0.000000</td>\n",
       "    </tr>\n",
       "    <tr>\n",
       "      <th>max</th>\n",
       "      <td>407228.000000</td>\n",
       "      <td>21.000000</td>\n",
       "      <td>11.000000</td>\n",
       "      <td>32.000000</td>\n",
       "      <td>6293.000000</td>\n",
       "      <td>676.500000</td>\n",
       "      <td>876.000000</td>\n",
       "      <td>71.000000</td>\n",
       "    </tr>\n",
       "  </tbody>\n",
       "</table>\n",
       "</div>"
      ],
      "text/plain": [
       "              Salary  Flights Booked  Flights with Companions  Total Flights  \\\n",
       "count  405624.000000   405624.000000            405624.000000  405624.000000   \n",
       "mean    59204.212177        4.115052                 1.031805       5.146858   \n",
       "std     45852.232458        5.225518                 2.076869       6.521227   \n",
       "min    -58486.000000        0.000000                 0.000000       0.000000   \n",
       "25%         0.000000        0.000000                 0.000000       0.000000   \n",
       "50%     63669.000000        1.000000                 0.000000       1.000000   \n",
       "75%     82940.000000        8.000000                 1.000000      10.000000   \n",
       "max    407228.000000       21.000000                11.000000      32.000000   \n",
       "\n",
       "            Distance  Points Accumulated  Points Redeemed  \\\n",
       "count  405624.000000       405624.000000    405624.000000   \n",
       "mean     1208.880059          123.692721        30.696872   \n",
       "std      1433.155320          146.599831       125.486049   \n",
       "min         0.000000            0.000000         0.000000   \n",
       "25%         0.000000            0.000000         0.000000   \n",
       "50%       488.000000           50.000000         0.000000   \n",
       "75%      2336.000000          239.000000         0.000000   \n",
       "max      6293.000000          676.500000       876.000000   \n",
       "\n",
       "       Dollar Cost Points Redeemed  \n",
       "count                405624.000000  \n",
       "mean                      2.484503  \n",
       "std                      10.150038  \n",
       "min                       0.000000  \n",
       "25%                       0.000000  \n",
       "50%                       0.000000  \n",
       "75%                       0.000000  \n",
       "max                      71.000000  "
      ]
     },
     "execution_count": 13,
     "metadata": {},
     "output_type": "execute_result"
    }
   ],
   "source": [
    "#Statistical exploration of the dataset\n",
    "\n",
    "mgddf[[\"Salary\",\"Flights Booked\",\"Flights with Companions\",\"Total Flights\",\"Distance\",\"Points Accumulated\",\"Points Redeemed\",\"Dollar Cost Points Redeemed\"]].describe()"
   ]
  },
  {
   "cell_type": "code",
   "execution_count": null,
   "id": "dd805105",
   "metadata": {},
   "outputs": [],
   "source": [
    "Index(['Loyalty Number', 'Country', 'Province', 'City', 'Gender', 'Education',\n",
    "       'Salary', 'Marital Status', 'Enrollment Type', 'Enrollment Year',\n",
    "       'Enrollment Month', 'Cancellation Year', 'Cancellation Month', 'Year',\n",
    "       'Month', 'Flights Booked', 'Flights with Companions', 'Total Flights',\n",
    "       'Distance', 'Points Accumulated', 'Points Redeemed',\n",
    "       'Dollar Cost Points Redeemed'],\n",
    "      dtype='object')"
   ]
  },
  {
   "cell_type": "code",
   "execution_count": 14,
   "id": "0e6aa498",
   "metadata": {
    "scrolled": true
   },
   "outputs": [
    {
     "data": {
      "text/plain": [
       "Province\n",
       "Ontario             540138\n",
       "British Columbia    440526\n",
       "Quebec              324553\n",
       "Alberta              98079\n",
       "New Brunswick        66118\n",
       "Name: Flights Booked, dtype: int64"
      ]
     },
     "execution_count": 14,
     "metadata": {},
     "output_type": "execute_result"
    }
   ],
   "source": [
    "##Top 5 province with highest flights booking\n",
    "\n",
    "mgddf.groupby([\"Province\"]).sum()[\"Flights Booked\"].sort_values(ascending = False)[:5]"
   ]
  },
  {
   "cell_type": "code",
   "execution_count": 54,
   "id": "c92f638e",
   "metadata": {},
   "outputs": [
    {
     "data": {
      "text/plain": [
       "Province\n",
       "Ontario             540138\n",
       "British Columbia    440526\n",
       "Quebec              324553\n",
       "Alberta              98079\n",
       "New Brunswick        66118\n",
       "Name: Flights Booked, dtype: int64"
      ]
     },
     "execution_count": 54,
     "metadata": {},
     "output_type": "execute_result"
    }
   ],
   "source": [
    "mgddf.groupby([\"Province\"]).sum()[\"Flights Booked\"].sort_values(ascending = False)[:5]"
   ]
  },
  {
   "cell_type": "code",
   "execution_count": null,
   "id": "19f788ce",
   "metadata": {},
   "outputs": [],
   "source": []
  },
  {
   "cell_type": "code",
   "execution_count": 15,
   "id": "4aeeea59",
   "metadata": {},
   "outputs": [
    {
     "data": {
      "text/plain": [
       "Province\n",
       "Ontario             324714\n",
       "British Columbia    266053\n",
       "Quebec              201410\n",
       "Alberta              57509\n",
       "New Brunswick        39039\n",
       "Name: Dollar Cost Points Redeemed, dtype: int64"
      ]
     },
     "execution_count": 15,
     "metadata": {},
     "output_type": "execute_result"
    }
   ],
   "source": [
    "##Top 5 province with highest dollar cost redeemed \n",
    "\n",
    "mgddf.groupby([\"Province\"]).sum()[\"Dollar Cost Points Redeemed\"].sort_values(ascending = False)[:5]"
   ]
  },
  {
   "cell_type": "code",
   "execution_count": null,
   "id": "3d17273a",
   "metadata": {},
   "outputs": [],
   "source": []
  },
  {
   "cell_type": "code",
   "execution_count": 16,
   "id": "218ce6e0",
   "metadata": {},
   "outputs": [
    {
     "data": {
      "text/plain": [
       "Province\n",
       "Ontario             135630\n",
       "British Columbia    110609\n",
       "Quebec               81063\n",
       "Alberta              24128\n",
       "New Brunswick        16496\n",
       "Name: Flights with Companions, dtype: int64"
      ]
     },
     "execution_count": 16,
     "metadata": {},
     "output_type": "execute_result"
    }
   ],
   "source": [
    "##Top 5 province with highest flights booked with companion \n",
    "\n",
    "mgddf.groupby([\"Province\"]).sum()[\"Flights with Companions\"].sort_values(ascending = False)[:5]"
   ]
  },
  {
   "cell_type": "code",
   "execution_count": null,
   "id": "944ba02c",
   "metadata": {},
   "outputs": [],
   "source": []
  },
  {
   "cell_type": "code",
   "execution_count": 17,
   "id": "b4d96f82",
   "metadata": {
    "scrolled": false
   },
   "outputs": [
    {
     "data": {
      "text/plain": [
       "Gender\n",
       "Male      5.177460\n",
       "Female    5.116505\n",
       "Name: Total Flights, dtype: float64"
      ]
     },
     "execution_count": 17,
     "metadata": {},
     "output_type": "execute_result"
    }
   ],
   "source": [
    "##Mean Flights booking per gender\n",
    "\n",
    "mgddf.groupby([\"Gender\"]).mean()[\"Total Flights\"].sort_values(ascending = False)"
   ]
  },
  {
   "cell_type": "code",
   "execution_count": null,
   "id": "c947b2ec",
   "metadata": {},
   "outputs": [],
   "source": []
  },
  {
   "cell_type": "code",
   "execution_count": 18,
   "id": "b4eb1b1a",
   "metadata": {
    "scrolled": true
   },
   "outputs": [
    {
     "data": {
      "text/plain": [
       "Gender\n",
       "Female    59578.276606\n",
       "Male      58827.080917\n",
       "Name: Salary, dtype: float64"
      ]
     },
     "execution_count": 18,
     "metadata": {},
     "output_type": "execute_result"
    }
   ],
   "source": [
    "##Mean Salary earnings per gender\n",
    "\n",
    "mgddf.groupby([\"Gender\"]).mean()[\"Salary\"].sort_values(ascending = False)[:5]"
   ]
  },
  {
   "cell_type": "code",
   "execution_count": null,
   "id": "d5e43c74",
   "metadata": {},
   "outputs": [],
   "source": []
  },
  {
   "cell_type": "code",
   "execution_count": 19,
   "id": "3068f885",
   "metadata": {
    "scrolled": true
   },
   "outputs": [
    {
     "data": {
      "text/plain": [
       "Year\n",
       "2018    1100121\n",
       "2017     987568\n",
       "Name: Total Flights, dtype: int64"
      ]
     },
     "execution_count": 19,
     "metadata": {},
     "output_type": "execute_result"
    }
   ],
   "source": [
    "##Flights booked per year \n",
    "\n",
    "mgddf.groupby([\"Year\"]).sum()[\"Total Flights\"].sort_values(ascending = False)"
   ]
  },
  {
   "cell_type": "code",
   "execution_count": null,
   "id": "3c2f0022",
   "metadata": {},
   "outputs": [],
   "source": []
  },
  {
   "cell_type": "code",
   "execution_count": 20,
   "id": "ecc214be",
   "metadata": {},
   "outputs": [
    {
     "data": {
      "text/html": [
       "<div>\n",
       "<style scoped>\n",
       "    .dataframe tbody tr th:only-of-type {\n",
       "        vertical-align: middle;\n",
       "    }\n",
       "\n",
       "    .dataframe tbody tr th {\n",
       "        vertical-align: top;\n",
       "    }\n",
       "\n",
       "    .dataframe thead th {\n",
       "        text-align: right;\n",
       "    }\n",
       "</style>\n",
       "<table border=\"1\" class=\"dataframe\">\n",
       "  <thead>\n",
       "    <tr style=\"text-align: right;\">\n",
       "      <th></th>\n",
       "      <th>Flights Booked</th>\n",
       "      <th>Salary</th>\n",
       "    </tr>\n",
       "    <tr>\n",
       "      <th>Education</th>\n",
       "      <th></th>\n",
       "      <th></th>\n",
       "    </tr>\n",
       "  </thead>\n",
       "  <tbody>\n",
       "    <tr>\n",
       "      <th>Bachelor</th>\n",
       "      <td>4.091093</td>\n",
       "      <td>72476.211860</td>\n",
       "    </tr>\n",
       "    <tr>\n",
       "      <th>College</th>\n",
       "      <td>4.153012</td>\n",
       "      <td>0.000000</td>\n",
       "    </tr>\n",
       "    <tr>\n",
       "      <th>Doctor</th>\n",
       "      <td>4.146281</td>\n",
       "      <td>178335.439516</td>\n",
       "    </tr>\n",
       "    <tr>\n",
       "      <th>High School or Below</th>\n",
       "      <td>4.155777</td>\n",
       "      <td>60986.544192</td>\n",
       "    </tr>\n",
       "    <tr>\n",
       "      <th>Master</th>\n",
       "      <td>4.184014</td>\n",
       "      <td>103767.494163</td>\n",
       "    </tr>\n",
       "  </tbody>\n",
       "</table>\n",
       "</div>"
      ],
      "text/plain": [
       "                      Flights Booked         Salary\n",
       "Education                                          \n",
       "Bachelor                    4.091093   72476.211860\n",
       "College                     4.153012       0.000000\n",
       "Doctor                      4.146281  178335.439516\n",
       "High School or Below        4.155777   60986.544192\n",
       "Master                      4.184014  103767.494163"
      ]
     },
     "execution_count": 20,
     "metadata": {},
     "output_type": "execute_result"
    }
   ],
   "source": [
    "##Find the relationship between flights booked and salary earned by customers per educational level\n",
    "\n",
    "pd.pivot_table(mgddf, values=[\"Flights Booked\",\"Salary\"], index=[\"Education\"],\n",
    "                       aggfunc={\"Flights Booked\":\"mean\",\"Salary\": \"mean\"})"
   ]
  },
  {
   "cell_type": "code",
   "execution_count": null,
   "id": "f59ce3be",
   "metadata": {},
   "outputs": [],
   "source": []
  },
  {
   "cell_type": "code",
   "execution_count": 21,
   "id": "7fb25b6f",
   "metadata": {
    "scrolled": true
   },
   "outputs": [
    {
     "data": {
      "text/plain": [
       "Education\n",
       "Bachelor                139116216960\n",
       "College                  56419893648\n",
       "High School or Below     10610585016\n",
       "Doctor                   10190939592\n",
       "Master                    6770927016\n",
       "Name: Loyalty Number, dtype: int64"
      ]
     },
     "execution_count": 21,
     "metadata": {},
     "output_type": "execute_result"
    }
   ],
   "source": [
    "##Distribution of customers by education \n",
    "\n",
    "mgddf.groupby([\"Education\"]).sum()[\"Loyalty Number\"].sort_values(ascending = False)"
   ]
  },
  {
   "cell_type": "code",
   "execution_count": null,
   "id": "39172588",
   "metadata": {},
   "outputs": [],
   "source": []
  },
  {
   "cell_type": "code",
   "execution_count": 22,
   "id": "d8bd8aa5",
   "metadata": {},
   "outputs": [],
   "source": [
    "##Number of enrollments into promotional offers by month\n",
    "\n",
    "mgddfP = mgddf[[\"Enrollment Type\",\"Month\"]]"
   ]
  },
  {
   "cell_type": "code",
   "execution_count": 23,
   "id": "b33cc640",
   "metadata": {},
   "outputs": [],
   "source": [
    "mgddfP1 = mgddfP[(mgddfP[\"Enrollment Type\"] == \"Promotion\") & ([\"Month\"])]"
   ]
  },
  {
   "cell_type": "code",
   "execution_count": 24,
   "id": "13c4f57a",
   "metadata": {},
   "outputs": [
    {
     "data": {
      "text/plain": [
       "23424"
      ]
     },
     "execution_count": 24,
     "metadata": {},
     "output_type": "execute_result"
    }
   ],
   "source": [
    "mgddfP1[\"Month\"].count()"
   ]
  },
  {
   "cell_type": "code",
   "execution_count": 25,
   "id": "a03522a4",
   "metadata": {},
   "outputs": [
    {
     "data": {
      "text/plain": [
       "Standard     382200\n",
       "Promotion     23424\n",
       "Name: Enrollment Type, dtype: int64"
      ]
     },
     "execution_count": 25,
     "metadata": {},
     "output_type": "execute_result"
    }
   ],
   "source": [
    "mgddf[\"Enrollment Type\"].value_counts()"
   ]
  },
  {
   "cell_type": "code",
   "execution_count": null,
   "id": "9cb26b84",
   "metadata": {},
   "outputs": [],
   "source": []
  },
  {
   "cell_type": "code",
   "execution_count": 26,
   "id": "51b7d2be",
   "metadata": {},
   "outputs": [],
   "source": [
    "##Number of enrollments into standard offers by year \n",
    "\n",
    "mgddfY = mgddf[[\"Enrollment Type\",\"Enrollment Year\"]]"
   ]
  },
  {
   "cell_type": "code",
   "execution_count": 27,
   "id": "487bd668",
   "metadata": {},
   "outputs": [],
   "source": [
    "mgddfY1 = mgddfY[(mgddfY[\"Enrollment Type\"] == \"Promotion\") & ([\"Enrollment Year\"])]"
   ]
  },
  {
   "cell_type": "code",
   "execution_count": 28,
   "id": "e026fa94",
   "metadata": {},
   "outputs": [
    {
     "data": {
      "text/plain": [
       "23424"
      ]
     },
     "execution_count": 28,
     "metadata": {},
     "output_type": "execute_result"
    }
   ],
   "source": [
    "mgddfY1[\"Enrollment Year\"].count()"
   ]
  },
  {
   "cell_type": "code",
   "execution_count": null,
   "id": "c6ec6dbc",
   "metadata": {},
   "outputs": [],
   "source": []
  },
  {
   "cell_type": "code",
   "execution_count": 29,
   "id": "6997c2c0",
   "metadata": {},
   "outputs": [
    {
     "data": {
      "text/plain": [
       "2018    72816\n",
       "2017    60432\n",
       "2016    59520\n",
       "2013    58032\n",
       "2014    57288\n",
       "2015    56520\n",
       "2012    41016\n",
       "Name: Enrollment Year, dtype: int64"
      ]
     },
     "execution_count": 29,
     "metadata": {},
     "output_type": "execute_result"
    }
   ],
   "source": [
    "#Share of customers enrollment into offers by year\n",
    "mgddf[\"Enrollment Year\"].value_counts()"
   ]
  },
  {
   "cell_type": "code",
   "execution_count": null,
   "id": "76f0ab64",
   "metadata": {},
   "outputs": [],
   "source": []
  },
  {
   "cell_type": "code",
   "execution_count": 30,
   "id": "f32f410c",
   "metadata": {
    "scrolled": true
   },
   "outputs": [
    {
     "data": {
      "text/plain": [
       "Married     235800\n",
       "Single      108648\n",
       "Divorced     61176\n",
       "Name: Marital Status, dtype: int64"
      ]
     },
     "execution_count": 30,
     "metadata": {},
     "output_type": "execute_result"
    }
   ],
   "source": [
    "##Distribution of customers by marital status\n",
    "\n",
    "mgddf[\"Marital Status\"].value_counts()"
   ]
  },
  {
   "cell_type": "code",
   "execution_count": null,
   "id": "6e11f1f4",
   "metadata": {},
   "outputs": [],
   "source": []
  },
  {
   "cell_type": "code",
   "execution_count": 31,
   "id": "3bde1cff",
   "metadata": {
    "scrolled": true
   },
   "outputs": [
    {
     "data": {
      "text/plain": [
       "City\n",
       "Toronto         4781844216\n",
       "Vancouver       3697639176\n",
       "Montreal        2891027328\n",
       "Winnipeg         926942664\n",
       "Whistler         816081192\n",
       "Halifax          768015816\n",
       "Ottawa           720470448\n",
       "Quebec City      713040360\n",
       "Trenton          689712696\n",
       "Dawson Creek     674511768\n",
       "Name: Salary, dtype: int64"
      ]
     },
     "execution_count": 31,
     "metadata": {},
     "output_type": "execute_result"
    }
   ],
   "source": [
    "##Distribution of salary earnings by city \n",
    "mgddf.groupby([\"City\"]).sum()[\"Salary\"].sort_values(ascending = False)[:10]"
   ]
  },
  {
   "cell_type": "code",
   "execution_count": null,
   "id": "9d3306b0",
   "metadata": {},
   "outputs": [],
   "source": []
  },
  {
   "cell_type": "code",
   "execution_count": 32,
   "id": "acd19782",
   "metadata": {},
   "outputs": [
    {
     "data": {
      "text/plain": [
       "City\n",
       "Hull            66918.574586\n",
       "Fredericton     63892.155452\n",
       "Tremblant       63315.695000\n",
       "Moncton         62655.419811\n",
       "Dawson Creek    62593.890869\n",
       "Thunder Bay     61455.831418\n",
       "Halifax         61069.959924\n",
       "Quebec City     60632.683673\n",
       "Peace River     60606.849558\n",
       "Calgary         60114.968586\n",
       "Name: Salary, dtype: float64"
      ]
     },
     "execution_count": 32,
     "metadata": {},
     "output_type": "execute_result"
    }
   ],
   "source": [
    "##Distribution of salary earnings by city \n",
    "mgddf.groupby([\"City\"]).mean()[\"Salary\"].sort_values(ascending = False)[:10]"
   ]
  },
  {
   "cell_type": "code",
   "execution_count": null,
   "id": "b49e80ef",
   "metadata": {},
   "outputs": [],
   "source": []
  },
  {
   "cell_type": "code",
   "execution_count": 33,
   "id": "f102dc96",
   "metadata": {},
   "outputs": [
    {
     "data": {
      "text/plain": [
       "Education\n",
       "Doctor                  407228\n",
       "Master                  133080\n",
       "Bachelor                105563\n",
       "High School or Below     93875\n",
       "College                      0\n",
       "Name: Salary, dtype: int64"
      ]
     },
     "execution_count": 33,
     "metadata": {},
     "output_type": "execute_result"
    }
   ],
   "source": [
    "#Maximum salary earned by customers by educational level\n",
    "mgddf.groupby([\"Education\"]).max()[\"Salary\"].sort_values(ascending = False)"
   ]
  },
  {
   "cell_type": "code",
   "execution_count": 45,
   "id": "182f417a",
   "metadata": {},
   "outputs": [],
   "source": []
  },
  {
   "cell_type": "code",
   "execution_count": 34,
   "id": "7ffda840",
   "metadata": {
    "scrolled": false
   },
   "outputs": [
    {
     "data": {
      "text/plain": [
       "Province\n",
       "Ontario             7699209912\n",
       "British Columbia    6329303568\n",
       "Quebec              4793286936\n",
       "Alberta             1349534208\n",
       "New Brunswick        979691232\n",
       "Name: Salary, dtype: int64"
      ]
     },
     "execution_count": 34,
     "metadata": {},
     "output_type": "execute_result"
    }
   ],
   "source": [
    "#Top 5 province with highest salary earnings\n",
    "mgddf.groupby(\"Province\").sum()[\"Salary\"].sort_values(ascending = False)[:5]"
   ]
  },
  {
   "cell_type": "code",
   "execution_count": null,
   "id": "ec4fa026",
   "metadata": {},
   "outputs": [],
   "source": []
  },
  {
   "cell_type": "code",
   "execution_count": 35,
   "id": "7d5a8120",
   "metadata": {},
   "outputs": [],
   "source": [
    "slcdf = mgddf[[\"Salary\",\"Marital Status\",\"Education\",\"Enrollment Type\"]]"
   ]
  },
  {
   "cell_type": "code",
   "execution_count": 36,
   "id": "ee2f8127",
   "metadata": {
    "scrolled": true
   },
   "outputs": [
    {
     "data": {
      "text/plain": [
       "Marital Status  Education             Enrollment Type\n",
       "Divorced        Bachelor              Promotion            156606336\n",
       "                                      Standard            2735645544\n",
       "                College               Promotion                    0\n",
       "                                      Standard                     0\n",
       "                Doctor                Promotion             36758520\n",
       "                                      Standard             765990336\n",
       "                High School or Below  Promotion             11247456\n",
       "                                      Standard             177058296\n",
       "                Master                Promotion             23499648\n",
       "                                      Standard             445651584\n",
       "Married         Bachelor              Promotion            616747512\n",
       "                                      Standard           11894484432\n",
       "                College               Promotion                    0\n",
       "                                      Standard                     0\n",
       "                Doctor                Promotion            157965480\n",
       "                                      Standard            1879967304\n",
       "                High School or Below  Promotion             47223648\n",
       "                                      Standard             720937680\n",
       "                Master                Promotion             10591776\n",
       "                                      Standard             524595720\n",
       "Single          Bachelor              Promotion            162618336\n",
       "                                      Standard            2824881552\n",
       "                College               Promotion                    0\n",
       "                                      Standard                     0\n",
       "                Doctor                Promotion             17681400\n",
       "                                      Standard             325994568\n",
       "                High School or Below  Promotion             15127848\n",
       "                                      Standard             187637304\n",
       "                Master                Promotion             11073240\n",
       "                                      Standard             264663840\n",
       "Name: Salary, dtype: int64"
      ]
     },
     "execution_count": 36,
     "metadata": {},
     "output_type": "execute_result"
    }
   ],
   "source": [
    "#Slicing the dataset using groupby function. To find the salary distribution via education and enrollment type.\n",
    "slcdf.groupby([\"Marital Status\",\"Education\",\"Enrollment Type\"]).sum()[\"Salary\"]"
   ]
  },
  {
   "cell_type": "code",
   "execution_count": null,
   "id": "ad8c055d",
   "metadata": {},
   "outputs": [],
   "source": []
  },
  {
   "cell_type": "code",
   "execution_count": 37,
   "id": "2808a119",
   "metadata": {},
   "outputs": [
    {
     "data": {
      "text/plain": [
       "Marital Status  Education  Enrollment Type\n",
       "Divorced        Bachelor   Standard           2735645544\n",
       "Name: Salary, dtype: int64"
      ]
     },
     "execution_count": 37,
     "metadata": {},
     "output_type": "execute_result"
    }
   ],
   "source": [
    "#Total salary earned by customers who are divorced, holds bachelors degree and enrolled on standard type of offer\n",
    "\n",
    "\n",
    "slcdf1 = slcdf[(slcdf[\"Salary\"]>1) & (slcdf[\"Marital Status\"]==\"Divorced\") & (slcdf[\"Education\"]==\"Bachelor\") & (slcdf[\"Enrollment Type\"]==\"Standard\")]\n",
    "slcdf1.groupby([\"Marital Status\",\"Education\",\"Enrollment Type\"]).sum()[\"Salary\"]"
   ]
  },
  {
   "cell_type": "code",
   "execution_count": 38,
   "id": "b57dd41c",
   "metadata": {},
   "outputs": [
    {
     "name": "stdout",
     "output_type": "stream",
     "text": [
      "The total earning by customers who Divorced, Bachelor holders who are on Standard enrollment is:2735645544\n"
     ]
    }
   ],
   "source": [
    "slcdf1.groupby([\"Marital Status\",\"Education\",\"Enrollment Type\"]).sum()[\"Salary\"]\n",
    "print(\"The total earning by customers who Divorced, Bachelor holders who are on Standard enrollment is:2735645544\")"
   ]
  },
  {
   "cell_type": "code",
   "execution_count": 55,
   "id": "f63812ed",
   "metadata": {},
   "outputs": [
    {
     "data": {
      "text/plain": [
       "Marital Status  Education  Enrollment Type\n",
       "Single          Bachelor   Standard           2824881552\n",
       "Name: Salary, dtype: int64"
      ]
     },
     "execution_count": 55,
     "metadata": {},
     "output_type": "execute_result"
    }
   ],
   "source": [
    "#Share of Total salary earned by customers who are single, holds bachelors degree and enrolled on standard type of offer\n",
    "\n",
    "\n",
    "slcdf2 = slcdf[(slcdf[\"Salary\"]>1) & (slcdf[\"Marital Status\"]==\"Single\") & (slcdf[\"Education\"]==\"Bachelor\") & (slcdf[\"Enrollment Type\"]==\"Standard\")]\n",
    "slcdf2.groupby([\"Marital Status\",\"Education\",\"Enrollment Type\"]).sum()[\"Salary\"]"
   ]
  },
  {
   "cell_type": "code",
   "execution_count": 39,
   "id": "89577650",
   "metadata": {},
   "outputs": [
    {
     "name": "stdout",
     "output_type": "stream",
     "text": [
      "The total earning by customers who single, Bachelor holders who are on Standard enrollment is:2824881552\n"
     ]
    }
   ],
   "source": [
    "print(\"The total earning by customers who single, Bachelor holders who are on Standard enrollment is:2824881552\")"
   ]
  },
  {
   "cell_type": "code",
   "execution_count": null,
   "id": "e462d7e0",
   "metadata": {},
   "outputs": [],
   "source": []
  },
  {
   "cell_type": "code",
   "execution_count": 40,
   "id": "4f212fc5",
   "metadata": {},
   "outputs": [
    {
     "data": {
      "text/plain": [
       "Marital Status  Education  Enrollment Type\n",
       "Married         Bachelor   Standard           11894484432\n",
       "Name: Salary, dtype: int64"
      ]
     },
     "execution_count": 40,
     "metadata": {},
     "output_type": "execute_result"
    }
   ],
   "source": [
    "#Share of Total salary earned by customers who are married, holds bachelors degree and enrolled on standard type of offer\n",
    "\n",
    "slcdf3 = slcdf[(slcdf[\"Salary\"]>1) & (slcdf[\"Marital Status\"]==\"Married\") & (slcdf[\"Education\"]==\"Bachelor\") & (slcdf[\"Enrollment Type\"]==\"Standard\")]\n",
    "slcdf3.groupby([\"Marital Status\",\"Education\",\"Enrollment Type\"]).sum()[\"Salary\"]"
   ]
  },
  {
   "cell_type": "code",
   "execution_count": 41,
   "id": "6c1ac822",
   "metadata": {},
   "outputs": [
    {
     "name": "stdout",
     "output_type": "stream",
     "text": [
      "The total earning by customers who married, Bachelor holders who are on Standard enrollment is:11894484432\n"
     ]
    }
   ],
   "source": [
    "print(\"The total earning by customers who married, Bachelor holders who are on Standard enrollment is:11894484432\")"
   ]
  },
  {
   "cell_type": "code",
   "execution_count": null,
   "id": "8b23b33b",
   "metadata": {},
   "outputs": [],
   "source": []
  },
  {
   "cell_type": "code",
   "execution_count": 42,
   "id": "0d6b7a7e",
   "metadata": {},
   "outputs": [
    {
     "data": {
      "text/plain": [
       "Marital Status  Education  Enrollment Type\n",
       "Divorced        Bachelor   Standard           73067.455769\n",
       "Name: Salary, dtype: float64"
      ]
     },
     "execution_count": 42,
     "metadata": {},
     "output_type": "execute_result"
    }
   ],
   "source": [
    "#Average salary earned by customers who are divorced, holds bachelors degree and enrolled on standard type of offer\n",
    "\n",
    "slcdf4 = slcdf[(slcdf[\"Salary\"]>1) & (slcdf[\"Marital Status\"]==\"Divorced\") & (slcdf[\"Education\"]==\"Bachelor\") & (slcdf[\"Enrollment Type\"]==\"Standard\")]\n",
    "slcdf4.groupby([\"Marital Status\",\"Education\",\"Enrollment Type\"]).mean()[\"Salary\"]"
   ]
  },
  {
   "cell_type": "code",
   "execution_count": 43,
   "id": "d2d6cd70",
   "metadata": {},
   "outputs": [
    {
     "name": "stdout",
     "output_type": "stream",
     "text": [
      "The avaerage earning by customers who divorced, Bachelor holders who are on Standard enrollment is: 73067.455769\n"
     ]
    }
   ],
   "source": [
    "print(\"The avaerage earning by customers who divorced, Bachelor holders who are on Standard enrollment is: 73067.455769\")"
   ]
  },
  {
   "cell_type": "code",
   "execution_count": null,
   "id": "25a4ba5c",
   "metadata": {},
   "outputs": [],
   "source": []
  },
  {
   "cell_type": "code",
   "execution_count": 44,
   "id": "d1cc74b4",
   "metadata": {
    "scrolled": true
   },
   "outputs": [
    {
     "data": {
      "text/plain": [
       "Marital Status  Education  Enrollment Type\n",
       "Single          Bachelor   Standard           72522.118299\n",
       "Name: Salary, dtype: float64"
      ]
     },
     "execution_count": 44,
     "metadata": {},
     "output_type": "execute_result"
    }
   ],
   "source": [
    "#Average salary earned by customers who are single, holds bachelors degree and enrolled on standard type of offer\n",
    "\n",
    "slcdf5 = slcdf[(slcdf[\"Salary\"]>1) & (slcdf[\"Marital Status\"]==\"Single\") & (slcdf[\"Education\"]==\"Bachelor\") & (slcdf[\"Enrollment Type\"]==\"Standard\")]\n",
    "slcdf5.groupby([\"Marital Status\",\"Education\",\"Enrollment Type\"]).mean()[\"Salary\"]"
   ]
  },
  {
   "cell_type": "code",
   "execution_count": 45,
   "id": "b5ad2284",
   "metadata": {},
   "outputs": [
    {
     "name": "stdout",
     "output_type": "stream",
     "text": [
      "The avaerage earning by customers who single, Bachelor holders who are on Standard enrollment is: 72522.118299\n"
     ]
    }
   ],
   "source": [
    "print(\"The avaerage earning by customers who single, Bachelor holders who are on Standard enrollment is: 72522.118299\")"
   ]
  },
  {
   "cell_type": "code",
   "execution_count": null,
   "id": "3d503ce4",
   "metadata": {},
   "outputs": [],
   "source": []
  },
  {
   "cell_type": "code",
   "execution_count": null,
   "id": "afdf6dbf",
   "metadata": {},
   "outputs": [],
   "source": []
  }
 ],
 "metadata": {
  "kernelspec": {
   "display_name": "Python 3 (ipykernel)",
   "language": "python",
   "name": "python3"
  },
  "language_info": {
   "codemirror_mode": {
    "name": "ipython",
    "version": 3
   },
   "file_extension": ".py",
   "mimetype": "text/x-python",
   "name": "python",
   "nbconvert_exporter": "python",
   "pygments_lexer": "ipython3",
   "version": "3.11.3"
  }
 },
 "nbformat": 4,
 "nbformat_minor": 5
}
